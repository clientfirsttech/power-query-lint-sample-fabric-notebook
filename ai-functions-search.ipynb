{
 "cells": [
  {
   "cell_type": "code",
   "execution_count": null,
   "id": "0",
   "metadata": {
    "jupyter": {
     "outputs_hidden": false,
     "source_hidden": false
    },
    "microsoft": {
     "language": "python",
     "language_group": "synapse_pyspark"
    },
    "nteract": {
     "transient": {
      "deleting": false
     }
    }
   },
   "outputs": [],
   "source": [
    "# Install semantic-link-labs package\n",
    "!pip install semantic-link-labs\n",
    "!pip install tabulate"
   ]
  },
  {
   "cell_type": "code",
   "execution_count": null,
   "id": "1",
   "metadata": {
    "jupyter": {
     "outputs_hidden": false,
     "source_hidden": false
    },
    "microsoft": {
     "language": "python",
     "language_group": "synapse_pyspark"
    },
    "nteract": {
     "transient": {
      "deleting": false
     }
    }
   },
   "outputs": [],
   "source": [
    "# Import Libraries\n",
    "import sempy_labs as labs\n",
    "import requests\n",
    "import pandas as pd\n",
    "import sempy.fabric as fabric\n",
    "from tabulate import tabulate\n",
    "from pyspark.sql import functions as F\n",
    "from pyspark.sql.types import StringType\n",
    "from sempy_labs.tom import connect_semantic_model\n",
    "import pandas as pd\n",
    "\n"
   ]
  },
  {
   "cell_type": "markdown",
   "id": "2",
   "metadata": {
    "microsoft": {
     "language": "python",
     "language_group": "synapse_pyspark"
    },
    "nteract": {
     "transient": {
      "deleting": false
     }
    }
   },
   "source": [
    "Setup Parameters"
   ]
  },
  {
   "cell_type": "code",
   "execution_count": null,
   "id": "3",
   "metadata": {
    "jupyter": {
     "outputs_hidden": false,
     "source_hidden": false
    },
    "microsoft": {
     "language": "python",
     "language_group": "synapse_pyspark"
    },
    "nteract": {
     "transient": {
      "deleting": false
     }
    }
   },
   "outputs": [],
   "source": [
    "# Parameters\n",
    "subscription_key =  mssparkutils.credentials.getSecret('your_key_vault_address','lint-subscription-key')"
   ]
  },
  {
   "cell_type": "markdown",
   "id": "4",
   "metadata": {
    "microsoft": {
     "language": "python",
     "language_group": "synapse_pyspark"
    },
    "nteract": {
     "transient": {
      "deleting": false
     }
    }
   },
   "source": [
    "## Define Functions"
   ]
  },
  {
   "cell_type": "code",
   "execution_count": null,
   "id": "5",
   "metadata": {
    "microsoft": {
     "language": "python",
     "language_group": "synapse_pyspark"
    }
   },
   "outputs": [],
   "source": [
    "import requests\n",
    "import json\n",
    "from urllib.parse import urlencode\n",
    "\n",
    "# API Configuration\n",
    "API_BASE_URL = \"https://api.pqlint.com/v1\"\n",
    "\n",
    "class PQLintApiError(Exception):\n",
    "    pass\n",
    "\n",
    "def invoke_pqlint_api_request(uri, method='GET', headers=None, body=None, content_type='application/json'):\n",
    "    \"\"\"\n",
    "    Helper function to make HTTP requests with proper error handling.\n",
    "    \"\"\"\n",
    "    headers = headers or {}\n",
    "    if content_type:\n",
    "        headers['Content-Type'] = content_type\n",
    "\n",
    "    try:\n",
    "        if method.upper() == 'GET':\n",
    "            response = requests.get(uri, headers=headers)\n",
    "        elif method.upper() == 'POST':\n",
    "            if isinstance(body, (dict, list)):\n",
    "                response = requests.post(uri, headers=headers, data=json.dumps(body))\n",
    "            else:\n",
    "                response = requests.post(uri, headers=headers, data=body)\n",
    "        else:\n",
    "            raise ValueError(f\"Unsupported HTTP method: {method}\")\n",
    "\n",
    "        response.raise_for_status()\n",
    "        return response.json()\n",
    "    except requests.exceptions.HTTPError as http_err:\n",
    "        try:\n",
    "            error_body = response.json()\n",
    "            error_message = f\"HTTP {response.status_code} {response.reason} - {error_body.get('body', str(error_body))}\"\n",
    "        except Exception:\n",
    "            error_message = f\"HTTP {response.status_code} {response.reason} - {http_err}\"\n",
    "        raise PQLintApiError(error_message)\n",
    "    except Exception as err:\n",
    "        raise PQLintApiError(f\"PQLint API Error: {str(err)}\")\n",
    "\n",
    "def get_linting_rules():\n",
    "    \"\"\"\n",
    "    Retrieves all linting rules from the PQLint API.\n",
    "    \"\"\"\n",
    "    uri = f\"{API_BASE_URL}/lint/rules\"\n",
    "    return invoke_pqlint_api_request(uri, method='GET')\n",
    "\n",
    "def invoke_code_linting(code, subscription_key, rules=None, severity=None, format='pq'):\n",
    "    \"\"\"\n",
    "    Lints Power Query M code or TMDL code using the PQLint API.\n",
    "    \"\"\"\n",
    "    if not code.strip():\n",
    "        raise ValueError(\"Code parameter cannot be null or empty\")\n",
    "    if not subscription_key.strip():\n",
    "        raise ValueError(\"SubscriptionKey parameter cannot be null or empty\")\n",
    "\n",
    "    request_body = {\n",
    "        \"code\": code\n",
    "    }\n",
    "\n",
    "    if rules:\n",
    "        request_body[\"rules\"] = rules\n",
    "\n",
    "    options = {}\n",
    "    if severity:\n",
    "        options[\"severity\"] = severity\n",
    "    if format:\n",
    "        options[\"format\"] = format\n",
    "\n",
    "    if options:\n",
    "        request_body[\"options\"] = options\n",
    "\n",
    "    encoded_key = urlencode({\"subscription-key\": subscription_key})\n",
    "    uri = f\"{API_BASE_URL}/pq/lint?{encoded_key}\"\n",
    "\n",
    "    return invoke_pqlint_api_request(uri, method='POST', body=request_body)\n",
    "\n",
    "\n",
    "def lint_result_to_df(lint_result, dataset_name, table_name, partition_name):\n",
    "    \"\"\"\n",
    "    Converts lint_result (JSON/dict/list) to a DataFrame and adds DatasetName, TableName, and PartitionName columns.\n",
    "\n",
    "    Args:\n",
    "        lint_result (dict or list): The lint result JSON or list of rule violations.\n",
    "        dataset_name (str): The dataset name to add.\n",
    "        table_name (str): The table name to add.\n",
    "        partition_name (str): The partition name to add.\n",
    "\n",
    "    Returns:\n",
    "        pd.DataFrame: Expanded DataFrame with relevant columns including DatasetName, TableName, PartitionName.\n",
    "    \"\"\"\n",
    "    if isinstance(lint_result, list):\n",
    "        df = pd.json_normalize(\n",
    "            lint_result,\n",
    "            sep='_',\n",
    "            meta=['ID', 'Name', 'Category', 'Description', 'Severity'],\n",
    "            errors='ignore'\n",
    "        )\n",
    "    elif isinstance(lint_result, dict):\n",
    "        df = pd.json_normalize([lint_result], sep='_')\n",
    "    else:\n",
    "        raise ValueError(\"lint_result must be a dict or list\")\n",
    "\n",
    "    # Optional: Flatten References list to semicolon-separated string\n",
    "    if 'References' in df.columns:\n",
    "        df['References'] = df['References'].apply(lambda refs: '; '.join(\n",
    "            f\"{r.get('Description', '')} ({r.get('Link', '')})\" for r in refs\n",
    "        ) if isinstance(refs, list) else None)\n",
    "\n",
    "    # Rename or fill missing columns if necessary\n",
    "    if 'ErrorInformation_errorLocation_positionStart_lineNumber' not in df.columns:\n",
    "        df['ErrorInformation_errorLocation_positionStart_lineNumber'] = None\n",
    "\n",
    "    # Add Dataset/Table/Partition metadata\n",
    "    df['DatasetName'] = dataset_name\n",
    "    df['TableName'] = table_name\n",
    "    df['PartitionName'] = partition_name\n",
    "\n",
    "    return df\n"
   ]
  },
  {
   "cell_type": "markdown",
   "id": "6",
   "metadata": {
    "microsoft": {
     "language": "python",
     "language_group": "synapse_pyspark"
    },
    "nteract": {
     "transient": {
      "deleting": false
     }
    }
   },
   "source": [
    "## Retrieve all semantic models in the workspace"
   ]
  },
  {
   "cell_type": "code",
   "execution_count": null,
   "id": "7",
   "metadata": {
    "microsoft": {
     "language": "python",
     "language_group": "synapse_pyspark"
    }
   },
   "outputs": [],
   "source": [
    "# Get all workspaces\n",
    "df_workspaces = fabric.list_workspaces()\n",
    "\n",
    "def get_workspace_datasets(workspace_row):\n",
    "    \"\"\"Get datasets for a single workspace with error handling\"\"\"\n",
    "    ws_id = workspace_row['Id']\n",
    "    ws_name = workspace_row['Name']\n",
    "    \n",
    "    try:\n",
    "        df_datasets = fabric.list_datasets(ws_id)\n",
    "        df_datasets['workspace_id'] = ws_id\n",
    "        df_datasets['workspace_name'] = ws_name\n",
    "        return df_datasets\n",
    "    except Exception as e:\n",
    "        print(f\"Error getting datasets for workspace {ws_name} ({ws_id}): {e}\")\n",
    "        return None\n",
    "\n",
    "# Get datasets for all workspaces\n",
    "datasets_list = []\n",
    "for _, ws_row in df_workspaces.iterrows():\n",
    "    datasets_df = get_workspace_datasets(ws_row)\n",
    "    if datasets_df is not None:\n",
    "        datasets_list.append(datasets_df)\n",
    "\n",
    "# Combine results\n",
    "if datasets_list:\n",
    "    all_datasets_df = pd.concat(datasets_list, ignore_index=True)\n",
    "    display(all_datasets_df)\n",
    "    print(f\"Total datasets found: {len(all_datasets_df)}\")\n",
    "else:\n",
    "    print(\"No datasets found across all workspaces\")\n"
   ]
  },
  {
   "cell_type": "markdown",
   "id": "8",
   "metadata": {
    "microsoft": {
     "language": "python",
     "language_group": "synapse_pyspark"
    },
    "nteract": {
     "transient": {
      "deleting": false
     }
    }
   },
   "source": [
    "## Retrieve all semantic models/datasets and run linter on Partitions"
   ]
  },
  {
   "cell_type": "code",
   "execution_count": null,
   "id": "9",
   "metadata": {
    "jupyter": {
     "outputs_hidden": false,
     "source_hidden": false
    },
    "microsoft": {
     "language": "python",
     "language_group": "synapse_pyspark"
    },
    "nteract": {
     "transient": {
      "deleting": false
     }
    }
   },
   "outputs": [],
   "source": [
    "\n",
    "results = []\n",
    "for d in all_datasets_df.to_dict(orient=\"records\"):\n",
    "    print(f\"[INFO] Linting {d['Dataset Name']} in {d['workspace_name']}\")\n",
    "\n",
    "    try:\n",
    "        # Try connecting to semantic model\n",
    "        with connect_semantic_model(dataset=d['Dataset ID'], workspace=d['workspace_id'], readonly=True) as tom:\n",
    "            for t in tom.model.Tables:\n",
    "                for c in t.Partitions:\n",
    "                    # Skip partitions like 'LocalDateTable_...'\n",
    "                    if c.Name.startswith(\"LocalDateTable_\"):\n",
    "                        continue\n",
    "\n",
    "                    print(f\"Linting '{t.Name}'[{c.Name}] in dataset '{d['Dataset Name']}'\")\n",
    "\n",
    "                    try:\n",
    "                        lint_result = invoke_code_linting(\n",
    "                            code=c.Source.Expression,\n",
    "                            subscription_key=subscription_key,\n",
    "                            rules=['no-ai-functions']\n",
    "                        )\n",
    "\n",
    "                        df_temp = lint_result_to_df(\n",
    "                            lint_result,\n",
    "                            dataset_name=d['Dataset Name'],\n",
    "                            table_name=t.Name,\n",
    "                            partition_name=c.Name\n",
    "                        )\n",
    "\n",
    "                        display(df_temp)  # Output results\n",
    "                        results.append(df_temp)\n",
    "\n",
    "                    except Exception as lint_err:\n",
    "                        print(f\"[ERROR] Linting failed for {d['Dataset Name']} -> {t.Name} -> {c.Name}: {lint_err}\")\n",
    "                        continue\n",
    "\n",
    "    except Exception as conn_err:\n",
    "        print(f\"[ERROR] Failed to connect to {d['Dataset Name']} in {d['workspace_name']}: {conn_err}\")\n",
    "        continue\n",
    "\n",
    "\n",
    "\n",
    "\n",
    "# Combine all results into a single DataFrame\n",
    "df_all = pd.concat(results, ignore_index=True)\n",
    "\n",
    "# After creating df_all as shown previously\n",
    "\n",
    "# Example aggregation: count of categories per TableName and Partition\n",
    "# Assuming your DataFrame has columns: 'TableName', 'Partition', 'Category'\n",
    "\n",
    "agg_df = (\n",
    "    df_all\n",
    "    .groupby(['DatasetName', 'TableName', 'PartitionName', 'Category'])\n",
    "    .size()\n",
    "    .reset_index(name='Count')\n",
    ")\n",
    "\n",
    "print(tabulate(agg_df, headers='keys', tablefmt='github', showindex=False))"
   ]
  }
 ],
 "metadata": {
  "dependencies": {
   "environment": {}
  },
  "kernel_info": {
   "name": "synapse_pyspark"
  },
  "kernelspec": {
   "display_name": "Synapse PySpark",
   "name": "synapse_pyspark"
  },
  "language_info": {
   "name": "python"
  },
  "microsoft": {
   "language": "python",
   "language_group": "synapse_pyspark",
   "ms_spell_check": {
    "ms_spell_check_language": "en"
   }
  },
  "nteract": {
   "version": "nteract-front-end@1.0.0"
  },
  "spark_compute": {
   "compute_id": "/trident/default",
   "session_options": {
    "conf": {
     "spark.synapse.nbs.session.timeout": "1200000"
    }
   }
  },
  "synapse_widget": {
   "state": {
    "00347f90-8b20-4f8c-bb90-3d7d1055df94": {
     "persist_state": {
      "view": {
       "chartOptions": {
        "aggregationType": "sum",
        "binsNumber": 10,
        "categoryFieldKeys": [],
        "chartType": "bar",
        "isStacked": false,
        "seriesFieldKeys": [],
        "wordFrequency": "-1"
       },
       "tableOptions": {},
       "type": "details",
       "viewOptionsGroup": [
        {
         "tabItems": [
          {
           "key": "0",
           "name": "Table",
           "options": {},
           "type": "table"
          }
         ]
        }
       ]
      }
     },
     "sync_state": {
      "isSummary": false,
      "language": "python",
      "table": {
       "rows": [],
       "schema": [
        {
         "key": "0",
         "name": "ErrorInformation_errorLocation_positionStart_lineNumber",
         "type": "string"
        },
        {
         "key": "1",
         "name": "DatasetName",
         "type": "string"
        },
        {
         "key": "2",
         "name": "TableName",
         "type": "string"
        },
        {
         "key": "3",
         "name": "PartitionName",
         "type": "string"
        }
       ],
       "truncated": false
      },
      "wranglerEntryContext": {
       "candidateVariableNames": [
        "df_temp"
       ],
       "dataframeType": "pandas"
      }
     },
     "type": "Synapse.DataFrame"
    },
    "01946bc7-e8ce-42c7-911c-2a6779d31f91": {
     "persist_state": {
      "view": {
       "chartOptions": {
        "aggregationType": "sum",
        "binsNumber": 10,
        "categoryFieldKeys": [],
        "chartType": "bar",
        "isStacked": false,
        "seriesFieldKeys": [],
        "wordFrequency": "-1"
       },
       "tableOptions": {},
       "type": "details",
       "viewOptionsGroup": [
        {
         "tabItems": [
          {
           "key": "0",
           "name": "Table",
           "options": {},
           "type": "table"
          }
         ]
        }
       ]
      }
     },
     "sync_state": {
      "isSummary": false,
      "language": "python",
      "table": {
       "rows": [],
       "schema": [
        {
         "key": "0",
         "name": "ErrorInformation_errorLocation_positionStart_lineNumber",
         "type": "string"
        },
        {
         "key": "1",
         "name": "DatasetName",
         "type": "string"
        },
        {
         "key": "2",
         "name": "TableName",
         "type": "string"
        },
        {
         "key": "3",
         "name": "PartitionName",
         "type": "string"
        }
       ],
       "truncated": false
      },
      "wranglerEntryContext": {
       "candidateVariableNames": [
        "df_temp"
       ],
       "dataframeType": "pandas"
      }
     },
     "type": "Synapse.DataFrame"
    },
    "01c2b410-c130-4632-b6e4-5816f945a1c1": {
     "persist_state": {
      "view": {
       "chartOptions": {
        "aggregationType": "sum",
        "binsNumber": 10,
        "categoryFieldKeys": [],
        "chartType": "bar",
        "isStacked": false,
        "seriesFieldKeys": [],
        "wordFrequency": "-1"
       },
       "tableOptions": {},
       "type": "details",
       "viewOptionsGroup": [
        {
         "tabItems": [
          {
           "key": "0",
           "name": "Table",
           "options": {},
           "type": "table"
          }
         ]
        }
       ]
      }
     },
     "sync_state": {
      "isSummary": false,
      "language": "python",
      "table": {
       "rows": [],
       "schema": [
        {
         "key": "0",
         "name": "ErrorInformation_errorLocation_positionStart_lineNumber",
         "type": "string"
        },
        {
         "key": "1",
         "name": "DatasetName",
         "type": "string"
        },
        {
         "key": "2",
         "name": "TableName",
         "type": "string"
        },
        {
         "key": "3",
         "name": "PartitionName",
         "type": "string"
        }
       ],
       "truncated": false
      },
      "wranglerEntryContext": {
       "candidateVariableNames": [
        "df_temp"
       ],
       "dataframeType": "pandas"
      }
     },
     "type": "Synapse.DataFrame"
    },
    "01f9ac0a-8229-4042-b7d1-730a8872007b": {
     "persist_state": {
      "view": {
       "chartOptions": {
        "aggregationType": "sum",
        "binsNumber": 10,
        "categoryFieldKeys": [],
        "chartType": "bar",
        "isStacked": false,
        "seriesFieldKeys": [],
        "wordFrequency": "-1"
       },
       "tableOptions": {},
       "type": "details",
       "viewOptionsGroup": [
        {
         "tabItems": [
          {
           "key": "0",
           "name": "Table",
           "options": {},
           "type": "table"
          }
         ]
        }
       ]
      }
     },
     "sync_state": {
      "isSummary": false,
      "language": "python",
      "table": {
       "rows": [],
       "schema": [
        {
         "key": "0",
         "name": "ErrorInformation_errorLocation_positionStart_lineNumber",
         "type": "string"
        },
        {
         "key": "1",
         "name": "DatasetName",
         "type": "string"
        },
        {
         "key": "2",
         "name": "TableName",
         "type": "string"
        },
        {
         "key": "3",
         "name": "PartitionName",
         "type": "string"
        }
       ],
       "truncated": false
      },
      "wranglerEntryContext": {
       "candidateVariableNames": [
        "df_temp"
       ],
       "dataframeType": "pandas"
      }
     },
     "type": "Synapse.DataFrame"
    },
    "03e3ba8d-db85-4299-958a-0b490b809aa4": {
     "persist_state": {
      "view": {
       "chartOptions": {
        "aggregationType": "sum",
        "binsNumber": 10,
        "categoryFieldKeys": [],
        "chartType": "bar",
        "isStacked": false,
        "seriesFieldKeys": [],
        "wordFrequency": "-1"
       },
       "tableOptions": {},
       "type": "details",
       "viewOptionsGroup": [
        {
         "tabItems": [
          {
           "key": "0",
           "name": "Table",
           "options": {},
           "type": "table"
          }
         ]
        }
       ]
      }
     },
     "sync_state": {
      "isSummary": false,
      "language": "python",
      "table": {
       "rows": [],
       "schema": [
        {
         "key": "0",
         "name": "ErrorInformation_errorLocation_positionStart_lineNumber",
         "type": "string"
        },
        {
         "key": "1",
         "name": "DatasetName",
         "type": "string"
        },
        {
         "key": "2",
         "name": "TableName",
         "type": "string"
        },
        {
         "key": "3",
         "name": "PartitionName",
         "type": "string"
        }
       ],
       "truncated": false
      },
      "wranglerEntryContext": {
       "candidateVariableNames": [
        "df_temp"
       ],
       "dataframeType": "pandas"
      }
     },
     "type": "Synapse.DataFrame"
    },
    "0465680a-99f7-46e5-ba06-9570205b874b": {
     "persist_state": {
      "view": {
       "chartOptions": {
        "aggregationType": "sum",
        "binsNumber": 10,
        "categoryFieldKeys": [],
        "chartType": "bar",
        "isStacked": false,
        "seriesFieldKeys": [],
        "wordFrequency": "-1"
       },
       "tableOptions": {},
       "type": "details",
       "viewOptionsGroup": [
        {
         "tabItems": [
          {
           "key": "0",
           "name": "Table",
           "options": {},
           "type": "table"
          }
         ]
        }
       ]
      }
     },
     "sync_state": {
      "isSummary": false,
      "language": "python",
      "table": {
       "rows": [],
       "schema": [
        {
         "key": "0",
         "name": "ErrorInformation_errorLocation_positionStart_lineNumber",
         "type": "string"
        },
        {
         "key": "1",
         "name": "DatasetName",
         "type": "string"
        },
        {
         "key": "2",
         "name": "TableName",
         "type": "string"
        },
        {
         "key": "3",
         "name": "PartitionName",
         "type": "string"
        }
       ],
       "truncated": false
      },
      "wranglerEntryContext": {
       "candidateVariableNames": [
        "df_temp"
       ],
       "dataframeType": "pandas"
      }
     },
     "type": "Synapse.DataFrame"
    },
    "0471ea97-63d7-4662-9b92-a6d8b1594ded": {
     "persist_state": {
      "view": {
       "chartOptions": {
        "aggregationType": "sum",
        "binsNumber": 10,
        "categoryFieldKeys": [],
        "chartType": "bar",
        "isStacked": false,
        "seriesFieldKeys": [],
        "wordFrequency": "-1"
       },
       "tableOptions": {},
       "type": "details",
       "viewOptionsGroup": [
        {
         "tabItems": [
          {
           "key": "0",
           "name": "Table",
           "options": {},
           "type": "table"
          }
         ]
        }
       ]
      }
     },
     "sync_state": {
      "isSummary": false,
      "language": "python",
      "table": {
       "rows": [],
       "schema": [
        {
         "key": "0",
         "name": "ErrorInformation_errorLocation_positionStart_lineNumber",
         "type": "string"
        },
        {
         "key": "1",
         "name": "DatasetName",
         "type": "string"
        },
        {
         "key": "2",
         "name": "TableName",
         "type": "string"
        },
        {
         "key": "3",
         "name": "PartitionName",
         "type": "string"
        }
       ],
       "truncated": false
      },
      "wranglerEntryContext": {
       "candidateVariableNames": [
        "df_temp"
       ],
       "dataframeType": "pandas"
      }
     },
     "type": "Synapse.DataFrame"
    },
    "0560aafb-388f-494a-a70e-b4d828a2a43a": {
     "persist_state": {
      "view": {
       "chartOptions": {
        "aggregationType": "sum",
        "binsNumber": 10,
        "categoryFieldKeys": [],
        "chartType": "bar",
        "isStacked": false,
        "seriesFieldKeys": [],
        "wordFrequency": "-1"
       },
       "tableOptions": {},
       "type": "details",
       "viewOptionsGroup": [
        {
         "tabItems": [
          {
           "key": "0",
           "name": "Table",
           "options": {},
           "type": "table"
          }
         ]
        }
       ]
      }
     },
     "sync_state": {
      "isSummary": false,
      "language": "python",
      "table": {
       "rows": [],
       "schema": [
        {
         "key": "0",
         "name": "ErrorInformation_errorLocation_positionStart_lineNumber",
         "type": "string"
        },
        {
         "key": "1",
         "name": "DatasetName",
         "type": "string"
        },
        {
         "key": "2",
         "name": "TableName",
         "type": "string"
        },
        {
         "key": "3",
         "name": "PartitionName",
         "type": "string"
        }
       ],
       "truncated": false
      },
      "wranglerEntryContext": {
       "candidateVariableNames": [
        "df_temp"
       ],
       "dataframeType": "pandas"
      }
     },
     "type": "Synapse.DataFrame"
    },
    "05c43539-d91e-4c6d-841a-d4df95d48967": {
     "persist_state": {
      "view": {
       "chartOptions": {
        "aggregationType": "sum",
        "binsNumber": 10,
        "categoryFieldKeys": [],
        "chartType": "bar",
        "isStacked": false,
        "seriesFieldKeys": [],
        "wordFrequency": "-1"
       },
       "tableOptions": {},
       "type": "details",
       "viewOptionsGroup": [
        {
         "tabItems": [
          {
           "key": "0",
           "name": "Table",
           "options": {},
           "type": "table"
          }
         ]
        }
       ]
      }
     },
     "sync_state": {
      "isSummary": false,
      "language": "python",
      "table": {
       "rows": [],
       "schema": [
        {
         "key": "0",
         "name": "ErrorInformation_errorLocation_positionStart_lineNumber",
         "type": "string"
        },
        {
         "key": "1",
         "name": "DatasetName",
         "type": "string"
        },
        {
         "key": "2",
         "name": "TableName",
         "type": "string"
        },
        {
         "key": "3",
         "name": "PartitionName",
         "type": "string"
        }
       ],
       "truncated": false
      },
      "wranglerEntryContext": {
       "candidateVariableNames": [
        "df_temp"
       ],
       "dataframeType": "pandas"
      }
     },
     "type": "Synapse.DataFrame"
    },
    "06092a59-7094-484e-8552-fa857c2bc222": {
     "persist_state": {
      "view": {
       "chartOptions": {
        "aggregationType": "sum",
        "binsNumber": 10,
        "categoryFieldKeys": [],
        "chartType": "bar",
        "isStacked": false,
        "seriesFieldKeys": [],
        "wordFrequency": "-1"
       },
       "tableOptions": {},
       "type": "details",
       "viewOptionsGroup": [
        {
         "tabItems": [
          {
           "key": "0",
           "name": "Table",
           "options": {},
           "type": "table"
          }
         ]
        }
       ]
      }
     },
     "sync_state": {
      "isSummary": false,
      "language": "python",
      "table": {
       "rows": [],
       "schema": [
        {
         "key": "0",
         "name": "ErrorInformation_errorLocation_positionStart_lineNumber",
         "type": "string"
        },
        {
         "key": "1",
         "name": "DatasetName",
         "type": "string"
        },
        {
         "key": "2",
         "name": "TableName",
         "type": "string"
        },
        {
         "key": "3",
         "name": "PartitionName",
         "type": "string"
        }
       ],
       "truncated": false
      },
      "wranglerEntryContext": {
       "candidateVariableNames": [
        "df_temp"
       ],
       "dataframeType": "pandas"
      }
     },
     "type": "Synapse.DataFrame"
    },
    "064ba921-7693-44a9-9990-4dc34887b12c": {
     "persist_state": {
      "view": {
       "chartOptions": {
        "aggregationType": "sum",
        "binsNumber": 10,
        "categoryFieldKeys": [],
        "chartType": "bar",
        "isStacked": false,
        "seriesFieldKeys": [],
        "wordFrequency": "-1"
       },
       "tableOptions": {},
       "type": "details",
       "viewOptionsGroup": [
        {
         "tabItems": [
          {
           "key": "0",
           "name": "Table",
           "options": {},
           "type": "table"
          }
         ]
        }
       ]
      }
     },
     "sync_state": {
      "isSummary": false,
      "language": "python",
      "table": {
       "rows": [],
       "schema": [
        {
         "key": "0",
         "name": "ErrorInformation_errorLocation_positionStart_lineNumber",
         "type": "string"
        },
        {
         "key": "1",
         "name": "DatasetName",
         "type": "string"
        },
        {
         "key": "2",
         "name": "TableName",
         "type": "string"
        },
        {
         "key": "3",
         "name": "PartitionName",
         "type": "string"
        }
       ],
       "truncated": false
      },
      "wranglerEntryContext": {
       "candidateVariableNames": [
        "df_temp"
       ],
       "dataframeType": "pandas"
      }
     },
     "type": "Synapse.DataFrame"
    },
    "07ffaed1-2843-4e12-9166-4d15698919be": {
     "persist_state": {
      "view": {
       "chartOptions": {
        "aggregationType": "sum",
        "binsNumber": 10,
        "categoryFieldKeys": [],
        "chartType": "bar",
        "isStacked": false,
        "seriesFieldKeys": [],
        "wordFrequency": "-1"
       },
       "tableOptions": {},
       "type": "details",
       "viewOptionsGroup": [
        {
         "tabItems": [
          {
           "key": "0",
           "name": "Table",
           "options": {},
           "type": "table"
          }
         ]
        }
       ]
      }
     },
     "sync_state": {
      "isSummary": false,
      "language": "python",
      "table": {
       "rows": [],
       "schema": [
        {
         "key": "0",
         "name": "ErrorInformation_errorLocation_positionStart_lineNumber",
         "type": "string"
        },
        {
         "key": "1",
         "name": "DatasetName",
         "type": "string"
        },
        {
         "key": "2",
         "name": "TableName",
         "type": "string"
        },
        {
         "key": "3",
         "name": "PartitionName",
         "type": "string"
        }
       ],
       "truncated": false
      },
      "wranglerEntryContext": {
       "candidateVariableNames": [
        "df_temp"
       ],
       "dataframeType": "pandas"
      }
     },
     "type": "Synapse.DataFrame"
    },
    "0804fe34-a8b6-4e69-aa88-2b808d3a0ddb": {
     "persist_state": {
      "view": {
       "chartOptions": {
        "aggregationType": "sum",
        "binsNumber": 10,
        "categoryFieldKeys": [],
        "chartType": "bar",
        "isStacked": false,
        "seriesFieldKeys": [],
        "wordFrequency": "-1"
       },
       "tableOptions": {},
       "type": "details",
       "viewOptionsGroup": [
        {
         "tabItems": [
          {
           "key": "0",
           "name": "Table",
           "options": {},
           "type": "table"
          }
         ]
        }
       ]
      }
     },
     "sync_state": {
      "isSummary": false,
      "language": "python",
      "table": {
       "rows": [],
       "schema": [
        {
         "key": "0",
         "name": "ErrorInformation_errorLocation_positionStart_lineNumber",
         "type": "string"
        },
        {
         "key": "1",
         "name": "DatasetName",
         "type": "string"
        },
        {
         "key": "2",
         "name": "TableName",
         "type": "string"
        },
        {
         "key": "3",
         "name": "PartitionName",
         "type": "string"
        }
       ],
       "truncated": false
      },
      "wranglerEntryContext": {
       "candidateVariableNames": [
        "df_temp"
       ],
       "dataframeType": "pandas"
      }
     },
     "type": "Synapse.DataFrame"
    },
    "08161afc-ee45-42b3-bc57-8fac4c59c2a2": {
     "persist_state": {
      "view": {
       "chartOptions": {
        "aggregationType": "sum",
        "binsNumber": 10,
        "categoryFieldKeys": [],
        "chartType": "bar",
        "isStacked": false,
        "seriesFieldKeys": [],
        "wordFrequency": "-1"
       },
       "tableOptions": {},
       "type": "details",
       "viewOptionsGroup": [
        {
         "tabItems": [
          {
           "key": "0",
           "name": "Table",
           "options": {},
           "type": "table"
          }
         ]
        }
       ]
      }
     },
     "sync_state": {
      "isSummary": false,
      "language": "python",
      "table": {
       "rows": [],
       "schema": [
        {
         "key": "0",
         "name": "ErrorInformation_errorLocation_positionStart_lineNumber",
         "type": "string"
        },
        {
         "key": "1",
         "name": "DatasetName",
         "type": "string"
        },
        {
         "key": "2",
         "name": "TableName",
         "type": "string"
        },
        {
         "key": "3",
         "name": "PartitionName",
         "type": "string"
        }
       ],
       "truncated": false
      },
      "wranglerEntryContext": {
       "candidateVariableNames": [
        "df_temp"
       ],
       "dataframeType": "pandas"
      }
     },
     "type": "Synapse.DataFrame"
    },
    "08d7f7f2-f6a5-43ec-a572-83002498f753": {
     "persist_state": {
      "view": {
       "chartOptions": {
        "aggregationType": "sum",
        "binsNumber": 10,
        "categoryFieldKeys": [],
        "chartType": "bar",
        "isStacked": false,
        "seriesFieldKeys": [],
        "wordFrequency": "-1"
       },
       "tableOptions": {},
       "type": "details",
       "viewOptionsGroup": [
        {
         "tabItems": [
          {
           "key": "0",
           "name": "Table",
           "options": {},
           "type": "table"
          }
         ]
        }
       ]
      }
     },
     "sync_state": {
      "isSummary": false,
      "language": "python",
      "table": {
       "rows": [],
       "schema": [
        {
         "key": "0",
         "name": "ErrorInformation_errorLocation_positionStart_lineNumber",
         "type": "string"
        },
        {
         "key": "1",
         "name": "DatasetName",
         "type": "string"
        },
        {
         "key": "2",
         "name": "TableName",
         "type": "string"
        },
        {
         "key": "3",
         "name": "PartitionName",
         "type": "string"
        }
       ],
       "truncated": false
      },
      "wranglerEntryContext": {
       "candidateVariableNames": [
        "df_temp"
       ],
       "dataframeType": "pandas"
      }
     },
     "type": "Synapse.DataFrame"
    },
    "0a406942-72f9-4eab-b009-c3ed4c4b0155": {
     "persist_state": {
      "view": {
       "chartOptions": {
        "aggregationType": "sum",
        "binsNumber": 10,
        "categoryFieldKeys": [],
        "chartType": "bar",
        "isStacked": false,
        "seriesFieldKeys": [],
        "wordFrequency": "-1"
       },
       "tableOptions": {},
       "type": "details",
       "viewOptionsGroup": [
        {
         "tabItems": [
          {
           "key": "0",
           "name": "Table",
           "options": {},
           "type": "table"
          }
         ]
        }
       ]
      }
     },
     "sync_state": {
      "isSummary": false,
      "language": "python",
      "table": {
       "rows": [],
       "schema": [
        {
         "key": "0",
         "name": "ErrorInformation_errorLocation_positionStart_lineNumber",
         "type": "string"
        },
        {
         "key": "1",
         "name": "DatasetName",
         "type": "string"
        },
        {
         "key": "2",
         "name": "TableName",
         "type": "string"
        },
        {
         "key": "3",
         "name": "PartitionName",
         "type": "string"
        }
       ],
       "truncated": false
      },
      "wranglerEntryContext": {
       "candidateVariableNames": [
        "df_temp"
       ],
       "dataframeType": "pandas"
      }
     },
     "type": "Synapse.DataFrame"
    },
    "0a63ea5b-770a-47a5-a606-7d7a19431862": {
     "persist_state": {
      "view": {
       "chartOptions": {
        "aggregationType": "sum",
        "binsNumber": 10,
        "categoryFieldKeys": [],
        "chartType": "bar",
        "isStacked": false,
        "seriesFieldKeys": [],
        "wordFrequency": "-1"
       },
       "tableOptions": {},
       "type": "details",
       "viewOptionsGroup": [
        {
         "tabItems": [
          {
           "key": "0",
           "name": "Table",
           "options": {},
           "type": "table"
          }
         ]
        }
       ]
      }
     },
     "sync_state": {
      "isSummary": false,
      "language": "python",
      "table": {
       "rows": [],
       "schema": [
        {
         "key": "0",
         "name": "ErrorInformation_errorLocation_positionStart_lineNumber",
         "type": "string"
        },
        {
         "key": "1",
         "name": "DatasetName",
         "type": "string"
        },
        {
         "key": "2",
         "name": "TableName",
         "type": "string"
        },
        {
         "key": "3",
         "name": "PartitionName",
         "type": "string"
        }
       ],
       "truncated": false
      },
      "wranglerEntryContext": {
       "candidateVariableNames": [
        "df_temp"
       ],
       "dataframeType": "pandas"
      }
     },
     "type": "Synapse.DataFrame"
    },
    "0b0bf402-06dd-428f-bb2e-25c2a17919e3": {
     "persist_state": {
      "view": {
       "chartOptions": {
        "aggregationType": "sum",
        "binsNumber": 10,
        "categoryFieldKeys": [],
        "chartType": "bar",
        "isStacked": false,
        "seriesFieldKeys": [],
        "wordFrequency": "-1"
       },
       "tableOptions": {},
       "type": "details",
       "viewOptionsGroup": [
        {
         "tabItems": [
          {
           "key": "0",
           "name": "Table",
           "options": {},
           "type": "table"
          }
         ]
        }
       ]
      }
     },
     "sync_state": {
      "isSummary": false,
      "language": "python",
      "table": {
       "rows": [],
       "schema": [
        {
         "key": "0",
         "name": "ErrorInformation_errorLocation_positionStart_lineNumber",
         "type": "string"
        },
        {
         "key": "1",
         "name": "DatasetName",
         "type": "string"
        },
        {
         "key": "2",
         "name": "TableName",
         "type": "string"
        },
        {
         "key": "3",
         "name": "PartitionName",
         "type": "string"
        }
       ],
       "truncated": false
      },
      "wranglerEntryContext": {
       "candidateVariableNames": [
        "df_temp"
       ],
       "dataframeType": "pandas"
      }
     },
     "type": "Synapse.DataFrame"
    },
    "0c3eacdb-dfc9-4889-9de7-5ea67f69aa87": {
     "persist_state": {
      "view": {
       "chartOptions": {
        "aggregationType": "sum",
        "binsNumber": 10,
        "categoryFieldKeys": [],
        "chartType": "bar",
        "isStacked": false,
        "seriesFieldKeys": [],
        "wordFrequency": "-1"
       },
       "tableOptions": {},
       "type": "details",
       "viewOptionsGroup": [
        {
         "tabItems": [
          {
           "key": "0",
           "name": "Table",
           "options": {},
           "type": "table"
          }
         ]
        }
       ]
      }
     },
     "sync_state": {
      "isSummary": false,
      "language": "python",
      "table": {
       "rows": [],
       "schema": [
        {
         "key": "0",
         "name": "ErrorInformation_errorLocation_positionStart_lineNumber",
         "type": "string"
        },
        {
         "key": "1",
         "name": "DatasetName",
         "type": "string"
        },
        {
         "key": "2",
         "name": "TableName",
         "type": "string"
        },
        {
         "key": "3",
         "name": "PartitionName",
         "type": "string"
        }
       ],
       "truncated": false
      },
      "wranglerEntryContext": {
       "candidateVariableNames": [
        "df_temp"
       ],
       "dataframeType": "pandas"
      }
     },
     "type": "Synapse.DataFrame"
    },
    "0f086344-5943-4f8d-a93c-0fe84a121592": {
     "persist_state": {
      "view": {
       "chartOptions": {
        "aggregationType": "sum",
        "binsNumber": 10,
        "categoryFieldKeys": [],
        "chartType": "bar",
        "isStacked": false,
        "seriesFieldKeys": [],
        "wordFrequency": "-1"
       },
       "tableOptions": {},
       "type": "details",
       "viewOptionsGroup": [
        {
         "tabItems": [
          {
           "key": "0",
           "name": "Table",
           "options": {},
           "type": "table"
          }
         ]
        }
       ]
      }
     },
     "sync_state": {
      "isSummary": false,
      "language": "python",
      "table": {
       "rows": [],
       "schema": [
        {
         "key": "0",
         "name": "ErrorInformation_errorLocation_positionStart_lineNumber",
         "type": "string"
        },
        {
         "key": "1",
         "name": "DatasetName",
         "type": "string"
        },
        {
         "key": "2",
         "name": "TableName",
         "type": "string"
        },
        {
         "key": "3",
         "name": "PartitionName",
         "type": "string"
        }
       ],
       "truncated": false
      },
      "wranglerEntryContext": {
       "candidateVariableNames": [
        "df_temp"
       ],
       "dataframeType": "pandas"
      }
     },
     "type": "Synapse.DataFrame"
    },
    "0f437b54-f07b-4ab6-89c5-8f874759b7ec": {
     "persist_state": {
      "view": {
       "chartOptions": {
        "aggregationType": "sum",
        "binsNumber": 10,
        "categoryFieldKeys": [],
        "chartType": "bar",
        "isStacked": false,
        "seriesFieldKeys": [],
        "wordFrequency": "-1"
       },
       "tableOptions": {},
       "type": "details",
       "viewOptionsGroup": [
        {
         "tabItems": [
          {
           "key": "0",
           "name": "Table",
           "options": {},
           "type": "table"
          }
         ]
        }
       ]
      }
     },
     "sync_state": {
      "isSummary": false,
      "language": "python",
      "table": {
       "rows": [],
       "schema": [
        {
         "key": "0",
         "name": "ErrorInformation_errorLocation_positionStart_lineNumber",
         "type": "string"
        },
        {
         "key": "1",
         "name": "DatasetName",
         "type": "string"
        },
        {
         "key": "2",
         "name": "TableName",
         "type": "string"
        },
        {
         "key": "3",
         "name": "PartitionName",
         "type": "string"
        }
       ],
       "truncated": false
      },
      "wranglerEntryContext": {
       "candidateVariableNames": [
        "df_temp"
       ],
       "dataframeType": "pandas"
      }
     },
     "type": "Synapse.DataFrame"
    },
    "0f5ab503-ef92-4c1c-9b08-700d4e37e64b": {
     "persist_state": {
      "view": {
       "chartOptions": {
        "aggregationType": "sum",
        "binsNumber": 10,
        "categoryFieldKeys": [],
        "chartType": "bar",
        "isStacked": false,
        "seriesFieldKeys": [],
        "wordFrequency": "-1"
       },
       "tableOptions": {},
       "type": "details",
       "viewOptionsGroup": [
        {
         "tabItems": [
          {
           "key": "0",
           "name": "Table",
           "options": {},
           "type": "table"
          }
         ]
        }
       ]
      }
     },
     "sync_state": {
      "isSummary": false,
      "language": "python",
      "table": {
       "rows": [],
       "schema": [
        {
         "key": "0",
         "name": "ErrorInformation_errorLocation_positionStart_lineNumber",
         "type": "string"
        },
        {
         "key": "1",
         "name": "DatasetName",
         "type": "string"
        },
        {
         "key": "2",
         "name": "TableName",
         "type": "string"
        },
        {
         "key": "3",
         "name": "PartitionName",
         "type": "string"
        }
       ],
       "truncated": false
      },
      "wranglerEntryContext": {
       "candidateVariableNames": [
        "df_temp"
       ],
       "dataframeType": "pandas"
      }
     },
     "type": "Synapse.DataFrame"
    },
    "10138233-fb42-48d7-8de9-ef9e1fe27a44": {
     "persist_state": {
      "view": {
       "chartOptions": {
        "aggregationType": "sum",
        "binsNumber": 10,
        "categoryFieldKeys": [],
        "chartType": "bar",
        "isStacked": false,
        "seriesFieldKeys": [],
        "wordFrequency": "-1"
       },
       "tableOptions": {},
       "type": "details",
       "viewOptionsGroup": [
        {
         "tabItems": [
          {
           "key": "0",
           "name": "Table",
           "options": {},
           "type": "table"
          }
         ]
        }
       ]
      }
     },
     "sync_state": {
      "isSummary": false,
      "language": "python",
      "table": {
       "rows": [],
       "schema": [
        {
         "key": "0",
         "name": "ErrorInformation_errorLocation_positionStart_lineNumber",
         "type": "string"
        },
        {
         "key": "1",
         "name": "DatasetName",
         "type": "string"
        },
        {
         "key": "2",
         "name": "TableName",
         "type": "string"
        },
        {
         "key": "3",
         "name": "PartitionName",
         "type": "string"
        }
       ],
       "truncated": false
      },
      "wranglerEntryContext": {
       "candidateVariableNames": [
        "df_temp"
       ],
       "dataframeType": "pandas"
      }
     },
     "type": "Synapse.DataFrame"
    },
    "126c3fa6-d2b7-4c40-87db-bbd5501f4834": {
     "persist_state": {
      "view": {
       "chartOptions": {
        "aggregationType": "sum",
        "binsNumber": 10,
        "categoryFieldKeys": [],
        "chartType": "bar",
        "isStacked": false,
        "seriesFieldKeys": [],
        "wordFrequency": "-1"
       },
       "tableOptions": {},
       "type": "details",
       "viewOptionsGroup": [
        {
         "tabItems": [
          {
           "key": "0",
           "name": "Table",
           "options": {},
           "type": "table"
          }
         ]
        }
       ]
      }
     },
     "sync_state": {
      "isSummary": false,
      "language": "python",
      "table": {
       "rows": [],
       "schema": [
        {
         "key": "0",
         "name": "ErrorInformation_errorLocation_positionStart_lineNumber",
         "type": "string"
        },
        {
         "key": "1",
         "name": "DatasetName",
         "type": "string"
        },
        {
         "key": "2",
         "name": "TableName",
         "type": "string"
        },
        {
         "key": "3",
         "name": "PartitionName",
         "type": "string"
        }
       ],
       "truncated": false
      },
      "wranglerEntryContext": {
       "candidateVariableNames": [
        "df_temp"
       ],
       "dataframeType": "pandas"
      }
     },
     "type": "Synapse.DataFrame"
    },
    "127ef8e2-0682-4bfd-8552-1b31d927bc6f": {
     "persist_state": {
      "view": {
       "chartOptions": {
        "aggregationType": "sum",
        "binsNumber": 10,
        "categoryFieldKeys": [],
        "chartType": "bar",
        "isStacked": false,
        "seriesFieldKeys": [],
        "wordFrequency": "-1"
       },
       "tableOptions": {},
       "type": "details",
       "viewOptionsGroup": [
        {
         "tabItems": [
          {
           "key": "0",
           "name": "Table",
           "options": {},
           "type": "table"
          }
         ]
        }
       ]
      }
     },
     "sync_state": {
      "isSummary": false,
      "language": "python",
      "table": {
       "rows": [],
       "schema": [
        {
         "key": "0",
         "name": "ErrorInformation_errorLocation_positionStart_lineNumber",
         "type": "string"
        },
        {
         "key": "1",
         "name": "DatasetName",
         "type": "string"
        },
        {
         "key": "2",
         "name": "TableName",
         "type": "string"
        },
        {
         "key": "3",
         "name": "PartitionName",
         "type": "string"
        }
       ],
       "truncated": false
      },
      "wranglerEntryContext": {
       "candidateVariableNames": [
        "df_temp"
       ],
       "dataframeType": "pandas"
      }
     },
     "type": "Synapse.DataFrame"
    },
    "12cd3043-6639-4109-9e22-ca4a842975cb": {
     "persist_state": {
      "view": {
       "chartOptions": {
        "aggregationType": "sum",
        "binsNumber": 10,
        "categoryFieldKeys": [],
        "chartType": "bar",
        "isStacked": false,
        "seriesFieldKeys": [],
        "wordFrequency": "-1"
       },
       "tableOptions": {},
       "type": "details",
       "viewOptionsGroup": [
        {
         "tabItems": [
          {
           "key": "0",
           "name": "Table",
           "options": {},
           "type": "table"
          }
         ]
        }
       ]
      }
     },
     "sync_state": {
      "isSummary": false,
      "language": "python",
      "table": {
       "rows": [],
       "schema": [
        {
         "key": "0",
         "name": "ErrorInformation_errorLocation_positionStart_lineNumber",
         "type": "string"
        },
        {
         "key": "1",
         "name": "DatasetName",
         "type": "string"
        },
        {
         "key": "2",
         "name": "TableName",
         "type": "string"
        },
        {
         "key": "3",
         "name": "PartitionName",
         "type": "string"
        }
       ],
       "truncated": false
      },
      "wranglerEntryContext": {
       "candidateVariableNames": [
        "df_temp"
       ],
       "dataframeType": "pandas"
      }
     },
     "type": "Synapse.DataFrame"
    },
    "139933d2-a8b0-4b15-bc5d-afc151ca4196": {
     "persist_state": {
      "view": {
       "chartOptions": {
        "aggregationType": "sum",
        "binsNumber": 10,
        "categoryFieldKeys": [],
        "chartType": "bar",
        "isStacked": false,
        "seriesFieldKeys": [],
        "wordFrequency": "-1"
       },
       "tableOptions": {},
       "type": "details",
       "viewOptionsGroup": [
        {
         "tabItems": [
          {
           "key": "0",
           "name": "Table",
           "options": {},
           "type": "table"
          }
         ]
        }
       ]
      }
     },
     "sync_state": {
      "isSummary": false,
      "language": "python",
      "table": {
       "rows": [],
       "schema": [
        {
         "key": "0",
         "name": "ErrorInformation_errorLocation_positionStart_lineNumber",
         "type": "string"
        },
        {
         "key": "1",
         "name": "DatasetName",
         "type": "string"
        },
        {
         "key": "2",
         "name": "TableName",
         "type": "string"
        },
        {
         "key": "3",
         "name": "PartitionName",
         "type": "string"
        }
       ],
       "truncated": false
      },
      "wranglerEntryContext": {
       "candidateVariableNames": [
        "df_temp"
       ],
       "dataframeType": "pandas"
      }
     },
     "type": "Synapse.DataFrame"
    },
    "13de1e3e-3c33-4f19-9d77-aae7788ab1ee": {
     "persist_state": {
      "view": {
       "chartOptions": {
        "aggregationType": "sum",
        "binsNumber": 10,
        "categoryFieldKeys": [],
        "chartType": "bar",
        "isStacked": false,
        "seriesFieldKeys": [],
        "wordFrequency": "-1"
       },
       "tableOptions": {},
       "type": "details",
       "viewOptionsGroup": [
        {
         "tabItems": [
          {
           "key": "0",
           "name": "Table",
           "options": {},
           "type": "table"
          }
         ]
        }
       ]
      }
     },
     "sync_state": {
      "isSummary": false,
      "language": "python",
      "table": {
       "rows": [],
       "schema": [
        {
         "key": "0",
         "name": "ErrorInformation_errorLocation_positionStart_lineNumber",
         "type": "string"
        },
        {
         "key": "1",
         "name": "DatasetName",
         "type": "string"
        },
        {
         "key": "2",
         "name": "TableName",
         "type": "string"
        },
        {
         "key": "3",
         "name": "PartitionName",
         "type": "string"
        }
       ],
       "truncated": false
      },
      "wranglerEntryContext": {
       "candidateVariableNames": [
        "df_temp"
       ],
       "dataframeType": "pandas"
      }
     },
     "type": "Synapse.DataFrame"
    },
    "13fb354b-4b09-4f2e-aee0-ad192c18a6ef": {
     "persist_state": {
      "view": {
       "chartOptions": {
        "aggregationType": "sum",
        "binsNumber": 10,
        "categoryFieldKeys": [],
        "chartType": "bar",
        "isStacked": false,
        "seriesFieldKeys": [],
        "wordFrequency": "-1"
       },
       "tableOptions": {},
       "type": "details",
       "viewOptionsGroup": [
        {
         "tabItems": [
          {
           "key": "0",
           "name": "Table",
           "options": {},
           "type": "table"
          }
         ]
        }
       ]
      }
     },
     "sync_state": {
      "isSummary": false,
      "language": "python",
      "table": {
       "rows": [
        {
         "0": "no-ai-functions",
         "1": "Avoid AI.Functions usage as it will be deprecated on September 15th, 2025",
         "10": "56",
         "11": "21",
         "12": null,
         "13": "Feedback Analysis Model",
         "14": "MarvelFact",
         "15": "MarvelFact-6bd788f7-6397-4a40-bbcd-b7a7355b7188",
         "2": "Potential Issue",
         "3": "Cognitive services and Azure ML will be fully retired by September 15th, 2025",
         "4": "Cognitive services and Azure ML will be fully retired by September 15th, 2025 (https://powerbi.microsoft.com/en-us/blog/cognitive-services-and-azure-ml-for-dataflows-will-be-fully-retired-by-september-15th-2025/)",
         "5": "3",
         "6": "2459",
         "7": "33",
         "8": "21",
         "9": "2482"
        },
        {
         "0": "no-ai-functions",
         "1": "Avoid AI.Functions usage as it will be deprecated on September 15th, 2025",
         "10": "60",
         "11": "22",
         "12": null,
         "13": "Feedback Analysis Model",
         "14": "MarvelFact",
         "15": "MarvelFact-6bd788f7-6397-4a40-bbcd-b7a7355b7188",
         "2": "Potential Issue",
         "3": "Cognitive services and Azure ML will be fully retired by September 15th, 2025",
         "4": "Cognitive services and Azure ML will be fully retired by September 15th, 2025 (https://powerbi.microsoft.com/en-us/blog/cognitive-services-and-azure-ml-for-dataflows-will-be-fully-retired-by-september-15th-2025/)",
         "5": "3",
         "6": "2709",
         "7": "37",
         "8": "22",
         "9": "2732"
        }
       ],
       "schema": [
        {
         "key": "0",
         "name": "ID",
         "type": "string"
        },
        {
         "key": "1",
         "name": "Name",
         "type": "string"
        },
        {
         "key": "2",
         "name": "Category",
         "type": "string"
        },
        {
         "key": "3",
         "name": "Description",
         "type": "string"
        },
        {
         "key": "4",
         "name": "References",
         "type": "string"
        },
        {
         "key": "5",
         "name": "Severity",
         "type": "bigint"
        },
        {
         "key": "6",
         "name": "ErrorInformation_errorLocation_positionStart_codeUnit",
         "type": "bigint"
        },
        {
         "key": "7",
         "name": "ErrorInformation_errorLocation_positionStart_lineCodeUnit",
         "type": "bigint"
        },
        {
         "key": "8",
         "name": "ErrorInformation_errorLocation_positionStart_lineNumber",
         "type": "bigint"
        },
        {
         "key": "9",
         "name": "ErrorInformation_errorLocation_positionEnd_codeUnit",
         "type": "bigint"
        },
        {
         "key": "10",
         "name": "ErrorInformation_errorLocation_positionEnd_lineCodeUnit",
         "type": "bigint"
        },
        {
         "key": "11",
         "name": "ErrorInformation_errorLocation_positionEnd_lineNumber",
         "type": "bigint"
        },
        {
         "key": "12",
         "name": "ErrorInformation_filePath",
         "type": "string"
        },
        {
         "key": "13",
         "name": "DatasetName",
         "type": "string"
        },
        {
         "key": "14",
         "name": "TableName",
         "type": "string"
        },
        {
         "key": "15",
         "name": "PartitionName",
         "type": "string"
        }
       ],
       "truncated": false
      },
      "wranglerEntryContext": {
       "candidateVariableNames": [
        "df_temp"
       ],
       "dataframeType": "pandas"
      }
     },
     "type": "Synapse.DataFrame"
    },
    "14473245-697b-46b5-af0e-e3512db5630f": {
     "persist_state": {
      "view": {
       "chartOptions": {
        "aggregationType": "sum",
        "binsNumber": 10,
        "categoryFieldKeys": [],
        "chartType": "bar",
        "isStacked": false,
        "seriesFieldKeys": [],
        "wordFrequency": "-1"
       },
       "tableOptions": {},
       "type": "details",
       "viewOptionsGroup": [
        {
         "tabItems": [
          {
           "key": "0",
           "name": "Table",
           "options": {},
           "type": "table"
          }
         ]
        }
       ]
      }
     },
     "sync_state": {
      "isSummary": false,
      "language": "python",
      "table": {
       "rows": [],
       "schema": [
        {
         "key": "0",
         "name": "ErrorInformation_errorLocation_positionStart_lineNumber",
         "type": "string"
        },
        {
         "key": "1",
         "name": "DatasetName",
         "type": "string"
        },
        {
         "key": "2",
         "name": "TableName",
         "type": "string"
        },
        {
         "key": "3",
         "name": "PartitionName",
         "type": "string"
        }
       ],
       "truncated": false
      },
      "wranglerEntryContext": {
       "candidateVariableNames": [
        "df_temp"
       ],
       "dataframeType": "pandas"
      }
     },
     "type": "Synapse.DataFrame"
    },
    "14975b5c-4417-47c2-b269-204a17173da7": {
     "persist_state": {
      "view": {
       "chartOptions": {
        "aggregationType": "sum",
        "binsNumber": 10,
        "categoryFieldKeys": [],
        "chartType": "bar",
        "isStacked": false,
        "seriesFieldKeys": [],
        "wordFrequency": "-1"
       },
       "tableOptions": {},
       "type": "details",
       "viewOptionsGroup": [
        {
         "tabItems": [
          {
           "key": "0",
           "name": "Table",
           "options": {},
           "type": "table"
          }
         ]
        }
       ]
      }
     },
     "sync_state": {
      "isSummary": false,
      "language": "python",
      "table": {
       "rows": [],
       "schema": [
        {
         "key": "0",
         "name": "ErrorInformation_errorLocation_positionStart_lineNumber",
         "type": "string"
        },
        {
         "key": "1",
         "name": "DatasetName",
         "type": "string"
        },
        {
         "key": "2",
         "name": "TableName",
         "type": "string"
        },
        {
         "key": "3",
         "name": "PartitionName",
         "type": "string"
        }
       ],
       "truncated": false
      },
      "wranglerEntryContext": {
       "candidateVariableNames": [
        "df_temp"
       ],
       "dataframeType": "pandas"
      }
     },
     "type": "Synapse.DataFrame"
    },
    "1593999a-f612-4ed4-b4a5-dfbebfd07b5c": {
     "persist_state": {
      "view": {
       "chartOptions": {
        "aggregationType": "sum",
        "binsNumber": 10,
        "categoryFieldKeys": [],
        "chartType": "bar",
        "isStacked": false,
        "seriesFieldKeys": [],
        "wordFrequency": "-1"
       },
       "tableOptions": {},
       "type": "details",
       "viewOptionsGroup": [
        {
         "tabItems": [
          {
           "key": "0",
           "name": "Table",
           "options": {},
           "type": "table"
          }
         ]
        }
       ]
      }
     },
     "sync_state": {
      "isSummary": false,
      "language": "python",
      "table": {
       "rows": [],
       "schema": [
        {
         "key": "0",
         "name": "ErrorInformation_errorLocation_positionStart_lineNumber",
         "type": "string"
        },
        {
         "key": "1",
         "name": "DatasetName",
         "type": "string"
        },
        {
         "key": "2",
         "name": "TableName",
         "type": "string"
        },
        {
         "key": "3",
         "name": "PartitionName",
         "type": "string"
        }
       ],
       "truncated": false
      },
      "wranglerEntryContext": {
       "candidateVariableNames": [
        "df_temp"
       ],
       "dataframeType": "pandas"
      }
     },
     "type": "Synapse.DataFrame"
    },
    "16bd2545-f91d-49a3-9042-e1aa8ccb8c59": {
     "persist_state": {
      "view": {
       "chartOptions": {
        "aggregationType": "sum",
        "binsNumber": 10,
        "categoryFieldKeys": [],
        "chartType": "bar",
        "isStacked": false,
        "seriesFieldKeys": [],
        "wordFrequency": "-1"
       },
       "tableOptions": {},
       "type": "details",
       "viewOptionsGroup": [
        {
         "tabItems": [
          {
           "key": "0",
           "name": "Table",
           "options": {},
           "type": "table"
          }
         ]
        }
       ]
      }
     },
     "sync_state": {
      "isSummary": false,
      "language": "python",
      "table": {
       "rows": [],
       "schema": [
        {
         "key": "0",
         "name": "ErrorInformation_errorLocation_positionStart_lineNumber",
         "type": "string"
        },
        {
         "key": "1",
         "name": "DatasetName",
         "type": "string"
        },
        {
         "key": "2",
         "name": "TableName",
         "type": "string"
        },
        {
         "key": "3",
         "name": "PartitionName",
         "type": "string"
        }
       ],
       "truncated": false
      },
      "wranglerEntryContext": {
       "candidateVariableNames": [
        "df_temp"
       ],
       "dataframeType": "pandas"
      }
     },
     "type": "Synapse.DataFrame"
    },
    "173bfa3e-16e8-4055-a99a-4f849dff51c9": {
     "persist_state": {
      "view": {
       "chartOptions": {
        "aggregationType": "sum",
        "binsNumber": 10,
        "categoryFieldKeys": [],
        "chartType": "bar",
        "isStacked": false,
        "seriesFieldKeys": [],
        "wordFrequency": "-1"
       },
       "tableOptions": {},
       "type": "details",
       "viewOptionsGroup": [
        {
         "tabItems": [
          {
           "key": "0",
           "name": "Table",
           "options": {},
           "type": "table"
          }
         ]
        }
       ]
      }
     },
     "sync_state": {
      "isSummary": false,
      "language": "python",
      "table": {
       "rows": [
        {
         "0": "JK_LH",
         "1": "dbdee43d-1ad0-4d8d-a123-7299307a7705",
         "2": "2021-02-12 23:00:58",
         "3": "NaT",
         "4": "fda40f86-639e-45d7-a07c-b23423da4c23",
         "5": "Fabric Playground [Dev]"
        },
        {
         "0": "Test Dynamic Formatting",
         "1": "c214d167-3b26-409c-bf1d-7ad14b383e82",
         "2": "2023-06-08 18:36:31",
         "3": "NaT",
         "4": "fda40f86-639e-45d7-a07c-b23423da4c23",
         "5": "Fabric Playground [Dev]"
        },
        {
         "0": "Prachiti_Test",
         "1": "0527f085-8f32-4fc7-b8f7-7f23e22aa2e0",
         "2": "2021-02-12 23:00:58",
         "3": "NaT",
         "4": "fda40f86-639e-45d7-a07c-b23423da4c23",
         "5": "Fabric Playground [Dev]"
        },
        {
         "0": "LB_LH",
         "1": "db6f5682-5743-42d5-adcc-22b7be0e587a",
         "2": "2021-02-12 23:00:58",
         "3": "NaT",
         "4": "fda40f86-639e-45d7-a07c-b23423da4c23",
         "5": "Fabric Playground [Dev]"
        },
        {
         "0": "DataflowsStagingLakehouse",
         "1": "ee0ce86f-8180-44da-adfe-8444db756b61",
         "2": "2021-02-12 23:00:58",
         "3": "NaT",
         "4": "fda40f86-639e-45d7-a07c-b23423da4c23",
         "5": "Fabric Playground [Dev]"
        },
        {
         "0": "DataflowsStagingWarehouse",
         "1": "e571356e-26b1-46ba-bf41-102d503f83ab",
         "2": "2021-02-12 23:00:58",
         "3": "NaT",
         "4": "fda40f86-639e-45d7-a07c-b23423da4c23",
         "5": "Fabric Playground [Dev]"
        },
        {
         "0": "Data Lineage Report",
         "1": "4fc8d609-3b91-4f04-9aac-91a2f41fb4ad",
         "2": "2024-05-10 16:56:09",
         "3": "NaT",
         "4": "fda40f86-639e-45d7-a07c-b23423da4c23",
         "5": "Fabric Playground [Dev]"
        },
        {
         "0": "Azure OpenAI Commenter",
         "1": "cfe5d2c1-979b-4226-93af-fad2a9a3c5cb",
         "2": "2024-05-10 19:46:37",
         "3": "NaT",
         "4": "fda40f86-639e-45d7-a07c-b23423da4c23",
         "5": "Fabric Playground [Dev]"
        },
        {
         "0": "Azure OpenAI Commenter (Lakehouse Version)",
         "1": "aea8dfa5-ed7d-4e2b-ac0c-6e6d3c65bef5",
         "2": "2024-05-10 19:46:37",
         "3": "NaT",
         "4": "fda40f86-639e-45d7-a07c-b23423da4c23",
         "5": "Fabric Playground [Dev]"
        },
        {
         "0": "DQVTesting_July2024",
         "1": "4693574e-6179-45d8-a0e5-e63b0265c055",
         "2": "2021-02-12 23:00:58",
         "3": "NaT",
         "4": "fda40f86-639e-45d7-a07c-b23423da4c23",
         "5": "Fabric Playground [Dev]"
        },
        {
         "0": "Cascade",
         "1": "fd6eea16-1798-4200-b41c-ab4bbdac8775",
         "2": "2024-09-04 18:52:36",
         "3": "NaT",
         "4": "fda40f86-639e-45d7-a07c-b23423da4c23",
         "5": "Fabric Playground [Dev]"
        },
        {
         "0": "Table",
         "1": "8ec5b731-2f99-42df-b103-0404f7d2e237",
         "2": "2021-02-12 23:00:58",
         "3": "NaT",
         "4": "4f04afcf-5263-4d07-b464-53d27e50e103",
         "5": "ACOE Reporting Dev"
        },
        {
         "0": "Metric Data Model - Stubbed",
         "1": "46231f74-4549-4cf4-bada-68dde3ec0807",
         "2": "2023-05-05 13:23:41",
         "3": "NaT",
         "4": "4f04afcf-5263-4d07-b464-53d27e50e103",
         "5": "ACOE Reporting Dev"
        },
        {
         "0": "Data Lineage Support Tool",
         "1": "1c8d774c-6ece-4958-99ee-88566cca3b6e",
         "2": "2024-05-02 15:31:54",
         "3": "NaT",
         "4": "4f04afcf-5263-4d07-b464-53d27e50e103",
         "5": "ACOE Reporting Dev"
        },
        {
         "0": "USASpending-DVA",
         "1": "a7438a15-17ab-4fb2-9aaf-afa06db9ab96",
         "2": "2024-07-15 18:01:53",
         "3": "NaT",
         "4": "4f04afcf-5263-4d07-b464-53d27e50e103",
         "5": "ACOE Reporting Dev"
        },
        {
         "0": "USASpending-DVA.-Bulkpbix",
         "1": "6ecc20a7-6c7c-4b9a-88f0-2b72604e9b65",
         "2": "2024-07-15 18:01:53",
         "3": "NaT",
         "4": "4f04afcf-5263-4d07-b464-53d27e50e103",
         "5": "ACOE Reporting Dev"
        },
        {
         "0": "Adventure Works DW 2020 M04",
         "1": "6f474f43-124c-480f-bcf4-9933841ed9dc",
         "2": "2020-05-31 04:27:46",
         "3": "NaT",
         "4": "4f04afcf-5263-4d07-b464-53d27e50e103",
         "5": "ACOE Reporting Dev"
        },
        {
         "0": "SampleModel",
         "1": "af8166d5-afd1-475d-ba29-ee0f93bfddb5",
         "2": "2024-08-15 21:05:39",
         "3": "NaT",
         "4": "4f04afcf-5263-4d07-b464-53d27e50e103",
         "5": "ACOE Reporting Dev"
        },
        {
         "0": "PlannerTest",
         "1": "8fa156cd-9a25-4e8e-82ea-ccfe65ba543e",
         "2": "2025-02-19 13:57:35",
         "3": "NaT",
         "4": "4f04afcf-5263-4d07-b464-53d27e50e103",
         "5": "ACOE Reporting Dev"
        },
        {
         "0": "SampleModel",
         "1": "5a87cade-caa9-4cb4-bdfa-db88b5947304",
         "2": "2021-05-28 01:58:21",
         "3": "NaT",
         "4": "85514db4-2e58-4321-8aa5-7bb84798daf6",
         "5": "Entegrata Demo"
        },
        {
         "0": "SampleModelChanged",
         "1": "c39f7ddc-22b3-4939-a88f-908d588db301",
         "2": "2021-05-28 01:58:21",
         "3": "NaT",
         "4": "85514db4-2e58-4321-8aa5-7bb84798daf6",
         "5": "Entegrata Demo"
        },
        {
         "0": "SampleModel",
         "1": "fa9887fd-85a7-405d-a654-17f150bf4b6d",
         "2": "2021-05-28 01:58:21",
         "3": "NaT",
         "4": "38dbcc97-cd28-48a9-ab56-5f9063175545",
         "5": "DataOps Training - Git-LFS Example"
        },
        {
         "0": "SampleModel-JMK",
         "1": "659ae0ca-d913-4dd6-9089-1497153aa550",
         "2": "2019-09-17 05:50:29",
         "3": "NaT",
         "4": "06e01350-dfb6-4e27-913f-2515198900f8",
         "5": "DataOps Training - Fabric - Git Integration"
        },
        {
         "0": "SampleModel_CLB",
         "1": "1be28a0e-4b45-4356-b047-053dd3618b9a",
         "2": "2019-09-17 05:50:29",
         "3": "NaT",
         "4": "06e01350-dfb6-4e27-913f-2515198900f8",
         "5": "DataOps Training - Fabric - Git Integration"
        },
        {
         "0": "Azure OpenAI Commenter",
         "1": "aa9a57a6-6a16-41f2-bf48-8385ce7a171d",
         "2": "2019-09-17 05:50:29",
         "3": "NaT",
         "4": "5c7f6241-5eb9-48e4-9028-6ce5c1b706c4",
         "5": "Fabric Playground [Test]"
        },
        {
         "0": "Data Lineage Report",
         "1": "97df0add-ede9-4ce0-abca-c798633faac0",
         "2": "2024-05-10 16:56:09",
         "3": "NaT",
         "4": "5c7f6241-5eb9-48e4-9028-6ce5c1b706c4",
         "5": "Fabric Playground [Test]"
        },
        {
         "0": "JK_LH",
         "1": "23be116e-aed5-4bb7-a077-590b6fba9209",
         "2": "2021-02-12 23:00:58",
         "3": "NaT",
         "4": "5c7f6241-5eb9-48e4-9028-6ce5c1b706c4",
         "5": "Fabric Playground [Test]"
        },
        {
         "0": "DataflowsStagingLakehouse",
         "1": "b07d2a90-f4f1-4467-a0ae-1be56d7d5765",
         "2": "2021-02-12 23:00:58",
         "3": "NaT",
         "4": "5c7f6241-5eb9-48e4-9028-6ce5c1b706c4",
         "5": "Fabric Playground [Test]"
        },
        {
         "0": "DataflowsStagingWarehouse",
         "1": "0b2586a4-673b-4164-8b7b-5e7e81c77231",
         "2": "2021-02-12 23:00:58",
         "3": "NaT",
         "4": "5c7f6241-5eb9-48e4-9028-6ce5c1b706c4",
         "5": "Fabric Playground [Test]"
        },
        {
         "0": "Azure OpenAI Commenter (Lakehouse Version)",
         "1": "2940a83a-379f-41a3-8730-2b66d1e48720",
         "2": "2024-05-10 19:46:37",
         "3": "NaT",
         "4": "5c7f6241-5eb9-48e4-9028-6ce5c1b706c4",
         "5": "Fabric Playground [Test]"
        },
        {
         "0": "Deployment Pipeline Example",
         "1": "020fd0cf-c307-4c95-a06e-1f412c92042d",
         "2": "2024-05-14 17:34:39",
         "3": "NaT",
         "4": "0a8d3f3c-3bb7-44cb-bbe6-6a96ef2c87a7",
         "5": "Deployment Pipeline [Development]"
        },
        {
         "0": "Deployment Pipeline Example",
         "1": "013246c7-fac8-40ec-97c0-11aa3f611f8e",
         "2": "2019-09-17 05:50:29",
         "3": "NaT",
         "4": "1b77e08c-6782-4bec-b645-064a4eca3b91",
         "5": "Deployment Pipeline [Test]"
        },
        {
         "0": "Portfolio Management Demo",
         "1": "8a93e456-fc07-4c10-9090-37fbc666d9a0",
         "2": "2024-05-21 16:22:16",
         "3": "NaT",
         "4": "89acc450-ba4b-43b2-9349-7f11ccd3f6cc",
         "5": "Project Demonstration"
        },
        {
         "0": "Project Management Dashboard",
         "1": "b9b559f0-d2fa-4bf1-bdd4-eaf05fd31593",
         "2": "2024-05-21 16:22:16",
         "3": "NaT",
         "4": "89acc450-ba4b-43b2-9349-7f11ccd3f6cc",
         "5": "Project Demonstration"
        },
        {
         "0": "Project Management Dashboard - Project Online",
         "1": "e6076914-cb1c-4b4a-ad5c-a09abb5f2642",
         "2": "2024-06-14 22:23:23",
         "3": "NaT",
         "4": "89acc450-ba4b-43b2-9349-7f11ccd3f6cc",
         "5": "Project Demonstration"
        },
        {
         "0": "PMO Meeting Calendar",
         "1": "db34aafd-0918-4b06-be7a-80c8cc7e8634",
         "2": "2025-03-05 19:35:58",
         "3": "NaT",
         "4": "89acc450-ba4b-43b2-9349-7f11ccd3f6cc",
         "5": "Project Demonstration"
        },
        {
         "0": "Project Management Dashboard - Project Online - CFT - VALOR",
         "1": "7959c9e2-ab59-41d1-ac45-24879fbc6f52",
         "2": "2024-06-14 22:23:23",
         "3": "NaT",
         "4": "89acc450-ba4b-43b2-9349-7f11ccd3f6cc",
         "5": "Project Demonstration"
        },
        {
         "0": "VALOR PID Support Services - MS Planner",
         "1": "e77945f2-b2b6-45e4-804e-c9392f2056ab",
         "2": "2024-09-03 20:22:05",
         "3": "NaT",
         "4": "89acc450-ba4b-43b2-9349-7f11ccd3f6cc",
         "5": "Project Demonstration"
        },
        {
         "0": "VALOR PID Support Services - MS Planner and Project",
         "1": "98b99ebd-9eec-41be-b5e2-eec0f72dc916",
         "2": "2024-09-03 20:22:05",
         "3": "NaT",
         "4": "89acc450-ba4b-43b2-9349-7f11ccd3f6cc",
         "5": "Project Demonstration"
        },
        {
         "0": "lh_test",
         "1": "b7715024-5cbe-4a96-805d-8bf300055fa5",
         "2": "2021-02-12 23:00:58",
         "3": "NaT",
         "4": "3003b96f-19a2-4336-8d87-004ca04f9613",
         "5": "data-engineer-template"
        },
        {
         "0": "dwh_test",
         "1": "01acc7ab-dd93-4110-9c7c-02187cafa434",
         "2": "2021-02-12 23:00:58",
         "3": "NaT",
         "4": "3003b96f-19a2-4336-8d87-004ca04f9613",
         "5": "data-engineer-template"
        },
        {
         "0": "lh_test",
         "1": "af6af494-0f37-457b-8347-98f7edc6c1d9",
         "2": "2021-02-12 23:00:58",
         "3": "NaT",
         "4": "c319cf39-1523-4a04-a58c-9c5fd550c438",
         "5": "data-engineer-template-cbarker"
        },
        {
         "0": "lh_test",
         "1": "8a83c962-7c64-43e6-92bc-08d4c55ce1f7",
         "2": "2021-02-12 23:00:58",
         "3": "NaT",
         "4": "6b8230d9-30e6-4051-b783-8e51242e5c46",
         "5": "data-engineer-template-spotu"
        },
        {
         "0": "Sample Data Model",
         "1": "6eeb4ce5-e41b-4283-b415-61a64bf32bb5",
         "2": "2021-02-12 23:00:58",
         "3": "NaT",
         "4": "6b8230d9-30e6-4051-b783-8e51242e5c46",
         "5": "data-engineer-template-spotu"
        },
        {
         "0": "dwh_test",
         "1": "20b92a50-a48c-402e-bcfb-acea7b403f50",
         "2": "2021-02-12 23:00:58",
         "3": "NaT",
         "4": "6b8230d9-30e6-4051-b783-8e51242e5c46",
         "5": "data-engineer-template-spotu"
        },
        {
         "0": "lh_test",
         "1": "ecdfd917-8097-4c08-8140-d50a53078fd5",
         "2": "2021-02-12 23:00:58",
         "3": "NaT",
         "4": "57434009-156b-4c5f-a141-52ebf7d8d1c1",
         "5": "data-engineer-template-pjadhav"
        },
        {
         "0": "Assignment",
         "1": "bbefc49a-d92b-4f99-b6a6-a70b39492611",
         "2": "2021-02-12 23:00:58",
         "3": "NaT",
         "4": "57434009-156b-4c5f-a141-52ebf7d8d1c1",
         "5": "data-engineer-template-pjadhav"
        },
        {
         "0": "Assignment_Prachiti",
         "1": "0f9f2a51-685e-47bb-9a8a-27bc1a22f947",
         "2": "2021-02-12 23:00:58",
         "3": "NaT",
         "4": "57434009-156b-4c5f-a141-52ebf7d8d1c1",
         "5": "data-engineer-template-pjadhav"
        },
        {
         "0": "lh_test",
         "1": "836446cc-1a97-4577-a3cb-933182c6ce3e",
         "2": "2021-02-12 23:00:58",
         "3": "NaT",
         "4": "69a40c37-e596-4457-956b-3782d714935a",
         "5": "data-engineer-hw-amattaparthi"
        },
        {
         "0": "lh_test",
         "1": "32e56fbe-5513-4d7a-a112-473e6ae1b0ef",
         "2": "2021-02-12 23:00:58",
         "3": "NaT",
         "4": "e73077e5-7b55-4b1e-94f5-677dc7d30ba1",
         "5": "cstansbury-data-engineer-hw"
        },
        {
         "0": "s",
         "1": "7e7672ea-4226-4be6-9513-7bab12889358",
         "2": "2021-02-12 23:00:58",
         "3": "NaT",
         "4": "e73077e5-7b55-4b1e-94f5-677dc7d30ba1",
         "5": "cstansbury-data-engineer-hw"
        },
        {
         "0": "Transactions",
         "1": "2adac029-034d-4232-b0d9-154d4fe8afc4",
         "2": "2021-02-12 23:00:58",
         "3": "NaT",
         "4": "e73077e5-7b55-4b1e-94f5-677dc7d30ba1",
         "5": "cstansbury-data-engineer-hw"
        },
        {
         "0": "DataflowsStagingWarehouse",
         "1": "825f56c3-968f-4aa6-86b5-2c4511ae70e2",
         "2": "2021-02-12 23:00:58",
         "3": "NaT",
         "4": "e73077e5-7b55-4b1e-94f5-677dc7d30ba1",
         "5": "cstansbury-data-engineer-hw"
        },
        {
         "0": "DataflowsStagingLakehouse",
         "1": "42fdfd32-97b8-4e9b-82b1-41aee91c356c",
         "2": "2021-02-12 23:00:58",
         "3": "NaT",
         "4": "e73077e5-7b55-4b1e-94f5-677dc7d30ba1",
         "5": "cstansbury-data-engineer-hw"
        },
        {
         "0": "lh_test",
         "1": "2c50456e-86c4-4bb6-97c9-754348dc8434",
         "2": "2021-02-12 23:00:58",
         "3": "NaT",
         "4": "260b9514-e670-4099-870f-2ed5c9e08812",
         "5": "gschiff-data-engineer-hw"
        },
        {
         "0": "lh_Shopping_Service",
         "1": "c7644ca5-750a-4997-baf1-2cbc5acacf59",
         "2": "2021-02-12 23:00:58",
         "3": "NaT",
         "4": "260b9514-e670-4099-870f-2ed5c9e08812",
         "5": "gschiff-data-engineer-hw"
        },
        {
         "0": "wh_Shopping_Service",
         "1": "4d796821-2aa6-44d9-b5bf-25af3fd4bc00",
         "2": "2021-02-12 23:00:58",
         "3": "NaT",
         "4": "260b9514-e670-4099-870f-2ed5c9e08812",
         "5": "gschiff-data-engineer-hw"
        },
        {
         "0": "DataflowsStagingLakehouse",
         "1": "c3e269b9-3209-4042-9ba0-ad78a267e9f3",
         "2": "2021-02-12 23:00:58",
         "3": "NaT",
         "4": "260b9514-e670-4099-870f-2ed5c9e08812",
         "5": "gschiff-data-engineer-hw"
        },
        {
         "0": "DataflowsStagingWarehouse",
         "1": "59c08900-f32d-429d-8659-a92517675859",
         "2": "2021-02-12 23:00:58",
         "3": "NaT",
         "4": "260b9514-e670-4099-870f-2ed5c9e08812",
         "5": "gschiff-data-engineer-hw"
        },
        {
         "0": "lh_test",
         "1": "5f092e14-8891-46ae-9bdd-12ac0205558f",
         "2": "2021-02-12 23:00:58",
         "3": "NaT",
         "4": "316370f5-cb2d-4ef8-a29e-358478d0956b",
         "5": "mpahadwala-data-engineer-hw"
        },
        {
         "0": "lh_test",
         "1": "95068d7f-b3f1-47c4-9ecb-e916bcf0c994",
         "2": "2021-02-12 23:00:58",
         "3": "NaT",
         "4": "d845c49c-e735-43ee-b9dd-9b356f98d0d8",
         "5": "rdamodaran-data-engineer-hw"
        },
        {
         "0": "Online_shopping_transactions",
         "1": "25dfcd5b-89ff-4476-979a-6eab982159f9",
         "2": "2021-02-12 23:00:58",
         "3": "NaT",
         "4": "d845c49c-e735-43ee-b9dd-9b356f98d0d8",
         "5": "rdamodaran-data-engineer-hw"
        },
        {
         "0": "RLSTest",
         "1": "2040a3e3-492d-4ba8-b500-eafe1a1b3605",
         "2": "2024-06-03 21:49:51",
         "3": "NaT",
         "4": "33e0e728-345c-4327-b441-6bb98bcb4536",
         "5": "visual-error-testing"
        },
        {
         "0": "Working Visuals",
         "1": "3e91f931-f3f3-45dc-95f6-15585369aaa5",
         "2": "2024-05-31 21:42:13",
         "3": "NaT",
         "4": "33e0e728-345c-4327-b441-6bb98bcb4536",
         "5": "visual-error-testing"
        },
        {
         "0": "SampleModel",
         "1": "9e03e2c5-e0e6-4427-b13c-be07fbc15ad0",
         "2": "2024-08-15 21:05:39",
         "3": "NaT",
         "4": "2248a137-b3fd-4f75-9b3e-8c0c1f4ed968",
         "5": "USACE"
        },
        {
         "0": "Usage Report Example",
         "1": "bed43d75-eb98-4ef9-a0c8-0c635ee24ac5",
         "2": "2025-03-13 20:10:32",
         "3": "NaT",
         "4": "2248a137-b3fd-4f75-9b3e-8c0c1f4ed968",
         "5": "USACE"
        },
        {
         "0": "Risk Matrix Dashboard",
         "1": "dc8c967d-6c90-4f67-bee1-4867807922f9",
         "2": "2025-02-14 21:08:58",
         "3": "NaT",
         "4": "f10bf9ea-fa3e-4007-88ae-4cc5b225b08c",
         "5": "Demonstration"
        },
        {
         "0": "PMO Meeting Calendar",
         "1": "653ac531-77fe-480d-953d-8e903839f83e",
         "2": "2025-03-05 19:35:58",
         "3": "NaT",
         "4": "f10bf9ea-fa3e-4007-88ae-4cc5b225b08c",
         "5": "Demonstration"
        },
        {
         "0": "Usage Metrics Report",
         "1": "10e73d90-bcd8-434e-9800-a191f23d5f75",
         "2": "2019-10-31 17:16:38",
         "3": "NaT",
         "4": "f10bf9ea-fa3e-4007-88ae-4cc5b225b08c",
         "5": "Demonstration"
        },
        {
         "0": "SampleModel",
         "1": "a0ccb1e6-7b8c-4215-ab40-76c8ecffb21f",
         "2": "2024-08-15 21:05:39",
         "3": "NaT",
         "4": "e5a5b3e7-e22e-45f9-a483-700e0201d618",
         "5": "Sample Workspace"
        },
        {
         "0": "Accessibility Checker - Service",
         "1": "e7502187-c84f-4cc8-96c0-e5ad6711d8d6",
         "2": "2025-03-13 20:57:12",
         "3": "NaT",
         "4": "e5a5b3e7-e22e-45f9-a483-700e0201d618",
         "5": "Sample Workspace"
        },
        {
         "0": "Feedback Analysis Model",
         "1": "89700ed5-bdc2-45fc-aad9-01499195e36b",
         "2": "2025-04-01 05:59:38",
         "3": "NaT",
         "4": "a28438cb-20e4-4f28-8e5b-666eb3ae8836",
         "5": "john-kerski-sandbox"
        }
       ],
       "schema": [
        {
         "key": "0",
         "name": "Dataset Name",
         "type": "string"
        },
        {
         "key": "1",
         "name": "Dataset ID",
         "type": "string"
        },
        {
         "key": "2",
         "name": "Created Timestamp",
         "type": "timestamp"
        },
        {
         "key": "3",
         "name": "Last Update",
         "type": "timestamp"
        },
        {
         "key": "4",
         "name": "workspace_id",
         "type": "string"
        },
        {
         "key": "5",
         "name": "workspace_name",
         "type": "string"
        }
       ],
       "truncated": false
      },
      "wranglerEntryContext": {
       "candidateVariableNames": [
        "all_datasets_df"
       ],
       "dataframeType": "pandas"
      }
     },
     "type": "Synapse.DataFrame"
    },
    "1848c425-5241-4c31-8352-990358978092": {
     "persist_state": {
      "view": {
       "chartOptions": {
        "aggregationType": "sum",
        "binsNumber": 10,
        "categoryFieldKeys": [],
        "chartType": "bar",
        "isStacked": false,
        "seriesFieldKeys": [],
        "wordFrequency": "-1"
       },
       "tableOptions": {},
       "type": "details",
       "viewOptionsGroup": [
        {
         "tabItems": [
          {
           "key": "0",
           "name": "Table",
           "options": {},
           "type": "table"
          }
         ]
        }
       ]
      }
     },
     "sync_state": {
      "isSummary": false,
      "language": "python",
      "table": {
       "rows": [],
       "schema": [
        {
         "key": "0",
         "name": "ErrorInformation_errorLocation_positionStart_lineNumber",
         "type": "string"
        },
        {
         "key": "1",
         "name": "DatasetName",
         "type": "string"
        },
        {
         "key": "2",
         "name": "TableName",
         "type": "string"
        },
        {
         "key": "3",
         "name": "PartitionName",
         "type": "string"
        }
       ],
       "truncated": false
      },
      "wranglerEntryContext": {
       "candidateVariableNames": [
        "df_temp"
       ],
       "dataframeType": "pandas"
      }
     },
     "type": "Synapse.DataFrame"
    },
    "1bc7c6fc-ee21-41f8-9431-63865e53e80c": {
     "persist_state": {
      "view": {
       "chartOptions": {
        "aggregationType": "sum",
        "binsNumber": 10,
        "categoryFieldKeys": [],
        "chartType": "bar",
        "isStacked": false,
        "seriesFieldKeys": [],
        "wordFrequency": "-1"
       },
       "tableOptions": {},
       "type": "details",
       "viewOptionsGroup": [
        {
         "tabItems": [
          {
           "key": "0",
           "name": "Table",
           "options": {},
           "type": "table"
          }
         ]
        }
       ]
      }
     },
     "sync_state": {
      "isSummary": false,
      "language": "python",
      "table": {
       "rows": [],
       "schema": [
        {
         "key": "0",
         "name": "ErrorInformation_errorLocation_positionStart_lineNumber",
         "type": "string"
        },
        {
         "key": "1",
         "name": "DatasetName",
         "type": "string"
        },
        {
         "key": "2",
         "name": "TableName",
         "type": "string"
        },
        {
         "key": "3",
         "name": "PartitionName",
         "type": "string"
        }
       ],
       "truncated": false
      },
      "wranglerEntryContext": {
       "candidateVariableNames": [
        "df_temp"
       ],
       "dataframeType": "pandas"
      }
     },
     "type": "Synapse.DataFrame"
    },
    "1d4a73ac-7d32-4b15-a78d-eb99c013a76e": {
     "persist_state": {
      "view": {
       "chartOptions": {
        "aggregationType": "sum",
        "binsNumber": 10,
        "categoryFieldKeys": [],
        "chartType": "bar",
        "isStacked": false,
        "seriesFieldKeys": [],
        "wordFrequency": "-1"
       },
       "tableOptions": {},
       "type": "details",
       "viewOptionsGroup": [
        {
         "tabItems": [
          {
           "key": "0",
           "name": "Table",
           "options": {},
           "type": "table"
          }
         ]
        }
       ]
      }
     },
     "sync_state": {
      "isSummary": false,
      "language": "python",
      "table": {
       "rows": [],
       "schema": [
        {
         "key": "0",
         "name": "ErrorInformation_errorLocation_positionStart_lineNumber",
         "type": "string"
        },
        {
         "key": "1",
         "name": "DatasetName",
         "type": "string"
        },
        {
         "key": "2",
         "name": "TableName",
         "type": "string"
        },
        {
         "key": "3",
         "name": "PartitionName",
         "type": "string"
        }
       ],
       "truncated": false
      },
      "wranglerEntryContext": {
       "candidateVariableNames": [
        "df_temp"
       ],
       "dataframeType": "pandas"
      }
     },
     "type": "Synapse.DataFrame"
    },
    "1dda10f4-5cf6-45fd-ad30-541a180affc0": {
     "persist_state": {
      "view": {
       "chartOptions": {
        "aggregationType": "sum",
        "binsNumber": 10,
        "categoryFieldKeys": [],
        "chartType": "bar",
        "isStacked": false,
        "seriesFieldKeys": [],
        "wordFrequency": "-1"
       },
       "tableOptions": {},
       "type": "details",
       "viewOptionsGroup": [
        {
         "tabItems": [
          {
           "key": "0",
           "name": "Table",
           "options": {},
           "type": "table"
          }
         ]
        }
       ]
      }
     },
     "sync_state": {
      "isSummary": false,
      "language": "python",
      "table": {
       "rows": [],
       "schema": [
        {
         "key": "0",
         "name": "ErrorInformation_errorLocation_positionStart_lineNumber",
         "type": "string"
        },
        {
         "key": "1",
         "name": "DatasetName",
         "type": "string"
        },
        {
         "key": "2",
         "name": "TableName",
         "type": "string"
        },
        {
         "key": "3",
         "name": "PartitionName",
         "type": "string"
        }
       ],
       "truncated": false
      },
      "wranglerEntryContext": {
       "candidateVariableNames": [
        "df_temp"
       ],
       "dataframeType": "pandas"
      }
     },
     "type": "Synapse.DataFrame"
    },
    "1e2e8213-6607-4f01-bf56-3b7ce73a0bd0": {
     "persist_state": {
      "view": {
       "chartOptions": {
        "aggregationType": "sum",
        "binsNumber": 10,
        "categoryFieldKeys": [],
        "chartType": "bar",
        "isStacked": false,
        "seriesFieldKeys": [],
        "wordFrequency": "-1"
       },
       "tableOptions": {},
       "type": "details",
       "viewOptionsGroup": [
        {
         "tabItems": [
          {
           "key": "0",
           "name": "Table",
           "options": {},
           "type": "table"
          }
         ]
        }
       ]
      }
     },
     "sync_state": {
      "isSummary": false,
      "language": "python",
      "table": {
       "rows": [],
       "schema": [
        {
         "key": "0",
         "name": "ErrorInformation_errorLocation_positionStart_lineNumber",
         "type": "string"
        },
        {
         "key": "1",
         "name": "DatasetName",
         "type": "string"
        },
        {
         "key": "2",
         "name": "TableName",
         "type": "string"
        },
        {
         "key": "3",
         "name": "PartitionName",
         "type": "string"
        }
       ],
       "truncated": false
      },
      "wranglerEntryContext": {
       "candidateVariableNames": [
        "df_temp"
       ],
       "dataframeType": "pandas"
      }
     },
     "type": "Synapse.DataFrame"
    },
    "1e667988-7b82-4024-b42c-f8bfae46b864": {
     "persist_state": {
      "view": {
       "chartOptions": {
        "aggregationType": "sum",
        "binsNumber": 10,
        "categoryFieldKeys": [],
        "chartType": "bar",
        "isStacked": false,
        "seriesFieldKeys": [],
        "wordFrequency": "-1"
       },
       "tableOptions": {},
       "type": "details",
       "viewOptionsGroup": [
        {
         "tabItems": [
          {
           "key": "0",
           "name": "Table",
           "options": {},
           "type": "table"
          }
         ]
        }
       ]
      }
     },
     "sync_state": {
      "isSummary": false,
      "language": "python",
      "table": {
       "rows": [],
       "schema": [
        {
         "key": "0",
         "name": "ErrorInformation_errorLocation_positionStart_lineNumber",
         "type": "string"
        },
        {
         "key": "1",
         "name": "DatasetName",
         "type": "string"
        },
        {
         "key": "2",
         "name": "TableName",
         "type": "string"
        },
        {
         "key": "3",
         "name": "PartitionName",
         "type": "string"
        }
       ],
       "truncated": false
      },
      "wranglerEntryContext": {
       "candidateVariableNames": [
        "df_temp"
       ],
       "dataframeType": "pandas"
      }
     },
     "type": "Synapse.DataFrame"
    },
    "1ee7da56-c859-45b9-b752-eb78962cc65e": {
     "persist_state": {
      "view": {
       "chartOptions": {
        "aggregationType": "sum",
        "binsNumber": 10,
        "categoryFieldKeys": [],
        "chartType": "bar",
        "isStacked": false,
        "seriesFieldKeys": [],
        "wordFrequency": "-1"
       },
       "tableOptions": {},
       "type": "details",
       "viewOptionsGroup": [
        {
         "tabItems": [
          {
           "key": "0",
           "name": "Table",
           "options": {},
           "type": "table"
          }
         ]
        }
       ]
      }
     },
     "sync_state": {
      "isSummary": false,
      "language": "python",
      "table": {
       "rows": [],
       "schema": [
        {
         "key": "0",
         "name": "ErrorInformation_errorLocation_positionStart_lineNumber",
         "type": "string"
        },
        {
         "key": "1",
         "name": "DatasetName",
         "type": "string"
        },
        {
         "key": "2",
         "name": "TableName",
         "type": "string"
        },
        {
         "key": "3",
         "name": "PartitionName",
         "type": "string"
        }
       ],
       "truncated": false
      },
      "wranglerEntryContext": {
       "candidateVariableNames": [
        "df_temp"
       ],
       "dataframeType": "pandas"
      }
     },
     "type": "Synapse.DataFrame"
    },
    "2089561d-f3fd-4923-8aa8-b49d6e5ef993": {
     "persist_state": {
      "view": {
       "chartOptions": {
        "aggregationType": "sum",
        "binsNumber": 10,
        "categoryFieldKeys": [],
        "chartType": "bar",
        "isStacked": false,
        "seriesFieldKeys": [],
        "wordFrequency": "-1"
       },
       "tableOptions": {},
       "type": "details",
       "viewOptionsGroup": [
        {
         "tabItems": [
          {
           "key": "0",
           "name": "Table",
           "options": {},
           "type": "table"
          }
         ]
        }
       ]
      }
     },
     "sync_state": {
      "isSummary": false,
      "language": "python",
      "table": {
       "rows": [],
       "schema": [
        {
         "key": "0",
         "name": "ErrorInformation_errorLocation_positionStart_lineNumber",
         "type": "string"
        },
        {
         "key": "1",
         "name": "DatasetName",
         "type": "string"
        },
        {
         "key": "2",
         "name": "TableName",
         "type": "string"
        },
        {
         "key": "3",
         "name": "PartitionName",
         "type": "string"
        }
       ],
       "truncated": false
      },
      "wranglerEntryContext": {
       "candidateVariableNames": [
        "df_temp"
       ],
       "dataframeType": "pandas"
      }
     },
     "type": "Synapse.DataFrame"
    },
    "217e4433-bec5-45ad-a1db-51e136cc8304": {
     "persist_state": {
      "view": {
       "chartOptions": {
        "aggregationType": "sum",
        "binsNumber": 10,
        "categoryFieldKeys": [],
        "chartType": "bar",
        "isStacked": false,
        "seriesFieldKeys": [],
        "wordFrequency": "-1"
       },
       "tableOptions": {},
       "type": "details",
       "viewOptionsGroup": [
        {
         "tabItems": [
          {
           "key": "0",
           "name": "Table",
           "options": {},
           "type": "table"
          }
         ]
        }
       ]
      }
     },
     "sync_state": {
      "isSummary": false,
      "language": "python",
      "table": {
       "rows": [],
       "schema": [
        {
         "key": "0",
         "name": "ErrorInformation_errorLocation_positionStart_lineNumber",
         "type": "string"
        },
        {
         "key": "1",
         "name": "DatasetName",
         "type": "string"
        },
        {
         "key": "2",
         "name": "TableName",
         "type": "string"
        },
        {
         "key": "3",
         "name": "PartitionName",
         "type": "string"
        }
       ],
       "truncated": false
      },
      "wranglerEntryContext": {
       "candidateVariableNames": [
        "df_temp"
       ],
       "dataframeType": "pandas"
      }
     },
     "type": "Synapse.DataFrame"
    },
    "22a19fef-9d8d-4565-a93a-7d30573f6d7c": {
     "persist_state": {
      "view": {
       "chartOptions": {
        "aggregationType": "sum",
        "binsNumber": 10,
        "categoryFieldKeys": [],
        "chartType": "bar",
        "isStacked": false,
        "seriesFieldKeys": [],
        "wordFrequency": "-1"
       },
       "tableOptions": {},
       "type": "details",
       "viewOptionsGroup": [
        {
         "tabItems": [
          {
           "key": "0",
           "name": "Table",
           "options": {},
           "type": "table"
          }
         ]
        }
       ]
      }
     },
     "sync_state": {
      "isSummary": false,
      "language": "python",
      "table": {
       "rows": [],
       "schema": [
        {
         "key": "0",
         "name": "ErrorInformation_errorLocation_positionStart_lineNumber",
         "type": "string"
        },
        {
         "key": "1",
         "name": "DatasetName",
         "type": "string"
        },
        {
         "key": "2",
         "name": "TableName",
         "type": "string"
        },
        {
         "key": "3",
         "name": "PartitionName",
         "type": "string"
        }
       ],
       "truncated": false
      },
      "wranglerEntryContext": {
       "candidateVariableNames": [
        "df_temp"
       ],
       "dataframeType": "pandas"
      }
     },
     "type": "Synapse.DataFrame"
    },
    "24fe5440-0f4b-4ca1-aac7-c8da45ae0ab9": {
     "persist_state": {
      "view": {
       "chartOptions": {
        "aggregationType": "sum",
        "binsNumber": 10,
        "categoryFieldKeys": [],
        "chartType": "bar",
        "isStacked": false,
        "seriesFieldKeys": [],
        "wordFrequency": "-1"
       },
       "tableOptions": {},
       "type": "details",
       "viewOptionsGroup": [
        {
         "tabItems": [
          {
           "key": "0",
           "name": "Table",
           "options": {},
           "type": "table"
          }
         ]
        }
       ]
      }
     },
     "sync_state": {
      "isSummary": false,
      "language": "python",
      "table": {
       "rows": [],
       "schema": [
        {
         "key": "0",
         "name": "ErrorInformation_errorLocation_positionStart_lineNumber",
         "type": "string"
        },
        {
         "key": "1",
         "name": "DatasetName",
         "type": "string"
        },
        {
         "key": "2",
         "name": "TableName",
         "type": "string"
        },
        {
         "key": "3",
         "name": "PartitionName",
         "type": "string"
        }
       ],
       "truncated": false
      },
      "wranglerEntryContext": {
       "candidateVariableNames": [
        "df_temp"
       ],
       "dataframeType": "pandas"
      }
     },
     "type": "Synapse.DataFrame"
    },
    "254e5569-2eed-4212-b1b9-748cb67c32e1": {
     "persist_state": {
      "view": {
       "chartOptions": {
        "aggregationType": "sum",
        "binsNumber": 10,
        "categoryFieldKeys": [],
        "chartType": "bar",
        "isStacked": false,
        "seriesFieldKeys": [],
        "wordFrequency": "-1"
       },
       "tableOptions": {},
       "type": "details",
       "viewOptionsGroup": [
        {
         "tabItems": [
          {
           "key": "0",
           "name": "Table",
           "options": {},
           "type": "table"
          }
         ]
        }
       ]
      }
     },
     "sync_state": {
      "isSummary": false,
      "language": "python",
      "table": {
       "rows": [],
       "schema": [
        {
         "key": "0",
         "name": "ErrorInformation_errorLocation_positionStart_lineNumber",
         "type": "string"
        },
        {
         "key": "1",
         "name": "DatasetName",
         "type": "string"
        },
        {
         "key": "2",
         "name": "TableName",
         "type": "string"
        },
        {
         "key": "3",
         "name": "PartitionName",
         "type": "string"
        }
       ],
       "truncated": false
      },
      "wranglerEntryContext": {
       "candidateVariableNames": [
        "df_temp"
       ],
       "dataframeType": "pandas"
      }
     },
     "type": "Synapse.DataFrame"
    },
    "268c61e1-57ea-4fc1-8f8b-9dd52762e0a9": {
     "persist_state": {
      "view": {
       "chartOptions": {
        "aggregationType": "sum",
        "binsNumber": 10,
        "categoryFieldKeys": [],
        "chartType": "bar",
        "isStacked": false,
        "seriesFieldKeys": [],
        "wordFrequency": "-1"
       },
       "tableOptions": {},
       "type": "details",
       "viewOptionsGroup": [
        {
         "tabItems": [
          {
           "key": "0",
           "name": "Table",
           "options": {},
           "type": "table"
          }
         ]
        }
       ]
      }
     },
     "sync_state": {
      "isSummary": false,
      "language": "python",
      "table": {
       "rows": [],
       "schema": [
        {
         "key": "0",
         "name": "ErrorInformation_errorLocation_positionStart_lineNumber",
         "type": "string"
        },
        {
         "key": "1",
         "name": "DatasetName",
         "type": "string"
        },
        {
         "key": "2",
         "name": "TableName",
         "type": "string"
        },
        {
         "key": "3",
         "name": "PartitionName",
         "type": "string"
        }
       ],
       "truncated": false
      },
      "wranglerEntryContext": {
       "candidateVariableNames": [
        "df_temp"
       ],
       "dataframeType": "pandas"
      }
     },
     "type": "Synapse.DataFrame"
    },
    "26f97455-53a5-4799-ada4-759487adb5b2": {
     "persist_state": {
      "view": {
       "chartOptions": {
        "aggregationType": "sum",
        "binsNumber": 10,
        "categoryFieldKeys": [],
        "chartType": "bar",
        "isStacked": false,
        "seriesFieldKeys": [],
        "wordFrequency": "-1"
       },
       "tableOptions": {},
       "type": "details",
       "viewOptionsGroup": [
        {
         "tabItems": [
          {
           "key": "0",
           "name": "Table",
           "options": {},
           "type": "table"
          }
         ]
        }
       ]
      }
     },
     "sync_state": {
      "isSummary": false,
      "language": "python",
      "table": {
       "rows": [],
       "schema": [
        {
         "key": "0",
         "name": "ErrorInformation_errorLocation_positionStart_lineNumber",
         "type": "string"
        },
        {
         "key": "1",
         "name": "DatasetName",
         "type": "string"
        },
        {
         "key": "2",
         "name": "TableName",
         "type": "string"
        },
        {
         "key": "3",
         "name": "PartitionName",
         "type": "string"
        }
       ],
       "truncated": false
      },
      "wranglerEntryContext": {
       "candidateVariableNames": [
        "df_temp"
       ],
       "dataframeType": "pandas"
      }
     },
     "type": "Synapse.DataFrame"
    },
    "28f7119e-b269-44a0-8df7-1b0fbad3998c": {
     "persist_state": {
      "view": {
       "chartOptions": {
        "aggregationType": "sum",
        "binsNumber": 10,
        "categoryFieldKeys": [],
        "chartType": "bar",
        "isStacked": false,
        "seriesFieldKeys": [],
        "wordFrequency": "-1"
       },
       "tableOptions": {},
       "type": "details",
       "viewOptionsGroup": [
        {
         "tabItems": [
          {
           "key": "0",
           "name": "Table",
           "options": {},
           "type": "table"
          }
         ]
        }
       ]
      }
     },
     "sync_state": {
      "isSummary": false,
      "language": "python",
      "table": {
       "rows": [],
       "schema": [
        {
         "key": "0",
         "name": "ErrorInformation_errorLocation_positionStart_lineNumber",
         "type": "string"
        },
        {
         "key": "1",
         "name": "DatasetName",
         "type": "string"
        },
        {
         "key": "2",
         "name": "TableName",
         "type": "string"
        },
        {
         "key": "3",
         "name": "PartitionName",
         "type": "string"
        }
       ],
       "truncated": false
      },
      "wranglerEntryContext": {
       "candidateVariableNames": [
        "df_temp"
       ],
       "dataframeType": "pandas"
      }
     },
     "type": "Synapse.DataFrame"
    },
    "293ccdd8-cabd-4885-a5b0-ddcee5331a34": {
     "persist_state": {
      "view": {
       "chartOptions": {
        "aggregationType": "sum",
        "binsNumber": 10,
        "categoryFieldKeys": [],
        "chartType": "bar",
        "isStacked": false,
        "seriesFieldKeys": [],
        "wordFrequency": "-1"
       },
       "tableOptions": {},
       "type": "details",
       "viewOptionsGroup": [
        {
         "tabItems": [
          {
           "key": "0",
           "name": "Table",
           "options": {},
           "type": "table"
          }
         ]
        }
       ]
      }
     },
     "sync_state": {
      "isSummary": false,
      "language": "python",
      "table": {
       "rows": [],
       "schema": [
        {
         "key": "0",
         "name": "ErrorInformation_errorLocation_positionStart_lineNumber",
         "type": "string"
        },
        {
         "key": "1",
         "name": "DatasetName",
         "type": "string"
        },
        {
         "key": "2",
         "name": "TableName",
         "type": "string"
        },
        {
         "key": "3",
         "name": "PartitionName",
         "type": "string"
        }
       ],
       "truncated": false
      },
      "wranglerEntryContext": {
       "candidateVariableNames": [
        "df_temp"
       ],
       "dataframeType": "pandas"
      }
     },
     "type": "Synapse.DataFrame"
    },
    "29b8796b-51e3-41e7-8be1-ae410e7dfb3d": {
     "persist_state": {
      "view": {
       "chartOptions": {
        "aggregationType": "sum",
        "binsNumber": 10,
        "categoryFieldKeys": [],
        "chartType": "bar",
        "isStacked": false,
        "seriesFieldKeys": [],
        "wordFrequency": "-1"
       },
       "tableOptions": {},
       "type": "details",
       "viewOptionsGroup": [
        {
         "tabItems": [
          {
           "key": "0",
           "name": "Table",
           "options": {},
           "type": "table"
          }
         ]
        }
       ]
      }
     },
     "sync_state": {
      "isSummary": false,
      "language": "python",
      "table": {
       "rows": [],
       "schema": [
        {
         "key": "0",
         "name": "ErrorInformation_errorLocation_positionStart_lineNumber",
         "type": "string"
        },
        {
         "key": "1",
         "name": "DatasetName",
         "type": "string"
        },
        {
         "key": "2",
         "name": "TableName",
         "type": "string"
        },
        {
         "key": "3",
         "name": "PartitionName",
         "type": "string"
        }
       ],
       "truncated": false
      },
      "wranglerEntryContext": {
       "candidateVariableNames": [
        "df_temp"
       ],
       "dataframeType": "pandas"
      }
     },
     "type": "Synapse.DataFrame"
    },
    "2a0ef47c-dabd-4137-abea-404944c2e250": {
     "persist_state": {
      "view": {
       "chartOptions": {
        "aggregationType": "sum",
        "binsNumber": 10,
        "categoryFieldKeys": [],
        "chartType": "bar",
        "isStacked": false,
        "seriesFieldKeys": [],
        "wordFrequency": "-1"
       },
       "tableOptions": {},
       "type": "details",
       "viewOptionsGroup": [
        {
         "tabItems": [
          {
           "key": "0",
           "name": "Table",
           "options": {},
           "type": "table"
          }
         ]
        }
       ]
      }
     },
     "sync_state": {
      "isSummary": false,
      "language": "python",
      "table": {
       "rows": [],
       "schema": [
        {
         "key": "0",
         "name": "ErrorInformation_errorLocation_positionStart_lineNumber",
         "type": "string"
        },
        {
         "key": "1",
         "name": "DatasetName",
         "type": "string"
        },
        {
         "key": "2",
         "name": "TableName",
         "type": "string"
        },
        {
         "key": "3",
         "name": "PartitionName",
         "type": "string"
        }
       ],
       "truncated": false
      },
      "wranglerEntryContext": {
       "candidateVariableNames": [
        "df_temp"
       ],
       "dataframeType": "pandas"
      }
     },
     "type": "Synapse.DataFrame"
    },
    "2c523352-afbf-4cdd-9aa4-4c9b6f798cce": {
     "persist_state": {
      "view": {
       "chartOptions": {
        "aggregationType": "sum",
        "binsNumber": 10,
        "categoryFieldKeys": [],
        "chartType": "bar",
        "isStacked": false,
        "seriesFieldKeys": [],
        "wordFrequency": "-1"
       },
       "tableOptions": {},
       "type": "details",
       "viewOptionsGroup": [
        {
         "tabItems": [
          {
           "key": "0",
           "name": "Table",
           "options": {},
           "type": "table"
          }
         ]
        }
       ]
      }
     },
     "sync_state": {
      "isSummary": false,
      "language": "python",
      "table": {
       "rows": [],
       "schema": [
        {
         "key": "0",
         "name": "ErrorInformation_errorLocation_positionStart_lineNumber",
         "type": "string"
        },
        {
         "key": "1",
         "name": "DatasetName",
         "type": "string"
        },
        {
         "key": "2",
         "name": "TableName",
         "type": "string"
        },
        {
         "key": "3",
         "name": "PartitionName",
         "type": "string"
        }
       ],
       "truncated": false
      },
      "wranglerEntryContext": {
       "candidateVariableNames": [
        "df_temp"
       ],
       "dataframeType": "pandas"
      }
     },
     "type": "Synapse.DataFrame"
    },
    "2cb2f4c4-487a-43b3-812d-9f56ec113ce9": {
     "persist_state": {
      "view": {
       "chartOptions": {
        "aggregationType": "sum",
        "binsNumber": 10,
        "categoryFieldKeys": [],
        "chartType": "bar",
        "isStacked": false,
        "seriesFieldKeys": [],
        "wordFrequency": "-1"
       },
       "tableOptions": {},
       "type": "details",
       "viewOptionsGroup": [
        {
         "tabItems": [
          {
           "key": "0",
           "name": "Table",
           "options": {},
           "type": "table"
          }
         ]
        }
       ]
      }
     },
     "sync_state": {
      "isSummary": false,
      "language": "python",
      "table": {
       "rows": [],
       "schema": [
        {
         "key": "0",
         "name": "ErrorInformation_errorLocation_positionStart_lineNumber",
         "type": "string"
        },
        {
         "key": "1",
         "name": "DatasetName",
         "type": "string"
        },
        {
         "key": "2",
         "name": "TableName",
         "type": "string"
        },
        {
         "key": "3",
         "name": "PartitionName",
         "type": "string"
        }
       ],
       "truncated": false
      },
      "wranglerEntryContext": {
       "candidateVariableNames": [
        "df_temp"
       ],
       "dataframeType": "pandas"
      }
     },
     "type": "Synapse.DataFrame"
    },
    "2e43e1f7-1877-4290-ae32-80a50de73d11": {
     "persist_state": {
      "view": {
       "chartOptions": {
        "aggregationType": "sum",
        "binsNumber": 10,
        "categoryFieldKeys": [],
        "chartType": "bar",
        "isStacked": false,
        "seriesFieldKeys": [],
        "wordFrequency": "-1"
       },
       "tableOptions": {},
       "type": "details",
       "viewOptionsGroup": [
        {
         "tabItems": [
          {
           "key": "0",
           "name": "Table",
           "options": {},
           "type": "table"
          }
         ]
        }
       ]
      }
     },
     "sync_state": {
      "isSummary": false,
      "language": "python",
      "table": {
       "rows": [],
       "schema": [
        {
         "key": "0",
         "name": "ErrorInformation_errorLocation_positionStart_lineNumber",
         "type": "string"
        },
        {
         "key": "1",
         "name": "DatasetName",
         "type": "string"
        },
        {
         "key": "2",
         "name": "TableName",
         "type": "string"
        },
        {
         "key": "3",
         "name": "PartitionName",
         "type": "string"
        }
       ],
       "truncated": false
      },
      "wranglerEntryContext": {
       "candidateVariableNames": [
        "df_temp"
       ],
       "dataframeType": "pandas"
      }
     },
     "type": "Synapse.DataFrame"
    },
    "2f5f63fc-4c72-455d-8fed-a7982bcecbba": {
     "persist_state": {
      "view": {
       "chartOptions": {
        "aggregationType": "sum",
        "binsNumber": 10,
        "categoryFieldKeys": [],
        "chartType": "bar",
        "isStacked": false,
        "seriesFieldKeys": [],
        "wordFrequency": "-1"
       },
       "tableOptions": {},
       "type": "details",
       "viewOptionsGroup": [
        {
         "tabItems": [
          {
           "key": "0",
           "name": "Table",
           "options": {},
           "type": "table"
          }
         ]
        }
       ]
      }
     },
     "sync_state": {
      "isSummary": false,
      "language": "python",
      "table": {
       "rows": [],
       "schema": [
        {
         "key": "0",
         "name": "ErrorInformation_errorLocation_positionStart_lineNumber",
         "type": "string"
        },
        {
         "key": "1",
         "name": "DatasetName",
         "type": "string"
        },
        {
         "key": "2",
         "name": "TableName",
         "type": "string"
        },
        {
         "key": "3",
         "name": "PartitionName",
         "type": "string"
        }
       ],
       "truncated": false
      },
      "wranglerEntryContext": {
       "candidateVariableNames": [
        "df_temp"
       ],
       "dataframeType": "pandas"
      }
     },
     "type": "Synapse.DataFrame"
    },
    "31f2dbad-ac24-428c-b7a6-2f194fda17bf": {
     "persist_state": {
      "view": {
       "chartOptions": {
        "aggregationType": "sum",
        "binsNumber": 10,
        "categoryFieldKeys": [],
        "chartType": "bar",
        "isStacked": false,
        "seriesFieldKeys": [],
        "wordFrequency": "-1"
       },
       "tableOptions": {},
       "type": "details",
       "viewOptionsGroup": [
        {
         "tabItems": [
          {
           "key": "0",
           "name": "Table",
           "options": {},
           "type": "table"
          }
         ]
        }
       ]
      }
     },
     "sync_state": {
      "isSummary": false,
      "language": "python",
      "table": {
       "rows": [],
       "schema": [
        {
         "key": "0",
         "name": "ErrorInformation_errorLocation_positionStart_lineNumber",
         "type": "string"
        },
        {
         "key": "1",
         "name": "DatasetName",
         "type": "string"
        },
        {
         "key": "2",
         "name": "TableName",
         "type": "string"
        },
        {
         "key": "3",
         "name": "PartitionName",
         "type": "string"
        }
       ],
       "truncated": false
      },
      "wranglerEntryContext": {
       "candidateVariableNames": [
        "df_temp"
       ],
       "dataframeType": "pandas"
      }
     },
     "type": "Synapse.DataFrame"
    },
    "32df2dc9-0188-4488-96a1-e4459054d143": {
     "persist_state": {
      "view": {
       "chartOptions": {
        "aggregationType": "sum",
        "binsNumber": 10,
        "categoryFieldKeys": [],
        "chartType": "bar",
        "isStacked": false,
        "seriesFieldKeys": [],
        "wordFrequency": "-1"
       },
       "tableOptions": {},
       "type": "details",
       "viewOptionsGroup": [
        {
         "tabItems": [
          {
           "key": "0",
           "name": "Table",
           "options": {},
           "type": "table"
          }
         ]
        }
       ]
      }
     },
     "sync_state": {
      "isSummary": false,
      "language": "python",
      "table": {
       "rows": [],
       "schema": [
        {
         "key": "0",
         "name": "ErrorInformation_errorLocation_positionStart_lineNumber",
         "type": "string"
        },
        {
         "key": "1",
         "name": "DatasetName",
         "type": "string"
        },
        {
         "key": "2",
         "name": "TableName",
         "type": "string"
        },
        {
         "key": "3",
         "name": "PartitionName",
         "type": "string"
        }
       ],
       "truncated": false
      },
      "wranglerEntryContext": {
       "candidateVariableNames": [
        "df_temp"
       ],
       "dataframeType": "pandas"
      }
     },
     "type": "Synapse.DataFrame"
    },
    "3548335a-b077-48ca-80ee-9b260c7f6d0b": {
     "persist_state": {
      "view": {
       "chartOptions": {
        "aggregationType": "sum",
        "binsNumber": 10,
        "categoryFieldKeys": [],
        "chartType": "bar",
        "isStacked": false,
        "seriesFieldKeys": [],
        "wordFrequency": "-1"
       },
       "tableOptions": {},
       "type": "details",
       "viewOptionsGroup": [
        {
         "tabItems": [
          {
           "key": "0",
           "name": "Table",
           "options": {},
           "type": "table"
          }
         ]
        }
       ]
      }
     },
     "sync_state": {
      "isSummary": false,
      "language": "python",
      "table": {
       "rows": [],
       "schema": [
        {
         "key": "0",
         "name": "ErrorInformation_errorLocation_positionStart_lineNumber",
         "type": "string"
        },
        {
         "key": "1",
         "name": "DatasetName",
         "type": "string"
        },
        {
         "key": "2",
         "name": "TableName",
         "type": "string"
        },
        {
         "key": "3",
         "name": "PartitionName",
         "type": "string"
        }
       ],
       "truncated": false
      },
      "wranglerEntryContext": {
       "candidateVariableNames": [
        "df_temp"
       ],
       "dataframeType": "pandas"
      }
     },
     "type": "Synapse.DataFrame"
    },
    "3622bff4-2cb9-4274-8c1e-bbaa4644c016": {
     "persist_state": {
      "view": {
       "chartOptions": {
        "aggregationType": "sum",
        "binsNumber": 10,
        "categoryFieldKeys": [],
        "chartType": "bar",
        "isStacked": false,
        "seriesFieldKeys": [],
        "wordFrequency": "-1"
       },
       "tableOptions": {},
       "type": "details",
       "viewOptionsGroup": [
        {
         "tabItems": [
          {
           "key": "0",
           "name": "Table",
           "options": {},
           "type": "table"
          }
         ]
        }
       ]
      }
     },
     "sync_state": {
      "isSummary": false,
      "language": "python",
      "table": {
       "rows": [],
       "schema": [
        {
         "key": "0",
         "name": "ErrorInformation_errorLocation_positionStart_lineNumber",
         "type": "string"
        },
        {
         "key": "1",
         "name": "DatasetName",
         "type": "string"
        },
        {
         "key": "2",
         "name": "TableName",
         "type": "string"
        },
        {
         "key": "3",
         "name": "PartitionName",
         "type": "string"
        }
       ],
       "truncated": false
      },
      "wranglerEntryContext": {
       "candidateVariableNames": [
        "df_temp"
       ],
       "dataframeType": "pandas"
      }
     },
     "type": "Synapse.DataFrame"
    },
    "37b3b62b-3b2e-4d20-ac3b-29520133db88": {
     "persist_state": {
      "view": {
       "chartOptions": {
        "aggregationType": "sum",
        "binsNumber": 10,
        "categoryFieldKeys": [],
        "chartType": "bar",
        "isStacked": false,
        "seriesFieldKeys": [],
        "wordFrequency": "-1"
       },
       "tableOptions": {},
       "type": "details",
       "viewOptionsGroup": [
        {
         "tabItems": [
          {
           "key": "0",
           "name": "Table",
           "options": {},
           "type": "table"
          }
         ]
        }
       ]
      }
     },
     "sync_state": {
      "isSummary": false,
      "language": "python",
      "table": {
       "rows": [],
       "schema": [
        {
         "key": "0",
         "name": "ErrorInformation_errorLocation_positionStart_lineNumber",
         "type": "string"
        },
        {
         "key": "1",
         "name": "DatasetName",
         "type": "string"
        },
        {
         "key": "2",
         "name": "TableName",
         "type": "string"
        },
        {
         "key": "3",
         "name": "PartitionName",
         "type": "string"
        }
       ],
       "truncated": false
      },
      "wranglerEntryContext": {
       "candidateVariableNames": [
        "df_temp"
       ],
       "dataframeType": "pandas"
      }
     },
     "type": "Synapse.DataFrame"
    },
    "37df64e9-c42a-458a-9d92-1286efbca1ce": {
     "persist_state": {
      "view": {
       "chartOptions": {
        "aggregationType": "sum",
        "binsNumber": 10,
        "categoryFieldKeys": [],
        "chartType": "bar",
        "isStacked": false,
        "seriesFieldKeys": [],
        "wordFrequency": "-1"
       },
       "tableOptions": {},
       "type": "details",
       "viewOptionsGroup": [
        {
         "tabItems": [
          {
           "key": "0",
           "name": "Table",
           "options": {},
           "type": "table"
          }
         ]
        }
       ]
      }
     },
     "sync_state": {
      "isSummary": false,
      "language": "python",
      "table": {
       "rows": [],
       "schema": [
        {
         "key": "0",
         "name": "ErrorInformation_errorLocation_positionStart_lineNumber",
         "type": "string"
        },
        {
         "key": "1",
         "name": "DatasetName",
         "type": "string"
        },
        {
         "key": "2",
         "name": "TableName",
         "type": "string"
        },
        {
         "key": "3",
         "name": "PartitionName",
         "type": "string"
        }
       ],
       "truncated": false
      },
      "wranglerEntryContext": {
       "candidateVariableNames": [
        "df_temp"
       ],
       "dataframeType": "pandas"
      }
     },
     "type": "Synapse.DataFrame"
    },
    "3d0866de-27e8-4bb0-b084-1e3a77138d0e": {
     "persist_state": {
      "view": {
       "chartOptions": {
        "aggregationType": "sum",
        "binsNumber": 10,
        "categoryFieldKeys": [],
        "chartType": "bar",
        "isStacked": false,
        "seriesFieldKeys": [],
        "wordFrequency": "-1"
       },
       "tableOptions": {},
       "type": "details",
       "viewOptionsGroup": [
        {
         "tabItems": [
          {
           "key": "0",
           "name": "Table",
           "options": {},
           "type": "table"
          }
         ]
        }
       ]
      }
     },
     "sync_state": {
      "isSummary": false,
      "language": "python",
      "table": {
       "rows": [],
       "schema": [
        {
         "key": "0",
         "name": "ErrorInformation_errorLocation_positionStart_lineNumber",
         "type": "string"
        },
        {
         "key": "1",
         "name": "DatasetName",
         "type": "string"
        },
        {
         "key": "2",
         "name": "TableName",
         "type": "string"
        },
        {
         "key": "3",
         "name": "PartitionName",
         "type": "string"
        }
       ],
       "truncated": false
      },
      "wranglerEntryContext": {
       "candidateVariableNames": [
        "df_temp"
       ],
       "dataframeType": "pandas"
      }
     },
     "type": "Synapse.DataFrame"
    },
    "3f4cd512-5ae7-4097-a934-0906b7e03ee2": {
     "persist_state": {
      "view": {
       "chartOptions": {
        "aggregationType": "sum",
        "binsNumber": 10,
        "categoryFieldKeys": [],
        "chartType": "bar",
        "isStacked": false,
        "seriesFieldKeys": [],
        "wordFrequency": "-1"
       },
       "tableOptions": {},
       "type": "details",
       "viewOptionsGroup": [
        {
         "tabItems": [
          {
           "key": "0",
           "name": "Table",
           "options": {},
           "type": "table"
          }
         ]
        }
       ]
      }
     },
     "sync_state": {
      "isSummary": false,
      "language": "python",
      "table": {
       "rows": [],
       "schema": [
        {
         "key": "0",
         "name": "ErrorInformation_errorLocation_positionStart_lineNumber",
         "type": "string"
        },
        {
         "key": "1",
         "name": "DatasetName",
         "type": "string"
        },
        {
         "key": "2",
         "name": "TableName",
         "type": "string"
        },
        {
         "key": "3",
         "name": "PartitionName",
         "type": "string"
        }
       ],
       "truncated": false
      },
      "wranglerEntryContext": {
       "candidateVariableNames": [
        "df_temp"
       ],
       "dataframeType": "pandas"
      }
     },
     "type": "Synapse.DataFrame"
    },
    "407cf8b0-08a4-490b-85ba-d75134e95c99": {
     "persist_state": {
      "view": {
       "chartOptions": {
        "aggregationType": "sum",
        "binsNumber": 10,
        "categoryFieldKeys": [],
        "chartType": "bar",
        "isStacked": false,
        "seriesFieldKeys": [],
        "wordFrequency": "-1"
       },
       "tableOptions": {},
       "type": "details",
       "viewOptionsGroup": [
        {
         "tabItems": [
          {
           "key": "0",
           "name": "Table",
           "options": {},
           "type": "table"
          }
         ]
        }
       ]
      }
     },
     "sync_state": {
      "isSummary": false,
      "language": "python",
      "table": {
       "rows": [],
       "schema": [
        {
         "key": "0",
         "name": "ErrorInformation_errorLocation_positionStart_lineNumber",
         "type": "string"
        },
        {
         "key": "1",
         "name": "DatasetName",
         "type": "string"
        },
        {
         "key": "2",
         "name": "TableName",
         "type": "string"
        },
        {
         "key": "3",
         "name": "PartitionName",
         "type": "string"
        }
       ],
       "truncated": false
      },
      "wranglerEntryContext": {
       "candidateVariableNames": [
        "df_temp"
       ],
       "dataframeType": "pandas"
      }
     },
     "type": "Synapse.DataFrame"
    },
    "4192c0a2-c936-4ecb-a069-6e6e97965506": {
     "persist_state": {
      "view": {
       "chartOptions": {
        "aggregationType": "sum",
        "binsNumber": 10,
        "categoryFieldKeys": [],
        "chartType": "bar",
        "isStacked": false,
        "seriesFieldKeys": [],
        "wordFrequency": "-1"
       },
       "tableOptions": {},
       "type": "details",
       "viewOptionsGroup": [
        {
         "tabItems": [
          {
           "key": "0",
           "name": "Table",
           "options": {},
           "type": "table"
          }
         ]
        }
       ]
      }
     },
     "sync_state": {
      "isSummary": false,
      "language": "python",
      "table": {
       "rows": [],
       "schema": [
        {
         "key": "0",
         "name": "ErrorInformation_errorLocation_positionStart_lineNumber",
         "type": "string"
        },
        {
         "key": "1",
         "name": "DatasetName",
         "type": "string"
        },
        {
         "key": "2",
         "name": "TableName",
         "type": "string"
        },
        {
         "key": "3",
         "name": "PartitionName",
         "type": "string"
        }
       ],
       "truncated": false
      },
      "wranglerEntryContext": {
       "candidateVariableNames": [
        "df_temp"
       ],
       "dataframeType": "pandas"
      }
     },
     "type": "Synapse.DataFrame"
    },
    "423b5d86-057d-4588-bad9-1c4f7cd4d74e": {
     "persist_state": {
      "view": {
       "chartOptions": {
        "aggregationType": "sum",
        "binsNumber": 10,
        "categoryFieldKeys": [],
        "chartType": "bar",
        "isStacked": false,
        "seriesFieldKeys": [],
        "wordFrequency": "-1"
       },
       "tableOptions": {},
       "type": "details",
       "viewOptionsGroup": [
        {
         "tabItems": [
          {
           "key": "0",
           "name": "Table",
           "options": {},
           "type": "table"
          }
         ]
        }
       ]
      }
     },
     "sync_state": {
      "isSummary": false,
      "language": "python",
      "table": {
       "rows": [],
       "schema": [
        {
         "key": "0",
         "name": "ErrorInformation_errorLocation_positionStart_lineNumber",
         "type": "string"
        },
        {
         "key": "1",
         "name": "DatasetName",
         "type": "string"
        },
        {
         "key": "2",
         "name": "TableName",
         "type": "string"
        },
        {
         "key": "3",
         "name": "PartitionName",
         "type": "string"
        }
       ],
       "truncated": false
      },
      "wranglerEntryContext": {
       "candidateVariableNames": [
        "df_temp"
       ],
       "dataframeType": "pandas"
      }
     },
     "type": "Synapse.DataFrame"
    },
    "438b7dc8-a3d2-4c66-bb14-2a692374b22d": {
     "persist_state": {
      "view": {
       "chartOptions": {
        "aggregationType": "sum",
        "binsNumber": 10,
        "categoryFieldKeys": [],
        "chartType": "bar",
        "isStacked": false,
        "seriesFieldKeys": [],
        "wordFrequency": "-1"
       },
       "tableOptions": {},
       "type": "details",
       "viewOptionsGroup": [
        {
         "tabItems": [
          {
           "key": "0",
           "name": "Table",
           "options": {},
           "type": "table"
          }
         ]
        }
       ]
      }
     },
     "sync_state": {
      "isSummary": false,
      "language": "python",
      "table": {
       "rows": [],
       "schema": [
        {
         "key": "0",
         "name": "ErrorInformation_errorLocation_positionStart_lineNumber",
         "type": "string"
        },
        {
         "key": "1",
         "name": "DatasetName",
         "type": "string"
        },
        {
         "key": "2",
         "name": "TableName",
         "type": "string"
        },
        {
         "key": "3",
         "name": "PartitionName",
         "type": "string"
        }
       ],
       "truncated": false
      },
      "wranglerEntryContext": {
       "candidateVariableNames": [
        "df_temp"
       ],
       "dataframeType": "pandas"
      }
     },
     "type": "Synapse.DataFrame"
    },
    "441651f9-46e1-42cf-8fcd-68fe1107e285": {
     "persist_state": {
      "view": {
       "chartOptions": {
        "aggregationType": "sum",
        "binsNumber": 10,
        "categoryFieldKeys": [],
        "chartType": "bar",
        "isStacked": false,
        "seriesFieldKeys": [],
        "wordFrequency": "-1"
       },
       "tableOptions": {},
       "type": "details",
       "viewOptionsGroup": [
        {
         "tabItems": [
          {
           "key": "0",
           "name": "Table",
           "options": {},
           "type": "table"
          }
         ]
        }
       ]
      }
     },
     "sync_state": {
      "isSummary": false,
      "language": "python",
      "table": {
       "rows": [],
       "schema": [
        {
         "key": "0",
         "name": "ErrorInformation_errorLocation_positionStart_lineNumber",
         "type": "string"
        },
        {
         "key": "1",
         "name": "DatasetName",
         "type": "string"
        },
        {
         "key": "2",
         "name": "TableName",
         "type": "string"
        },
        {
         "key": "3",
         "name": "PartitionName",
         "type": "string"
        }
       ],
       "truncated": false
      },
      "wranglerEntryContext": {
       "candidateVariableNames": [
        "df_temp"
       ],
       "dataframeType": "pandas"
      }
     },
     "type": "Synapse.DataFrame"
    },
    "448cfede-c10a-47f4-86f7-28f89889d813": {
     "persist_state": {
      "view": {
       "chartOptions": {
        "aggregationType": "sum",
        "binsNumber": 10,
        "categoryFieldKeys": [],
        "chartType": "bar",
        "isStacked": false,
        "seriesFieldKeys": [],
        "wordFrequency": "-1"
       },
       "tableOptions": {},
       "type": "details",
       "viewOptionsGroup": [
        {
         "tabItems": [
          {
           "key": "0",
           "name": "Table",
           "options": {},
           "type": "table"
          }
         ]
        }
       ]
      }
     },
     "sync_state": {
      "isSummary": false,
      "language": "python",
      "table": {
       "rows": [],
       "schema": [
        {
         "key": "0",
         "name": "ErrorInformation_errorLocation_positionStart_lineNumber",
         "type": "string"
        },
        {
         "key": "1",
         "name": "DatasetName",
         "type": "string"
        },
        {
         "key": "2",
         "name": "TableName",
         "type": "string"
        },
        {
         "key": "3",
         "name": "PartitionName",
         "type": "string"
        }
       ],
       "truncated": false
      },
      "wranglerEntryContext": {
       "candidateVariableNames": [
        "df_temp"
       ],
       "dataframeType": "pandas"
      }
     },
     "type": "Synapse.DataFrame"
    },
    "4539d4af-d9d5-4090-aeb1-e95460b1590b": {
     "persist_state": {
      "view": {
       "chartOptions": {
        "aggregationType": "sum",
        "binsNumber": 10,
        "categoryFieldKeys": [],
        "chartType": "bar",
        "isStacked": false,
        "seriesFieldKeys": [],
        "wordFrequency": "-1"
       },
       "tableOptions": {},
       "type": "details",
       "viewOptionsGroup": [
        {
         "tabItems": [
          {
           "key": "0",
           "name": "Table",
           "options": {},
           "type": "table"
          }
         ]
        }
       ]
      }
     },
     "sync_state": {
      "isSummary": false,
      "language": "python",
      "table": {
       "rows": [],
       "schema": [
        {
         "key": "0",
         "name": "ErrorInformation_errorLocation_positionStart_lineNumber",
         "type": "string"
        },
        {
         "key": "1",
         "name": "DatasetName",
         "type": "string"
        },
        {
         "key": "2",
         "name": "TableName",
         "type": "string"
        },
        {
         "key": "3",
         "name": "PartitionName",
         "type": "string"
        }
       ],
       "truncated": false
      },
      "wranglerEntryContext": {
       "candidateVariableNames": [
        "df_temp"
       ],
       "dataframeType": "pandas"
      }
     },
     "type": "Synapse.DataFrame"
    },
    "457f16d2-ff64-409f-89a7-3a3b08e4bd4c": {
     "persist_state": {
      "view": {
       "chartOptions": {
        "aggregationType": "sum",
        "binsNumber": 10,
        "categoryFieldKeys": [],
        "chartType": "bar",
        "isStacked": false,
        "seriesFieldKeys": [],
        "wordFrequency": "-1"
       },
       "tableOptions": {},
       "type": "details",
       "viewOptionsGroup": [
        {
         "tabItems": [
          {
           "key": "0",
           "name": "Table",
           "options": {},
           "type": "table"
          }
         ]
        }
       ]
      }
     },
     "sync_state": {
      "isSummary": false,
      "language": "python",
      "table": {
       "rows": [],
       "schema": [
        {
         "key": "0",
         "name": "ErrorInformation_errorLocation_positionStart_lineNumber",
         "type": "string"
        },
        {
         "key": "1",
         "name": "DatasetName",
         "type": "string"
        },
        {
         "key": "2",
         "name": "TableName",
         "type": "string"
        },
        {
         "key": "3",
         "name": "PartitionName",
         "type": "string"
        }
       ],
       "truncated": false
      },
      "wranglerEntryContext": {
       "candidateVariableNames": [
        "df_temp"
       ],
       "dataframeType": "pandas"
      }
     },
     "type": "Synapse.DataFrame"
    },
    "474d2cc2-d615-4dd9-92fc-63f52ba628c6": {
     "persist_state": {
      "view": {
       "chartOptions": {
        "aggregationType": "sum",
        "binsNumber": 10,
        "categoryFieldKeys": [],
        "chartType": "bar",
        "isStacked": false,
        "seriesFieldKeys": [],
        "wordFrequency": "-1"
       },
       "tableOptions": {},
       "type": "details",
       "viewOptionsGroup": [
        {
         "tabItems": [
          {
           "key": "0",
           "name": "Table",
           "options": {},
           "type": "table"
          }
         ]
        }
       ]
      }
     },
     "sync_state": {
      "isSummary": false,
      "language": "python",
      "table": {
       "rows": [],
       "schema": [
        {
         "key": "0",
         "name": "ErrorInformation_errorLocation_positionStart_lineNumber",
         "type": "string"
        },
        {
         "key": "1",
         "name": "DatasetName",
         "type": "string"
        },
        {
         "key": "2",
         "name": "TableName",
         "type": "string"
        },
        {
         "key": "3",
         "name": "PartitionName",
         "type": "string"
        }
       ],
       "truncated": false
      },
      "wranglerEntryContext": {
       "candidateVariableNames": [
        "df_temp"
       ],
       "dataframeType": "pandas"
      }
     },
     "type": "Synapse.DataFrame"
    },
    "47db78fd-40d6-4eb7-9e13-13dcd9ac7fd4": {
     "persist_state": {
      "view": {
       "chartOptions": {
        "aggregationType": "sum",
        "binsNumber": 10,
        "categoryFieldKeys": [],
        "chartType": "bar",
        "isStacked": false,
        "seriesFieldKeys": [],
        "wordFrequency": "-1"
       },
       "tableOptions": {},
       "type": "details",
       "viewOptionsGroup": [
        {
         "tabItems": [
          {
           "key": "0",
           "name": "Table",
           "options": {},
           "type": "table"
          }
         ]
        }
       ]
      }
     },
     "sync_state": {
      "isSummary": false,
      "language": "python",
      "table": {
       "rows": [],
       "schema": [
        {
         "key": "0",
         "name": "ErrorInformation_errorLocation_positionStart_lineNumber",
         "type": "string"
        },
        {
         "key": "1",
         "name": "DatasetName",
         "type": "string"
        },
        {
         "key": "2",
         "name": "TableName",
         "type": "string"
        },
        {
         "key": "3",
         "name": "PartitionName",
         "type": "string"
        }
       ],
       "truncated": false
      },
      "wranglerEntryContext": {
       "candidateVariableNames": [
        "df_temp"
       ],
       "dataframeType": "pandas"
      }
     },
     "type": "Synapse.DataFrame"
    },
    "485c34ab-519a-4e0e-a93b-ac932c705521": {
     "persist_state": {
      "view": {
       "chartOptions": {
        "aggregationType": "sum",
        "binsNumber": 10,
        "categoryFieldKeys": [],
        "chartType": "bar",
        "isStacked": false,
        "seriesFieldKeys": [],
        "wordFrequency": "-1"
       },
       "tableOptions": {},
       "type": "details",
       "viewOptionsGroup": [
        {
         "tabItems": [
          {
           "key": "0",
           "name": "Table",
           "options": {},
           "type": "table"
          }
         ]
        }
       ]
      }
     },
     "sync_state": {
      "isSummary": false,
      "language": "python",
      "table": {
       "rows": [],
       "schema": [
        {
         "key": "0",
         "name": "ErrorInformation_errorLocation_positionStart_lineNumber",
         "type": "string"
        },
        {
         "key": "1",
         "name": "DatasetName",
         "type": "string"
        },
        {
         "key": "2",
         "name": "TableName",
         "type": "string"
        },
        {
         "key": "3",
         "name": "PartitionName",
         "type": "string"
        }
       ],
       "truncated": false
      },
      "wranglerEntryContext": {
       "candidateVariableNames": [
        "df_temp"
       ],
       "dataframeType": "pandas"
      }
     },
     "type": "Synapse.DataFrame"
    },
    "49162f07-f737-4f94-b054-39d16645277b": {
     "persist_state": {
      "view": {
       "chartOptions": {
        "aggregationType": "sum",
        "binsNumber": 10,
        "categoryFieldKeys": [],
        "chartType": "bar",
        "isStacked": false,
        "seriesFieldKeys": [],
        "wordFrequency": "-1"
       },
       "tableOptions": {},
       "type": "details",
       "viewOptionsGroup": [
        {
         "tabItems": [
          {
           "key": "0",
           "name": "Table",
           "options": {},
           "type": "table"
          }
         ]
        }
       ]
      }
     },
     "sync_state": {
      "isSummary": false,
      "language": "python",
      "table": {
       "rows": [],
       "schema": [
        {
         "key": "0",
         "name": "ErrorInformation_errorLocation_positionStart_lineNumber",
         "type": "string"
        },
        {
         "key": "1",
         "name": "DatasetName",
         "type": "string"
        },
        {
         "key": "2",
         "name": "TableName",
         "type": "string"
        },
        {
         "key": "3",
         "name": "PartitionName",
         "type": "string"
        }
       ],
       "truncated": false
      },
      "wranglerEntryContext": {
       "candidateVariableNames": [
        "df_temp"
       ],
       "dataframeType": "pandas"
      }
     },
     "type": "Synapse.DataFrame"
    },
    "4919c9d3-2042-4a64-807a-2e1976ab3b9c": {
     "persist_state": {
      "view": {
       "chartOptions": {
        "aggregationType": "sum",
        "binsNumber": 10,
        "categoryFieldKeys": [],
        "chartType": "bar",
        "isStacked": false,
        "seriesFieldKeys": [],
        "wordFrequency": "-1"
       },
       "tableOptions": {},
       "type": "details",
       "viewOptionsGroup": [
        {
         "tabItems": [
          {
           "key": "0",
           "name": "Table",
           "options": {},
           "type": "table"
          }
         ]
        }
       ]
      }
     },
     "sync_state": {
      "isSummary": false,
      "language": "python",
      "table": {
       "rows": [],
       "schema": [
        {
         "key": "0",
         "name": "ErrorInformation_errorLocation_positionStart_lineNumber",
         "type": "string"
        },
        {
         "key": "1",
         "name": "DatasetName",
         "type": "string"
        },
        {
         "key": "2",
         "name": "TableName",
         "type": "string"
        },
        {
         "key": "3",
         "name": "PartitionName",
         "type": "string"
        }
       ],
       "truncated": false
      },
      "wranglerEntryContext": {
       "candidateVariableNames": [
        "df_temp"
       ],
       "dataframeType": "pandas"
      }
     },
     "type": "Synapse.DataFrame"
    },
    "498ea7bf-b53b-4ce6-bdb4-fdcb0ad81fdb": {
     "persist_state": {
      "view": {
       "chartOptions": {
        "aggregationType": "sum",
        "binsNumber": 10,
        "categoryFieldKeys": [],
        "chartType": "bar",
        "isStacked": false,
        "seriesFieldKeys": [],
        "wordFrequency": "-1"
       },
       "tableOptions": {},
       "type": "details",
       "viewOptionsGroup": [
        {
         "tabItems": [
          {
           "key": "0",
           "name": "Table",
           "options": {},
           "type": "table"
          }
         ]
        }
       ]
      }
     },
     "sync_state": {
      "isSummary": false,
      "language": "python",
      "table": {
       "rows": [],
       "schema": [
        {
         "key": "0",
         "name": "ErrorInformation_errorLocation_positionStart_lineNumber",
         "type": "string"
        },
        {
         "key": "1",
         "name": "DatasetName",
         "type": "string"
        },
        {
         "key": "2",
         "name": "TableName",
         "type": "string"
        },
        {
         "key": "3",
         "name": "PartitionName",
         "type": "string"
        }
       ],
       "truncated": false
      },
      "wranglerEntryContext": {
       "candidateVariableNames": [
        "df_temp"
       ],
       "dataframeType": "pandas"
      }
     },
     "type": "Synapse.DataFrame"
    },
    "499025a2-7241-4ac9-ad42-524c07618b17": {
     "persist_state": {
      "view": {
       "chartOptions": {
        "aggregationType": "sum",
        "binsNumber": 10,
        "categoryFieldKeys": [],
        "chartType": "bar",
        "isStacked": false,
        "seriesFieldKeys": [],
        "wordFrequency": "-1"
       },
       "tableOptions": {},
       "type": "details",
       "viewOptionsGroup": [
        {
         "tabItems": [
          {
           "key": "0",
           "name": "Table",
           "options": {},
           "type": "table"
          }
         ]
        }
       ]
      }
     },
     "sync_state": {
      "isSummary": false,
      "language": "python",
      "table": {
       "rows": [],
       "schema": [
        {
         "key": "0",
         "name": "ErrorInformation_errorLocation_positionStart_lineNumber",
         "type": "string"
        },
        {
         "key": "1",
         "name": "DatasetName",
         "type": "string"
        },
        {
         "key": "2",
         "name": "TableName",
         "type": "string"
        },
        {
         "key": "3",
         "name": "PartitionName",
         "type": "string"
        }
       ],
       "truncated": false
      },
      "wranglerEntryContext": {
       "candidateVariableNames": [
        "df_temp"
       ],
       "dataframeType": "pandas"
      }
     },
     "type": "Synapse.DataFrame"
    },
    "49bce498-05f7-40b3-a0ec-4eb23687972b": {
     "persist_state": {
      "view": {
       "chartOptions": {
        "aggregationType": "sum",
        "binsNumber": 10,
        "categoryFieldKeys": [],
        "chartType": "bar",
        "isStacked": false,
        "seriesFieldKeys": [],
        "wordFrequency": "-1"
       },
       "tableOptions": {},
       "type": "details",
       "viewOptionsGroup": [
        {
         "tabItems": [
          {
           "key": "0",
           "name": "Table",
           "options": {},
           "type": "table"
          }
         ]
        }
       ]
      }
     },
     "sync_state": {
      "isSummary": false,
      "language": "python",
      "table": {
       "rows": [],
       "schema": [
        {
         "key": "0",
         "name": "ErrorInformation_errorLocation_positionStart_lineNumber",
         "type": "string"
        },
        {
         "key": "1",
         "name": "DatasetName",
         "type": "string"
        },
        {
         "key": "2",
         "name": "TableName",
         "type": "string"
        },
        {
         "key": "3",
         "name": "PartitionName",
         "type": "string"
        }
       ],
       "truncated": false
      },
      "wranglerEntryContext": {
       "candidateVariableNames": [
        "df_temp"
       ],
       "dataframeType": "pandas"
      }
     },
     "type": "Synapse.DataFrame"
    },
    "4a60fb2a-8c7e-4db3-b528-f38215311f34": {
     "persist_state": {
      "view": {
       "chartOptions": {
        "aggregationType": "sum",
        "binsNumber": 10,
        "categoryFieldKeys": [],
        "chartType": "bar",
        "isStacked": false,
        "seriesFieldKeys": [],
        "wordFrequency": "-1"
       },
       "tableOptions": {},
       "type": "details",
       "viewOptionsGroup": [
        {
         "tabItems": [
          {
           "key": "0",
           "name": "Table",
           "options": {},
           "type": "table"
          }
         ]
        }
       ]
      }
     },
     "sync_state": {
      "isSummary": false,
      "language": "python",
      "table": {
       "rows": [],
       "schema": [
        {
         "key": "0",
         "name": "ErrorInformation_errorLocation_positionStart_lineNumber",
         "type": "string"
        },
        {
         "key": "1",
         "name": "DatasetName",
         "type": "string"
        },
        {
         "key": "2",
         "name": "TableName",
         "type": "string"
        },
        {
         "key": "3",
         "name": "PartitionName",
         "type": "string"
        }
       ],
       "truncated": false
      },
      "wranglerEntryContext": {
       "candidateVariableNames": [
        "df_temp"
       ],
       "dataframeType": "pandas"
      }
     },
     "type": "Synapse.DataFrame"
    },
    "4aa35dc2-fc1c-4f02-b11e-916cca49931c": {
     "persist_state": {
      "view": {
       "chartOptions": {
        "aggregationType": "sum",
        "binsNumber": 10,
        "categoryFieldKeys": [],
        "chartType": "bar",
        "isStacked": false,
        "seriesFieldKeys": [],
        "wordFrequency": "-1"
       },
       "tableOptions": {},
       "type": "details",
       "viewOptionsGroup": [
        {
         "tabItems": [
          {
           "key": "0",
           "name": "Table",
           "options": {},
           "type": "table"
          }
         ]
        }
       ]
      }
     },
     "sync_state": {
      "isSummary": false,
      "language": "python",
      "table": {
       "rows": [],
       "schema": [
        {
         "key": "0",
         "name": "ErrorInformation_errorLocation_positionStart_lineNumber",
         "type": "string"
        },
        {
         "key": "1",
         "name": "DatasetName",
         "type": "string"
        },
        {
         "key": "2",
         "name": "TableName",
         "type": "string"
        },
        {
         "key": "3",
         "name": "PartitionName",
         "type": "string"
        }
       ],
       "truncated": false
      },
      "wranglerEntryContext": {
       "candidateVariableNames": [
        "df_temp"
       ],
       "dataframeType": "pandas"
      }
     },
     "type": "Synapse.DataFrame"
    },
    "4b0361c9-9122-4abb-b5f3-75b919dc6df2": {
     "persist_state": {
      "view": {
       "chartOptions": {
        "aggregationType": "sum",
        "binsNumber": 10,
        "categoryFieldKeys": [],
        "chartType": "bar",
        "isStacked": false,
        "seriesFieldKeys": [],
        "wordFrequency": "-1"
       },
       "tableOptions": {},
       "type": "details",
       "viewOptionsGroup": [
        {
         "tabItems": [
          {
           "key": "0",
           "name": "Table",
           "options": {},
           "type": "table"
          }
         ]
        }
       ]
      }
     },
     "sync_state": {
      "isSummary": false,
      "language": "python",
      "table": {
       "rows": [],
       "schema": [
        {
         "key": "0",
         "name": "ErrorInformation_errorLocation_positionStart_lineNumber",
         "type": "string"
        },
        {
         "key": "1",
         "name": "DatasetName",
         "type": "string"
        },
        {
         "key": "2",
         "name": "TableName",
         "type": "string"
        },
        {
         "key": "3",
         "name": "PartitionName",
         "type": "string"
        }
       ],
       "truncated": false
      },
      "wranglerEntryContext": {
       "candidateVariableNames": [
        "df_temp"
       ],
       "dataframeType": "pandas"
      }
     },
     "type": "Synapse.DataFrame"
    },
    "4bbf6755-5d15-43c3-bd43-51c0029dae37": {
     "persist_state": {
      "view": {
       "chartOptions": {
        "aggregationType": "sum",
        "binsNumber": 10,
        "categoryFieldKeys": [],
        "chartType": "bar",
        "isStacked": false,
        "seriesFieldKeys": [],
        "wordFrequency": "-1"
       },
       "tableOptions": {},
       "type": "details",
       "viewOptionsGroup": [
        {
         "tabItems": [
          {
           "key": "0",
           "name": "Table",
           "options": {},
           "type": "table"
          }
         ]
        }
       ]
      }
     },
     "sync_state": {
      "isSummary": false,
      "language": "python",
      "table": {
       "rows": [],
       "schema": [
        {
         "key": "0",
         "name": "ErrorInformation_errorLocation_positionStart_lineNumber",
         "type": "string"
        },
        {
         "key": "1",
         "name": "DatasetName",
         "type": "string"
        },
        {
         "key": "2",
         "name": "TableName",
         "type": "string"
        },
        {
         "key": "3",
         "name": "PartitionName",
         "type": "string"
        }
       ],
       "truncated": false
      },
      "wranglerEntryContext": {
       "candidateVariableNames": [
        "df_temp"
       ],
       "dataframeType": "pandas"
      }
     },
     "type": "Synapse.DataFrame"
    },
    "4d23aae1-b35c-44af-ab6d-942a14705d82": {
     "persist_state": {
      "view": {
       "chartOptions": {
        "aggregationType": "sum",
        "binsNumber": 10,
        "categoryFieldKeys": [],
        "chartType": "bar",
        "isStacked": false,
        "seriesFieldKeys": [],
        "wordFrequency": "-1"
       },
       "tableOptions": {},
       "type": "details",
       "viewOptionsGroup": [
        {
         "tabItems": [
          {
           "key": "0",
           "name": "Table",
           "options": {},
           "type": "table"
          }
         ]
        }
       ]
      }
     },
     "sync_state": {
      "isSummary": false,
      "language": "python",
      "table": {
       "rows": [],
       "schema": [
        {
         "key": "0",
         "name": "ErrorInformation_errorLocation_positionStart_lineNumber",
         "type": "string"
        },
        {
         "key": "1",
         "name": "DatasetName",
         "type": "string"
        },
        {
         "key": "2",
         "name": "TableName",
         "type": "string"
        },
        {
         "key": "3",
         "name": "PartitionName",
         "type": "string"
        }
       ],
       "truncated": false
      },
      "wranglerEntryContext": {
       "candidateVariableNames": [
        "df_temp"
       ],
       "dataframeType": "pandas"
      }
     },
     "type": "Synapse.DataFrame"
    },
    "4e1f49d8-daa7-4d09-9bcf-0d95ca7131c7": {
     "persist_state": {
      "view": {
       "chartOptions": {
        "aggregationType": "sum",
        "binsNumber": 10,
        "categoryFieldKeys": [],
        "chartType": "bar",
        "isStacked": false,
        "seriesFieldKeys": [],
        "wordFrequency": "-1"
       },
       "tableOptions": {},
       "type": "details",
       "viewOptionsGroup": [
        {
         "tabItems": [
          {
           "key": "0",
           "name": "Table",
           "options": {},
           "type": "table"
          }
         ]
        }
       ]
      }
     },
     "sync_state": {
      "isSummary": false,
      "language": "python",
      "table": {
       "rows": [],
       "schema": [
        {
         "key": "0",
         "name": "ErrorInformation_errorLocation_positionStart_lineNumber",
         "type": "string"
        },
        {
         "key": "1",
         "name": "DatasetName",
         "type": "string"
        },
        {
         "key": "2",
         "name": "TableName",
         "type": "string"
        },
        {
         "key": "3",
         "name": "PartitionName",
         "type": "string"
        }
       ],
       "truncated": false
      },
      "wranglerEntryContext": {
       "candidateVariableNames": [
        "df_temp"
       ],
       "dataframeType": "pandas"
      }
     },
     "type": "Synapse.DataFrame"
    },
    "4fd16699-ea57-4bea-9161-6adce1ed1a7f": {
     "persist_state": {
      "view": {
       "chartOptions": {
        "aggregationType": "sum",
        "binsNumber": 10,
        "categoryFieldKeys": [],
        "chartType": "bar",
        "isStacked": false,
        "seriesFieldKeys": [],
        "wordFrequency": "-1"
       },
       "tableOptions": {},
       "type": "details",
       "viewOptionsGroup": [
        {
         "tabItems": [
          {
           "key": "0",
           "name": "Table",
           "options": {},
           "type": "table"
          }
         ]
        }
       ]
      }
     },
     "sync_state": {
      "isSummary": false,
      "language": "python",
      "table": {
       "rows": [],
       "schema": [
        {
         "key": "0",
         "name": "ErrorInformation_errorLocation_positionStart_lineNumber",
         "type": "string"
        },
        {
         "key": "1",
         "name": "DatasetName",
         "type": "string"
        },
        {
         "key": "2",
         "name": "TableName",
         "type": "string"
        },
        {
         "key": "3",
         "name": "PartitionName",
         "type": "string"
        }
       ],
       "truncated": false
      },
      "wranglerEntryContext": {
       "candidateVariableNames": [
        "df_temp"
       ],
       "dataframeType": "pandas"
      }
     },
     "type": "Synapse.DataFrame"
    },
    "507a9833-1542-4f0e-8090-59286fe4b906": {
     "persist_state": {
      "view": {
       "chartOptions": {
        "aggregationType": "sum",
        "binsNumber": 10,
        "categoryFieldKeys": [],
        "chartType": "bar",
        "isStacked": false,
        "seriesFieldKeys": [],
        "wordFrequency": "-1"
       },
       "tableOptions": {},
       "type": "details",
       "viewOptionsGroup": [
        {
         "tabItems": [
          {
           "key": "0",
           "name": "Table",
           "options": {},
           "type": "table"
          }
         ]
        }
       ]
      }
     },
     "sync_state": {
      "isSummary": false,
      "language": "python",
      "table": {
       "rows": [],
       "schema": [
        {
         "key": "0",
         "name": "ErrorInformation_errorLocation_positionStart_lineNumber",
         "type": "string"
        },
        {
         "key": "1",
         "name": "DatasetName",
         "type": "string"
        },
        {
         "key": "2",
         "name": "TableName",
         "type": "string"
        },
        {
         "key": "3",
         "name": "PartitionName",
         "type": "string"
        }
       ],
       "truncated": false
      },
      "wranglerEntryContext": {
       "candidateVariableNames": [
        "df_temp"
       ],
       "dataframeType": "pandas"
      }
     },
     "type": "Synapse.DataFrame"
    },
    "50a6b2d0-6667-4bbe-8ab0-5fdbc05055b1": {
     "persist_state": {
      "view": {
       "chartOptions": {
        "aggregationType": "sum",
        "binsNumber": 10,
        "categoryFieldKeys": [],
        "chartType": "bar",
        "isStacked": false,
        "seriesFieldKeys": [],
        "wordFrequency": "-1"
       },
       "tableOptions": {},
       "type": "details",
       "viewOptionsGroup": [
        {
         "tabItems": [
          {
           "key": "0",
           "name": "Table",
           "options": {},
           "type": "table"
          }
         ]
        }
       ]
      }
     },
     "sync_state": {
      "isSummary": false,
      "language": "python",
      "table": {
       "rows": [],
       "schema": [
        {
         "key": "0",
         "name": "ErrorInformation_errorLocation_positionStart_lineNumber",
         "type": "string"
        },
        {
         "key": "1",
         "name": "DatasetName",
         "type": "string"
        },
        {
         "key": "2",
         "name": "TableName",
         "type": "string"
        },
        {
         "key": "3",
         "name": "PartitionName",
         "type": "string"
        }
       ],
       "truncated": false
      },
      "wranglerEntryContext": {
       "candidateVariableNames": [
        "df_temp"
       ],
       "dataframeType": "pandas"
      }
     },
     "type": "Synapse.DataFrame"
    },
    "53a1c0ad-4499-4458-acda-fd36b81d8e6d": {
     "persist_state": {
      "view": {
       "chartOptions": {
        "aggregationType": "sum",
        "binsNumber": 10,
        "categoryFieldKeys": [],
        "chartType": "bar",
        "isStacked": false,
        "seriesFieldKeys": [],
        "wordFrequency": "-1"
       },
       "tableOptions": {},
       "type": "details",
       "viewOptionsGroup": [
        {
         "tabItems": [
          {
           "key": "0",
           "name": "Table",
           "options": {},
           "type": "table"
          }
         ]
        }
       ]
      }
     },
     "sync_state": {
      "isSummary": false,
      "language": "python",
      "table": {
       "rows": [],
       "schema": [
        {
         "key": "0",
         "name": "ErrorInformation_errorLocation_positionStart_lineNumber",
         "type": "string"
        },
        {
         "key": "1",
         "name": "DatasetName",
         "type": "string"
        },
        {
         "key": "2",
         "name": "TableName",
         "type": "string"
        },
        {
         "key": "3",
         "name": "PartitionName",
         "type": "string"
        }
       ],
       "truncated": false
      },
      "wranglerEntryContext": {
       "candidateVariableNames": [
        "df_temp"
       ],
       "dataframeType": "pandas"
      }
     },
     "type": "Synapse.DataFrame"
    },
    "53eb73c6-1311-48b1-8bcd-aee3d31e8f24": {
     "persist_state": {
      "view": {
       "chartOptions": {
        "aggregationType": "sum",
        "binsNumber": 10,
        "categoryFieldKeys": [],
        "chartType": "bar",
        "isStacked": false,
        "seriesFieldKeys": [],
        "wordFrequency": "-1"
       },
       "tableOptions": {},
       "type": "details",
       "viewOptionsGroup": [
        {
         "tabItems": [
          {
           "key": "0",
           "name": "Table",
           "options": {},
           "type": "table"
          }
         ]
        }
       ]
      }
     },
     "sync_state": {
      "isSummary": false,
      "language": "python",
      "table": {
       "rows": [],
       "schema": [
        {
         "key": "0",
         "name": "ErrorInformation_errorLocation_positionStart_lineNumber",
         "type": "string"
        },
        {
         "key": "1",
         "name": "DatasetName",
         "type": "string"
        },
        {
         "key": "2",
         "name": "TableName",
         "type": "string"
        },
        {
         "key": "3",
         "name": "PartitionName",
         "type": "string"
        }
       ],
       "truncated": false
      },
      "wranglerEntryContext": {
       "candidateVariableNames": [
        "df_temp"
       ],
       "dataframeType": "pandas"
      }
     },
     "type": "Synapse.DataFrame"
    },
    "57b77ba7-6b00-4671-8fdf-8a5b4cece2e6": {
     "persist_state": {
      "view": {
       "chartOptions": {
        "aggregationType": "sum",
        "binsNumber": 10,
        "categoryFieldKeys": [],
        "chartType": "bar",
        "isStacked": false,
        "seriesFieldKeys": [],
        "wordFrequency": "-1"
       },
       "tableOptions": {},
       "type": "details",
       "viewOptionsGroup": [
        {
         "tabItems": [
          {
           "key": "0",
           "name": "Table",
           "options": {},
           "type": "table"
          }
         ]
        }
       ]
      }
     },
     "sync_state": {
      "isSummary": false,
      "language": "python",
      "table": {
       "rows": [],
       "schema": [
        {
         "key": "0",
         "name": "ErrorInformation_errorLocation_positionStart_lineNumber",
         "type": "string"
        },
        {
         "key": "1",
         "name": "DatasetName",
         "type": "string"
        },
        {
         "key": "2",
         "name": "TableName",
         "type": "string"
        },
        {
         "key": "3",
         "name": "PartitionName",
         "type": "string"
        }
       ],
       "truncated": false
      },
      "wranglerEntryContext": {
       "candidateVariableNames": [
        "df_temp"
       ],
       "dataframeType": "pandas"
      }
     },
     "type": "Synapse.DataFrame"
    },
    "589a12db-2132-4408-a125-e76194823c82": {
     "persist_state": {
      "view": {
       "chartOptions": {
        "aggregationType": "sum",
        "binsNumber": 10,
        "categoryFieldKeys": [],
        "chartType": "bar",
        "isStacked": false,
        "seriesFieldKeys": [],
        "wordFrequency": "-1"
       },
       "tableOptions": {},
       "type": "details",
       "viewOptionsGroup": [
        {
         "tabItems": [
          {
           "key": "0",
           "name": "Table",
           "options": {},
           "type": "table"
          }
         ]
        }
       ]
      }
     },
     "sync_state": {
      "isSummary": false,
      "language": "python",
      "table": {
       "rows": [],
       "schema": [
        {
         "key": "0",
         "name": "ErrorInformation_errorLocation_positionStart_lineNumber",
         "type": "string"
        },
        {
         "key": "1",
         "name": "DatasetName",
         "type": "string"
        },
        {
         "key": "2",
         "name": "TableName",
         "type": "string"
        },
        {
         "key": "3",
         "name": "PartitionName",
         "type": "string"
        }
       ],
       "truncated": false
      },
      "wranglerEntryContext": {
       "candidateVariableNames": [
        "df_temp"
       ],
       "dataframeType": "pandas"
      }
     },
     "type": "Synapse.DataFrame"
    },
    "599652e8-d9b0-4685-aa69-5a1246eb4205": {
     "persist_state": {
      "view": {
       "chartOptions": {
        "aggregationType": "sum",
        "binsNumber": 10,
        "categoryFieldKeys": [],
        "chartType": "bar",
        "isStacked": false,
        "seriesFieldKeys": [],
        "wordFrequency": "-1"
       },
       "tableOptions": {},
       "type": "details",
       "viewOptionsGroup": [
        {
         "tabItems": [
          {
           "key": "0",
           "name": "Table",
           "options": {},
           "type": "table"
          }
         ]
        }
       ]
      }
     },
     "sync_state": {
      "isSummary": false,
      "language": "python",
      "table": {
       "rows": [],
       "schema": [
        {
         "key": "0",
         "name": "ErrorInformation_errorLocation_positionStart_lineNumber",
         "type": "string"
        },
        {
         "key": "1",
         "name": "DatasetName",
         "type": "string"
        },
        {
         "key": "2",
         "name": "TableName",
         "type": "string"
        },
        {
         "key": "3",
         "name": "PartitionName",
         "type": "string"
        }
       ],
       "truncated": false
      },
      "wranglerEntryContext": {
       "candidateVariableNames": [
        "df_temp"
       ],
       "dataframeType": "pandas"
      }
     },
     "type": "Synapse.DataFrame"
    },
    "59b6d2fc-8dbb-4368-9cc5-867dab53630a": {
     "persist_state": {
      "view": {
       "chartOptions": {
        "aggregationType": "sum",
        "binsNumber": 10,
        "categoryFieldKeys": [],
        "chartType": "bar",
        "isStacked": false,
        "seriesFieldKeys": [],
        "wordFrequency": "-1"
       },
       "tableOptions": {},
       "type": "details",
       "viewOptionsGroup": [
        {
         "tabItems": [
          {
           "key": "0",
           "name": "Table",
           "options": {},
           "type": "table"
          }
         ]
        }
       ]
      }
     },
     "sync_state": {
      "isSummary": false,
      "language": "python",
      "table": {
       "rows": [],
       "schema": [
        {
         "key": "0",
         "name": "ErrorInformation_errorLocation_positionStart_lineNumber",
         "type": "string"
        },
        {
         "key": "1",
         "name": "DatasetName",
         "type": "string"
        },
        {
         "key": "2",
         "name": "TableName",
         "type": "string"
        },
        {
         "key": "3",
         "name": "PartitionName",
         "type": "string"
        }
       ],
       "truncated": false
      },
      "wranglerEntryContext": {
       "candidateVariableNames": [
        "df_temp"
       ],
       "dataframeType": "pandas"
      }
     },
     "type": "Synapse.DataFrame"
    },
    "59d7f2dc-2a9a-4221-a763-d01983e09876": {
     "persist_state": {
      "view": {
       "chartOptions": {
        "aggregationType": "sum",
        "binsNumber": 10,
        "categoryFieldKeys": [],
        "chartType": "bar",
        "isStacked": false,
        "seriesFieldKeys": [],
        "wordFrequency": "-1"
       },
       "tableOptions": {},
       "type": "details",
       "viewOptionsGroup": [
        {
         "tabItems": [
          {
           "key": "0",
           "name": "Table",
           "options": {},
           "type": "table"
          }
         ]
        }
       ]
      }
     },
     "sync_state": {
      "isSummary": false,
      "language": "python",
      "table": {
       "rows": [],
       "schema": [
        {
         "key": "0",
         "name": "ErrorInformation_errorLocation_positionStart_lineNumber",
         "type": "string"
        },
        {
         "key": "1",
         "name": "DatasetName",
         "type": "string"
        },
        {
         "key": "2",
         "name": "TableName",
         "type": "string"
        },
        {
         "key": "3",
         "name": "PartitionName",
         "type": "string"
        }
       ],
       "truncated": false
      },
      "wranglerEntryContext": {
       "candidateVariableNames": [
        "df_temp"
       ],
       "dataframeType": "pandas"
      }
     },
     "type": "Synapse.DataFrame"
    },
    "5b8aff08-fd8b-40bc-ad73-817ad81e78ad": {
     "persist_state": {
      "view": {
       "chartOptions": {
        "aggregationType": "sum",
        "binsNumber": 10,
        "categoryFieldKeys": [],
        "chartType": "bar",
        "isStacked": false,
        "seriesFieldKeys": [],
        "wordFrequency": "-1"
       },
       "tableOptions": {},
       "type": "details",
       "viewOptionsGroup": [
        {
         "tabItems": [
          {
           "key": "0",
           "name": "Table",
           "options": {},
           "type": "table"
          }
         ]
        }
       ]
      }
     },
     "sync_state": {
      "isSummary": false,
      "language": "python",
      "table": {
       "rows": [],
       "schema": [
        {
         "key": "0",
         "name": "ErrorInformation_errorLocation_positionStart_lineNumber",
         "type": "string"
        },
        {
         "key": "1",
         "name": "DatasetName",
         "type": "string"
        },
        {
         "key": "2",
         "name": "TableName",
         "type": "string"
        },
        {
         "key": "3",
         "name": "PartitionName",
         "type": "string"
        }
       ],
       "truncated": false
      },
      "wranglerEntryContext": {
       "candidateVariableNames": [
        "df_temp"
       ],
       "dataframeType": "pandas"
      }
     },
     "type": "Synapse.DataFrame"
    },
    "5b9eb357-b7ff-455a-8e40-0912253ec38f": {
     "persist_state": {
      "view": {
       "chartOptions": {
        "aggregationType": "sum",
        "binsNumber": 10,
        "categoryFieldKeys": [],
        "chartType": "bar",
        "isStacked": false,
        "seriesFieldKeys": [],
        "wordFrequency": "-1"
       },
       "tableOptions": {},
       "type": "details",
       "viewOptionsGroup": [
        {
         "tabItems": [
          {
           "key": "0",
           "name": "Table",
           "options": {},
           "type": "table"
          }
         ]
        }
       ]
      }
     },
     "sync_state": {
      "isSummary": false,
      "language": "python",
      "table": {
       "rows": [],
       "schema": [
        {
         "key": "0",
         "name": "ErrorInformation_errorLocation_positionStart_lineNumber",
         "type": "string"
        },
        {
         "key": "1",
         "name": "DatasetName",
         "type": "string"
        },
        {
         "key": "2",
         "name": "TableName",
         "type": "string"
        },
        {
         "key": "3",
         "name": "PartitionName",
         "type": "string"
        }
       ],
       "truncated": false
      },
      "wranglerEntryContext": {
       "candidateVariableNames": [
        "df_temp"
       ],
       "dataframeType": "pandas"
      }
     },
     "type": "Synapse.DataFrame"
    },
    "5c49b1ce-ece3-4341-8520-00726b686be1": {
     "persist_state": {
      "view": {
       "chartOptions": {
        "aggregationType": "sum",
        "binsNumber": 10,
        "categoryFieldKeys": [],
        "chartType": "bar",
        "isStacked": false,
        "seriesFieldKeys": [],
        "wordFrequency": "-1"
       },
       "tableOptions": {},
       "type": "details",
       "viewOptionsGroup": [
        {
         "tabItems": [
          {
           "key": "0",
           "name": "Table",
           "options": {},
           "type": "table"
          }
         ]
        }
       ]
      }
     },
     "sync_state": {
      "isSummary": false,
      "language": "python",
      "table": {
       "rows": [],
       "schema": [
        {
         "key": "0",
         "name": "ErrorInformation_errorLocation_positionStart_lineNumber",
         "type": "string"
        },
        {
         "key": "1",
         "name": "DatasetName",
         "type": "string"
        },
        {
         "key": "2",
         "name": "TableName",
         "type": "string"
        },
        {
         "key": "3",
         "name": "PartitionName",
         "type": "string"
        }
       ],
       "truncated": false
      },
      "wranglerEntryContext": {
       "candidateVariableNames": [
        "df_temp"
       ],
       "dataframeType": "pandas"
      }
     },
     "type": "Synapse.DataFrame"
    },
    "5cabc4ca-97f3-45db-bab8-32618532f792": {
     "persist_state": {
      "view": {
       "chartOptions": {
        "aggregationType": "sum",
        "binsNumber": 10,
        "categoryFieldKeys": [],
        "chartType": "bar",
        "isStacked": false,
        "seriesFieldKeys": [],
        "wordFrequency": "-1"
       },
       "tableOptions": {},
       "type": "details",
       "viewOptionsGroup": [
        {
         "tabItems": [
          {
           "key": "0",
           "name": "Table",
           "options": {},
           "type": "table"
          }
         ]
        }
       ]
      }
     },
     "sync_state": {
      "isSummary": false,
      "language": "python",
      "table": {
       "rows": [],
       "schema": [
        {
         "key": "0",
         "name": "ErrorInformation_errorLocation_positionStart_lineNumber",
         "type": "string"
        },
        {
         "key": "1",
         "name": "DatasetName",
         "type": "string"
        },
        {
         "key": "2",
         "name": "TableName",
         "type": "string"
        },
        {
         "key": "3",
         "name": "PartitionName",
         "type": "string"
        }
       ],
       "truncated": false
      },
      "wranglerEntryContext": {
       "candidateVariableNames": [
        "df_temp"
       ],
       "dataframeType": "pandas"
      }
     },
     "type": "Synapse.DataFrame"
    },
    "5d1b177c-04fc-4682-bfa3-34c2807dbb91": {
     "persist_state": {
      "view": {
       "chartOptions": {
        "aggregationType": "sum",
        "binsNumber": 10,
        "categoryFieldKeys": [],
        "chartType": "bar",
        "isStacked": false,
        "seriesFieldKeys": [],
        "wordFrequency": "-1"
       },
       "tableOptions": {},
       "type": "details",
       "viewOptionsGroup": [
        {
         "tabItems": [
          {
           "key": "0",
           "name": "Table",
           "options": {},
           "type": "table"
          }
         ]
        }
       ]
      }
     },
     "sync_state": {
      "isSummary": false,
      "language": "python",
      "table": {
       "rows": [],
       "schema": [
        {
         "key": "0",
         "name": "ErrorInformation_errorLocation_positionStart_lineNumber",
         "type": "string"
        },
        {
         "key": "1",
         "name": "DatasetName",
         "type": "string"
        },
        {
         "key": "2",
         "name": "TableName",
         "type": "string"
        },
        {
         "key": "3",
         "name": "PartitionName",
         "type": "string"
        }
       ],
       "truncated": false
      },
      "wranglerEntryContext": {
       "candidateVariableNames": [
        "df_temp"
       ],
       "dataframeType": "pandas"
      }
     },
     "type": "Synapse.DataFrame"
    },
    "5d8ebf63-3459-4ff5-8efb-9ec56ec1596d": {
     "persist_state": {
      "view": {
       "chartOptions": {
        "aggregationType": "sum",
        "binsNumber": 10,
        "categoryFieldKeys": [],
        "chartType": "bar",
        "isStacked": false,
        "seriesFieldKeys": [],
        "wordFrequency": "-1"
       },
       "tableOptions": {},
       "type": "details",
       "viewOptionsGroup": [
        {
         "tabItems": [
          {
           "key": "0",
           "name": "Table",
           "options": {},
           "type": "table"
          }
         ]
        }
       ]
      }
     },
     "sync_state": {
      "isSummary": false,
      "language": "python",
      "table": {
       "rows": [],
       "schema": [
        {
         "key": "0",
         "name": "ErrorInformation_errorLocation_positionStart_lineNumber",
         "type": "string"
        },
        {
         "key": "1",
         "name": "DatasetName",
         "type": "string"
        },
        {
         "key": "2",
         "name": "TableName",
         "type": "string"
        },
        {
         "key": "3",
         "name": "PartitionName",
         "type": "string"
        }
       ],
       "truncated": false
      },
      "wranglerEntryContext": {
       "candidateVariableNames": [
        "df_temp"
       ],
       "dataframeType": "pandas"
      }
     },
     "type": "Synapse.DataFrame"
    },
    "5f191318-2fe4-40c1-aa41-d40fe53d9876": {
     "persist_state": {
      "view": {
       "chartOptions": {
        "aggregationType": "sum",
        "binsNumber": 10,
        "categoryFieldKeys": [],
        "chartType": "bar",
        "isStacked": false,
        "seriesFieldKeys": [],
        "wordFrequency": "-1"
       },
       "tableOptions": {},
       "type": "details",
       "viewOptionsGroup": [
        {
         "tabItems": [
          {
           "key": "0",
           "name": "Table",
           "options": {},
           "type": "table"
          }
         ]
        }
       ]
      }
     },
     "sync_state": {
      "isSummary": false,
      "language": "python",
      "table": {
       "rows": [],
       "schema": [
        {
         "key": "0",
         "name": "ErrorInformation_errorLocation_positionStart_lineNumber",
         "type": "string"
        },
        {
         "key": "1",
         "name": "DatasetName",
         "type": "string"
        },
        {
         "key": "2",
         "name": "TableName",
         "type": "string"
        },
        {
         "key": "3",
         "name": "PartitionName",
         "type": "string"
        }
       ],
       "truncated": false
      },
      "wranglerEntryContext": {
       "candidateVariableNames": [
        "df_temp"
       ],
       "dataframeType": "pandas"
      }
     },
     "type": "Synapse.DataFrame"
    },
    "5f72ed90-4961-4cd0-a083-a28126dc9c49": {
     "persist_state": {
      "view": {
       "chartOptions": {
        "aggregationType": "sum",
        "binsNumber": 10,
        "categoryFieldKeys": [],
        "chartType": "bar",
        "isStacked": false,
        "seriesFieldKeys": [],
        "wordFrequency": "-1"
       },
       "tableOptions": {},
       "type": "details",
       "viewOptionsGroup": [
        {
         "tabItems": [
          {
           "key": "0",
           "name": "Table",
           "options": {},
           "type": "table"
          }
         ]
        }
       ]
      }
     },
     "sync_state": {
      "isSummary": false,
      "language": "python",
      "table": {
       "rows": [],
       "schema": [
        {
         "key": "0",
         "name": "ErrorInformation_errorLocation_positionStart_lineNumber",
         "type": "string"
        },
        {
         "key": "1",
         "name": "DatasetName",
         "type": "string"
        },
        {
         "key": "2",
         "name": "TableName",
         "type": "string"
        },
        {
         "key": "3",
         "name": "PartitionName",
         "type": "string"
        }
       ],
       "truncated": false
      },
      "wranglerEntryContext": {
       "candidateVariableNames": [
        "df_temp"
       ],
       "dataframeType": "pandas"
      }
     },
     "type": "Synapse.DataFrame"
    },
    "6050792b-5cf1-4327-a6ff-01b4230940d3": {
     "persist_state": {
      "view": {
       "chartOptions": {
        "aggregationType": "sum",
        "binsNumber": 10,
        "categoryFieldKeys": [],
        "chartType": "bar",
        "isStacked": false,
        "seriesFieldKeys": [],
        "wordFrequency": "-1"
       },
       "tableOptions": {},
       "type": "details",
       "viewOptionsGroup": [
        {
         "tabItems": [
          {
           "key": "0",
           "name": "Table",
           "options": {},
           "type": "table"
          }
         ]
        }
       ]
      }
     },
     "sync_state": {
      "isSummary": false,
      "language": "python",
      "table": {
       "rows": [],
       "schema": [
        {
         "key": "0",
         "name": "ErrorInformation_errorLocation_positionStart_lineNumber",
         "type": "string"
        },
        {
         "key": "1",
         "name": "DatasetName",
         "type": "string"
        },
        {
         "key": "2",
         "name": "TableName",
         "type": "string"
        },
        {
         "key": "3",
         "name": "PartitionName",
         "type": "string"
        }
       ],
       "truncated": false
      },
      "wranglerEntryContext": {
       "candidateVariableNames": [
        "df_temp"
       ],
       "dataframeType": "pandas"
      }
     },
     "type": "Synapse.DataFrame"
    },
    "606566c8-4585-432d-85da-9774dbebf7ab": {
     "persist_state": {
      "view": {
       "chartOptions": {
        "aggregationType": "sum",
        "binsNumber": 10,
        "categoryFieldKeys": [],
        "chartType": "bar",
        "isStacked": false,
        "seriesFieldKeys": [],
        "wordFrequency": "-1"
       },
       "tableOptions": {},
       "type": "details",
       "viewOptionsGroup": [
        {
         "tabItems": [
          {
           "key": "0",
           "name": "Table",
           "options": {},
           "type": "table"
          }
         ]
        }
       ]
      }
     },
     "sync_state": {
      "isSummary": false,
      "language": "python",
      "table": {
       "rows": [],
       "schema": [
        {
         "key": "0",
         "name": "ErrorInformation_errorLocation_positionStart_lineNumber",
         "type": "string"
        },
        {
         "key": "1",
         "name": "DatasetName",
         "type": "string"
        },
        {
         "key": "2",
         "name": "TableName",
         "type": "string"
        },
        {
         "key": "3",
         "name": "PartitionName",
         "type": "string"
        }
       ],
       "truncated": false
      },
      "wranglerEntryContext": {
       "candidateVariableNames": [
        "df_temp"
       ],
       "dataframeType": "pandas"
      }
     },
     "type": "Synapse.DataFrame"
    },
    "611f6467-ca7d-401f-8157-9d80dcd896dc": {
     "persist_state": {
      "view": {
       "chartOptions": {
        "aggregationType": "sum",
        "binsNumber": 10,
        "categoryFieldKeys": [],
        "chartType": "bar",
        "isStacked": false,
        "seriesFieldKeys": [],
        "wordFrequency": "-1"
       },
       "tableOptions": {},
       "type": "details",
       "viewOptionsGroup": [
        {
         "tabItems": [
          {
           "key": "0",
           "name": "Table",
           "options": {},
           "type": "table"
          }
         ]
        }
       ]
      }
     },
     "sync_state": {
      "isSummary": false,
      "language": "python",
      "table": {
       "rows": [],
       "schema": [
        {
         "key": "0",
         "name": "ErrorInformation_errorLocation_positionStart_lineNumber",
         "type": "string"
        },
        {
         "key": "1",
         "name": "DatasetName",
         "type": "string"
        },
        {
         "key": "2",
         "name": "TableName",
         "type": "string"
        },
        {
         "key": "3",
         "name": "PartitionName",
         "type": "string"
        }
       ],
       "truncated": false
      },
      "wranglerEntryContext": {
       "candidateVariableNames": [
        "df_temp"
       ],
       "dataframeType": "pandas"
      }
     },
     "type": "Synapse.DataFrame"
    },
    "6175a19d-2aa5-4b24-b40f-bd207cb035fc": {
     "persist_state": {
      "view": {
       "chartOptions": {
        "aggregationType": "sum",
        "binsNumber": 10,
        "categoryFieldKeys": [],
        "chartType": "bar",
        "isStacked": false,
        "seriesFieldKeys": [],
        "wordFrequency": "-1"
       },
       "tableOptions": {},
       "type": "details",
       "viewOptionsGroup": [
        {
         "tabItems": [
          {
           "key": "0",
           "name": "Table",
           "options": {},
           "type": "table"
          }
         ]
        }
       ]
      }
     },
     "sync_state": {
      "isSummary": false,
      "language": "python",
      "table": {
       "rows": [],
       "schema": [
        {
         "key": "0",
         "name": "ErrorInformation_errorLocation_positionStart_lineNumber",
         "type": "string"
        },
        {
         "key": "1",
         "name": "DatasetName",
         "type": "string"
        },
        {
         "key": "2",
         "name": "TableName",
         "type": "string"
        },
        {
         "key": "3",
         "name": "PartitionName",
         "type": "string"
        }
       ],
       "truncated": false
      },
      "wranglerEntryContext": {
       "candidateVariableNames": [
        "df_temp"
       ],
       "dataframeType": "pandas"
      }
     },
     "type": "Synapse.DataFrame"
    },
    "61d07a8b-d9c5-44c1-a454-566d124a7f1b": {
     "persist_state": {
      "view": {
       "chartOptions": {
        "aggregationType": "sum",
        "binsNumber": 10,
        "categoryFieldKeys": [],
        "chartType": "bar",
        "isStacked": false,
        "seriesFieldKeys": [],
        "wordFrequency": "-1"
       },
       "tableOptions": {},
       "type": "details",
       "viewOptionsGroup": [
        {
         "tabItems": [
          {
           "key": "0",
           "name": "Table",
           "options": {},
           "type": "table"
          }
         ]
        }
       ]
      }
     },
     "sync_state": {
      "isSummary": false,
      "language": "python",
      "table": {
       "rows": [],
       "schema": [
        {
         "key": "0",
         "name": "ErrorInformation_errorLocation_positionStart_lineNumber",
         "type": "string"
        },
        {
         "key": "1",
         "name": "DatasetName",
         "type": "string"
        },
        {
         "key": "2",
         "name": "TableName",
         "type": "string"
        },
        {
         "key": "3",
         "name": "PartitionName",
         "type": "string"
        }
       ],
       "truncated": false
      },
      "wranglerEntryContext": {
       "candidateVariableNames": [
        "df_temp"
       ],
       "dataframeType": "pandas"
      }
     },
     "type": "Synapse.DataFrame"
    },
    "6222df6d-c791-4304-a589-66f7a23eab03": {
     "persist_state": {
      "view": {
       "chartOptions": {
        "aggregationType": "sum",
        "binsNumber": 10,
        "categoryFieldKeys": [],
        "chartType": "bar",
        "isStacked": false,
        "seriesFieldKeys": [],
        "wordFrequency": "-1"
       },
       "tableOptions": {},
       "type": "details",
       "viewOptionsGroup": [
        {
         "tabItems": [
          {
           "key": "0",
           "name": "Table",
           "options": {},
           "type": "table"
          }
         ]
        }
       ]
      }
     },
     "sync_state": {
      "isSummary": false,
      "language": "python",
      "table": {
       "rows": [],
       "schema": [
        {
         "key": "0",
         "name": "ErrorInformation_errorLocation_positionStart_lineNumber",
         "type": "string"
        },
        {
         "key": "1",
         "name": "DatasetName",
         "type": "string"
        },
        {
         "key": "2",
         "name": "TableName",
         "type": "string"
        },
        {
         "key": "3",
         "name": "PartitionName",
         "type": "string"
        }
       ],
       "truncated": false
      },
      "wranglerEntryContext": {
       "candidateVariableNames": [
        "df_temp"
       ],
       "dataframeType": "pandas"
      }
     },
     "type": "Synapse.DataFrame"
    },
    "6454cc9d-0b77-4bb5-abfc-3ed32c2260f7": {
     "persist_state": {
      "view": {
       "chartOptions": {
        "aggregationType": "sum",
        "binsNumber": 10,
        "categoryFieldKeys": [],
        "chartType": "bar",
        "isStacked": false,
        "seriesFieldKeys": [],
        "wordFrequency": "-1"
       },
       "tableOptions": {},
       "type": "details",
       "viewOptionsGroup": [
        {
         "tabItems": [
          {
           "key": "0",
           "name": "Table",
           "options": {},
           "type": "table"
          }
         ]
        }
       ]
      }
     },
     "sync_state": {
      "isSummary": false,
      "language": "python",
      "table": {
       "rows": [],
       "schema": [
        {
         "key": "0",
         "name": "ErrorInformation_errorLocation_positionStart_lineNumber",
         "type": "string"
        },
        {
         "key": "1",
         "name": "DatasetName",
         "type": "string"
        },
        {
         "key": "2",
         "name": "TableName",
         "type": "string"
        },
        {
         "key": "3",
         "name": "PartitionName",
         "type": "string"
        }
       ],
       "truncated": false
      },
      "wranglerEntryContext": {
       "candidateVariableNames": [
        "df_temp"
       ],
       "dataframeType": "pandas"
      }
     },
     "type": "Synapse.DataFrame"
    },
    "66ce371a-f6e9-494a-9798-69925da5b3d8": {
     "persist_state": {
      "view": {
       "chartOptions": {
        "aggregationType": "sum",
        "binsNumber": 10,
        "categoryFieldKeys": [],
        "chartType": "bar",
        "isStacked": false,
        "seriesFieldKeys": [],
        "wordFrequency": "-1"
       },
       "tableOptions": {},
       "type": "details",
       "viewOptionsGroup": [
        {
         "tabItems": [
          {
           "key": "0",
           "name": "Table",
           "options": {},
           "type": "table"
          }
         ]
        }
       ]
      }
     },
     "sync_state": {
      "isSummary": false,
      "language": "python",
      "table": {
       "rows": [],
       "schema": [
        {
         "key": "0",
         "name": "ErrorInformation_errorLocation_positionStart_lineNumber",
         "type": "string"
        },
        {
         "key": "1",
         "name": "DatasetName",
         "type": "string"
        },
        {
         "key": "2",
         "name": "TableName",
         "type": "string"
        },
        {
         "key": "3",
         "name": "PartitionName",
         "type": "string"
        }
       ],
       "truncated": false
      },
      "wranglerEntryContext": {
       "candidateVariableNames": [
        "df_temp"
       ],
       "dataframeType": "pandas"
      }
     },
     "type": "Synapse.DataFrame"
    },
    "671fec89-1360-43da-a364-148536e489d6": {
     "persist_state": {
      "view": {
       "chartOptions": {
        "aggregationType": "sum",
        "binsNumber": 10,
        "categoryFieldKeys": [],
        "chartType": "bar",
        "isStacked": false,
        "seriesFieldKeys": [],
        "wordFrequency": "-1"
       },
       "tableOptions": {},
       "type": "details",
       "viewOptionsGroup": [
        {
         "tabItems": [
          {
           "key": "0",
           "name": "Table",
           "options": {},
           "type": "table"
          }
         ]
        }
       ]
      }
     },
     "sync_state": {
      "isSummary": false,
      "language": "python",
      "table": {
       "rows": [],
       "schema": [
        {
         "key": "0",
         "name": "ErrorInformation_errorLocation_positionStart_lineNumber",
         "type": "string"
        },
        {
         "key": "1",
         "name": "DatasetName",
         "type": "string"
        },
        {
         "key": "2",
         "name": "TableName",
         "type": "string"
        },
        {
         "key": "3",
         "name": "PartitionName",
         "type": "string"
        }
       ],
       "truncated": false
      },
      "wranglerEntryContext": {
       "candidateVariableNames": [
        "df_temp"
       ],
       "dataframeType": "pandas"
      }
     },
     "type": "Synapse.DataFrame"
    },
    "675f854b-d6d8-43a6-83aa-f3d3393b39e3": {
     "persist_state": {
      "view": {
       "chartOptions": {
        "aggregationType": "sum",
        "binsNumber": 10,
        "categoryFieldKeys": [],
        "chartType": "bar",
        "isStacked": false,
        "seriesFieldKeys": [],
        "wordFrequency": "-1"
       },
       "tableOptions": {},
       "type": "details",
       "viewOptionsGroup": [
        {
         "tabItems": [
          {
           "key": "0",
           "name": "Table",
           "options": {},
           "type": "table"
          }
         ]
        }
       ]
      }
     },
     "sync_state": {
      "isSummary": false,
      "language": "python",
      "table": {
       "rows": [],
       "schema": [
        {
         "key": "0",
         "name": "ErrorInformation_errorLocation_positionStart_lineNumber",
         "type": "string"
        },
        {
         "key": "1",
         "name": "DatasetName",
         "type": "string"
        },
        {
         "key": "2",
         "name": "TableName",
         "type": "string"
        },
        {
         "key": "3",
         "name": "PartitionName",
         "type": "string"
        }
       ],
       "truncated": false
      },
      "wranglerEntryContext": {
       "candidateVariableNames": [
        "df_temp"
       ],
       "dataframeType": "pandas"
      }
     },
     "type": "Synapse.DataFrame"
    },
    "69bd12e5-6fa0-49cb-a0b2-059a83bcbb30": {
     "persist_state": {
      "view": {
       "chartOptions": {
        "aggregationType": "sum",
        "binsNumber": 10,
        "categoryFieldKeys": [],
        "chartType": "bar",
        "isStacked": false,
        "seriesFieldKeys": [],
        "wordFrequency": "-1"
       },
       "tableOptions": {},
       "type": "details",
       "viewOptionsGroup": [
        {
         "tabItems": [
          {
           "key": "0",
           "name": "Table",
           "options": {},
           "type": "table"
          }
         ]
        }
       ]
      }
     },
     "sync_state": {
      "isSummary": false,
      "language": "python",
      "table": {
       "rows": [],
       "schema": [
        {
         "key": "0",
         "name": "ErrorInformation_errorLocation_positionStart_lineNumber",
         "type": "string"
        },
        {
         "key": "1",
         "name": "DatasetName",
         "type": "string"
        },
        {
         "key": "2",
         "name": "TableName",
         "type": "string"
        },
        {
         "key": "3",
         "name": "PartitionName",
         "type": "string"
        }
       ],
       "truncated": false
      },
      "wranglerEntryContext": {
       "candidateVariableNames": [
        "df_temp"
       ],
       "dataframeType": "pandas"
      }
     },
     "type": "Synapse.DataFrame"
    },
    "6aacb463-125f-4df5-bfd0-9ac6623fae6a": {
     "persist_state": {
      "view": {
       "chartOptions": {
        "aggregationType": "sum",
        "binsNumber": 10,
        "categoryFieldKeys": [],
        "chartType": "bar",
        "isStacked": false,
        "seriesFieldKeys": [],
        "wordFrequency": "-1"
       },
       "tableOptions": {},
       "type": "details",
       "viewOptionsGroup": [
        {
         "tabItems": [
          {
           "key": "0",
           "name": "Table",
           "options": {},
           "type": "table"
          }
         ]
        }
       ]
      }
     },
     "sync_state": {
      "isSummary": false,
      "language": "python",
      "table": {
       "rows": [],
       "schema": [
        {
         "key": "0",
         "name": "ErrorInformation_errorLocation_positionStart_lineNumber",
         "type": "string"
        },
        {
         "key": "1",
         "name": "DatasetName",
         "type": "string"
        },
        {
         "key": "2",
         "name": "TableName",
         "type": "string"
        },
        {
         "key": "3",
         "name": "PartitionName",
         "type": "string"
        }
       ],
       "truncated": false
      },
      "wranglerEntryContext": {
       "candidateVariableNames": [
        "df_temp"
       ],
       "dataframeType": "pandas"
      }
     },
     "type": "Synapse.DataFrame"
    },
    "6bb009a1-fd4c-42a2-b70d-d3fb4e25e92c": {
     "persist_state": {
      "view": {
       "chartOptions": {
        "aggregationType": "sum",
        "binsNumber": 10,
        "categoryFieldKeys": [],
        "chartType": "bar",
        "isStacked": false,
        "seriesFieldKeys": [],
        "wordFrequency": "-1"
       },
       "tableOptions": {},
       "type": "details",
       "viewOptionsGroup": [
        {
         "tabItems": [
          {
           "key": "0",
           "name": "Table",
           "options": {},
           "type": "table"
          }
         ]
        }
       ]
      }
     },
     "sync_state": {
      "isSummary": false,
      "language": "python",
      "table": {
       "rows": [],
       "schema": [
        {
         "key": "0",
         "name": "ErrorInformation_errorLocation_positionStart_lineNumber",
         "type": "string"
        },
        {
         "key": "1",
         "name": "DatasetName",
         "type": "string"
        },
        {
         "key": "2",
         "name": "TableName",
         "type": "string"
        },
        {
         "key": "3",
         "name": "PartitionName",
         "type": "string"
        }
       ],
       "truncated": false
      },
      "wranglerEntryContext": {
       "candidateVariableNames": [
        "df_temp"
       ],
       "dataframeType": "pandas"
      }
     },
     "type": "Synapse.DataFrame"
    },
    "6c094a59-6697-4800-936f-3f426c69bf38": {
     "persist_state": {
      "view": {
       "chartOptions": {
        "aggregationType": "sum",
        "binsNumber": 10,
        "categoryFieldKeys": [],
        "chartType": "bar",
        "isStacked": false,
        "seriesFieldKeys": [],
        "wordFrequency": "-1"
       },
       "tableOptions": {},
       "type": "details",
       "viewOptionsGroup": [
        {
         "tabItems": [
          {
           "key": "0",
           "name": "Table",
           "options": {},
           "type": "table"
          }
         ]
        }
       ]
      }
     },
     "sync_state": {
      "isSummary": false,
      "language": "python",
      "table": {
       "rows": [],
       "schema": [
        {
         "key": "0",
         "name": "ErrorInformation_errorLocation_positionStart_lineNumber",
         "type": "string"
        },
        {
         "key": "1",
         "name": "DatasetName",
         "type": "string"
        },
        {
         "key": "2",
         "name": "TableName",
         "type": "string"
        },
        {
         "key": "3",
         "name": "PartitionName",
         "type": "string"
        }
       ],
       "truncated": false
      },
      "wranglerEntryContext": {
       "candidateVariableNames": [
        "df_temp"
       ],
       "dataframeType": "pandas"
      }
     },
     "type": "Synapse.DataFrame"
    },
    "6c5f95c6-6e7a-47e3-9934-375e90f596a9": {
     "persist_state": {
      "view": {
       "chartOptions": {
        "aggregationType": "sum",
        "binsNumber": 10,
        "categoryFieldKeys": [],
        "chartType": "bar",
        "isStacked": false,
        "seriesFieldKeys": [],
        "wordFrequency": "-1"
       },
       "tableOptions": {},
       "type": "details",
       "viewOptionsGroup": [
        {
         "tabItems": [
          {
           "key": "0",
           "name": "Table",
           "options": {},
           "type": "table"
          }
         ]
        }
       ]
      }
     },
     "sync_state": {
      "isSummary": false,
      "language": "python",
      "table": {
       "rows": [],
       "schema": [
        {
         "key": "0",
         "name": "ErrorInformation_errorLocation_positionStart_lineNumber",
         "type": "string"
        },
        {
         "key": "1",
         "name": "DatasetName",
         "type": "string"
        },
        {
         "key": "2",
         "name": "TableName",
         "type": "string"
        },
        {
         "key": "3",
         "name": "PartitionName",
         "type": "string"
        }
       ],
       "truncated": false
      },
      "wranglerEntryContext": {
       "candidateVariableNames": [
        "df_temp"
       ],
       "dataframeType": "pandas"
      }
     },
     "type": "Synapse.DataFrame"
    },
    "6c9a2cdb-7283-4931-aad7-f6bbe0510e4c": {
     "persist_state": {
      "view": {
       "chartOptions": {
        "aggregationType": "sum",
        "binsNumber": 10,
        "categoryFieldKeys": [],
        "chartType": "bar",
        "isStacked": false,
        "seriesFieldKeys": [],
        "wordFrequency": "-1"
       },
       "tableOptions": {},
       "type": "details",
       "viewOptionsGroup": [
        {
         "tabItems": [
          {
           "key": "0",
           "name": "Table",
           "options": {},
           "type": "table"
          }
         ]
        }
       ]
      }
     },
     "sync_state": {
      "isSummary": false,
      "language": "python",
      "table": {
       "rows": [],
       "schema": [
        {
         "key": "0",
         "name": "ErrorInformation_errorLocation_positionStart_lineNumber",
         "type": "string"
        },
        {
         "key": "1",
         "name": "DatasetName",
         "type": "string"
        },
        {
         "key": "2",
         "name": "TableName",
         "type": "string"
        },
        {
         "key": "3",
         "name": "PartitionName",
         "type": "string"
        }
       ],
       "truncated": false
      },
      "wranglerEntryContext": {
       "candidateVariableNames": [
        "df_temp"
       ],
       "dataframeType": "pandas"
      }
     },
     "type": "Synapse.DataFrame"
    },
    "6f24634b-f0d6-4955-a16c-5aa6ec722ed4": {
     "persist_state": {
      "view": {
       "chartOptions": {
        "aggregationType": "sum",
        "binsNumber": 10,
        "categoryFieldKeys": [],
        "chartType": "bar",
        "isStacked": false,
        "seriesFieldKeys": [],
        "wordFrequency": "-1"
       },
       "tableOptions": {},
       "type": "details",
       "viewOptionsGroup": [
        {
         "tabItems": [
          {
           "key": "0",
           "name": "Table",
           "options": {},
           "type": "table"
          }
         ]
        }
       ]
      }
     },
     "sync_state": {
      "isSummary": false,
      "language": "python",
      "table": {
       "rows": [],
       "schema": [
        {
         "key": "0",
         "name": "ErrorInformation_errorLocation_positionStart_lineNumber",
         "type": "string"
        },
        {
         "key": "1",
         "name": "DatasetName",
         "type": "string"
        },
        {
         "key": "2",
         "name": "TableName",
         "type": "string"
        },
        {
         "key": "3",
         "name": "PartitionName",
         "type": "string"
        }
       ],
       "truncated": false
      },
      "wranglerEntryContext": {
       "candidateVariableNames": [
        "df_temp"
       ],
       "dataframeType": "pandas"
      }
     },
     "type": "Synapse.DataFrame"
    },
    "70ec696e-4594-49c2-bdfe-e99550947398": {
     "persist_state": {
      "view": {
       "chartOptions": {
        "aggregationType": "sum",
        "binsNumber": 10,
        "categoryFieldKeys": [],
        "chartType": "bar",
        "isStacked": false,
        "seriesFieldKeys": [],
        "wordFrequency": "-1"
       },
       "tableOptions": {},
       "type": "details",
       "viewOptionsGroup": [
        {
         "tabItems": [
          {
           "key": "0",
           "name": "Table",
           "options": {},
           "type": "table"
          }
         ]
        }
       ]
      }
     },
     "sync_state": {
      "isSummary": false,
      "language": "python",
      "table": {
       "rows": [],
       "schema": [
        {
         "key": "0",
         "name": "ErrorInformation_errorLocation_positionStart_lineNumber",
         "type": "string"
        },
        {
         "key": "1",
         "name": "DatasetName",
         "type": "string"
        },
        {
         "key": "2",
         "name": "TableName",
         "type": "string"
        },
        {
         "key": "3",
         "name": "PartitionName",
         "type": "string"
        }
       ],
       "truncated": false
      },
      "wranglerEntryContext": {
       "candidateVariableNames": [
        "df_temp"
       ],
       "dataframeType": "pandas"
      }
     },
     "type": "Synapse.DataFrame"
    },
    "7152b342-7fb7-4a83-a158-eb79eef52f5e": {
     "persist_state": {
      "view": {
       "chartOptions": {
        "aggregationType": "sum",
        "binsNumber": 10,
        "categoryFieldKeys": [],
        "chartType": "bar",
        "isStacked": false,
        "seriesFieldKeys": [],
        "wordFrequency": "-1"
       },
       "tableOptions": {},
       "type": "details",
       "viewOptionsGroup": [
        {
         "tabItems": [
          {
           "key": "0",
           "name": "Table",
           "options": {},
           "type": "table"
          }
         ]
        }
       ]
      }
     },
     "sync_state": {
      "isSummary": false,
      "language": "python",
      "table": {
       "rows": [],
       "schema": [
        {
         "key": "0",
         "name": "ErrorInformation_errorLocation_positionStart_lineNumber",
         "type": "string"
        },
        {
         "key": "1",
         "name": "DatasetName",
         "type": "string"
        },
        {
         "key": "2",
         "name": "TableName",
         "type": "string"
        },
        {
         "key": "3",
         "name": "PartitionName",
         "type": "string"
        }
       ],
       "truncated": false
      },
      "wranglerEntryContext": {
       "candidateVariableNames": [
        "df_temp"
       ],
       "dataframeType": "pandas"
      }
     },
     "type": "Synapse.DataFrame"
    },
    "715ca182-1737-4ef3-855c-f108cdc26dcb": {
     "persist_state": {
      "view": {
       "chartOptions": {
        "aggregationType": "sum",
        "binsNumber": 10,
        "categoryFieldKeys": [],
        "chartType": "bar",
        "isStacked": false,
        "seriesFieldKeys": [],
        "wordFrequency": "-1"
       },
       "tableOptions": {},
       "type": "details",
       "viewOptionsGroup": [
        {
         "tabItems": [
          {
           "key": "0",
           "name": "Table",
           "options": {},
           "type": "table"
          }
         ]
        }
       ]
      }
     },
     "sync_state": {
      "isSummary": false,
      "language": "python",
      "table": {
       "rows": [],
       "schema": [
        {
         "key": "0",
         "name": "ErrorInformation_errorLocation_positionStart_lineNumber",
         "type": "string"
        },
        {
         "key": "1",
         "name": "DatasetName",
         "type": "string"
        },
        {
         "key": "2",
         "name": "TableName",
         "type": "string"
        },
        {
         "key": "3",
         "name": "PartitionName",
         "type": "string"
        }
       ],
       "truncated": false
      },
      "wranglerEntryContext": {
       "candidateVariableNames": [
        "df_temp"
       ],
       "dataframeType": "pandas"
      }
     },
     "type": "Synapse.DataFrame"
    },
    "71eef7ef-e65d-4e8c-846f-47452ea0fc87": {
     "persist_state": {
      "view": {
       "chartOptions": {
        "aggregationType": "sum",
        "binsNumber": 10,
        "categoryFieldKeys": [],
        "chartType": "bar",
        "isStacked": false,
        "seriesFieldKeys": [],
        "wordFrequency": "-1"
       },
       "tableOptions": {},
       "type": "details",
       "viewOptionsGroup": [
        {
         "tabItems": [
          {
           "key": "0",
           "name": "Table",
           "options": {},
           "type": "table"
          }
         ]
        }
       ]
      }
     },
     "sync_state": {
      "isSummary": false,
      "language": "python",
      "table": {
       "rows": [],
       "schema": [
        {
         "key": "0",
         "name": "ErrorInformation_errorLocation_positionStart_lineNumber",
         "type": "string"
        },
        {
         "key": "1",
         "name": "DatasetName",
         "type": "string"
        },
        {
         "key": "2",
         "name": "TableName",
         "type": "string"
        },
        {
         "key": "3",
         "name": "PartitionName",
         "type": "string"
        }
       ],
       "truncated": false
      },
      "wranglerEntryContext": {
       "candidateVariableNames": [
        "df_temp"
       ],
       "dataframeType": "pandas"
      }
     },
     "type": "Synapse.DataFrame"
    },
    "744de13f-5246-4d11-a2cf-c1a954f88b93": {
     "persist_state": {
      "view": {
       "chartOptions": {
        "aggregationType": "sum",
        "binsNumber": 10,
        "categoryFieldKeys": [],
        "chartType": "bar",
        "isStacked": false,
        "seriesFieldKeys": [],
        "wordFrequency": "-1"
       },
       "tableOptions": {},
       "type": "details",
       "viewOptionsGroup": [
        {
         "tabItems": [
          {
           "key": "0",
           "name": "Table",
           "options": {},
           "type": "table"
          }
         ]
        }
       ]
      }
     },
     "sync_state": {
      "isSummary": false,
      "language": "python",
      "table": {
       "rows": [],
       "schema": [
        {
         "key": "0",
         "name": "ErrorInformation_errorLocation_positionStart_lineNumber",
         "type": "string"
        },
        {
         "key": "1",
         "name": "DatasetName",
         "type": "string"
        },
        {
         "key": "2",
         "name": "TableName",
         "type": "string"
        },
        {
         "key": "3",
         "name": "PartitionName",
         "type": "string"
        }
       ],
       "truncated": false
      },
      "wranglerEntryContext": {
       "candidateVariableNames": [
        "df_temp"
       ],
       "dataframeType": "pandas"
      }
     },
     "type": "Synapse.DataFrame"
    },
    "74dc39eb-b6be-49be-a785-41aab7b0956b": {
     "persist_state": {
      "view": {
       "chartOptions": {
        "aggregationType": "sum",
        "binsNumber": 10,
        "categoryFieldKeys": [],
        "chartType": "bar",
        "isStacked": false,
        "seriesFieldKeys": [],
        "wordFrequency": "-1"
       },
       "tableOptions": {},
       "type": "details",
       "viewOptionsGroup": [
        {
         "tabItems": [
          {
           "key": "0",
           "name": "Table",
           "options": {},
           "type": "table"
          }
         ]
        }
       ]
      }
     },
     "sync_state": {
      "isSummary": false,
      "language": "python",
      "table": {
       "rows": [],
       "schema": [
        {
         "key": "0",
         "name": "ErrorInformation_errorLocation_positionStart_lineNumber",
         "type": "string"
        },
        {
         "key": "1",
         "name": "DatasetName",
         "type": "string"
        },
        {
         "key": "2",
         "name": "TableName",
         "type": "string"
        },
        {
         "key": "3",
         "name": "PartitionName",
         "type": "string"
        }
       ],
       "truncated": false
      },
      "wranglerEntryContext": {
       "candidateVariableNames": [
        "df_temp"
       ],
       "dataframeType": "pandas"
      }
     },
     "type": "Synapse.DataFrame"
    },
    "7602e1b6-7811-430d-a8c0-3df3aa9a2b67": {
     "persist_state": {
      "view": {
       "chartOptions": {
        "aggregationType": "sum",
        "binsNumber": 10,
        "categoryFieldKeys": [],
        "chartType": "bar",
        "isStacked": false,
        "seriesFieldKeys": [],
        "wordFrequency": "-1"
       },
       "tableOptions": {},
       "type": "details",
       "viewOptionsGroup": [
        {
         "tabItems": [
          {
           "key": "0",
           "name": "Table",
           "options": {},
           "type": "table"
          }
         ]
        }
       ]
      }
     },
     "sync_state": {
      "isSummary": false,
      "language": "python",
      "table": {
       "rows": [],
       "schema": [
        {
         "key": "0",
         "name": "ErrorInformation_errorLocation_positionStart_lineNumber",
         "type": "string"
        },
        {
         "key": "1",
         "name": "DatasetName",
         "type": "string"
        },
        {
         "key": "2",
         "name": "TableName",
         "type": "string"
        },
        {
         "key": "3",
         "name": "PartitionName",
         "type": "string"
        }
       ],
       "truncated": false
      },
      "wranglerEntryContext": {
       "candidateVariableNames": [
        "df_temp"
       ],
       "dataframeType": "pandas"
      }
     },
     "type": "Synapse.DataFrame"
    },
    "7731dada-3c15-4523-a4ff-40cfdce7f84a": {
     "persist_state": {
      "view": {
       "chartOptions": {
        "aggregationType": "sum",
        "binsNumber": 10,
        "categoryFieldKeys": [],
        "chartType": "bar",
        "isStacked": false,
        "seriesFieldKeys": [],
        "wordFrequency": "-1"
       },
       "tableOptions": {},
       "type": "details",
       "viewOptionsGroup": [
        {
         "tabItems": [
          {
           "key": "0",
           "name": "Table",
           "options": {},
           "type": "table"
          }
         ]
        }
       ]
      }
     },
     "sync_state": {
      "isSummary": false,
      "language": "python",
      "table": {
       "rows": [],
       "schema": [
        {
         "key": "0",
         "name": "ErrorInformation_errorLocation_positionStart_lineNumber",
         "type": "string"
        },
        {
         "key": "1",
         "name": "DatasetName",
         "type": "string"
        },
        {
         "key": "2",
         "name": "TableName",
         "type": "string"
        },
        {
         "key": "3",
         "name": "PartitionName",
         "type": "string"
        }
       ],
       "truncated": false
      },
      "wranglerEntryContext": {
       "candidateVariableNames": [
        "df_temp"
       ],
       "dataframeType": "pandas"
      }
     },
     "type": "Synapse.DataFrame"
    },
    "77871dc8-f4d2-4e18-b087-ed09940f89dc": {
     "persist_state": {
      "view": {
       "chartOptions": {
        "aggregationType": "sum",
        "binsNumber": 10,
        "categoryFieldKeys": [],
        "chartType": "bar",
        "isStacked": false,
        "seriesFieldKeys": [],
        "wordFrequency": "-1"
       },
       "tableOptions": {},
       "type": "details",
       "viewOptionsGroup": [
        {
         "tabItems": [
          {
           "key": "0",
           "name": "Table",
           "options": {},
           "type": "table"
          }
         ]
        }
       ]
      }
     },
     "sync_state": {
      "isSummary": false,
      "language": "python",
      "table": {
       "rows": [],
       "schema": [
        {
         "key": "0",
         "name": "ErrorInformation_errorLocation_positionStart_lineNumber",
         "type": "string"
        },
        {
         "key": "1",
         "name": "DatasetName",
         "type": "string"
        },
        {
         "key": "2",
         "name": "TableName",
         "type": "string"
        },
        {
         "key": "3",
         "name": "PartitionName",
         "type": "string"
        }
       ],
       "truncated": false
      },
      "wranglerEntryContext": {
       "candidateVariableNames": [
        "df_temp"
       ],
       "dataframeType": "pandas"
      }
     },
     "type": "Synapse.DataFrame"
    },
    "7a0e27a8-0e77-4307-bd41-0ecad64c4b71": {
     "persist_state": {
      "view": {
       "chartOptions": {
        "aggregationType": "sum",
        "binsNumber": 10,
        "categoryFieldKeys": [],
        "chartType": "bar",
        "isStacked": false,
        "seriesFieldKeys": [],
        "wordFrequency": "-1"
       },
       "tableOptions": {},
       "type": "details",
       "viewOptionsGroup": [
        {
         "tabItems": [
          {
           "key": "0",
           "name": "Table",
           "options": {},
           "type": "table"
          }
         ]
        }
       ]
      }
     },
     "sync_state": {
      "isSummary": false,
      "language": "python",
      "table": {
       "rows": [],
       "schema": [
        {
         "key": "0",
         "name": "ErrorInformation_errorLocation_positionStart_lineNumber",
         "type": "string"
        },
        {
         "key": "1",
         "name": "DatasetName",
         "type": "string"
        },
        {
         "key": "2",
         "name": "TableName",
         "type": "string"
        },
        {
         "key": "3",
         "name": "PartitionName",
         "type": "string"
        }
       ],
       "truncated": false
      },
      "wranglerEntryContext": {
       "candidateVariableNames": [
        "df_temp"
       ],
       "dataframeType": "pandas"
      }
     },
     "type": "Synapse.DataFrame"
    },
    "7c2e0be0-36ca-4652-b8c9-33d819a129d7": {
     "persist_state": {
      "view": {
       "chartOptions": {
        "aggregationType": "sum",
        "binsNumber": 10,
        "categoryFieldKeys": [],
        "chartType": "bar",
        "isStacked": false,
        "seriesFieldKeys": [],
        "wordFrequency": "-1"
       },
       "tableOptions": {},
       "type": "details",
       "viewOptionsGroup": [
        {
         "tabItems": [
          {
           "key": "0",
           "name": "Table",
           "options": {},
           "type": "table"
          }
         ]
        }
       ]
      }
     },
     "sync_state": {
      "isSummary": false,
      "language": "python",
      "table": {
       "rows": [],
       "schema": [
        {
         "key": "0",
         "name": "ErrorInformation_errorLocation_positionStart_lineNumber",
         "type": "string"
        },
        {
         "key": "1",
         "name": "DatasetName",
         "type": "string"
        },
        {
         "key": "2",
         "name": "TableName",
         "type": "string"
        },
        {
         "key": "3",
         "name": "PartitionName",
         "type": "string"
        }
       ],
       "truncated": false
      },
      "wranglerEntryContext": {
       "candidateVariableNames": [
        "df_temp"
       ],
       "dataframeType": "pandas"
      }
     },
     "type": "Synapse.DataFrame"
    },
    "7c8ed61d-a582-40b2-a27b-5e4624b31a00": {
     "persist_state": {
      "view": {
       "chartOptions": {
        "aggregationType": "sum",
        "binsNumber": 10,
        "categoryFieldKeys": [],
        "chartType": "bar",
        "isStacked": false,
        "seriesFieldKeys": [],
        "wordFrequency": "-1"
       },
       "tableOptions": {},
       "type": "details",
       "viewOptionsGroup": [
        {
         "tabItems": [
          {
           "key": "0",
           "name": "Table",
           "options": {},
           "type": "table"
          }
         ]
        }
       ]
      }
     },
     "sync_state": {
      "isSummary": false,
      "language": "python",
      "table": {
       "rows": [],
       "schema": [
        {
         "key": "0",
         "name": "ErrorInformation_errorLocation_positionStart_lineNumber",
         "type": "string"
        },
        {
         "key": "1",
         "name": "DatasetName",
         "type": "string"
        },
        {
         "key": "2",
         "name": "TableName",
         "type": "string"
        },
        {
         "key": "3",
         "name": "PartitionName",
         "type": "string"
        }
       ],
       "truncated": false
      },
      "wranglerEntryContext": {
       "candidateVariableNames": [
        "df_temp"
       ],
       "dataframeType": "pandas"
      }
     },
     "type": "Synapse.DataFrame"
    },
    "7ea43099-24ba-4011-8280-f60c33e4057e": {
     "persist_state": {
      "view": {
       "chartOptions": {
        "aggregationType": "sum",
        "binsNumber": 10,
        "categoryFieldKeys": [],
        "chartType": "bar",
        "isStacked": false,
        "seriesFieldKeys": [],
        "wordFrequency": "-1"
       },
       "tableOptions": {},
       "type": "details",
       "viewOptionsGroup": [
        {
         "tabItems": [
          {
           "key": "0",
           "name": "Table",
           "options": {},
           "type": "table"
          }
         ]
        }
       ]
      }
     },
     "sync_state": {
      "isSummary": false,
      "language": "python",
      "table": {
       "rows": [],
       "schema": [
        {
         "key": "0",
         "name": "ErrorInformation_errorLocation_positionStart_lineNumber",
         "type": "string"
        },
        {
         "key": "1",
         "name": "DatasetName",
         "type": "string"
        },
        {
         "key": "2",
         "name": "TableName",
         "type": "string"
        },
        {
         "key": "3",
         "name": "PartitionName",
         "type": "string"
        }
       ],
       "truncated": false
      },
      "wranglerEntryContext": {
       "candidateVariableNames": [
        "df_temp"
       ],
       "dataframeType": "pandas"
      }
     },
     "type": "Synapse.DataFrame"
    },
    "7f04dd20-8da1-4348-b16f-c16fcecfbd76": {
     "persist_state": {
      "view": {
       "chartOptions": {
        "aggregationType": "sum",
        "binsNumber": 10,
        "categoryFieldKeys": [],
        "chartType": "bar",
        "isStacked": false,
        "seriesFieldKeys": [],
        "wordFrequency": "-1"
       },
       "tableOptions": {},
       "type": "details",
       "viewOptionsGroup": [
        {
         "tabItems": [
          {
           "key": "0",
           "name": "Table",
           "options": {},
           "type": "table"
          }
         ]
        }
       ]
      }
     },
     "sync_state": {
      "isSummary": false,
      "language": "python",
      "table": {
       "rows": [],
       "schema": [
        {
         "key": "0",
         "name": "ErrorInformation_errorLocation_positionStart_lineNumber",
         "type": "string"
        },
        {
         "key": "1",
         "name": "DatasetName",
         "type": "string"
        },
        {
         "key": "2",
         "name": "TableName",
         "type": "string"
        },
        {
         "key": "3",
         "name": "PartitionName",
         "type": "string"
        }
       ],
       "truncated": false
      },
      "wranglerEntryContext": {
       "candidateVariableNames": [
        "df_temp"
       ],
       "dataframeType": "pandas"
      }
     },
     "type": "Synapse.DataFrame"
    },
    "80397ab4-5a5d-4216-9c08-7a17e452f5d1": {
     "persist_state": {
      "view": {
       "chartOptions": {
        "aggregationType": "sum",
        "binsNumber": 10,
        "categoryFieldKeys": [],
        "chartType": "bar",
        "isStacked": false,
        "seriesFieldKeys": [],
        "wordFrequency": "-1"
       },
       "tableOptions": {},
       "type": "details",
       "viewOptionsGroup": [
        {
         "tabItems": [
          {
           "key": "0",
           "name": "Table",
           "options": {},
           "type": "table"
          }
         ]
        }
       ]
      }
     },
     "sync_state": {
      "isSummary": false,
      "language": "python",
      "table": {
       "rows": [],
       "schema": [
        {
         "key": "0",
         "name": "ErrorInformation_errorLocation_positionStart_lineNumber",
         "type": "string"
        },
        {
         "key": "1",
         "name": "DatasetName",
         "type": "string"
        },
        {
         "key": "2",
         "name": "TableName",
         "type": "string"
        },
        {
         "key": "3",
         "name": "PartitionName",
         "type": "string"
        }
       ],
       "truncated": false
      },
      "wranglerEntryContext": {
       "candidateVariableNames": [
        "df_temp"
       ],
       "dataframeType": "pandas"
      }
     },
     "type": "Synapse.DataFrame"
    },
    "81383e23-8aa7-4839-ab4a-9bcd8f9cc6c9": {
     "persist_state": {
      "view": {
       "chartOptions": {
        "aggregationType": "sum",
        "binsNumber": 10,
        "categoryFieldKeys": [],
        "chartType": "bar",
        "isStacked": false,
        "seriesFieldKeys": [],
        "wordFrequency": "-1"
       },
       "tableOptions": {},
       "type": "details",
       "viewOptionsGroup": [
        {
         "tabItems": [
          {
           "key": "0",
           "name": "Table",
           "options": {},
           "type": "table"
          }
         ]
        }
       ]
      }
     },
     "sync_state": {
      "isSummary": false,
      "language": "python",
      "table": {
       "rows": [],
       "schema": [
        {
         "key": "0",
         "name": "ErrorInformation_errorLocation_positionStart_lineNumber",
         "type": "string"
        },
        {
         "key": "1",
         "name": "DatasetName",
         "type": "string"
        },
        {
         "key": "2",
         "name": "TableName",
         "type": "string"
        },
        {
         "key": "3",
         "name": "PartitionName",
         "type": "string"
        }
       ],
       "truncated": false
      },
      "wranglerEntryContext": {
       "candidateVariableNames": [
        "df_temp"
       ],
       "dataframeType": "pandas"
      }
     },
     "type": "Synapse.DataFrame"
    },
    "813fd461-2795-4c31-8053-dce93488b4d6": {
     "persist_state": {
      "view": {
       "chartOptions": {
        "aggregationType": "sum",
        "binsNumber": 10,
        "categoryFieldKeys": [],
        "chartType": "bar",
        "isStacked": false,
        "seriesFieldKeys": [],
        "wordFrequency": "-1"
       },
       "tableOptions": {},
       "type": "details",
       "viewOptionsGroup": [
        {
         "tabItems": [
          {
           "key": "0",
           "name": "Table",
           "options": {},
           "type": "table"
          }
         ]
        }
       ]
      }
     },
     "sync_state": {
      "isSummary": false,
      "language": "python",
      "table": {
       "rows": [],
       "schema": [
        {
         "key": "0",
         "name": "ErrorInformation_errorLocation_positionStart_lineNumber",
         "type": "string"
        },
        {
         "key": "1",
         "name": "DatasetName",
         "type": "string"
        },
        {
         "key": "2",
         "name": "TableName",
         "type": "string"
        },
        {
         "key": "3",
         "name": "PartitionName",
         "type": "string"
        }
       ],
       "truncated": false
      },
      "wranglerEntryContext": {
       "candidateVariableNames": [
        "df_temp"
       ],
       "dataframeType": "pandas"
      }
     },
     "type": "Synapse.DataFrame"
    },
    "82080db9-a2e3-4dd4-8eae-6e20d6301de6": {
     "persist_state": {
      "view": {
       "chartOptions": {
        "aggregationType": "sum",
        "binsNumber": 10,
        "categoryFieldKeys": [],
        "chartType": "bar",
        "isStacked": false,
        "seriesFieldKeys": [],
        "wordFrequency": "-1"
       },
       "tableOptions": {},
       "type": "details",
       "viewOptionsGroup": [
        {
         "tabItems": [
          {
           "key": "0",
           "name": "Table",
           "options": {},
           "type": "table"
          }
         ]
        }
       ]
      }
     },
     "sync_state": {
      "isSummary": false,
      "language": "python",
      "table": {
       "rows": [],
       "schema": [
        {
         "key": "0",
         "name": "ErrorInformation_errorLocation_positionStart_lineNumber",
         "type": "string"
        },
        {
         "key": "1",
         "name": "DatasetName",
         "type": "string"
        },
        {
         "key": "2",
         "name": "TableName",
         "type": "string"
        },
        {
         "key": "3",
         "name": "PartitionName",
         "type": "string"
        }
       ],
       "truncated": false
      },
      "wranglerEntryContext": {
       "candidateVariableNames": [
        "df_temp"
       ],
       "dataframeType": "pandas"
      }
     },
     "type": "Synapse.DataFrame"
    },
    "825dd4f7-2257-458d-a756-ef1b058d117e": {
     "persist_state": {
      "view": {
       "chartOptions": {
        "aggregationType": "sum",
        "binsNumber": 10,
        "categoryFieldKeys": [],
        "chartType": "bar",
        "isStacked": false,
        "seriesFieldKeys": [],
        "wordFrequency": "-1"
       },
       "tableOptions": {},
       "type": "details",
       "viewOptionsGroup": [
        {
         "tabItems": [
          {
           "key": "0",
           "name": "Table",
           "options": {},
           "type": "table"
          }
         ]
        }
       ]
      }
     },
     "sync_state": {
      "isSummary": false,
      "language": "python",
      "table": {
       "rows": [],
       "schema": [
        {
         "key": "0",
         "name": "ErrorInformation_errorLocation_positionStart_lineNumber",
         "type": "string"
        },
        {
         "key": "1",
         "name": "DatasetName",
         "type": "string"
        },
        {
         "key": "2",
         "name": "TableName",
         "type": "string"
        },
        {
         "key": "3",
         "name": "PartitionName",
         "type": "string"
        }
       ],
       "truncated": false
      },
      "wranglerEntryContext": {
       "candidateVariableNames": [
        "df_temp"
       ],
       "dataframeType": "pandas"
      }
     },
     "type": "Synapse.DataFrame"
    },
    "82777b94-cb04-407f-b329-c3f61f8da3bf": {
     "persist_state": {
      "view": {
       "chartOptions": {
        "aggregationType": "sum",
        "binsNumber": 10,
        "categoryFieldKeys": [],
        "chartType": "bar",
        "isStacked": false,
        "seriesFieldKeys": [],
        "wordFrequency": "-1"
       },
       "tableOptions": {},
       "type": "details",
       "viewOptionsGroup": [
        {
         "tabItems": [
          {
           "key": "0",
           "name": "Table",
           "options": {},
           "type": "table"
          }
         ]
        }
       ]
      }
     },
     "sync_state": {
      "isSummary": false,
      "language": "python",
      "table": {
       "rows": [],
       "schema": [
        {
         "key": "0",
         "name": "ErrorInformation_errorLocation_positionStart_lineNumber",
         "type": "string"
        },
        {
         "key": "1",
         "name": "DatasetName",
         "type": "string"
        },
        {
         "key": "2",
         "name": "TableName",
         "type": "string"
        },
        {
         "key": "3",
         "name": "PartitionName",
         "type": "string"
        }
       ],
       "truncated": false
      },
      "wranglerEntryContext": {
       "candidateVariableNames": [
        "df_temp"
       ],
       "dataframeType": "pandas"
      }
     },
     "type": "Synapse.DataFrame"
    },
    "82d3b10b-eea3-447a-a4f9-ff035b071900": {
     "persist_state": {
      "view": {
       "chartOptions": {
        "aggregationType": "sum",
        "binsNumber": 10,
        "categoryFieldKeys": [],
        "chartType": "bar",
        "isStacked": false,
        "seriesFieldKeys": [],
        "wordFrequency": "-1"
       },
       "tableOptions": {},
       "type": "details",
       "viewOptionsGroup": [
        {
         "tabItems": [
          {
           "key": "0",
           "name": "Table",
           "options": {},
           "type": "table"
          }
         ]
        }
       ]
      }
     },
     "sync_state": {
      "isSummary": false,
      "language": "python",
      "table": {
       "rows": [],
       "schema": [
        {
         "key": "0",
         "name": "ErrorInformation_errorLocation_positionStart_lineNumber",
         "type": "string"
        },
        {
         "key": "1",
         "name": "DatasetName",
         "type": "string"
        },
        {
         "key": "2",
         "name": "TableName",
         "type": "string"
        },
        {
         "key": "3",
         "name": "PartitionName",
         "type": "string"
        }
       ],
       "truncated": false
      },
      "wranglerEntryContext": {
       "candidateVariableNames": [
        "df_temp"
       ],
       "dataframeType": "pandas"
      }
     },
     "type": "Synapse.DataFrame"
    },
    "82d3c1be-4147-4ff6-804d-4fe91a4dc08a": {
     "persist_state": {
      "view": {
       "chartOptions": {
        "aggregationType": "sum",
        "binsNumber": 10,
        "categoryFieldKeys": [],
        "chartType": "bar",
        "isStacked": false,
        "seriesFieldKeys": [],
        "wordFrequency": "-1"
       },
       "tableOptions": {},
       "type": "details",
       "viewOptionsGroup": [
        {
         "tabItems": [
          {
           "key": "0",
           "name": "Table",
           "options": {},
           "type": "table"
          }
         ]
        }
       ]
      }
     },
     "sync_state": {
      "isSummary": false,
      "language": "python",
      "table": {
       "rows": [],
       "schema": [
        {
         "key": "0",
         "name": "ErrorInformation_errorLocation_positionStart_lineNumber",
         "type": "string"
        },
        {
         "key": "1",
         "name": "DatasetName",
         "type": "string"
        },
        {
         "key": "2",
         "name": "TableName",
         "type": "string"
        },
        {
         "key": "3",
         "name": "PartitionName",
         "type": "string"
        }
       ],
       "truncated": false
      },
      "wranglerEntryContext": {
       "candidateVariableNames": [
        "df_temp"
       ],
       "dataframeType": "pandas"
      }
     },
     "type": "Synapse.DataFrame"
    },
    "82e5fd71-f25c-436e-b70f-ec599adadc38": {
     "persist_state": {
      "view": {
       "chartOptions": {
        "aggregationType": "sum",
        "binsNumber": 10,
        "categoryFieldKeys": [],
        "chartType": "bar",
        "isStacked": false,
        "seriesFieldKeys": [],
        "wordFrequency": "-1"
       },
       "tableOptions": {},
       "type": "details",
       "viewOptionsGroup": [
        {
         "tabItems": [
          {
           "key": "0",
           "name": "Table",
           "options": {},
           "type": "table"
          }
         ]
        }
       ]
      }
     },
     "sync_state": {
      "isSummary": false,
      "language": "python",
      "table": {
       "rows": [],
       "schema": [
        {
         "key": "0",
         "name": "ErrorInformation_errorLocation_positionStart_lineNumber",
         "type": "string"
        },
        {
         "key": "1",
         "name": "DatasetName",
         "type": "string"
        },
        {
         "key": "2",
         "name": "TableName",
         "type": "string"
        },
        {
         "key": "3",
         "name": "PartitionName",
         "type": "string"
        }
       ],
       "truncated": false
      },
      "wranglerEntryContext": {
       "candidateVariableNames": [
        "df_temp"
       ],
       "dataframeType": "pandas"
      }
     },
     "type": "Synapse.DataFrame"
    },
    "8429048f-3ae3-4f6a-88de-1d02a62d3272": {
     "persist_state": {
      "view": {
       "chartOptions": {
        "aggregationType": "sum",
        "binsNumber": 10,
        "categoryFieldKeys": [],
        "chartType": "bar",
        "isStacked": false,
        "seriesFieldKeys": [],
        "wordFrequency": "-1"
       },
       "tableOptions": {},
       "type": "details",
       "viewOptionsGroup": [
        {
         "tabItems": [
          {
           "key": "0",
           "name": "Table",
           "options": {},
           "type": "table"
          }
         ]
        }
       ]
      }
     },
     "sync_state": {
      "isSummary": false,
      "language": "python",
      "table": {
       "rows": [],
       "schema": [
        {
         "key": "0",
         "name": "ErrorInformation_errorLocation_positionStart_lineNumber",
         "type": "string"
        },
        {
         "key": "1",
         "name": "DatasetName",
         "type": "string"
        },
        {
         "key": "2",
         "name": "TableName",
         "type": "string"
        },
        {
         "key": "3",
         "name": "PartitionName",
         "type": "string"
        }
       ],
       "truncated": false
      },
      "wranglerEntryContext": {
       "candidateVariableNames": [
        "df_temp"
       ],
       "dataframeType": "pandas"
      }
     },
     "type": "Synapse.DataFrame"
    },
    "847566ed-3f21-436e-ab7b-5c1b177e54ac": {
     "persist_state": {
      "view": {
       "chartOptions": {
        "aggregationType": "sum",
        "binsNumber": 10,
        "categoryFieldKeys": [],
        "chartType": "bar",
        "isStacked": false,
        "seriesFieldKeys": [],
        "wordFrequency": "-1"
       },
       "tableOptions": {},
       "type": "details",
       "viewOptionsGroup": [
        {
         "tabItems": [
          {
           "key": "0",
           "name": "Table",
           "options": {},
           "type": "table"
          }
         ]
        }
       ]
      }
     },
     "sync_state": {
      "isSummary": false,
      "language": "python",
      "table": {
       "rows": [],
       "schema": [
        {
         "key": "0",
         "name": "ErrorInformation_errorLocation_positionStart_lineNumber",
         "type": "string"
        },
        {
         "key": "1",
         "name": "DatasetName",
         "type": "string"
        },
        {
         "key": "2",
         "name": "TableName",
         "type": "string"
        },
        {
         "key": "3",
         "name": "PartitionName",
         "type": "string"
        }
       ],
       "truncated": false
      },
      "wranglerEntryContext": {
       "candidateVariableNames": [
        "df_temp"
       ],
       "dataframeType": "pandas"
      }
     },
     "type": "Synapse.DataFrame"
    },
    "848586b3-c3eb-44a1-ae25-e8583a5b3b97": {
     "persist_state": {
      "view": {
       "chartOptions": {
        "aggregationType": "sum",
        "binsNumber": 10,
        "categoryFieldKeys": [],
        "chartType": "bar",
        "isStacked": false,
        "seriesFieldKeys": [],
        "wordFrequency": "-1"
       },
       "tableOptions": {},
       "type": "details",
       "viewOptionsGroup": [
        {
         "tabItems": [
          {
           "key": "0",
           "name": "Table",
           "options": {},
           "type": "table"
          }
         ]
        }
       ]
      }
     },
     "sync_state": {
      "isSummary": false,
      "language": "python",
      "table": {
       "rows": [],
       "schema": [
        {
         "key": "0",
         "name": "ErrorInformation_errorLocation_positionStart_lineNumber",
         "type": "string"
        },
        {
         "key": "1",
         "name": "DatasetName",
         "type": "string"
        },
        {
         "key": "2",
         "name": "TableName",
         "type": "string"
        },
        {
         "key": "3",
         "name": "PartitionName",
         "type": "string"
        }
       ],
       "truncated": false
      },
      "wranglerEntryContext": {
       "candidateVariableNames": [
        "df_temp"
       ],
       "dataframeType": "pandas"
      }
     },
     "type": "Synapse.DataFrame"
    },
    "848eeb98-6565-429d-a896-d5a6f89c551f": {
     "persist_state": {
      "view": {
       "chartOptions": {
        "aggregationType": "sum",
        "binsNumber": 10,
        "categoryFieldKeys": [],
        "chartType": "bar",
        "isStacked": false,
        "seriesFieldKeys": [],
        "wordFrequency": "-1"
       },
       "tableOptions": {},
       "type": "details",
       "viewOptionsGroup": [
        {
         "tabItems": [
          {
           "key": "0",
           "name": "Table",
           "options": {},
           "type": "table"
          }
         ]
        }
       ]
      }
     },
     "sync_state": {
      "isSummary": false,
      "language": "python",
      "table": {
       "rows": [],
       "schema": [
        {
         "key": "0",
         "name": "ErrorInformation_errorLocation_positionStart_lineNumber",
         "type": "string"
        },
        {
         "key": "1",
         "name": "DatasetName",
         "type": "string"
        },
        {
         "key": "2",
         "name": "TableName",
         "type": "string"
        },
        {
         "key": "3",
         "name": "PartitionName",
         "type": "string"
        }
       ],
       "truncated": false
      },
      "wranglerEntryContext": {
       "candidateVariableNames": [
        "df_temp"
       ],
       "dataframeType": "pandas"
      }
     },
     "type": "Synapse.DataFrame"
    },
    "84e55c2a-b801-40f4-9517-d94fc5eeccb4": {
     "persist_state": {
      "view": {
       "chartOptions": {
        "aggregationType": "sum",
        "binsNumber": 10,
        "categoryFieldKeys": [],
        "chartType": "bar",
        "isStacked": false,
        "seriesFieldKeys": [],
        "wordFrequency": "-1"
       },
       "tableOptions": {},
       "type": "details",
       "viewOptionsGroup": [
        {
         "tabItems": [
          {
           "key": "0",
           "name": "Table",
           "options": {},
           "type": "table"
          }
         ]
        }
       ]
      }
     },
     "sync_state": {
      "isSummary": false,
      "language": "python",
      "table": {
       "rows": [],
       "schema": [
        {
         "key": "0",
         "name": "ErrorInformation_errorLocation_positionStart_lineNumber",
         "type": "string"
        },
        {
         "key": "1",
         "name": "DatasetName",
         "type": "string"
        },
        {
         "key": "2",
         "name": "TableName",
         "type": "string"
        },
        {
         "key": "3",
         "name": "PartitionName",
         "type": "string"
        }
       ],
       "truncated": false
      },
      "wranglerEntryContext": {
       "candidateVariableNames": [
        "df_temp"
       ],
       "dataframeType": "pandas"
      }
     },
     "type": "Synapse.DataFrame"
    },
    "887134c7-0a16-44c8-8439-71ef6ef102ef": {
     "persist_state": {
      "view": {
       "chartOptions": {
        "aggregationType": "sum",
        "binsNumber": 10,
        "categoryFieldKeys": [],
        "chartType": "bar",
        "isStacked": false,
        "seriesFieldKeys": [],
        "wordFrequency": "-1"
       },
       "tableOptions": {},
       "type": "details",
       "viewOptionsGroup": [
        {
         "tabItems": [
          {
           "key": "0",
           "name": "Table",
           "options": {},
           "type": "table"
          }
         ]
        }
       ]
      }
     },
     "sync_state": {
      "isSummary": false,
      "language": "python",
      "table": {
       "rows": [],
       "schema": [
        {
         "key": "0",
         "name": "ErrorInformation_errorLocation_positionStart_lineNumber",
         "type": "string"
        },
        {
         "key": "1",
         "name": "DatasetName",
         "type": "string"
        },
        {
         "key": "2",
         "name": "TableName",
         "type": "string"
        },
        {
         "key": "3",
         "name": "PartitionName",
         "type": "string"
        }
       ],
       "truncated": false
      },
      "wranglerEntryContext": {
       "candidateVariableNames": [
        "df_temp"
       ],
       "dataframeType": "pandas"
      }
     },
     "type": "Synapse.DataFrame"
    },
    "8ae5e454-1297-48d8-b60e-9dc5780ec96f": {
     "persist_state": {
      "view": {
       "chartOptions": {
        "aggregationType": "sum",
        "binsNumber": 10,
        "categoryFieldKeys": [],
        "chartType": "bar",
        "isStacked": false,
        "seriesFieldKeys": [],
        "wordFrequency": "-1"
       },
       "tableOptions": {},
       "type": "details",
       "viewOptionsGroup": [
        {
         "tabItems": [
          {
           "key": "0",
           "name": "Table",
           "options": {},
           "type": "table"
          }
         ]
        }
       ]
      }
     },
     "sync_state": {
      "isSummary": false,
      "language": "python",
      "table": {
       "rows": [],
       "schema": [
        {
         "key": "0",
         "name": "ErrorInformation_errorLocation_positionStart_lineNumber",
         "type": "string"
        },
        {
         "key": "1",
         "name": "DatasetName",
         "type": "string"
        },
        {
         "key": "2",
         "name": "TableName",
         "type": "string"
        },
        {
         "key": "3",
         "name": "PartitionName",
         "type": "string"
        }
       ],
       "truncated": false
      },
      "wranglerEntryContext": {
       "candidateVariableNames": [
        "df_temp"
       ],
       "dataframeType": "pandas"
      }
     },
     "type": "Synapse.DataFrame"
    },
    "8b1fb31e-2ba5-4aa6-98b6-42b62665ff09": {
     "persist_state": {
      "view": {
       "chartOptions": {
        "aggregationType": "sum",
        "binsNumber": 10,
        "categoryFieldKeys": [],
        "chartType": "bar",
        "isStacked": false,
        "seriesFieldKeys": [],
        "wordFrequency": "-1"
       },
       "tableOptions": {},
       "type": "details",
       "viewOptionsGroup": [
        {
         "tabItems": [
          {
           "key": "0",
           "name": "Table",
           "options": {},
           "type": "table"
          }
         ]
        }
       ]
      }
     },
     "sync_state": {
      "isSummary": false,
      "language": "python",
      "table": {
       "rows": [],
       "schema": [
        {
         "key": "0",
         "name": "ErrorInformation_errorLocation_positionStart_lineNumber",
         "type": "string"
        },
        {
         "key": "1",
         "name": "DatasetName",
         "type": "string"
        },
        {
         "key": "2",
         "name": "TableName",
         "type": "string"
        },
        {
         "key": "3",
         "name": "PartitionName",
         "type": "string"
        }
       ],
       "truncated": false
      },
      "wranglerEntryContext": {
       "candidateVariableNames": [
        "df_temp"
       ],
       "dataframeType": "pandas"
      }
     },
     "type": "Synapse.DataFrame"
    },
    "8db08f17-b2a9-40bc-899d-8e37eefe2974": {
     "persist_state": {
      "view": {
       "chartOptions": {
        "aggregationType": "sum",
        "binsNumber": 10,
        "categoryFieldKeys": [],
        "chartType": "bar",
        "isStacked": false,
        "seriesFieldKeys": [],
        "wordFrequency": "-1"
       },
       "tableOptions": {},
       "type": "details",
       "viewOptionsGroup": [
        {
         "tabItems": [
          {
           "key": "0",
           "name": "Table",
           "options": {},
           "type": "table"
          }
         ]
        }
       ]
      }
     },
     "sync_state": {
      "isSummary": false,
      "language": "python",
      "table": {
       "rows": [],
       "schema": [
        {
         "key": "0",
         "name": "ErrorInformation_errorLocation_positionStart_lineNumber",
         "type": "string"
        },
        {
         "key": "1",
         "name": "DatasetName",
         "type": "string"
        },
        {
         "key": "2",
         "name": "TableName",
         "type": "string"
        },
        {
         "key": "3",
         "name": "PartitionName",
         "type": "string"
        }
       ],
       "truncated": false
      },
      "wranglerEntryContext": {
       "candidateVariableNames": [
        "df_temp"
       ],
       "dataframeType": "pandas"
      }
     },
     "type": "Synapse.DataFrame"
    },
    "8e5a3621-49c3-4a47-b61f-60159c823508": {
     "persist_state": {
      "view": {
       "chartOptions": {
        "aggregationType": "sum",
        "binsNumber": 10,
        "categoryFieldKeys": [],
        "chartType": "bar",
        "isStacked": false,
        "seriesFieldKeys": [],
        "wordFrequency": "-1"
       },
       "tableOptions": {},
       "type": "details",
       "viewOptionsGroup": [
        {
         "tabItems": [
          {
           "key": "0",
           "name": "Table",
           "options": {},
           "type": "table"
          }
         ]
        }
       ]
      }
     },
     "sync_state": {
      "isSummary": false,
      "language": "python",
      "table": {
       "rows": [],
       "schema": [
        {
         "key": "0",
         "name": "ErrorInformation_errorLocation_positionStart_lineNumber",
         "type": "string"
        },
        {
         "key": "1",
         "name": "DatasetName",
         "type": "string"
        },
        {
         "key": "2",
         "name": "TableName",
         "type": "string"
        },
        {
         "key": "3",
         "name": "PartitionName",
         "type": "string"
        }
       ],
       "truncated": false
      },
      "wranglerEntryContext": {
       "candidateVariableNames": [
        "df_temp"
       ],
       "dataframeType": "pandas"
      }
     },
     "type": "Synapse.DataFrame"
    },
    "8e70bb82-3cac-4854-889b-c67905578fbc": {
     "persist_state": {
      "view": {
       "chartOptions": {
        "aggregationType": "sum",
        "binsNumber": 10,
        "categoryFieldKeys": [],
        "chartType": "bar",
        "isStacked": false,
        "seriesFieldKeys": [],
        "wordFrequency": "-1"
       },
       "tableOptions": {},
       "type": "details",
       "viewOptionsGroup": [
        {
         "tabItems": [
          {
           "key": "0",
           "name": "Table",
           "options": {},
           "type": "table"
          }
         ]
        }
       ]
      }
     },
     "sync_state": {
      "isSummary": false,
      "language": "python",
      "table": {
       "rows": [],
       "schema": [
        {
         "key": "0",
         "name": "ErrorInformation_errorLocation_positionStart_lineNumber",
         "type": "string"
        },
        {
         "key": "1",
         "name": "DatasetName",
         "type": "string"
        },
        {
         "key": "2",
         "name": "TableName",
         "type": "string"
        },
        {
         "key": "3",
         "name": "PartitionName",
         "type": "string"
        }
       ],
       "truncated": false
      },
      "wranglerEntryContext": {
       "candidateVariableNames": [
        "df_temp"
       ],
       "dataframeType": "pandas"
      }
     },
     "type": "Synapse.DataFrame"
    },
    "8f16a5ef-3827-4f73-ae77-8a12c7825c78": {
     "persist_state": {
      "view": {
       "chartOptions": {
        "aggregationType": "sum",
        "binsNumber": 10,
        "categoryFieldKeys": [],
        "chartType": "bar",
        "isStacked": false,
        "seriesFieldKeys": [],
        "wordFrequency": "-1"
       },
       "tableOptions": {},
       "type": "details",
       "viewOptionsGroup": [
        {
         "tabItems": [
          {
           "key": "0",
           "name": "Table",
           "options": {},
           "type": "table"
          }
         ]
        }
       ]
      }
     },
     "sync_state": {
      "isSummary": false,
      "language": "python",
      "table": {
       "rows": [],
       "schema": [
        {
         "key": "0",
         "name": "ErrorInformation_errorLocation_positionStart_lineNumber",
         "type": "string"
        },
        {
         "key": "1",
         "name": "DatasetName",
         "type": "string"
        },
        {
         "key": "2",
         "name": "TableName",
         "type": "string"
        },
        {
         "key": "3",
         "name": "PartitionName",
         "type": "string"
        }
       ],
       "truncated": false
      },
      "wranglerEntryContext": {
       "candidateVariableNames": [
        "df_temp"
       ],
       "dataframeType": "pandas"
      }
     },
     "type": "Synapse.DataFrame"
    },
    "8fd98008-b3cd-4c4e-b5b4-2b461ed6c9ce": {
     "persist_state": {
      "view": {
       "chartOptions": {
        "aggregationType": "sum",
        "binsNumber": 10,
        "categoryFieldKeys": [],
        "chartType": "bar",
        "isStacked": false,
        "seriesFieldKeys": [],
        "wordFrequency": "-1"
       },
       "tableOptions": {},
       "type": "details",
       "viewOptionsGroup": [
        {
         "tabItems": [
          {
           "key": "0",
           "name": "Table",
           "options": {},
           "type": "table"
          }
         ]
        }
       ]
      }
     },
     "sync_state": {
      "isSummary": false,
      "language": "python",
      "table": {
       "rows": [],
       "schema": [
        {
         "key": "0",
         "name": "ErrorInformation_errorLocation_positionStart_lineNumber",
         "type": "string"
        },
        {
         "key": "1",
         "name": "DatasetName",
         "type": "string"
        },
        {
         "key": "2",
         "name": "TableName",
         "type": "string"
        },
        {
         "key": "3",
         "name": "PartitionName",
         "type": "string"
        }
       ],
       "truncated": false
      },
      "wranglerEntryContext": {
       "candidateVariableNames": [
        "df_temp"
       ],
       "dataframeType": "pandas"
      }
     },
     "type": "Synapse.DataFrame"
    },
    "9043e177-c16b-410c-8e3b-b79d9087b272": {
     "persist_state": {
      "view": {
       "chartOptions": {
        "aggregationType": "sum",
        "binsNumber": 10,
        "categoryFieldKeys": [],
        "chartType": "bar",
        "isStacked": false,
        "seriesFieldKeys": [],
        "wordFrequency": "-1"
       },
       "tableOptions": {},
       "type": "details",
       "viewOptionsGroup": [
        {
         "tabItems": [
          {
           "key": "0",
           "name": "Table",
           "options": {},
           "type": "table"
          }
         ]
        }
       ]
      }
     },
     "sync_state": {
      "isSummary": false,
      "language": "python",
      "table": {
       "rows": [],
       "schema": [
        {
         "key": "0",
         "name": "ErrorInformation_errorLocation_positionStart_lineNumber",
         "type": "string"
        },
        {
         "key": "1",
         "name": "DatasetName",
         "type": "string"
        },
        {
         "key": "2",
         "name": "TableName",
         "type": "string"
        },
        {
         "key": "3",
         "name": "PartitionName",
         "type": "string"
        }
       ],
       "truncated": false
      },
      "wranglerEntryContext": {
       "candidateVariableNames": [
        "df_temp"
       ],
       "dataframeType": "pandas"
      }
     },
     "type": "Synapse.DataFrame"
    },
    "90d9849a-0a63-423e-9dcf-453d2fd702dd": {
     "persist_state": {
      "view": {
       "chartOptions": {
        "aggregationType": "sum",
        "binsNumber": 10,
        "categoryFieldKeys": [],
        "chartType": "bar",
        "isStacked": false,
        "seriesFieldKeys": [],
        "wordFrequency": "-1"
       },
       "tableOptions": {},
       "type": "details",
       "viewOptionsGroup": [
        {
         "tabItems": [
          {
           "key": "0",
           "name": "Table",
           "options": {},
           "type": "table"
          }
         ]
        }
       ]
      }
     },
     "sync_state": {
      "isSummary": false,
      "language": "python",
      "table": {
       "rows": [],
       "schema": [
        {
         "key": "0",
         "name": "ErrorInformation_errorLocation_positionStart_lineNumber",
         "type": "string"
        },
        {
         "key": "1",
         "name": "DatasetName",
         "type": "string"
        },
        {
         "key": "2",
         "name": "TableName",
         "type": "string"
        },
        {
         "key": "3",
         "name": "PartitionName",
         "type": "string"
        }
       ],
       "truncated": false
      },
      "wranglerEntryContext": {
       "candidateVariableNames": [
        "df_temp"
       ],
       "dataframeType": "pandas"
      }
     },
     "type": "Synapse.DataFrame"
    },
    "913a714f-b93c-43e6-a52b-ec84a7365ca6": {
     "persist_state": {
      "view": {
       "chartOptions": {
        "aggregationType": "sum",
        "binsNumber": 10,
        "categoryFieldKeys": [],
        "chartType": "bar",
        "isStacked": false,
        "seriesFieldKeys": [],
        "wordFrequency": "-1"
       },
       "tableOptions": {},
       "type": "details",
       "viewOptionsGroup": [
        {
         "tabItems": [
          {
           "key": "0",
           "name": "Table",
           "options": {},
           "type": "table"
          }
         ]
        }
       ]
      }
     },
     "sync_state": {
      "isSummary": false,
      "language": "python",
      "table": {
       "rows": [],
       "schema": [
        {
         "key": "0",
         "name": "ErrorInformation_errorLocation_positionStart_lineNumber",
         "type": "string"
        },
        {
         "key": "1",
         "name": "DatasetName",
         "type": "string"
        },
        {
         "key": "2",
         "name": "TableName",
         "type": "string"
        },
        {
         "key": "3",
         "name": "PartitionName",
         "type": "string"
        }
       ],
       "truncated": false
      },
      "wranglerEntryContext": {
       "candidateVariableNames": [
        "df_temp"
       ],
       "dataframeType": "pandas"
      }
     },
     "type": "Synapse.DataFrame"
    },
    "94b30e72-10ec-42c6-b9e6-ae3ffc61a029": {
     "persist_state": {
      "view": {
       "chartOptions": {
        "aggregationType": "sum",
        "binsNumber": 10,
        "categoryFieldKeys": [],
        "chartType": "bar",
        "isStacked": false,
        "seriesFieldKeys": [],
        "wordFrequency": "-1"
       },
       "tableOptions": {},
       "type": "details",
       "viewOptionsGroup": [
        {
         "tabItems": [
          {
           "key": "0",
           "name": "Table",
           "options": {},
           "type": "table"
          }
         ]
        }
       ]
      }
     },
     "sync_state": {
      "isSummary": false,
      "language": "python",
      "table": {
       "rows": [],
       "schema": [
        {
         "key": "0",
         "name": "ErrorInformation_errorLocation_positionStart_lineNumber",
         "type": "string"
        },
        {
         "key": "1",
         "name": "DatasetName",
         "type": "string"
        },
        {
         "key": "2",
         "name": "TableName",
         "type": "string"
        },
        {
         "key": "3",
         "name": "PartitionName",
         "type": "string"
        }
       ],
       "truncated": false
      },
      "wranglerEntryContext": {
       "candidateVariableNames": [
        "df_temp"
       ],
       "dataframeType": "pandas"
      }
     },
     "type": "Synapse.DataFrame"
    },
    "94b74551-0a08-47ca-89e2-e509640112df": {
     "persist_state": {
      "view": {
       "chartOptions": {
        "aggregationType": "sum",
        "binsNumber": 10,
        "categoryFieldKeys": [],
        "chartType": "bar",
        "isStacked": false,
        "seriesFieldKeys": [],
        "wordFrequency": "-1"
       },
       "tableOptions": {},
       "type": "details",
       "viewOptionsGroup": [
        {
         "tabItems": [
          {
           "key": "0",
           "name": "Table",
           "options": {},
           "type": "table"
          }
         ]
        }
       ]
      }
     },
     "sync_state": {
      "isSummary": false,
      "language": "python",
      "table": {
       "rows": [],
       "schema": [
        {
         "key": "0",
         "name": "ErrorInformation_errorLocation_positionStart_lineNumber",
         "type": "string"
        },
        {
         "key": "1",
         "name": "DatasetName",
         "type": "string"
        },
        {
         "key": "2",
         "name": "TableName",
         "type": "string"
        },
        {
         "key": "3",
         "name": "PartitionName",
         "type": "string"
        }
       ],
       "truncated": false
      },
      "wranglerEntryContext": {
       "candidateVariableNames": [
        "df_temp"
       ],
       "dataframeType": "pandas"
      }
     },
     "type": "Synapse.DataFrame"
    },
    "96ae124c-2b46-4ecd-af17-771974220556": {
     "persist_state": {
      "view": {
       "chartOptions": {
        "aggregationType": "sum",
        "binsNumber": 10,
        "categoryFieldKeys": [],
        "chartType": "bar",
        "isStacked": false,
        "seriesFieldKeys": [],
        "wordFrequency": "-1"
       },
       "tableOptions": {},
       "type": "details",
       "viewOptionsGroup": [
        {
         "tabItems": [
          {
           "key": "0",
           "name": "Table",
           "options": {},
           "type": "table"
          }
         ]
        }
       ]
      }
     },
     "sync_state": {
      "isSummary": false,
      "language": "python",
      "table": {
       "rows": [],
       "schema": [
        {
         "key": "0",
         "name": "ErrorInformation_errorLocation_positionStart_lineNumber",
         "type": "string"
        },
        {
         "key": "1",
         "name": "DatasetName",
         "type": "string"
        },
        {
         "key": "2",
         "name": "TableName",
         "type": "string"
        },
        {
         "key": "3",
         "name": "PartitionName",
         "type": "string"
        }
       ],
       "truncated": false
      },
      "wranglerEntryContext": {
       "candidateVariableNames": [
        "df_temp"
       ],
       "dataframeType": "pandas"
      }
     },
     "type": "Synapse.DataFrame"
    },
    "975a2c7a-cd53-424c-ba06-98965be1d1ac": {
     "persist_state": {
      "view": {
       "chartOptions": {
        "aggregationType": "sum",
        "binsNumber": 10,
        "categoryFieldKeys": [],
        "chartType": "bar",
        "isStacked": false,
        "seriesFieldKeys": [],
        "wordFrequency": "-1"
       },
       "tableOptions": {},
       "type": "details",
       "viewOptionsGroup": [
        {
         "tabItems": [
          {
           "key": "0",
           "name": "Table",
           "options": {},
           "type": "table"
          }
         ]
        }
       ]
      }
     },
     "sync_state": {
      "isSummary": false,
      "language": "python",
      "table": {
       "rows": [],
       "schema": [
        {
         "key": "0",
         "name": "ErrorInformation_errorLocation_positionStart_lineNumber",
         "type": "string"
        },
        {
         "key": "1",
         "name": "DatasetName",
         "type": "string"
        },
        {
         "key": "2",
         "name": "TableName",
         "type": "string"
        },
        {
         "key": "3",
         "name": "PartitionName",
         "type": "string"
        }
       ],
       "truncated": false
      },
      "wranglerEntryContext": {
       "candidateVariableNames": [
        "df_temp"
       ],
       "dataframeType": "pandas"
      }
     },
     "type": "Synapse.DataFrame"
    },
    "9776c024-0767-4df0-a21d-189b359d2ec2": {
     "persist_state": {
      "view": {
       "chartOptions": {
        "aggregationType": "sum",
        "binsNumber": 10,
        "categoryFieldKeys": [],
        "chartType": "bar",
        "isStacked": false,
        "seriesFieldKeys": [],
        "wordFrequency": "-1"
       },
       "tableOptions": {},
       "type": "details",
       "viewOptionsGroup": [
        {
         "tabItems": [
          {
           "key": "0",
           "name": "Table",
           "options": {},
           "type": "table"
          }
         ]
        }
       ]
      }
     },
     "sync_state": {
      "isSummary": false,
      "language": "python",
      "table": {
       "rows": [],
       "schema": [
        {
         "key": "0",
         "name": "ErrorInformation_errorLocation_positionStart_lineNumber",
         "type": "string"
        },
        {
         "key": "1",
         "name": "DatasetName",
         "type": "string"
        },
        {
         "key": "2",
         "name": "TableName",
         "type": "string"
        },
        {
         "key": "3",
         "name": "PartitionName",
         "type": "string"
        }
       ],
       "truncated": false
      },
      "wranglerEntryContext": {
       "candidateVariableNames": [
        "df_temp"
       ],
       "dataframeType": "pandas"
      }
     },
     "type": "Synapse.DataFrame"
    },
    "998a4c3d-b9d2-488f-9fa1-6e1656a5ec02": {
     "persist_state": {
      "view": {
       "chartOptions": {
        "aggregationType": "sum",
        "binsNumber": 10,
        "categoryFieldKeys": [],
        "chartType": "bar",
        "isStacked": false,
        "seriesFieldKeys": [],
        "wordFrequency": "-1"
       },
       "tableOptions": {},
       "type": "details",
       "viewOptionsGroup": [
        {
         "tabItems": [
          {
           "key": "0",
           "name": "Table",
           "options": {},
           "type": "table"
          }
         ]
        }
       ]
      }
     },
     "sync_state": {
      "isSummary": false,
      "language": "python",
      "table": {
       "rows": [],
       "schema": [
        {
         "key": "0",
         "name": "ErrorInformation_errorLocation_positionStart_lineNumber",
         "type": "string"
        },
        {
         "key": "1",
         "name": "DatasetName",
         "type": "string"
        },
        {
         "key": "2",
         "name": "TableName",
         "type": "string"
        },
        {
         "key": "3",
         "name": "PartitionName",
         "type": "string"
        }
       ],
       "truncated": false
      },
      "wranglerEntryContext": {
       "candidateVariableNames": [
        "df_temp"
       ],
       "dataframeType": "pandas"
      }
     },
     "type": "Synapse.DataFrame"
    },
    "9a1f70f0-d166-49ba-92d2-2ac1c4ec3f59": {
     "persist_state": {
      "view": {
       "chartOptions": {
        "aggregationType": "sum",
        "binsNumber": 10,
        "categoryFieldKeys": [],
        "chartType": "bar",
        "isStacked": false,
        "seriesFieldKeys": [],
        "wordFrequency": "-1"
       },
       "tableOptions": {},
       "type": "details",
       "viewOptionsGroup": [
        {
         "tabItems": [
          {
           "key": "0",
           "name": "Table",
           "options": {},
           "type": "table"
          }
         ]
        }
       ]
      }
     },
     "sync_state": {
      "isSummary": false,
      "language": "python",
      "table": {
       "rows": [],
       "schema": [
        {
         "key": "0",
         "name": "ErrorInformation_errorLocation_positionStart_lineNumber",
         "type": "string"
        },
        {
         "key": "1",
         "name": "DatasetName",
         "type": "string"
        },
        {
         "key": "2",
         "name": "TableName",
         "type": "string"
        },
        {
         "key": "3",
         "name": "PartitionName",
         "type": "string"
        }
       ],
       "truncated": false
      },
      "wranglerEntryContext": {
       "candidateVariableNames": [
        "df_temp"
       ],
       "dataframeType": "pandas"
      }
     },
     "type": "Synapse.DataFrame"
    },
    "9b12ce05-697d-4bd3-8e44-3ab23b9d003b": {
     "persist_state": {
      "view": {
       "chartOptions": {
        "aggregationType": "sum",
        "binsNumber": 10,
        "categoryFieldKeys": [],
        "chartType": "bar",
        "isStacked": false,
        "seriesFieldKeys": [],
        "wordFrequency": "-1"
       },
       "tableOptions": {},
       "type": "details",
       "viewOptionsGroup": [
        {
         "tabItems": [
          {
           "key": "0",
           "name": "Table",
           "options": {},
           "type": "table"
          }
         ]
        }
       ]
      }
     },
     "sync_state": {
      "isSummary": false,
      "language": "python",
      "table": {
       "rows": [],
       "schema": [
        {
         "key": "0",
         "name": "ErrorInformation_errorLocation_positionStart_lineNumber",
         "type": "string"
        },
        {
         "key": "1",
         "name": "DatasetName",
         "type": "string"
        },
        {
         "key": "2",
         "name": "TableName",
         "type": "string"
        },
        {
         "key": "3",
         "name": "PartitionName",
         "type": "string"
        }
       ],
       "truncated": false
      },
      "wranglerEntryContext": {
       "candidateVariableNames": [
        "df_temp"
       ],
       "dataframeType": "pandas"
      }
     },
     "type": "Synapse.DataFrame"
    },
    "9b22f543-c813-4da9-88b7-f215723b99bb": {
     "persist_state": {
      "view": {
       "chartOptions": {
        "aggregationType": "sum",
        "binsNumber": 10,
        "categoryFieldKeys": [],
        "chartType": "bar",
        "isStacked": false,
        "seriesFieldKeys": [],
        "wordFrequency": "-1"
       },
       "tableOptions": {},
       "type": "details",
       "viewOptionsGroup": [
        {
         "tabItems": [
          {
           "key": "0",
           "name": "Table",
           "options": {},
           "type": "table"
          }
         ]
        }
       ]
      }
     },
     "sync_state": {
      "isSummary": false,
      "language": "python",
      "table": {
       "rows": [],
       "schema": [
        {
         "key": "0",
         "name": "ErrorInformation_errorLocation_positionStart_lineNumber",
         "type": "string"
        },
        {
         "key": "1",
         "name": "DatasetName",
         "type": "string"
        },
        {
         "key": "2",
         "name": "TableName",
         "type": "string"
        },
        {
         "key": "3",
         "name": "PartitionName",
         "type": "string"
        }
       ],
       "truncated": false
      },
      "wranglerEntryContext": {
       "candidateVariableNames": [
        "df_temp"
       ],
       "dataframeType": "pandas"
      }
     },
     "type": "Synapse.DataFrame"
    },
    "9befe1db-aa40-4a89-ad0d-caadb3ef833c": {
     "persist_state": {
      "view": {
       "chartOptions": {
        "aggregationType": "sum",
        "binsNumber": 10,
        "categoryFieldKeys": [],
        "chartType": "bar",
        "isStacked": false,
        "seriesFieldKeys": [],
        "wordFrequency": "-1"
       },
       "tableOptions": {},
       "type": "details",
       "viewOptionsGroup": [
        {
         "tabItems": [
          {
           "key": "0",
           "name": "Table",
           "options": {},
           "type": "table"
          }
         ]
        }
       ]
      }
     },
     "sync_state": {
      "isSummary": false,
      "language": "python",
      "table": {
       "rows": [],
       "schema": [
        {
         "key": "0",
         "name": "ErrorInformation_errorLocation_positionStart_lineNumber",
         "type": "string"
        },
        {
         "key": "1",
         "name": "DatasetName",
         "type": "string"
        },
        {
         "key": "2",
         "name": "TableName",
         "type": "string"
        },
        {
         "key": "3",
         "name": "PartitionName",
         "type": "string"
        }
       ],
       "truncated": false
      },
      "wranglerEntryContext": {
       "candidateVariableNames": [
        "df_temp"
       ],
       "dataframeType": "pandas"
      }
     },
     "type": "Synapse.DataFrame"
    },
    "9bff3559-1baa-4f0e-bd76-18f422768967": {
     "persist_state": {
      "view": {
       "chartOptions": {
        "aggregationType": "sum",
        "binsNumber": 10,
        "categoryFieldKeys": [],
        "chartType": "bar",
        "isStacked": false,
        "seriesFieldKeys": [],
        "wordFrequency": "-1"
       },
       "tableOptions": {},
       "type": "details",
       "viewOptionsGroup": [
        {
         "tabItems": [
          {
           "key": "0",
           "name": "Table",
           "options": {},
           "type": "table"
          }
         ]
        }
       ]
      }
     },
     "sync_state": {
      "isSummary": false,
      "language": "python",
      "table": {
       "rows": [],
       "schema": [
        {
         "key": "0",
         "name": "ErrorInformation_errorLocation_positionStart_lineNumber",
         "type": "string"
        },
        {
         "key": "1",
         "name": "DatasetName",
         "type": "string"
        },
        {
         "key": "2",
         "name": "TableName",
         "type": "string"
        },
        {
         "key": "3",
         "name": "PartitionName",
         "type": "string"
        }
       ],
       "truncated": false
      },
      "wranglerEntryContext": {
       "candidateVariableNames": [
        "df_temp"
       ],
       "dataframeType": "pandas"
      }
     },
     "type": "Synapse.DataFrame"
    },
    "9c3c3dab-bb46-4ec5-a085-5725d9153e95": {
     "persist_state": {
      "view": {
       "chartOptions": {
        "aggregationType": "sum",
        "binsNumber": 10,
        "categoryFieldKeys": [],
        "chartType": "bar",
        "isStacked": false,
        "seriesFieldKeys": [],
        "wordFrequency": "-1"
       },
       "tableOptions": {},
       "type": "details",
       "viewOptionsGroup": [
        {
         "tabItems": [
          {
           "key": "0",
           "name": "Table",
           "options": {},
           "type": "table"
          }
         ]
        }
       ]
      }
     },
     "sync_state": {
      "isSummary": false,
      "language": "python",
      "table": {
       "rows": [],
       "schema": [
        {
         "key": "0",
         "name": "ErrorInformation_errorLocation_positionStart_lineNumber",
         "type": "string"
        },
        {
         "key": "1",
         "name": "DatasetName",
         "type": "string"
        },
        {
         "key": "2",
         "name": "TableName",
         "type": "string"
        },
        {
         "key": "3",
         "name": "PartitionName",
         "type": "string"
        }
       ],
       "truncated": false
      },
      "wranglerEntryContext": {
       "candidateVariableNames": [
        "df_temp"
       ],
       "dataframeType": "pandas"
      }
     },
     "type": "Synapse.DataFrame"
    },
    "9e4ffea9-d9fb-4375-bdc7-efd371abb455": {
     "persist_state": {
      "view": {
       "chartOptions": {
        "aggregationType": "sum",
        "binsNumber": 10,
        "categoryFieldKeys": [],
        "chartType": "bar",
        "isStacked": false,
        "seriesFieldKeys": [],
        "wordFrequency": "-1"
       },
       "tableOptions": {},
       "type": "details",
       "viewOptionsGroup": [
        {
         "tabItems": [
          {
           "key": "0",
           "name": "Table",
           "options": {},
           "type": "table"
          }
         ]
        }
       ]
      }
     },
     "sync_state": {
      "isSummary": false,
      "language": "python",
      "table": {
       "rows": [],
       "schema": [
        {
         "key": "0",
         "name": "ErrorInformation_errorLocation_positionStart_lineNumber",
         "type": "string"
        },
        {
         "key": "1",
         "name": "DatasetName",
         "type": "string"
        },
        {
         "key": "2",
         "name": "TableName",
         "type": "string"
        },
        {
         "key": "3",
         "name": "PartitionName",
         "type": "string"
        }
       ],
       "truncated": false
      },
      "wranglerEntryContext": {
       "candidateVariableNames": [
        "df_temp"
       ],
       "dataframeType": "pandas"
      }
     },
     "type": "Synapse.DataFrame"
    },
    "9f3d17a1-6e08-4de4-a12f-28b1f56e2d7a": {
     "persist_state": {
      "view": {
       "chartOptions": {
        "aggregationType": "sum",
        "binsNumber": 10,
        "categoryFieldKeys": [],
        "chartType": "bar",
        "isStacked": false,
        "seriesFieldKeys": [],
        "wordFrequency": "-1"
       },
       "tableOptions": {},
       "type": "details",
       "viewOptionsGroup": [
        {
         "tabItems": [
          {
           "key": "0",
           "name": "Table",
           "options": {},
           "type": "table"
          }
         ]
        }
       ]
      }
     },
     "sync_state": {
      "isSummary": false,
      "language": "python",
      "table": {
       "rows": [],
       "schema": [
        {
         "key": "0",
         "name": "ErrorInformation_errorLocation_positionStart_lineNumber",
         "type": "string"
        },
        {
         "key": "1",
         "name": "DatasetName",
         "type": "string"
        },
        {
         "key": "2",
         "name": "TableName",
         "type": "string"
        },
        {
         "key": "3",
         "name": "PartitionName",
         "type": "string"
        }
       ],
       "truncated": false
      },
      "wranglerEntryContext": {
       "candidateVariableNames": [
        "df_temp"
       ],
       "dataframeType": "pandas"
      }
     },
     "type": "Synapse.DataFrame"
    },
    "9f5dd8da-9379-4841-a652-f11814bf64bd": {
     "persist_state": {
      "view": {
       "chartOptions": {
        "aggregationType": "sum",
        "binsNumber": 10,
        "categoryFieldKeys": [],
        "chartType": "bar",
        "isStacked": false,
        "seriesFieldKeys": [],
        "wordFrequency": "-1"
       },
       "tableOptions": {},
       "type": "details",
       "viewOptionsGroup": [
        {
         "tabItems": [
          {
           "key": "0",
           "name": "Table",
           "options": {},
           "type": "table"
          }
         ]
        }
       ]
      }
     },
     "sync_state": {
      "isSummary": false,
      "language": "python",
      "table": {
       "rows": [],
       "schema": [
        {
         "key": "0",
         "name": "ErrorInformation_errorLocation_positionStart_lineNumber",
         "type": "string"
        },
        {
         "key": "1",
         "name": "DatasetName",
         "type": "string"
        },
        {
         "key": "2",
         "name": "TableName",
         "type": "string"
        },
        {
         "key": "3",
         "name": "PartitionName",
         "type": "string"
        }
       ],
       "truncated": false
      },
      "wranglerEntryContext": {
       "candidateVariableNames": [
        "df_temp"
       ],
       "dataframeType": "pandas"
      }
     },
     "type": "Synapse.DataFrame"
    },
    "9fd870f4-422c-41ad-88c5-4a8e3c6a70b9": {
     "persist_state": {
      "view": {
       "chartOptions": {
        "aggregationType": "sum",
        "binsNumber": 10,
        "categoryFieldKeys": [],
        "chartType": "bar",
        "isStacked": false,
        "seriesFieldKeys": [],
        "wordFrequency": "-1"
       },
       "tableOptions": {},
       "type": "details",
       "viewOptionsGroup": [
        {
         "tabItems": [
          {
           "key": "0",
           "name": "Table",
           "options": {},
           "type": "table"
          }
         ]
        }
       ]
      }
     },
     "sync_state": {
      "isSummary": false,
      "language": "python",
      "table": {
       "rows": [],
       "schema": [
        {
         "key": "0",
         "name": "ErrorInformation_errorLocation_positionStart_lineNumber",
         "type": "string"
        },
        {
         "key": "1",
         "name": "DatasetName",
         "type": "string"
        },
        {
         "key": "2",
         "name": "TableName",
         "type": "string"
        },
        {
         "key": "3",
         "name": "PartitionName",
         "type": "string"
        }
       ],
       "truncated": false
      },
      "wranglerEntryContext": {
       "candidateVariableNames": [
        "df_temp"
       ],
       "dataframeType": "pandas"
      }
     },
     "type": "Synapse.DataFrame"
    },
    "a0bc247b-2d90-4f13-82b3-a766197f61a7": {
     "persist_state": {
      "view": {
       "chartOptions": {
        "aggregationType": "sum",
        "binsNumber": 10,
        "categoryFieldKeys": [],
        "chartType": "bar",
        "isStacked": false,
        "seriesFieldKeys": [],
        "wordFrequency": "-1"
       },
       "tableOptions": {},
       "type": "details",
       "viewOptionsGroup": [
        {
         "tabItems": [
          {
           "key": "0",
           "name": "Table",
           "options": {},
           "type": "table"
          }
         ]
        }
       ]
      }
     },
     "sync_state": {
      "isSummary": false,
      "language": "python",
      "table": {
       "rows": [],
       "schema": [
        {
         "key": "0",
         "name": "ErrorInformation_errorLocation_positionStart_lineNumber",
         "type": "string"
        },
        {
         "key": "1",
         "name": "DatasetName",
         "type": "string"
        },
        {
         "key": "2",
         "name": "TableName",
         "type": "string"
        },
        {
         "key": "3",
         "name": "PartitionName",
         "type": "string"
        }
       ],
       "truncated": false
      },
      "wranglerEntryContext": {
       "candidateVariableNames": [
        "df_temp"
       ],
       "dataframeType": "pandas"
      }
     },
     "type": "Synapse.DataFrame"
    },
    "a13e949a-60cf-4d55-b555-47d30afc349a": {
     "persist_state": {
      "view": {
       "chartOptions": {
        "aggregationType": "sum",
        "binsNumber": 10,
        "categoryFieldKeys": [],
        "chartType": "bar",
        "isStacked": false,
        "seriesFieldKeys": [],
        "wordFrequency": "-1"
       },
       "tableOptions": {},
       "type": "details",
       "viewOptionsGroup": [
        {
         "tabItems": [
          {
           "key": "0",
           "name": "Table",
           "options": {},
           "type": "table"
          }
         ]
        }
       ]
      }
     },
     "sync_state": {
      "isSummary": false,
      "language": "python",
      "table": {
       "rows": [],
       "schema": [
        {
         "key": "0",
         "name": "ErrorInformation_errorLocation_positionStart_lineNumber",
         "type": "string"
        },
        {
         "key": "1",
         "name": "DatasetName",
         "type": "string"
        },
        {
         "key": "2",
         "name": "TableName",
         "type": "string"
        },
        {
         "key": "3",
         "name": "PartitionName",
         "type": "string"
        }
       ],
       "truncated": false
      },
      "wranglerEntryContext": {
       "candidateVariableNames": [
        "df_temp"
       ],
       "dataframeType": "pandas"
      }
     },
     "type": "Synapse.DataFrame"
    },
    "a1610824-6514-49fe-a9df-845714169f07": {
     "persist_state": {
      "view": {
       "chartOptions": {
        "aggregationType": "sum",
        "binsNumber": 10,
        "categoryFieldKeys": [],
        "chartType": "bar",
        "isStacked": false,
        "seriesFieldKeys": [],
        "wordFrequency": "-1"
       },
       "tableOptions": {},
       "type": "details",
       "viewOptionsGroup": [
        {
         "tabItems": [
          {
           "key": "0",
           "name": "Table",
           "options": {},
           "type": "table"
          }
         ]
        }
       ]
      }
     },
     "sync_state": {
      "isSummary": false,
      "language": "python",
      "table": {
       "rows": [],
       "schema": [
        {
         "key": "0",
         "name": "ErrorInformation_errorLocation_positionStart_lineNumber",
         "type": "string"
        },
        {
         "key": "1",
         "name": "DatasetName",
         "type": "string"
        },
        {
         "key": "2",
         "name": "TableName",
         "type": "string"
        },
        {
         "key": "3",
         "name": "PartitionName",
         "type": "string"
        }
       ],
       "truncated": false
      },
      "wranglerEntryContext": {
       "candidateVariableNames": [
        "df_temp"
       ],
       "dataframeType": "pandas"
      }
     },
     "type": "Synapse.DataFrame"
    },
    "a2d33b0d-b67f-41bf-b3c6-510b4b76882e": {
     "persist_state": {
      "view": {
       "chartOptions": {
        "aggregationType": "sum",
        "binsNumber": 10,
        "categoryFieldKeys": [],
        "chartType": "bar",
        "isStacked": false,
        "seriesFieldKeys": [],
        "wordFrequency": "-1"
       },
       "tableOptions": {},
       "type": "details",
       "viewOptionsGroup": [
        {
         "tabItems": [
          {
           "key": "0",
           "name": "Table",
           "options": {},
           "type": "table"
          }
         ]
        }
       ]
      }
     },
     "sync_state": {
      "isSummary": false,
      "language": "python",
      "table": {
       "rows": [],
       "schema": [
        {
         "key": "0",
         "name": "ErrorInformation_errorLocation_positionStart_lineNumber",
         "type": "string"
        },
        {
         "key": "1",
         "name": "DatasetName",
         "type": "string"
        },
        {
         "key": "2",
         "name": "TableName",
         "type": "string"
        },
        {
         "key": "3",
         "name": "PartitionName",
         "type": "string"
        }
       ],
       "truncated": false
      },
      "wranglerEntryContext": {
       "candidateVariableNames": [
        "df_temp"
       ],
       "dataframeType": "pandas"
      }
     },
     "type": "Synapse.DataFrame"
    },
    "a31389fb-fdb4-4759-8cfb-623075ce5596": {
     "persist_state": {
      "view": {
       "chartOptions": {
        "aggregationType": "sum",
        "binsNumber": 10,
        "categoryFieldKeys": [],
        "chartType": "bar",
        "isStacked": false,
        "seriesFieldKeys": [],
        "wordFrequency": "-1"
       },
       "tableOptions": {},
       "type": "details",
       "viewOptionsGroup": [
        {
         "tabItems": [
          {
           "key": "0",
           "name": "Table",
           "options": {},
           "type": "table"
          }
         ]
        }
       ]
      }
     },
     "sync_state": {
      "isSummary": false,
      "language": "python",
      "table": {
       "rows": [],
       "schema": [
        {
         "key": "0",
         "name": "ErrorInformation_errorLocation_positionStart_lineNumber",
         "type": "string"
        },
        {
         "key": "1",
         "name": "DatasetName",
         "type": "string"
        },
        {
         "key": "2",
         "name": "TableName",
         "type": "string"
        },
        {
         "key": "3",
         "name": "PartitionName",
         "type": "string"
        }
       ],
       "truncated": false
      },
      "wranglerEntryContext": {
       "candidateVariableNames": [
        "df_temp"
       ],
       "dataframeType": "pandas"
      }
     },
     "type": "Synapse.DataFrame"
    },
    "a4cc1131-dbbb-4a48-be09-638b4d5f7dae": {
     "persist_state": {
      "view": {
       "chartOptions": {
        "aggregationType": "sum",
        "binsNumber": 10,
        "categoryFieldKeys": [],
        "chartType": "bar",
        "isStacked": false,
        "seriesFieldKeys": [],
        "wordFrequency": "-1"
       },
       "tableOptions": {},
       "type": "details",
       "viewOptionsGroup": [
        {
         "tabItems": [
          {
           "key": "0",
           "name": "Table",
           "options": {},
           "type": "table"
          }
         ]
        }
       ]
      }
     },
     "sync_state": {
      "isSummary": false,
      "language": "python",
      "table": {
       "rows": [],
       "schema": [
        {
         "key": "0",
         "name": "ErrorInformation_errorLocation_positionStart_lineNumber",
         "type": "string"
        },
        {
         "key": "1",
         "name": "DatasetName",
         "type": "string"
        },
        {
         "key": "2",
         "name": "TableName",
         "type": "string"
        },
        {
         "key": "3",
         "name": "PartitionName",
         "type": "string"
        }
       ],
       "truncated": false
      },
      "wranglerEntryContext": {
       "candidateVariableNames": [
        "df_temp"
       ],
       "dataframeType": "pandas"
      }
     },
     "type": "Synapse.DataFrame"
    },
    "a58fd30a-0a52-44de-a05f-41fbba223003": {
     "persist_state": {
      "view": {
       "chartOptions": {
        "aggregationType": "sum",
        "binsNumber": 10,
        "categoryFieldKeys": [],
        "chartType": "bar",
        "isStacked": false,
        "seriesFieldKeys": [],
        "wordFrequency": "-1"
       },
       "tableOptions": {},
       "type": "details",
       "viewOptionsGroup": [
        {
         "tabItems": [
          {
           "key": "0",
           "name": "Table",
           "options": {},
           "type": "table"
          }
         ]
        }
       ]
      }
     },
     "sync_state": {
      "isSummary": false,
      "language": "python",
      "table": {
       "rows": [],
       "schema": [
        {
         "key": "0",
         "name": "ErrorInformation_errorLocation_positionStart_lineNumber",
         "type": "string"
        },
        {
         "key": "1",
         "name": "DatasetName",
         "type": "string"
        },
        {
         "key": "2",
         "name": "TableName",
         "type": "string"
        },
        {
         "key": "3",
         "name": "PartitionName",
         "type": "string"
        }
       ],
       "truncated": false
      },
      "wranglerEntryContext": {
       "candidateVariableNames": [
        "df_temp"
       ],
       "dataframeType": "pandas"
      }
     },
     "type": "Synapse.DataFrame"
    },
    "a615a797-0901-4954-802b-1060edfef360": {
     "persist_state": {
      "view": {
       "chartOptions": {
        "aggregationType": "sum",
        "binsNumber": 10,
        "categoryFieldKeys": [],
        "chartType": "bar",
        "isStacked": false,
        "seriesFieldKeys": [],
        "wordFrequency": "-1"
       },
       "tableOptions": {},
       "type": "details",
       "viewOptionsGroup": [
        {
         "tabItems": [
          {
           "key": "0",
           "name": "Table",
           "options": {},
           "type": "table"
          }
         ]
        }
       ]
      }
     },
     "sync_state": {
      "isSummary": false,
      "language": "python",
      "table": {
       "rows": [],
       "schema": [
        {
         "key": "0",
         "name": "ErrorInformation_errorLocation_positionStart_lineNumber",
         "type": "string"
        },
        {
         "key": "1",
         "name": "DatasetName",
         "type": "string"
        },
        {
         "key": "2",
         "name": "TableName",
         "type": "string"
        },
        {
         "key": "3",
         "name": "PartitionName",
         "type": "string"
        }
       ],
       "truncated": false
      },
      "wranglerEntryContext": {
       "candidateVariableNames": [
        "df_temp"
       ],
       "dataframeType": "pandas"
      }
     },
     "type": "Synapse.DataFrame"
    },
    "a6ebfcdf-c044-45e9-abb1-593bf324eb48": {
     "persist_state": {
      "view": {
       "chartOptions": {
        "aggregationType": "sum",
        "binsNumber": 10,
        "categoryFieldKeys": [],
        "chartType": "bar",
        "isStacked": false,
        "seriesFieldKeys": [],
        "wordFrequency": "-1"
       },
       "tableOptions": {},
       "type": "details",
       "viewOptionsGroup": [
        {
         "tabItems": [
          {
           "key": "0",
           "name": "Table",
           "options": {},
           "type": "table"
          }
         ]
        }
       ]
      }
     },
     "sync_state": {
      "isSummary": false,
      "language": "python",
      "table": {
       "rows": [],
       "schema": [
        {
         "key": "0",
         "name": "ErrorInformation_errorLocation_positionStart_lineNumber",
         "type": "string"
        },
        {
         "key": "1",
         "name": "DatasetName",
         "type": "string"
        },
        {
         "key": "2",
         "name": "TableName",
         "type": "string"
        },
        {
         "key": "3",
         "name": "PartitionName",
         "type": "string"
        }
       ],
       "truncated": false
      },
      "wranglerEntryContext": {
       "candidateVariableNames": [
        "df_temp"
       ],
       "dataframeType": "pandas"
      }
     },
     "type": "Synapse.DataFrame"
    },
    "a758ec11-d778-4d62-9cb9-7dcc3349efb8": {
     "persist_state": {
      "view": {
       "chartOptions": {
        "aggregationType": "sum",
        "binsNumber": 10,
        "categoryFieldKeys": [],
        "chartType": "bar",
        "isStacked": false,
        "seriesFieldKeys": [],
        "wordFrequency": "-1"
       },
       "tableOptions": {},
       "type": "details",
       "viewOptionsGroup": [
        {
         "tabItems": [
          {
           "key": "0",
           "name": "Table",
           "options": {},
           "type": "table"
          }
         ]
        }
       ]
      }
     },
     "sync_state": {
      "isSummary": false,
      "language": "python",
      "table": {
       "rows": [],
       "schema": [
        {
         "key": "0",
         "name": "ErrorInformation_errorLocation_positionStart_lineNumber",
         "type": "string"
        },
        {
         "key": "1",
         "name": "DatasetName",
         "type": "string"
        },
        {
         "key": "2",
         "name": "TableName",
         "type": "string"
        },
        {
         "key": "3",
         "name": "PartitionName",
         "type": "string"
        }
       ],
       "truncated": false
      },
      "wranglerEntryContext": {
       "candidateVariableNames": [
        "df_temp"
       ],
       "dataframeType": "pandas"
      }
     },
     "type": "Synapse.DataFrame"
    },
    "a7cb98a1-bd45-4b1c-a346-d09c1f8bd8b6": {
     "persist_state": {
      "view": {
       "chartOptions": {
        "aggregationType": "sum",
        "binsNumber": 10,
        "categoryFieldKeys": [],
        "chartType": "bar",
        "isStacked": false,
        "seriesFieldKeys": [],
        "wordFrequency": "-1"
       },
       "tableOptions": {},
       "type": "details",
       "viewOptionsGroup": [
        {
         "tabItems": [
          {
           "key": "0",
           "name": "Table",
           "options": {},
           "type": "table"
          }
         ]
        }
       ]
      }
     },
     "sync_state": {
      "isSummary": false,
      "language": "python",
      "table": {
       "rows": [],
       "schema": [
        {
         "key": "0",
         "name": "ErrorInformation_errorLocation_positionStart_lineNumber",
         "type": "string"
        },
        {
         "key": "1",
         "name": "DatasetName",
         "type": "string"
        },
        {
         "key": "2",
         "name": "TableName",
         "type": "string"
        },
        {
         "key": "3",
         "name": "PartitionName",
         "type": "string"
        }
       ],
       "truncated": false
      },
      "wranglerEntryContext": {
       "candidateVariableNames": [
        "df_temp"
       ],
       "dataframeType": "pandas"
      }
     },
     "type": "Synapse.DataFrame"
    },
    "a90442f7-8107-40ae-a866-0210c2f636b6": {
     "persist_state": {
      "view": {
       "chartOptions": {
        "aggregationType": "sum",
        "binsNumber": 10,
        "categoryFieldKeys": [],
        "chartType": "bar",
        "isStacked": false,
        "seriesFieldKeys": [],
        "wordFrequency": "-1"
       },
       "tableOptions": {},
       "type": "details",
       "viewOptionsGroup": [
        {
         "tabItems": [
          {
           "key": "0",
           "name": "Table",
           "options": {},
           "type": "table"
          }
         ]
        }
       ]
      }
     },
     "sync_state": {
      "isSummary": false,
      "language": "python",
      "table": {
       "rows": [],
       "schema": [
        {
         "key": "0",
         "name": "ErrorInformation_errorLocation_positionStart_lineNumber",
         "type": "string"
        },
        {
         "key": "1",
         "name": "DatasetName",
         "type": "string"
        },
        {
         "key": "2",
         "name": "TableName",
         "type": "string"
        },
        {
         "key": "3",
         "name": "PartitionName",
         "type": "string"
        }
       ],
       "truncated": false
      },
      "wranglerEntryContext": {
       "candidateVariableNames": [
        "df_temp"
       ],
       "dataframeType": "pandas"
      }
     },
     "type": "Synapse.DataFrame"
    },
    "a9a26f8a-5aae-4fc8-b8d7-75325ce0647c": {
     "persist_state": {
      "view": {
       "chartOptions": {
        "aggregationType": "sum",
        "binsNumber": 10,
        "categoryFieldKeys": [],
        "chartType": "bar",
        "isStacked": false,
        "seriesFieldKeys": [],
        "wordFrequency": "-1"
       },
       "tableOptions": {},
       "type": "details",
       "viewOptionsGroup": [
        {
         "tabItems": [
          {
           "key": "0",
           "name": "Table",
           "options": {},
           "type": "table"
          }
         ]
        }
       ]
      }
     },
     "sync_state": {
      "isSummary": false,
      "language": "python",
      "table": {
       "rows": [],
       "schema": [
        {
         "key": "0",
         "name": "ErrorInformation_errorLocation_positionStart_lineNumber",
         "type": "string"
        },
        {
         "key": "1",
         "name": "DatasetName",
         "type": "string"
        },
        {
         "key": "2",
         "name": "TableName",
         "type": "string"
        },
        {
         "key": "3",
         "name": "PartitionName",
         "type": "string"
        }
       ],
       "truncated": false
      },
      "wranglerEntryContext": {
       "candidateVariableNames": [
        "df_temp"
       ],
       "dataframeType": "pandas"
      }
     },
     "type": "Synapse.DataFrame"
    },
    "a9fc5f3b-6b8a-4f94-b2ad-bf1c08271f63": {
     "persist_state": {
      "view": {
       "chartOptions": {
        "aggregationType": "sum",
        "binsNumber": 10,
        "categoryFieldKeys": [],
        "chartType": "bar",
        "isStacked": false,
        "seriesFieldKeys": [],
        "wordFrequency": "-1"
       },
       "tableOptions": {},
       "type": "details",
       "viewOptionsGroup": [
        {
         "tabItems": [
          {
           "key": "0",
           "name": "Table",
           "options": {},
           "type": "table"
          }
         ]
        }
       ]
      }
     },
     "sync_state": {
      "isSummary": false,
      "language": "python",
      "table": {
       "rows": [],
       "schema": [
        {
         "key": "0",
         "name": "ErrorInformation_errorLocation_positionStart_lineNumber",
         "type": "string"
        },
        {
         "key": "1",
         "name": "DatasetName",
         "type": "string"
        },
        {
         "key": "2",
         "name": "TableName",
         "type": "string"
        },
        {
         "key": "3",
         "name": "PartitionName",
         "type": "string"
        }
       ],
       "truncated": false
      },
      "wranglerEntryContext": {
       "candidateVariableNames": [
        "df_temp"
       ],
       "dataframeType": "pandas"
      }
     },
     "type": "Synapse.DataFrame"
    },
    "ab2c55b9-985e-4d78-80cc-7cb7fa21c347": {
     "persist_state": {
      "view": {
       "chartOptions": {
        "aggregationType": "sum",
        "binsNumber": 10,
        "categoryFieldKeys": [],
        "chartType": "bar",
        "isStacked": false,
        "seriesFieldKeys": [],
        "wordFrequency": "-1"
       },
       "tableOptions": {},
       "type": "details",
       "viewOptionsGroup": [
        {
         "tabItems": [
          {
           "key": "0",
           "name": "Table",
           "options": {},
           "type": "table"
          }
         ]
        }
       ]
      }
     },
     "sync_state": {
      "isSummary": false,
      "language": "python",
      "table": {
       "rows": [],
       "schema": [
        {
         "key": "0",
         "name": "ErrorInformation_errorLocation_positionStart_lineNumber",
         "type": "string"
        },
        {
         "key": "1",
         "name": "DatasetName",
         "type": "string"
        },
        {
         "key": "2",
         "name": "TableName",
         "type": "string"
        },
        {
         "key": "3",
         "name": "PartitionName",
         "type": "string"
        }
       ],
       "truncated": false
      },
      "wranglerEntryContext": {
       "candidateVariableNames": [
        "df_temp"
       ],
       "dataframeType": "pandas"
      }
     },
     "type": "Synapse.DataFrame"
    },
    "ad529db1-f064-4d48-9aa1-96b4f9195e9c": {
     "persist_state": {
      "view": {
       "chartOptions": {
        "aggregationType": "sum",
        "binsNumber": 10,
        "categoryFieldKeys": [],
        "chartType": "bar",
        "isStacked": false,
        "seriesFieldKeys": [],
        "wordFrequency": "-1"
       },
       "tableOptions": {},
       "type": "details",
       "viewOptionsGroup": [
        {
         "tabItems": [
          {
           "key": "0",
           "name": "Table",
           "options": {},
           "type": "table"
          }
         ]
        }
       ]
      }
     },
     "sync_state": {
      "isSummary": false,
      "language": "python",
      "table": {
       "rows": [],
       "schema": [
        {
         "key": "0",
         "name": "ErrorInformation_errorLocation_positionStart_lineNumber",
         "type": "string"
        },
        {
         "key": "1",
         "name": "DatasetName",
         "type": "string"
        },
        {
         "key": "2",
         "name": "TableName",
         "type": "string"
        },
        {
         "key": "3",
         "name": "PartitionName",
         "type": "string"
        }
       ],
       "truncated": false
      },
      "wranglerEntryContext": {
       "candidateVariableNames": [
        "df_temp"
       ],
       "dataframeType": "pandas"
      }
     },
     "type": "Synapse.DataFrame"
    },
    "ad68de28-2a2f-4b67-8a5c-464f5eef05df": {
     "persist_state": {
      "view": {
       "chartOptions": {
        "aggregationType": "sum",
        "binsNumber": 10,
        "categoryFieldKeys": [],
        "chartType": "bar",
        "isStacked": false,
        "seriesFieldKeys": [],
        "wordFrequency": "-1"
       },
       "tableOptions": {},
       "type": "details",
       "viewOptionsGroup": [
        {
         "tabItems": [
          {
           "key": "0",
           "name": "Table",
           "options": {},
           "type": "table"
          }
         ]
        }
       ]
      }
     },
     "sync_state": {
      "isSummary": false,
      "language": "python",
      "table": {
       "rows": [],
       "schema": [
        {
         "key": "0",
         "name": "ErrorInformation_errorLocation_positionStart_lineNumber",
         "type": "string"
        },
        {
         "key": "1",
         "name": "DatasetName",
         "type": "string"
        },
        {
         "key": "2",
         "name": "TableName",
         "type": "string"
        },
        {
         "key": "3",
         "name": "PartitionName",
         "type": "string"
        }
       ],
       "truncated": false
      },
      "wranglerEntryContext": {
       "candidateVariableNames": [
        "df_temp"
       ],
       "dataframeType": "pandas"
      }
     },
     "type": "Synapse.DataFrame"
    },
    "aee40df4-2005-4159-99bf-7bfcdfca4d45": {
     "persist_state": {
      "view": {
       "chartOptions": {
        "aggregationType": "sum",
        "binsNumber": 10,
        "categoryFieldKeys": [],
        "chartType": "bar",
        "isStacked": false,
        "seriesFieldKeys": [],
        "wordFrequency": "-1"
       },
       "tableOptions": {},
       "type": "details",
       "viewOptionsGroup": [
        {
         "tabItems": [
          {
           "key": "0",
           "name": "Table",
           "options": {},
           "type": "table"
          }
         ]
        }
       ]
      }
     },
     "sync_state": {
      "isSummary": false,
      "language": "python",
      "table": {
       "rows": [],
       "schema": [
        {
         "key": "0",
         "name": "ErrorInformation_errorLocation_positionStart_lineNumber",
         "type": "string"
        },
        {
         "key": "1",
         "name": "DatasetName",
         "type": "string"
        },
        {
         "key": "2",
         "name": "TableName",
         "type": "string"
        },
        {
         "key": "3",
         "name": "PartitionName",
         "type": "string"
        }
       ],
       "truncated": false
      },
      "wranglerEntryContext": {
       "candidateVariableNames": [
        "df_temp"
       ],
       "dataframeType": "pandas"
      }
     },
     "type": "Synapse.DataFrame"
    },
    "b13c897b-0b9e-4591-a875-7ce363d79df3": {
     "persist_state": {
      "view": {
       "chartOptions": {
        "aggregationType": "sum",
        "binsNumber": 10,
        "categoryFieldKeys": [],
        "chartType": "bar",
        "isStacked": false,
        "seriesFieldKeys": [],
        "wordFrequency": "-1"
       },
       "tableOptions": {},
       "type": "details",
       "viewOptionsGroup": [
        {
         "tabItems": [
          {
           "key": "0",
           "name": "Table",
           "options": {},
           "type": "table"
          }
         ]
        }
       ]
      }
     },
     "sync_state": {
      "isSummary": false,
      "language": "python",
      "table": {
       "rows": [],
       "schema": [
        {
         "key": "0",
         "name": "ErrorInformation_errorLocation_positionStart_lineNumber",
         "type": "string"
        },
        {
         "key": "1",
         "name": "DatasetName",
         "type": "string"
        },
        {
         "key": "2",
         "name": "TableName",
         "type": "string"
        },
        {
         "key": "3",
         "name": "PartitionName",
         "type": "string"
        }
       ],
       "truncated": false
      },
      "wranglerEntryContext": {
       "candidateVariableNames": [
        "df_temp"
       ],
       "dataframeType": "pandas"
      }
     },
     "type": "Synapse.DataFrame"
    },
    "b3cfdc50-03bf-41e5-8e3c-eec4a32fad2b": {
     "persist_state": {
      "view": {
       "chartOptions": {
        "aggregationType": "sum",
        "binsNumber": 10,
        "categoryFieldKeys": [],
        "chartType": "bar",
        "isStacked": false,
        "seriesFieldKeys": [],
        "wordFrequency": "-1"
       },
       "tableOptions": {},
       "type": "details",
       "viewOptionsGroup": [
        {
         "tabItems": [
          {
           "key": "0",
           "name": "Table",
           "options": {},
           "type": "table"
          }
         ]
        }
       ]
      }
     },
     "sync_state": {
      "isSummary": false,
      "language": "python",
      "table": {
       "rows": [],
       "schema": [
        {
         "key": "0",
         "name": "ErrorInformation_errorLocation_positionStart_lineNumber",
         "type": "string"
        },
        {
         "key": "1",
         "name": "DatasetName",
         "type": "string"
        },
        {
         "key": "2",
         "name": "TableName",
         "type": "string"
        },
        {
         "key": "3",
         "name": "PartitionName",
         "type": "string"
        }
       ],
       "truncated": false
      },
      "wranglerEntryContext": {
       "candidateVariableNames": [
        "df_temp"
       ],
       "dataframeType": "pandas"
      }
     },
     "type": "Synapse.DataFrame"
    },
    "b40534c7-64ef-4d33-95e7-8d6786a3f61d": {
     "persist_state": {
      "view": {
       "chartOptions": {
        "aggregationType": "sum",
        "binsNumber": 10,
        "categoryFieldKeys": [],
        "chartType": "bar",
        "isStacked": false,
        "seriesFieldKeys": [],
        "wordFrequency": "-1"
       },
       "tableOptions": {},
       "type": "details",
       "viewOptionsGroup": [
        {
         "tabItems": [
          {
           "key": "0",
           "name": "Table",
           "options": {},
           "type": "table"
          }
         ]
        }
       ]
      }
     },
     "sync_state": {
      "isSummary": false,
      "language": "python",
      "table": {
       "rows": [],
       "schema": [
        {
         "key": "0",
         "name": "ErrorInformation_errorLocation_positionStart_lineNumber",
         "type": "string"
        },
        {
         "key": "1",
         "name": "DatasetName",
         "type": "string"
        },
        {
         "key": "2",
         "name": "TableName",
         "type": "string"
        },
        {
         "key": "3",
         "name": "PartitionName",
         "type": "string"
        }
       ],
       "truncated": false
      },
      "wranglerEntryContext": {
       "candidateVariableNames": [
        "df_temp"
       ],
       "dataframeType": "pandas"
      }
     },
     "type": "Synapse.DataFrame"
    },
    "b41c7333-e5a7-45d1-92e4-6838f987df6a": {
     "persist_state": {
      "view": {
       "chartOptions": {
        "aggregationType": "sum",
        "binsNumber": 10,
        "categoryFieldKeys": [],
        "chartType": "bar",
        "isStacked": false,
        "seriesFieldKeys": [],
        "wordFrequency": "-1"
       },
       "tableOptions": {},
       "type": "details",
       "viewOptionsGroup": [
        {
         "tabItems": [
          {
           "key": "0",
           "name": "Table",
           "options": {},
           "type": "table"
          }
         ]
        }
       ]
      }
     },
     "sync_state": {
      "isSummary": false,
      "language": "python",
      "table": {
       "rows": [],
       "schema": [
        {
         "key": "0",
         "name": "ErrorInformation_errorLocation_positionStart_lineNumber",
         "type": "string"
        },
        {
         "key": "1",
         "name": "DatasetName",
         "type": "string"
        },
        {
         "key": "2",
         "name": "TableName",
         "type": "string"
        },
        {
         "key": "3",
         "name": "PartitionName",
         "type": "string"
        }
       ],
       "truncated": false
      },
      "wranglerEntryContext": {
       "candidateVariableNames": [
        "df_temp"
       ],
       "dataframeType": "pandas"
      }
     },
     "type": "Synapse.DataFrame"
    },
    "b498e3e4-d070-4cec-a202-f653186daa04": {
     "persist_state": {
      "view": {
       "chartOptions": {
        "aggregationType": "sum",
        "binsNumber": 10,
        "categoryFieldKeys": [],
        "chartType": "bar",
        "isStacked": false,
        "seriesFieldKeys": [],
        "wordFrequency": "-1"
       },
       "tableOptions": {},
       "type": "details",
       "viewOptionsGroup": [
        {
         "tabItems": [
          {
           "key": "0",
           "name": "Table",
           "options": {},
           "type": "table"
          }
         ]
        }
       ]
      }
     },
     "sync_state": {
      "isSummary": false,
      "language": "python",
      "table": {
       "rows": [],
       "schema": [
        {
         "key": "0",
         "name": "ErrorInformation_errorLocation_positionStart_lineNumber",
         "type": "string"
        },
        {
         "key": "1",
         "name": "DatasetName",
         "type": "string"
        },
        {
         "key": "2",
         "name": "TableName",
         "type": "string"
        },
        {
         "key": "3",
         "name": "PartitionName",
         "type": "string"
        }
       ],
       "truncated": false
      },
      "wranglerEntryContext": {
       "candidateVariableNames": [
        "df_temp"
       ],
       "dataframeType": "pandas"
      }
     },
     "type": "Synapse.DataFrame"
    },
    "b86b6ae3-83e2-4a25-913e-1bf7d5ff7ccd": {
     "persist_state": {
      "view": {
       "chartOptions": {
        "aggregationType": "sum",
        "binsNumber": 10,
        "categoryFieldKeys": [],
        "chartType": "bar",
        "isStacked": false,
        "seriesFieldKeys": [],
        "wordFrequency": "-1"
       },
       "tableOptions": {},
       "type": "details",
       "viewOptionsGroup": [
        {
         "tabItems": [
          {
           "key": "0",
           "name": "Table",
           "options": {},
           "type": "table"
          }
         ]
        }
       ]
      }
     },
     "sync_state": {
      "isSummary": false,
      "language": "python",
      "table": {
       "rows": [],
       "schema": [
        {
         "key": "0",
         "name": "ErrorInformation_errorLocation_positionStart_lineNumber",
         "type": "string"
        },
        {
         "key": "1",
         "name": "DatasetName",
         "type": "string"
        },
        {
         "key": "2",
         "name": "TableName",
         "type": "string"
        },
        {
         "key": "3",
         "name": "PartitionName",
         "type": "string"
        }
       ],
       "truncated": false
      },
      "wranglerEntryContext": {
       "candidateVariableNames": [
        "df_temp"
       ],
       "dataframeType": "pandas"
      }
     },
     "type": "Synapse.DataFrame"
    },
    "b87e4d6d-1012-4731-a03f-2912a584d154": {
     "persist_state": {
      "view": {
       "chartOptions": {
        "aggregationType": "sum",
        "binsNumber": 10,
        "categoryFieldKeys": [],
        "chartType": "bar",
        "isStacked": false,
        "seriesFieldKeys": [],
        "wordFrequency": "-1"
       },
       "tableOptions": {},
       "type": "details",
       "viewOptionsGroup": [
        {
         "tabItems": [
          {
           "key": "0",
           "name": "Table",
           "options": {},
           "type": "table"
          }
         ]
        }
       ]
      }
     },
     "sync_state": {
      "isSummary": false,
      "language": "python",
      "table": {
       "rows": [],
       "schema": [
        {
         "key": "0",
         "name": "ErrorInformation_errorLocation_positionStart_lineNumber",
         "type": "string"
        },
        {
         "key": "1",
         "name": "DatasetName",
         "type": "string"
        },
        {
         "key": "2",
         "name": "TableName",
         "type": "string"
        },
        {
         "key": "3",
         "name": "PartitionName",
         "type": "string"
        }
       ],
       "truncated": false
      },
      "wranglerEntryContext": {
       "candidateVariableNames": [
        "df_temp"
       ],
       "dataframeType": "pandas"
      }
     },
     "type": "Synapse.DataFrame"
    },
    "b9b57eb3-fd50-4044-a7b4-af5fd46be6bb": {
     "persist_state": {
      "view": {
       "chartOptions": {
        "aggregationType": "sum",
        "binsNumber": 10,
        "categoryFieldKeys": [],
        "chartType": "bar",
        "isStacked": false,
        "seriesFieldKeys": [],
        "wordFrequency": "-1"
       },
       "tableOptions": {},
       "type": "details",
       "viewOptionsGroup": [
        {
         "tabItems": [
          {
           "key": "0",
           "name": "Table",
           "options": {},
           "type": "table"
          }
         ]
        }
       ]
      }
     },
     "sync_state": {
      "isSummary": false,
      "language": "python",
      "table": {
       "rows": [],
       "schema": [
        {
         "key": "0",
         "name": "ErrorInformation_errorLocation_positionStart_lineNumber",
         "type": "string"
        },
        {
         "key": "1",
         "name": "DatasetName",
         "type": "string"
        },
        {
         "key": "2",
         "name": "TableName",
         "type": "string"
        },
        {
         "key": "3",
         "name": "PartitionName",
         "type": "string"
        }
       ],
       "truncated": false
      },
      "wranglerEntryContext": {
       "candidateVariableNames": [
        "df_temp"
       ],
       "dataframeType": "pandas"
      }
     },
     "type": "Synapse.DataFrame"
    },
    "ba94d3a7-b4af-489f-bbb3-f2ae42be40f3": {
     "persist_state": {
      "view": {
       "chartOptions": {
        "aggregationType": "sum",
        "binsNumber": 10,
        "categoryFieldKeys": [],
        "chartType": "bar",
        "isStacked": false,
        "seriesFieldKeys": [],
        "wordFrequency": "-1"
       },
       "tableOptions": {},
       "type": "details",
       "viewOptionsGroup": [
        {
         "tabItems": [
          {
           "key": "0",
           "name": "Table",
           "options": {},
           "type": "table"
          }
         ]
        }
       ]
      }
     },
     "sync_state": {
      "isSummary": false,
      "language": "python",
      "table": {
       "rows": [],
       "schema": [
        {
         "key": "0",
         "name": "ErrorInformation_errorLocation_positionStart_lineNumber",
         "type": "string"
        },
        {
         "key": "1",
         "name": "DatasetName",
         "type": "string"
        },
        {
         "key": "2",
         "name": "TableName",
         "type": "string"
        },
        {
         "key": "3",
         "name": "PartitionName",
         "type": "string"
        }
       ],
       "truncated": false
      },
      "wranglerEntryContext": {
       "candidateVariableNames": [
        "df_temp"
       ],
       "dataframeType": "pandas"
      }
     },
     "type": "Synapse.DataFrame"
    },
    "bb1c9445-eb6c-4360-9c4e-9b51808488b2": {
     "persist_state": {
      "view": {
       "chartOptions": {
        "aggregationType": "sum",
        "binsNumber": 10,
        "categoryFieldKeys": [],
        "chartType": "bar",
        "isStacked": false,
        "seriesFieldKeys": [],
        "wordFrequency": "-1"
       },
       "tableOptions": {},
       "type": "details",
       "viewOptionsGroup": [
        {
         "tabItems": [
          {
           "key": "0",
           "name": "Table",
           "options": {},
           "type": "table"
          }
         ]
        }
       ]
      }
     },
     "sync_state": {
      "isSummary": false,
      "language": "python",
      "table": {
       "rows": [],
       "schema": [
        {
         "key": "0",
         "name": "ErrorInformation_errorLocation_positionStart_lineNumber",
         "type": "string"
        },
        {
         "key": "1",
         "name": "DatasetName",
         "type": "string"
        },
        {
         "key": "2",
         "name": "TableName",
         "type": "string"
        },
        {
         "key": "3",
         "name": "PartitionName",
         "type": "string"
        }
       ],
       "truncated": false
      },
      "wranglerEntryContext": {
       "candidateVariableNames": [
        "df_temp"
       ],
       "dataframeType": "pandas"
      }
     },
     "type": "Synapse.DataFrame"
    },
    "bb5b3381-2737-4b85-91c3-84051f6ca365": {
     "persist_state": {
      "view": {
       "chartOptions": {
        "aggregationType": "sum",
        "binsNumber": 10,
        "categoryFieldKeys": [],
        "chartType": "bar",
        "isStacked": false,
        "seriesFieldKeys": [],
        "wordFrequency": "-1"
       },
       "tableOptions": {},
       "type": "details",
       "viewOptionsGroup": [
        {
         "tabItems": [
          {
           "key": "0",
           "name": "Table",
           "options": {},
           "type": "table"
          }
         ]
        }
       ]
      }
     },
     "sync_state": {
      "isSummary": false,
      "language": "python",
      "table": {
       "rows": [],
       "schema": [
        {
         "key": "0",
         "name": "ErrorInformation_errorLocation_positionStart_lineNumber",
         "type": "string"
        },
        {
         "key": "1",
         "name": "DatasetName",
         "type": "string"
        },
        {
         "key": "2",
         "name": "TableName",
         "type": "string"
        },
        {
         "key": "3",
         "name": "PartitionName",
         "type": "string"
        }
       ],
       "truncated": false
      },
      "wranglerEntryContext": {
       "candidateVariableNames": [
        "df_temp"
       ],
       "dataframeType": "pandas"
      }
     },
     "type": "Synapse.DataFrame"
    },
    "bcfd2406-167d-4c76-8f9d-ed47e213ff52": {
     "persist_state": {
      "view": {
       "chartOptions": {
        "aggregationType": "sum",
        "binsNumber": 10,
        "categoryFieldKeys": [],
        "chartType": "bar",
        "isStacked": false,
        "seriesFieldKeys": [],
        "wordFrequency": "-1"
       },
       "tableOptions": {},
       "type": "details",
       "viewOptionsGroup": [
        {
         "tabItems": [
          {
           "key": "0",
           "name": "Table",
           "options": {},
           "type": "table"
          }
         ]
        }
       ]
      }
     },
     "sync_state": {
      "isSummary": false,
      "language": "python",
      "table": {
       "rows": [],
       "schema": [
        {
         "key": "0",
         "name": "ErrorInformation_errorLocation_positionStart_lineNumber",
         "type": "string"
        },
        {
         "key": "1",
         "name": "DatasetName",
         "type": "string"
        },
        {
         "key": "2",
         "name": "TableName",
         "type": "string"
        },
        {
         "key": "3",
         "name": "PartitionName",
         "type": "string"
        }
       ],
       "truncated": false
      },
      "wranglerEntryContext": {
       "candidateVariableNames": [
        "df_temp"
       ],
       "dataframeType": "pandas"
      }
     },
     "type": "Synapse.DataFrame"
    },
    "bdbcc8c9-7fd9-4517-a5fb-708c40c2445d": {
     "persist_state": {
      "view": {
       "chartOptions": {
        "aggregationType": "sum",
        "binsNumber": 10,
        "categoryFieldKeys": [],
        "chartType": "bar",
        "isStacked": false,
        "seriesFieldKeys": [],
        "wordFrequency": "-1"
       },
       "tableOptions": {},
       "type": "details",
       "viewOptionsGroup": [
        {
         "tabItems": [
          {
           "key": "0",
           "name": "Table",
           "options": {},
           "type": "table"
          }
         ]
        }
       ]
      }
     },
     "sync_state": {
      "isSummary": false,
      "language": "python",
      "table": {
       "rows": [],
       "schema": [
        {
         "key": "0",
         "name": "ErrorInformation_errorLocation_positionStart_lineNumber",
         "type": "string"
        },
        {
         "key": "1",
         "name": "DatasetName",
         "type": "string"
        },
        {
         "key": "2",
         "name": "TableName",
         "type": "string"
        },
        {
         "key": "3",
         "name": "PartitionName",
         "type": "string"
        }
       ],
       "truncated": false
      },
      "wranglerEntryContext": {
       "candidateVariableNames": [
        "df_temp"
       ],
       "dataframeType": "pandas"
      }
     },
     "type": "Synapse.DataFrame"
    },
    "bdc3226b-689a-4db1-bf50-a41bee2cdc2e": {
     "persist_state": {
      "view": {
       "chartOptions": {
        "aggregationType": "sum",
        "binsNumber": 10,
        "categoryFieldKeys": [],
        "chartType": "bar",
        "isStacked": false,
        "seriesFieldKeys": [],
        "wordFrequency": "-1"
       },
       "tableOptions": {},
       "type": "details",
       "viewOptionsGroup": [
        {
         "tabItems": [
          {
           "key": "0",
           "name": "Table",
           "options": {},
           "type": "table"
          }
         ]
        }
       ]
      }
     },
     "sync_state": {
      "isSummary": false,
      "language": "python",
      "table": {
       "rows": [],
       "schema": [
        {
         "key": "0",
         "name": "ErrorInformation_errorLocation_positionStart_lineNumber",
         "type": "string"
        },
        {
         "key": "1",
         "name": "DatasetName",
         "type": "string"
        },
        {
         "key": "2",
         "name": "TableName",
         "type": "string"
        },
        {
         "key": "3",
         "name": "PartitionName",
         "type": "string"
        }
       ],
       "truncated": false
      },
      "wranglerEntryContext": {
       "candidateVariableNames": [
        "df_temp"
       ],
       "dataframeType": "pandas"
      }
     },
     "type": "Synapse.DataFrame"
    },
    "be0473d3-05b2-402c-b5f6-b8f58a75acbe": {
     "persist_state": {
      "view": {
       "chartOptions": {
        "aggregationType": "sum",
        "binsNumber": 10,
        "categoryFieldKeys": [],
        "chartType": "bar",
        "isStacked": false,
        "seriesFieldKeys": [],
        "wordFrequency": "-1"
       },
       "tableOptions": {},
       "type": "details",
       "viewOptionsGroup": [
        {
         "tabItems": [
          {
           "key": "0",
           "name": "Table",
           "options": {},
           "type": "table"
          }
         ]
        }
       ]
      }
     },
     "sync_state": {
      "isSummary": false,
      "language": "python",
      "table": {
       "rows": [],
       "schema": [
        {
         "key": "0",
         "name": "ErrorInformation_errorLocation_positionStart_lineNumber",
         "type": "string"
        },
        {
         "key": "1",
         "name": "DatasetName",
         "type": "string"
        },
        {
         "key": "2",
         "name": "TableName",
         "type": "string"
        },
        {
         "key": "3",
         "name": "PartitionName",
         "type": "string"
        }
       ],
       "truncated": false
      },
      "wranglerEntryContext": {
       "candidateVariableNames": [
        "df_temp"
       ],
       "dataframeType": "pandas"
      }
     },
     "type": "Synapse.DataFrame"
    },
    "bee6c370-48a2-4474-819f-4facceaac528": {
     "persist_state": {
      "view": {
       "chartOptions": {
        "aggregationType": "sum",
        "binsNumber": 10,
        "categoryFieldKeys": [],
        "chartType": "bar",
        "isStacked": false,
        "seriesFieldKeys": [],
        "wordFrequency": "-1"
       },
       "tableOptions": {},
       "type": "details",
       "viewOptionsGroup": [
        {
         "tabItems": [
          {
           "key": "0",
           "name": "Table",
           "options": {},
           "type": "table"
          }
         ]
        }
       ]
      }
     },
     "sync_state": {
      "isSummary": false,
      "language": "python",
      "table": {
       "rows": [],
       "schema": [
        {
         "key": "0",
         "name": "ErrorInformation_errorLocation_positionStart_lineNumber",
         "type": "string"
        },
        {
         "key": "1",
         "name": "DatasetName",
         "type": "string"
        },
        {
         "key": "2",
         "name": "TableName",
         "type": "string"
        },
        {
         "key": "3",
         "name": "PartitionName",
         "type": "string"
        }
       ],
       "truncated": false
      },
      "wranglerEntryContext": {
       "candidateVariableNames": [
        "df_temp"
       ],
       "dataframeType": "pandas"
      }
     },
     "type": "Synapse.DataFrame"
    },
    "bfbf5af2-6cc1-4b59-b2e2-bbf3814797ba": {
     "persist_state": {
      "view": {
       "chartOptions": {
        "aggregationType": "sum",
        "binsNumber": 10,
        "categoryFieldKeys": [],
        "chartType": "bar",
        "isStacked": false,
        "seriesFieldKeys": [],
        "wordFrequency": "-1"
       },
       "tableOptions": {},
       "type": "details",
       "viewOptionsGroup": [
        {
         "tabItems": [
          {
           "key": "0",
           "name": "Table",
           "options": {},
           "type": "table"
          }
         ]
        }
       ]
      }
     },
     "sync_state": {
      "isSummary": false,
      "language": "python",
      "table": {
       "rows": [],
       "schema": [
        {
         "key": "0",
         "name": "ErrorInformation_errorLocation_positionStart_lineNumber",
         "type": "string"
        },
        {
         "key": "1",
         "name": "DatasetName",
         "type": "string"
        },
        {
         "key": "2",
         "name": "TableName",
         "type": "string"
        },
        {
         "key": "3",
         "name": "PartitionName",
         "type": "string"
        }
       ],
       "truncated": false
      },
      "wranglerEntryContext": {
       "candidateVariableNames": [
        "df_temp"
       ],
       "dataframeType": "pandas"
      }
     },
     "type": "Synapse.DataFrame"
    },
    "c0624de0-0d77-4260-81bc-d2dda6de6e03": {
     "persist_state": {
      "view": {
       "chartOptions": {
        "aggregationType": "sum",
        "binsNumber": 10,
        "categoryFieldKeys": [],
        "chartType": "bar",
        "isStacked": false,
        "seriesFieldKeys": [],
        "wordFrequency": "-1"
       },
       "tableOptions": {},
       "type": "details",
       "viewOptionsGroup": [
        {
         "tabItems": [
          {
           "key": "0",
           "name": "Table",
           "options": {},
           "type": "table"
          }
         ]
        }
       ]
      }
     },
     "sync_state": {
      "isSummary": false,
      "language": "python",
      "table": {
       "rows": [],
       "schema": [
        {
         "key": "0",
         "name": "ErrorInformation_errorLocation_positionStart_lineNumber",
         "type": "string"
        },
        {
         "key": "1",
         "name": "DatasetName",
         "type": "string"
        },
        {
         "key": "2",
         "name": "TableName",
         "type": "string"
        },
        {
         "key": "3",
         "name": "PartitionName",
         "type": "string"
        }
       ],
       "truncated": false
      },
      "wranglerEntryContext": {
       "candidateVariableNames": [
        "df_temp"
       ],
       "dataframeType": "pandas"
      }
     },
     "type": "Synapse.DataFrame"
    },
    "c1978389-0b9a-43e1-8b76-4e61791ec25c": {
     "persist_state": {
      "view": {
       "chartOptions": {
        "aggregationType": "sum",
        "binsNumber": 10,
        "categoryFieldKeys": [],
        "chartType": "bar",
        "isStacked": false,
        "seriesFieldKeys": [],
        "wordFrequency": "-1"
       },
       "tableOptions": {},
       "type": "details",
       "viewOptionsGroup": [
        {
         "tabItems": [
          {
           "key": "0",
           "name": "Table",
           "options": {},
           "type": "table"
          }
         ]
        }
       ]
      }
     },
     "sync_state": {
      "isSummary": false,
      "language": "python",
      "table": {
       "rows": [],
       "schema": [
        {
         "key": "0",
         "name": "ErrorInformation_errorLocation_positionStart_lineNumber",
         "type": "string"
        },
        {
         "key": "1",
         "name": "DatasetName",
         "type": "string"
        },
        {
         "key": "2",
         "name": "TableName",
         "type": "string"
        },
        {
         "key": "3",
         "name": "PartitionName",
         "type": "string"
        }
       ],
       "truncated": false
      },
      "wranglerEntryContext": {
       "candidateVariableNames": [
        "df_temp"
       ],
       "dataframeType": "pandas"
      }
     },
     "type": "Synapse.DataFrame"
    },
    "c2258b06-ccdd-48cd-b0ca-805b957be3d7": {
     "persist_state": {
      "view": {
       "chartOptions": {
        "aggregationType": "sum",
        "binsNumber": 10,
        "categoryFieldKeys": [],
        "chartType": "bar",
        "isStacked": false,
        "seriesFieldKeys": [],
        "wordFrequency": "-1"
       },
       "tableOptions": {},
       "type": "details",
       "viewOptionsGroup": [
        {
         "tabItems": [
          {
           "key": "0",
           "name": "Table",
           "options": {},
           "type": "table"
          }
         ]
        }
       ]
      }
     },
     "sync_state": {
      "isSummary": false,
      "language": "python",
      "table": {
       "rows": [],
       "schema": [
        {
         "key": "0",
         "name": "ErrorInformation_errorLocation_positionStart_lineNumber",
         "type": "string"
        },
        {
         "key": "1",
         "name": "DatasetName",
         "type": "string"
        },
        {
         "key": "2",
         "name": "TableName",
         "type": "string"
        },
        {
         "key": "3",
         "name": "PartitionName",
         "type": "string"
        }
       ],
       "truncated": false
      },
      "wranglerEntryContext": {
       "candidateVariableNames": [
        "df_temp"
       ],
       "dataframeType": "pandas"
      }
     },
     "type": "Synapse.DataFrame"
    },
    "c3d73353-de10-49d4-8945-2b1863eb6c4f": {
     "persist_state": {
      "view": {
       "chartOptions": {
        "aggregationType": "sum",
        "binsNumber": 10,
        "categoryFieldKeys": [],
        "chartType": "bar",
        "isStacked": false,
        "seriesFieldKeys": [],
        "wordFrequency": "-1"
       },
       "tableOptions": {},
       "type": "details",
       "viewOptionsGroup": [
        {
         "tabItems": [
          {
           "key": "0",
           "name": "Table",
           "options": {},
           "type": "table"
          }
         ]
        }
       ]
      }
     },
     "sync_state": {
      "isSummary": false,
      "language": "python",
      "table": {
       "rows": [],
       "schema": [
        {
         "key": "0",
         "name": "ErrorInformation_errorLocation_positionStart_lineNumber",
         "type": "string"
        },
        {
         "key": "1",
         "name": "DatasetName",
         "type": "string"
        },
        {
         "key": "2",
         "name": "TableName",
         "type": "string"
        },
        {
         "key": "3",
         "name": "PartitionName",
         "type": "string"
        }
       ],
       "truncated": false
      },
      "wranglerEntryContext": {
       "candidateVariableNames": [
        "df_temp"
       ],
       "dataframeType": "pandas"
      }
     },
     "type": "Synapse.DataFrame"
    },
    "c5924bae-4e2a-4b57-a8b3-63f764dddb42": {
     "persist_state": {
      "view": {
       "chartOptions": {
        "aggregationType": "sum",
        "binsNumber": 10,
        "categoryFieldKeys": [],
        "chartType": "bar",
        "isStacked": false,
        "seriesFieldKeys": [],
        "wordFrequency": "-1"
       },
       "tableOptions": {},
       "type": "details",
       "viewOptionsGroup": [
        {
         "tabItems": [
          {
           "key": "0",
           "name": "Table",
           "options": {},
           "type": "table"
          }
         ]
        }
       ]
      }
     },
     "sync_state": {
      "isSummary": false,
      "language": "python",
      "table": {
       "rows": [],
       "schema": [
        {
         "key": "0",
         "name": "ErrorInformation_errorLocation_positionStart_lineNumber",
         "type": "string"
        },
        {
         "key": "1",
         "name": "DatasetName",
         "type": "string"
        },
        {
         "key": "2",
         "name": "TableName",
         "type": "string"
        },
        {
         "key": "3",
         "name": "PartitionName",
         "type": "string"
        }
       ],
       "truncated": false
      },
      "wranglerEntryContext": {
       "candidateVariableNames": [
        "df_temp"
       ],
       "dataframeType": "pandas"
      }
     },
     "type": "Synapse.DataFrame"
    },
    "c6d56abf-017b-4247-85e4-9cfeeae29237": {
     "persist_state": {
      "view": {
       "chartOptions": {
        "aggregationType": "sum",
        "binsNumber": 10,
        "categoryFieldKeys": [],
        "chartType": "bar",
        "isStacked": false,
        "seriesFieldKeys": [],
        "wordFrequency": "-1"
       },
       "tableOptions": {},
       "type": "details",
       "viewOptionsGroup": [
        {
         "tabItems": [
          {
           "key": "0",
           "name": "Table",
           "options": {},
           "type": "table"
          }
         ]
        }
       ]
      }
     },
     "sync_state": {
      "isSummary": false,
      "language": "python",
      "table": {
       "rows": [],
       "schema": [
        {
         "key": "0",
         "name": "ErrorInformation_errorLocation_positionStart_lineNumber",
         "type": "string"
        },
        {
         "key": "1",
         "name": "DatasetName",
         "type": "string"
        },
        {
         "key": "2",
         "name": "TableName",
         "type": "string"
        },
        {
         "key": "3",
         "name": "PartitionName",
         "type": "string"
        }
       ],
       "truncated": false
      },
      "wranglerEntryContext": {
       "candidateVariableNames": [
        "df_temp"
       ],
       "dataframeType": "pandas"
      }
     },
     "type": "Synapse.DataFrame"
    },
    "c91ea8d6-2884-4d9f-9712-a76e6b80d1cc": {
     "persist_state": {
      "view": {
       "chartOptions": {
        "aggregationType": "sum",
        "binsNumber": 10,
        "categoryFieldKeys": [],
        "chartType": "bar",
        "isStacked": false,
        "seriesFieldKeys": [],
        "wordFrequency": "-1"
       },
       "tableOptions": {},
       "type": "details",
       "viewOptionsGroup": [
        {
         "tabItems": [
          {
           "key": "0",
           "name": "Table",
           "options": {},
           "type": "table"
          }
         ]
        }
       ]
      }
     },
     "sync_state": {
      "isSummary": false,
      "language": "python",
      "table": {
       "rows": [],
       "schema": [
        {
         "key": "0",
         "name": "ErrorInformation_errorLocation_positionStart_lineNumber",
         "type": "string"
        },
        {
         "key": "1",
         "name": "DatasetName",
         "type": "string"
        },
        {
         "key": "2",
         "name": "TableName",
         "type": "string"
        },
        {
         "key": "3",
         "name": "PartitionName",
         "type": "string"
        }
       ],
       "truncated": false
      },
      "wranglerEntryContext": {
       "candidateVariableNames": [
        "df_temp"
       ],
       "dataframeType": "pandas"
      }
     },
     "type": "Synapse.DataFrame"
    },
    "ca558c45-6071-47d3-a801-760f793af118": {
     "persist_state": {
      "view": {
       "chartOptions": {
        "aggregationType": "sum",
        "binsNumber": 10,
        "categoryFieldKeys": [],
        "chartType": "bar",
        "isStacked": false,
        "seriesFieldKeys": [],
        "wordFrequency": "-1"
       },
       "tableOptions": {},
       "type": "details",
       "viewOptionsGroup": [
        {
         "tabItems": [
          {
           "key": "0",
           "name": "Table",
           "options": {},
           "type": "table"
          }
         ]
        }
       ]
      }
     },
     "sync_state": {
      "isSummary": false,
      "language": "python",
      "table": {
       "rows": [],
       "schema": [
        {
         "key": "0",
         "name": "ErrorInformation_errorLocation_positionStart_lineNumber",
         "type": "string"
        },
        {
         "key": "1",
         "name": "DatasetName",
         "type": "string"
        },
        {
         "key": "2",
         "name": "TableName",
         "type": "string"
        },
        {
         "key": "3",
         "name": "PartitionName",
         "type": "string"
        }
       ],
       "truncated": false
      },
      "wranglerEntryContext": {
       "candidateVariableNames": [
        "df_temp"
       ],
       "dataframeType": "pandas"
      }
     },
     "type": "Synapse.DataFrame"
    },
    "cb357cb3-134a-41f6-887c-1e75afd2d680": {
     "persist_state": {
      "view": {
       "chartOptions": {
        "aggregationType": "sum",
        "binsNumber": 10,
        "categoryFieldKeys": [],
        "chartType": "bar",
        "isStacked": false,
        "seriesFieldKeys": [],
        "wordFrequency": "-1"
       },
       "tableOptions": {},
       "type": "details",
       "viewOptionsGroup": [
        {
         "tabItems": [
          {
           "key": "0",
           "name": "Table",
           "options": {},
           "type": "table"
          }
         ]
        }
       ]
      }
     },
     "sync_state": {
      "isSummary": false,
      "language": "python",
      "table": {
       "rows": [],
       "schema": [
        {
         "key": "0",
         "name": "ErrorInformation_errorLocation_positionStart_lineNumber",
         "type": "string"
        },
        {
         "key": "1",
         "name": "DatasetName",
         "type": "string"
        },
        {
         "key": "2",
         "name": "TableName",
         "type": "string"
        },
        {
         "key": "3",
         "name": "PartitionName",
         "type": "string"
        }
       ],
       "truncated": false
      },
      "wranglerEntryContext": {
       "candidateVariableNames": [
        "df_temp"
       ],
       "dataframeType": "pandas"
      }
     },
     "type": "Synapse.DataFrame"
    },
    "cc5cfcbb-eaf8-4ca8-b3dd-6d756cf72310": {
     "persist_state": {
      "view": {
       "chartOptions": {
        "aggregationType": "sum",
        "binsNumber": 10,
        "categoryFieldKeys": [],
        "chartType": "bar",
        "isStacked": false,
        "seriesFieldKeys": [],
        "wordFrequency": "-1"
       },
       "tableOptions": {},
       "type": "details",
       "viewOptionsGroup": [
        {
         "tabItems": [
          {
           "key": "0",
           "name": "Table",
           "options": {},
           "type": "table"
          }
         ]
        }
       ]
      }
     },
     "sync_state": {
      "isSummary": false,
      "language": "python",
      "table": {
       "rows": [],
       "schema": [
        {
         "key": "0",
         "name": "ErrorInformation_errorLocation_positionStart_lineNumber",
         "type": "string"
        },
        {
         "key": "1",
         "name": "DatasetName",
         "type": "string"
        },
        {
         "key": "2",
         "name": "TableName",
         "type": "string"
        },
        {
         "key": "3",
         "name": "PartitionName",
         "type": "string"
        }
       ],
       "truncated": false
      },
      "wranglerEntryContext": {
       "candidateVariableNames": [
        "df_temp"
       ],
       "dataframeType": "pandas"
      }
     },
     "type": "Synapse.DataFrame"
    },
    "ce5381aa-e5f7-4bdc-b14f-caa3693dad9c": {
     "persist_state": {
      "view": {
       "chartOptions": {
        "aggregationType": "sum",
        "binsNumber": 10,
        "categoryFieldKeys": [],
        "chartType": "bar",
        "isStacked": false,
        "seriesFieldKeys": [],
        "wordFrequency": "-1"
       },
       "tableOptions": {},
       "type": "details",
       "viewOptionsGroup": [
        {
         "tabItems": [
          {
           "key": "0",
           "name": "Table",
           "options": {},
           "type": "table"
          }
         ]
        }
       ]
      }
     },
     "sync_state": {
      "isSummary": false,
      "language": "python",
      "table": {
       "rows": [],
       "schema": [
        {
         "key": "0",
         "name": "ErrorInformation_errorLocation_positionStart_lineNumber",
         "type": "string"
        },
        {
         "key": "1",
         "name": "DatasetName",
         "type": "string"
        },
        {
         "key": "2",
         "name": "TableName",
         "type": "string"
        },
        {
         "key": "3",
         "name": "PartitionName",
         "type": "string"
        }
       ],
       "truncated": false
      },
      "wranglerEntryContext": {
       "candidateVariableNames": [
        "df_temp"
       ],
       "dataframeType": "pandas"
      }
     },
     "type": "Synapse.DataFrame"
    },
    "cee8b940-8e4d-452c-98d6-36090bc1a13c": {
     "persist_state": {
      "view": {
       "chartOptions": {
        "aggregationType": "sum",
        "binsNumber": 10,
        "categoryFieldKeys": [],
        "chartType": "bar",
        "isStacked": false,
        "seriesFieldKeys": [],
        "wordFrequency": "-1"
       },
       "tableOptions": {},
       "type": "details",
       "viewOptionsGroup": [
        {
         "tabItems": [
          {
           "key": "0",
           "name": "Table",
           "options": {},
           "type": "table"
          }
         ]
        }
       ]
      }
     },
     "sync_state": {
      "isSummary": false,
      "language": "python",
      "table": {
       "rows": [],
       "schema": [
        {
         "key": "0",
         "name": "ErrorInformation_errorLocation_positionStart_lineNumber",
         "type": "string"
        },
        {
         "key": "1",
         "name": "DatasetName",
         "type": "string"
        },
        {
         "key": "2",
         "name": "TableName",
         "type": "string"
        },
        {
         "key": "3",
         "name": "PartitionName",
         "type": "string"
        }
       ],
       "truncated": false
      },
      "wranglerEntryContext": {
       "candidateVariableNames": [
        "df_temp"
       ],
       "dataframeType": "pandas"
      }
     },
     "type": "Synapse.DataFrame"
    },
    "cf1c0e5c-d733-4c4f-b25f-6adf7e320cc5": {
     "persist_state": {
      "view": {
       "chartOptions": {
        "aggregationType": "sum",
        "binsNumber": 10,
        "categoryFieldKeys": [],
        "chartType": "bar",
        "isStacked": false,
        "seriesFieldKeys": [],
        "wordFrequency": "-1"
       },
       "tableOptions": {},
       "type": "details",
       "viewOptionsGroup": [
        {
         "tabItems": [
          {
           "key": "0",
           "name": "Table",
           "options": {},
           "type": "table"
          }
         ]
        }
       ]
      }
     },
     "sync_state": {
      "isSummary": false,
      "language": "python",
      "table": {
       "rows": [],
       "schema": [
        {
         "key": "0",
         "name": "ErrorInformation_errorLocation_positionStart_lineNumber",
         "type": "string"
        },
        {
         "key": "1",
         "name": "DatasetName",
         "type": "string"
        },
        {
         "key": "2",
         "name": "TableName",
         "type": "string"
        },
        {
         "key": "3",
         "name": "PartitionName",
         "type": "string"
        }
       ],
       "truncated": false
      },
      "wranglerEntryContext": {
       "candidateVariableNames": [
        "df_temp"
       ],
       "dataframeType": "pandas"
      }
     },
     "type": "Synapse.DataFrame"
    },
    "cf47064b-4196-423a-9ce6-aa11b59e941b": {
     "persist_state": {
      "view": {
       "chartOptions": {
        "aggregationType": "sum",
        "binsNumber": 10,
        "categoryFieldKeys": [],
        "chartType": "bar",
        "isStacked": false,
        "seriesFieldKeys": [],
        "wordFrequency": "-1"
       },
       "tableOptions": {},
       "type": "details",
       "viewOptionsGroup": [
        {
         "tabItems": [
          {
           "key": "0",
           "name": "Table",
           "options": {},
           "type": "table"
          }
         ]
        }
       ]
      }
     },
     "sync_state": {
      "isSummary": false,
      "language": "python",
      "table": {
       "rows": [],
       "schema": [
        {
         "key": "0",
         "name": "ErrorInformation_errorLocation_positionStart_lineNumber",
         "type": "string"
        },
        {
         "key": "1",
         "name": "DatasetName",
         "type": "string"
        },
        {
         "key": "2",
         "name": "TableName",
         "type": "string"
        },
        {
         "key": "3",
         "name": "PartitionName",
         "type": "string"
        }
       ],
       "truncated": false
      },
      "wranglerEntryContext": {
       "candidateVariableNames": [
        "df_temp"
       ],
       "dataframeType": "pandas"
      }
     },
     "type": "Synapse.DataFrame"
    },
    "d06d9a85-f6b7-4a37-a628-0f8465a5c61a": {
     "persist_state": {
      "view": {
       "chartOptions": {
        "aggregationType": "sum",
        "binsNumber": 10,
        "categoryFieldKeys": [],
        "chartType": "bar",
        "isStacked": false,
        "seriesFieldKeys": [],
        "wordFrequency": "-1"
       },
       "tableOptions": {},
       "type": "details",
       "viewOptionsGroup": [
        {
         "tabItems": [
          {
           "key": "0",
           "name": "Table",
           "options": {},
           "type": "table"
          }
         ]
        }
       ]
      }
     },
     "sync_state": {
      "isSummary": false,
      "language": "python",
      "table": {
       "rows": [],
       "schema": [
        {
         "key": "0",
         "name": "ErrorInformation_errorLocation_positionStart_lineNumber",
         "type": "string"
        },
        {
         "key": "1",
         "name": "DatasetName",
         "type": "string"
        },
        {
         "key": "2",
         "name": "TableName",
         "type": "string"
        },
        {
         "key": "3",
         "name": "PartitionName",
         "type": "string"
        }
       ],
       "truncated": false
      },
      "wranglerEntryContext": {
       "candidateVariableNames": [
        "df_temp"
       ],
       "dataframeType": "pandas"
      }
     },
     "type": "Synapse.DataFrame"
    },
    "d1e2580d-a603-4fdb-b461-c6f6d208106a": {
     "persist_state": {
      "view": {
       "chartOptions": {
        "aggregationType": "sum",
        "binsNumber": 10,
        "categoryFieldKeys": [],
        "chartType": "bar",
        "isStacked": false,
        "seriesFieldKeys": [],
        "wordFrequency": "-1"
       },
       "tableOptions": {},
       "type": "details",
       "viewOptionsGroup": [
        {
         "tabItems": [
          {
           "key": "0",
           "name": "Table",
           "options": {},
           "type": "table"
          }
         ]
        }
       ]
      }
     },
     "sync_state": {
      "isSummary": false,
      "language": "python",
      "table": {
       "rows": [],
       "schema": [
        {
         "key": "0",
         "name": "ErrorInformation_errorLocation_positionStart_lineNumber",
         "type": "string"
        },
        {
         "key": "1",
         "name": "DatasetName",
         "type": "string"
        },
        {
         "key": "2",
         "name": "TableName",
         "type": "string"
        },
        {
         "key": "3",
         "name": "PartitionName",
         "type": "string"
        }
       ],
       "truncated": false
      },
      "wranglerEntryContext": {
       "candidateVariableNames": [
        "df_temp"
       ],
       "dataframeType": "pandas"
      }
     },
     "type": "Synapse.DataFrame"
    },
    "d1f0327c-e5f6-45d9-95de-06c78963250d": {
     "persist_state": {
      "view": {
       "chartOptions": {
        "aggregationType": "sum",
        "binsNumber": 10,
        "categoryFieldKeys": [],
        "chartType": "bar",
        "isStacked": false,
        "seriesFieldKeys": [],
        "wordFrequency": "-1"
       },
       "tableOptions": {},
       "type": "details",
       "viewOptionsGroup": [
        {
         "tabItems": [
          {
           "key": "0",
           "name": "Table",
           "options": {},
           "type": "table"
          }
         ]
        }
       ]
      }
     },
     "sync_state": {
      "isSummary": false,
      "language": "python",
      "table": {
       "rows": [],
       "schema": [
        {
         "key": "0",
         "name": "ErrorInformation_errorLocation_positionStart_lineNumber",
         "type": "string"
        },
        {
         "key": "1",
         "name": "DatasetName",
         "type": "string"
        },
        {
         "key": "2",
         "name": "TableName",
         "type": "string"
        },
        {
         "key": "3",
         "name": "PartitionName",
         "type": "string"
        }
       ],
       "truncated": false
      },
      "wranglerEntryContext": {
       "candidateVariableNames": [
        "df_temp"
       ],
       "dataframeType": "pandas"
      }
     },
     "type": "Synapse.DataFrame"
    },
    "d25f3dcb-8084-4230-9b0e-0bd86b6d9f5b": {
     "persist_state": {
      "view": {
       "chartOptions": {
        "aggregationType": "sum",
        "binsNumber": 10,
        "categoryFieldKeys": [],
        "chartType": "bar",
        "isStacked": false,
        "seriesFieldKeys": [],
        "wordFrequency": "-1"
       },
       "tableOptions": {},
       "type": "details",
       "viewOptionsGroup": [
        {
         "tabItems": [
          {
           "key": "0",
           "name": "Table",
           "options": {},
           "type": "table"
          }
         ]
        }
       ]
      }
     },
     "sync_state": {
      "isSummary": false,
      "language": "python",
      "table": {
       "rows": [],
       "schema": [
        {
         "key": "0",
         "name": "ErrorInformation_errorLocation_positionStart_lineNumber",
         "type": "string"
        },
        {
         "key": "1",
         "name": "DatasetName",
         "type": "string"
        },
        {
         "key": "2",
         "name": "TableName",
         "type": "string"
        },
        {
         "key": "3",
         "name": "PartitionName",
         "type": "string"
        }
       ],
       "truncated": false
      },
      "wranglerEntryContext": {
       "candidateVariableNames": [
        "df_temp"
       ],
       "dataframeType": "pandas"
      }
     },
     "type": "Synapse.DataFrame"
    },
    "d2abd718-590c-4530-8c5b-823ba7cf928b": {
     "persist_state": {
      "view": {
       "chartOptions": {
        "aggregationType": "sum",
        "binsNumber": 10,
        "categoryFieldKeys": [],
        "chartType": "bar",
        "isStacked": false,
        "seriesFieldKeys": [],
        "wordFrequency": "-1"
       },
       "tableOptions": {},
       "type": "details",
       "viewOptionsGroup": [
        {
         "tabItems": [
          {
           "key": "0",
           "name": "Table",
           "options": {},
           "type": "table"
          }
         ]
        }
       ]
      }
     },
     "sync_state": {
      "isSummary": false,
      "language": "python",
      "table": {
       "rows": [],
       "schema": [
        {
         "key": "0",
         "name": "ErrorInformation_errorLocation_positionStart_lineNumber",
         "type": "string"
        },
        {
         "key": "1",
         "name": "DatasetName",
         "type": "string"
        },
        {
         "key": "2",
         "name": "TableName",
         "type": "string"
        },
        {
         "key": "3",
         "name": "PartitionName",
         "type": "string"
        }
       ],
       "truncated": false
      },
      "wranglerEntryContext": {
       "candidateVariableNames": [
        "df_temp"
       ],
       "dataframeType": "pandas"
      }
     },
     "type": "Synapse.DataFrame"
    },
    "d3404d1e-adbb-4afd-b373-4b9d69309e2e": {
     "persist_state": {
      "view": {
       "chartOptions": {
        "aggregationType": "sum",
        "binsNumber": 10,
        "categoryFieldKeys": [],
        "chartType": "bar",
        "isStacked": false,
        "seriesFieldKeys": [],
        "wordFrequency": "-1"
       },
       "tableOptions": {},
       "type": "details",
       "viewOptionsGroup": [
        {
         "tabItems": [
          {
           "key": "0",
           "name": "Table",
           "options": {},
           "type": "table"
          }
         ]
        }
       ]
      }
     },
     "sync_state": {
      "isSummary": false,
      "language": "python",
      "table": {
       "rows": [],
       "schema": [
        {
         "key": "0",
         "name": "ErrorInformation_errorLocation_positionStart_lineNumber",
         "type": "string"
        },
        {
         "key": "1",
         "name": "DatasetName",
         "type": "string"
        },
        {
         "key": "2",
         "name": "TableName",
         "type": "string"
        },
        {
         "key": "3",
         "name": "PartitionName",
         "type": "string"
        }
       ],
       "truncated": false
      },
      "wranglerEntryContext": {
       "candidateVariableNames": [
        "df_temp"
       ],
       "dataframeType": "pandas"
      }
     },
     "type": "Synapse.DataFrame"
    },
    "d3893e08-8f89-4865-8bb9-ba31e67c8ece": {
     "persist_state": {
      "view": {
       "chartOptions": {
        "aggregationType": "sum",
        "binsNumber": 10,
        "categoryFieldKeys": [],
        "chartType": "bar",
        "isStacked": false,
        "seriesFieldKeys": [],
        "wordFrequency": "-1"
       },
       "tableOptions": {},
       "type": "details",
       "viewOptionsGroup": [
        {
         "tabItems": [
          {
           "key": "0",
           "name": "Table",
           "options": {},
           "type": "table"
          }
         ]
        }
       ]
      }
     },
     "sync_state": {
      "isSummary": false,
      "language": "python",
      "table": {
       "rows": [],
       "schema": [
        {
         "key": "0",
         "name": "ErrorInformation_errorLocation_positionStart_lineNumber",
         "type": "string"
        },
        {
         "key": "1",
         "name": "DatasetName",
         "type": "string"
        },
        {
         "key": "2",
         "name": "TableName",
         "type": "string"
        },
        {
         "key": "3",
         "name": "PartitionName",
         "type": "string"
        }
       ],
       "truncated": false
      },
      "wranglerEntryContext": {
       "candidateVariableNames": [
        "df_temp"
       ],
       "dataframeType": "pandas"
      }
     },
     "type": "Synapse.DataFrame"
    },
    "d44a856b-b971-4dab-9387-10f8f4a7a997": {
     "persist_state": {
      "view": {
       "chartOptions": {
        "aggregationType": "sum",
        "binsNumber": 10,
        "categoryFieldKeys": [],
        "chartType": "bar",
        "isStacked": false,
        "seriesFieldKeys": [],
        "wordFrequency": "-1"
       },
       "tableOptions": {},
       "type": "details",
       "viewOptionsGroup": [
        {
         "tabItems": [
          {
           "key": "0",
           "name": "Table",
           "options": {},
           "type": "table"
          }
         ]
        }
       ]
      }
     },
     "sync_state": {
      "isSummary": false,
      "language": "python",
      "table": {
       "rows": [],
       "schema": [
        {
         "key": "0",
         "name": "ErrorInformation_errorLocation_positionStart_lineNumber",
         "type": "string"
        },
        {
         "key": "1",
         "name": "DatasetName",
         "type": "string"
        },
        {
         "key": "2",
         "name": "TableName",
         "type": "string"
        },
        {
         "key": "3",
         "name": "PartitionName",
         "type": "string"
        }
       ],
       "truncated": false
      },
      "wranglerEntryContext": {
       "candidateVariableNames": [
        "df_temp"
       ],
       "dataframeType": "pandas"
      }
     },
     "type": "Synapse.DataFrame"
    },
    "d4a94890-a0db-4f50-8583-61c6e09b67fb": {
     "persist_state": {
      "view": {
       "chartOptions": {
        "aggregationType": "sum",
        "binsNumber": 10,
        "categoryFieldKeys": [],
        "chartType": "bar",
        "isStacked": false,
        "seriesFieldKeys": [],
        "wordFrequency": "-1"
       },
       "tableOptions": {},
       "type": "details",
       "viewOptionsGroup": [
        {
         "tabItems": [
          {
           "key": "0",
           "name": "Table",
           "options": {},
           "type": "table"
          }
         ]
        }
       ]
      }
     },
     "sync_state": {
      "isSummary": false,
      "language": "python",
      "table": {
       "rows": [],
       "schema": [
        {
         "key": "0",
         "name": "ErrorInformation_errorLocation_positionStart_lineNumber",
         "type": "string"
        },
        {
         "key": "1",
         "name": "DatasetName",
         "type": "string"
        },
        {
         "key": "2",
         "name": "TableName",
         "type": "string"
        },
        {
         "key": "3",
         "name": "PartitionName",
         "type": "string"
        }
       ],
       "truncated": false
      },
      "wranglerEntryContext": {
       "candidateVariableNames": [
        "df_temp"
       ],
       "dataframeType": "pandas"
      }
     },
     "type": "Synapse.DataFrame"
    },
    "d5c381b0-80cc-44b3-83e0-215974ae489c": {
     "persist_state": {
      "view": {
       "chartOptions": {
        "aggregationType": "sum",
        "binsNumber": 10,
        "categoryFieldKeys": [],
        "chartType": "bar",
        "isStacked": false,
        "seriesFieldKeys": [],
        "wordFrequency": "-1"
       },
       "tableOptions": {},
       "type": "details",
       "viewOptionsGroup": [
        {
         "tabItems": [
          {
           "key": "0",
           "name": "Table",
           "options": {},
           "type": "table"
          }
         ]
        }
       ]
      }
     },
     "sync_state": {
      "isSummary": false,
      "language": "python",
      "table": {
       "rows": [],
       "schema": [
        {
         "key": "0",
         "name": "ErrorInformation_errorLocation_positionStart_lineNumber",
         "type": "string"
        },
        {
         "key": "1",
         "name": "DatasetName",
         "type": "string"
        },
        {
         "key": "2",
         "name": "TableName",
         "type": "string"
        },
        {
         "key": "3",
         "name": "PartitionName",
         "type": "string"
        }
       ],
       "truncated": false
      },
      "wranglerEntryContext": {
       "candidateVariableNames": [
        "df_temp"
       ],
       "dataframeType": "pandas"
      }
     },
     "type": "Synapse.DataFrame"
    },
    "d715b53e-d312-45e6-a3d0-345bc34ed1cd": {
     "persist_state": {
      "view": {
       "chartOptions": {
        "aggregationType": "sum",
        "binsNumber": 10,
        "categoryFieldKeys": [],
        "chartType": "bar",
        "isStacked": false,
        "seriesFieldKeys": [],
        "wordFrequency": "-1"
       },
       "tableOptions": {},
       "type": "details",
       "viewOptionsGroup": [
        {
         "tabItems": [
          {
           "key": "0",
           "name": "Table",
           "options": {},
           "type": "table"
          }
         ]
        }
       ]
      }
     },
     "sync_state": {
      "isSummary": false,
      "language": "python",
      "table": {
       "rows": [],
       "schema": [
        {
         "key": "0",
         "name": "ErrorInformation_errorLocation_positionStart_lineNumber",
         "type": "string"
        },
        {
         "key": "1",
         "name": "DatasetName",
         "type": "string"
        },
        {
         "key": "2",
         "name": "TableName",
         "type": "string"
        },
        {
         "key": "3",
         "name": "PartitionName",
         "type": "string"
        }
       ],
       "truncated": false
      },
      "wranglerEntryContext": {
       "candidateVariableNames": [
        "df_temp"
       ],
       "dataframeType": "pandas"
      }
     },
     "type": "Synapse.DataFrame"
    },
    "d7c0801a-1899-40a9-a11e-43dc8d58d0c8": {
     "persist_state": {
      "view": {
       "chartOptions": {
        "aggregationType": "sum",
        "binsNumber": 10,
        "categoryFieldKeys": [],
        "chartType": "bar",
        "isStacked": false,
        "seriesFieldKeys": [],
        "wordFrequency": "-1"
       },
       "tableOptions": {},
       "type": "details",
       "viewOptionsGroup": [
        {
         "tabItems": [
          {
           "key": "0",
           "name": "Table",
           "options": {},
           "type": "table"
          }
         ]
        }
       ]
      }
     },
     "sync_state": {
      "isSummary": false,
      "language": "python",
      "table": {
       "rows": [],
       "schema": [
        {
         "key": "0",
         "name": "ErrorInformation_errorLocation_positionStart_lineNumber",
         "type": "string"
        },
        {
         "key": "1",
         "name": "DatasetName",
         "type": "string"
        },
        {
         "key": "2",
         "name": "TableName",
         "type": "string"
        },
        {
         "key": "3",
         "name": "PartitionName",
         "type": "string"
        }
       ],
       "truncated": false
      },
      "wranglerEntryContext": {
       "candidateVariableNames": [
        "df_temp"
       ],
       "dataframeType": "pandas"
      }
     },
     "type": "Synapse.DataFrame"
    },
    "d7e41950-13c6-44f8-b8e8-f426ac299e1a": {
     "persist_state": {
      "view": {
       "chartOptions": {
        "aggregationType": "sum",
        "binsNumber": 10,
        "categoryFieldKeys": [],
        "chartType": "bar",
        "isStacked": false,
        "seriesFieldKeys": [],
        "wordFrequency": "-1"
       },
       "tableOptions": {},
       "type": "details",
       "viewOptionsGroup": [
        {
         "tabItems": [
          {
           "key": "0",
           "name": "Table",
           "options": {},
           "type": "table"
          }
         ]
        }
       ]
      }
     },
     "sync_state": {
      "isSummary": false,
      "language": "python",
      "table": {
       "rows": [],
       "schema": [
        {
         "key": "0",
         "name": "ErrorInformation_errorLocation_positionStart_lineNumber",
         "type": "string"
        },
        {
         "key": "1",
         "name": "DatasetName",
         "type": "string"
        },
        {
         "key": "2",
         "name": "TableName",
         "type": "string"
        },
        {
         "key": "3",
         "name": "PartitionName",
         "type": "string"
        }
       ],
       "truncated": false
      },
      "wranglerEntryContext": {
       "candidateVariableNames": [
        "df_temp"
       ],
       "dataframeType": "pandas"
      }
     },
     "type": "Synapse.DataFrame"
    },
    "d83c6335-ffd0-4a5e-a97c-3070394d7df3": {
     "persist_state": {
      "view": {
       "chartOptions": {
        "aggregationType": "sum",
        "binsNumber": 10,
        "categoryFieldKeys": [],
        "chartType": "bar",
        "isStacked": false,
        "seriesFieldKeys": [],
        "wordFrequency": "-1"
       },
       "tableOptions": {},
       "type": "details",
       "viewOptionsGroup": [
        {
         "tabItems": [
          {
           "key": "0",
           "name": "Table",
           "options": {},
           "type": "table"
          }
         ]
        }
       ]
      }
     },
     "sync_state": {
      "isSummary": false,
      "language": "python",
      "table": {
       "rows": [],
       "schema": [
        {
         "key": "0",
         "name": "ErrorInformation_errorLocation_positionStart_lineNumber",
         "type": "string"
        },
        {
         "key": "1",
         "name": "DatasetName",
         "type": "string"
        },
        {
         "key": "2",
         "name": "TableName",
         "type": "string"
        },
        {
         "key": "3",
         "name": "PartitionName",
         "type": "string"
        }
       ],
       "truncated": false
      },
      "wranglerEntryContext": {
       "candidateVariableNames": [
        "df_temp"
       ],
       "dataframeType": "pandas"
      }
     },
     "type": "Synapse.DataFrame"
    },
    "d8492255-762a-433b-9d0d-ead349b8d1e2": {
     "persist_state": {
      "view": {
       "chartOptions": {
        "aggregationType": "sum",
        "binsNumber": 10,
        "categoryFieldKeys": [],
        "chartType": "bar",
        "isStacked": false,
        "seriesFieldKeys": [],
        "wordFrequency": "-1"
       },
       "tableOptions": {},
       "type": "details",
       "viewOptionsGroup": [
        {
         "tabItems": [
          {
           "key": "0",
           "name": "Table",
           "options": {},
           "type": "table"
          }
         ]
        }
       ]
      }
     },
     "sync_state": {
      "isSummary": false,
      "language": "python",
      "table": {
       "rows": [],
       "schema": [
        {
         "key": "0",
         "name": "ErrorInformation_errorLocation_positionStart_lineNumber",
         "type": "string"
        },
        {
         "key": "1",
         "name": "DatasetName",
         "type": "string"
        },
        {
         "key": "2",
         "name": "TableName",
         "type": "string"
        },
        {
         "key": "3",
         "name": "PartitionName",
         "type": "string"
        }
       ],
       "truncated": false
      },
      "wranglerEntryContext": {
       "candidateVariableNames": [
        "df_temp"
       ],
       "dataframeType": "pandas"
      }
     },
     "type": "Synapse.DataFrame"
    },
    "d90ffb29-7267-4ac3-917f-e26931f742a6": {
     "persist_state": {
      "view": {
       "chartOptions": {
        "aggregationType": "sum",
        "binsNumber": 10,
        "categoryFieldKeys": [],
        "chartType": "bar",
        "isStacked": false,
        "seriesFieldKeys": [],
        "wordFrequency": "-1"
       },
       "tableOptions": {},
       "type": "details",
       "viewOptionsGroup": [
        {
         "tabItems": [
          {
           "key": "0",
           "name": "Table",
           "options": {},
           "type": "table"
          }
         ]
        }
       ]
      }
     },
     "sync_state": {
      "isSummary": false,
      "language": "python",
      "table": {
       "rows": [],
       "schema": [
        {
         "key": "0",
         "name": "ErrorInformation_errorLocation_positionStart_lineNumber",
         "type": "string"
        },
        {
         "key": "1",
         "name": "DatasetName",
         "type": "string"
        },
        {
         "key": "2",
         "name": "TableName",
         "type": "string"
        },
        {
         "key": "3",
         "name": "PartitionName",
         "type": "string"
        }
       ],
       "truncated": false
      },
      "wranglerEntryContext": {
       "candidateVariableNames": [
        "df_temp"
       ],
       "dataframeType": "pandas"
      }
     },
     "type": "Synapse.DataFrame"
    },
    "d9346407-6131-4148-8816-274b6a51168b": {
     "persist_state": {
      "view": {
       "chartOptions": {
        "aggregationType": "sum",
        "binsNumber": 10,
        "categoryFieldKeys": [],
        "chartType": "bar",
        "isStacked": false,
        "seriesFieldKeys": [],
        "wordFrequency": "-1"
       },
       "tableOptions": {},
       "type": "details",
       "viewOptionsGroup": [
        {
         "tabItems": [
          {
           "key": "0",
           "name": "Table",
           "options": {},
           "type": "table"
          }
         ]
        }
       ]
      }
     },
     "sync_state": {
      "isSummary": false,
      "language": "python",
      "table": {
       "rows": [],
       "schema": [
        {
         "key": "0",
         "name": "ErrorInformation_errorLocation_positionStart_lineNumber",
         "type": "string"
        },
        {
         "key": "1",
         "name": "DatasetName",
         "type": "string"
        },
        {
         "key": "2",
         "name": "TableName",
         "type": "string"
        },
        {
         "key": "3",
         "name": "PartitionName",
         "type": "string"
        }
       ],
       "truncated": false
      },
      "wranglerEntryContext": {
       "candidateVariableNames": [
        "df_temp"
       ],
       "dataframeType": "pandas"
      }
     },
     "type": "Synapse.DataFrame"
    },
    "dad79982-d5fb-44c7-a0e3-527a2edfc9ca": {
     "persist_state": {
      "view": {
       "chartOptions": {
        "aggregationType": "sum",
        "binsNumber": 10,
        "categoryFieldKeys": [],
        "chartType": "bar",
        "isStacked": false,
        "seriesFieldKeys": [],
        "wordFrequency": "-1"
       },
       "tableOptions": {},
       "type": "details",
       "viewOptionsGroup": [
        {
         "tabItems": [
          {
           "key": "0",
           "name": "Table",
           "options": {},
           "type": "table"
          }
         ]
        }
       ]
      }
     },
     "sync_state": {
      "isSummary": false,
      "language": "python",
      "table": {
       "rows": [],
       "schema": [
        {
         "key": "0",
         "name": "ErrorInformation_errorLocation_positionStart_lineNumber",
         "type": "string"
        },
        {
         "key": "1",
         "name": "DatasetName",
         "type": "string"
        },
        {
         "key": "2",
         "name": "TableName",
         "type": "string"
        },
        {
         "key": "3",
         "name": "PartitionName",
         "type": "string"
        }
       ],
       "truncated": false
      },
      "wranglerEntryContext": {
       "candidateVariableNames": [
        "df_temp"
       ],
       "dataframeType": "pandas"
      }
     },
     "type": "Synapse.DataFrame"
    },
    "db0db4a0-5e95-484d-8e44-22d203cdb130": {
     "persist_state": {
      "view": {
       "chartOptions": {
        "aggregationType": "sum",
        "binsNumber": 10,
        "categoryFieldKeys": [],
        "chartType": "bar",
        "isStacked": false,
        "seriesFieldKeys": [],
        "wordFrequency": "-1"
       },
       "tableOptions": {},
       "type": "details",
       "viewOptionsGroup": [
        {
         "tabItems": [
          {
           "key": "0",
           "name": "Table",
           "options": {},
           "type": "table"
          }
         ]
        }
       ]
      }
     },
     "sync_state": {
      "isSummary": false,
      "language": "python",
      "table": {
       "rows": [],
       "schema": [
        {
         "key": "0",
         "name": "ErrorInformation_errorLocation_positionStart_lineNumber",
         "type": "string"
        },
        {
         "key": "1",
         "name": "DatasetName",
         "type": "string"
        },
        {
         "key": "2",
         "name": "TableName",
         "type": "string"
        },
        {
         "key": "3",
         "name": "PartitionName",
         "type": "string"
        }
       ],
       "truncated": false
      },
      "wranglerEntryContext": {
       "candidateVariableNames": [
        "df_temp"
       ],
       "dataframeType": "pandas"
      }
     },
     "type": "Synapse.DataFrame"
    },
    "dd6b0ad0-cd88-4086-bf65-96a3d7c82bc7": {
     "persist_state": {
      "view": {
       "chartOptions": {
        "aggregationType": "sum",
        "binsNumber": 10,
        "categoryFieldKeys": [],
        "chartType": "bar",
        "isStacked": false,
        "seriesFieldKeys": [],
        "wordFrequency": "-1"
       },
       "tableOptions": {},
       "type": "details",
       "viewOptionsGroup": [
        {
         "tabItems": [
          {
           "key": "0",
           "name": "Table",
           "options": {},
           "type": "table"
          }
         ]
        }
       ]
      }
     },
     "sync_state": {
      "isSummary": false,
      "language": "python",
      "table": {
       "rows": [],
       "schema": [
        {
         "key": "0",
         "name": "ErrorInformation_errorLocation_positionStart_lineNumber",
         "type": "string"
        },
        {
         "key": "1",
         "name": "DatasetName",
         "type": "string"
        },
        {
         "key": "2",
         "name": "TableName",
         "type": "string"
        },
        {
         "key": "3",
         "name": "PartitionName",
         "type": "string"
        }
       ],
       "truncated": false
      },
      "wranglerEntryContext": {
       "candidateVariableNames": [
        "df_temp"
       ],
       "dataframeType": "pandas"
      }
     },
     "type": "Synapse.DataFrame"
    },
    "de584ab3-10ec-4d0a-b132-aded0044e8cf": {
     "persist_state": {
      "view": {
       "chartOptions": {
        "aggregationType": "sum",
        "binsNumber": 10,
        "categoryFieldKeys": [],
        "chartType": "bar",
        "isStacked": false,
        "seriesFieldKeys": [],
        "wordFrequency": "-1"
       },
       "tableOptions": {},
       "type": "details",
       "viewOptionsGroup": [
        {
         "tabItems": [
          {
           "key": "0",
           "name": "Table",
           "options": {},
           "type": "table"
          }
         ]
        }
       ]
      }
     },
     "sync_state": {
      "isSummary": false,
      "language": "python",
      "table": {
       "rows": [],
       "schema": [
        {
         "key": "0",
         "name": "ErrorInformation_errorLocation_positionStart_lineNumber",
         "type": "string"
        },
        {
         "key": "1",
         "name": "DatasetName",
         "type": "string"
        },
        {
         "key": "2",
         "name": "TableName",
         "type": "string"
        },
        {
         "key": "3",
         "name": "PartitionName",
         "type": "string"
        }
       ],
       "truncated": false
      },
      "wranglerEntryContext": {
       "candidateVariableNames": [
        "df_temp"
       ],
       "dataframeType": "pandas"
      }
     },
     "type": "Synapse.DataFrame"
    },
    "dfb31cc7-e096-42be-8911-3f5987d9f7e2": {
     "persist_state": {
      "view": {
       "chartOptions": {
        "aggregationType": "sum",
        "binsNumber": 10,
        "categoryFieldKeys": [],
        "chartType": "bar",
        "isStacked": false,
        "seriesFieldKeys": [],
        "wordFrequency": "-1"
       },
       "tableOptions": {},
       "type": "details",
       "viewOptionsGroup": [
        {
         "tabItems": [
          {
           "key": "0",
           "name": "Table",
           "options": {},
           "type": "table"
          }
         ]
        }
       ]
      }
     },
     "sync_state": {
      "isSummary": false,
      "language": "python",
      "table": {
       "rows": [],
       "schema": [
        {
         "key": "0",
         "name": "ErrorInformation_errorLocation_positionStart_lineNumber",
         "type": "string"
        },
        {
         "key": "1",
         "name": "DatasetName",
         "type": "string"
        },
        {
         "key": "2",
         "name": "TableName",
         "type": "string"
        },
        {
         "key": "3",
         "name": "PartitionName",
         "type": "string"
        }
       ],
       "truncated": false
      },
      "wranglerEntryContext": {
       "candidateVariableNames": [
        "df_temp"
       ],
       "dataframeType": "pandas"
      }
     },
     "type": "Synapse.DataFrame"
    },
    "e043e2b0-2162-4d8c-97ab-a474a0139fb1": {
     "persist_state": {
      "view": {
       "chartOptions": {
        "aggregationType": "sum",
        "binsNumber": 10,
        "categoryFieldKeys": [],
        "chartType": "bar",
        "isStacked": false,
        "seriesFieldKeys": [],
        "wordFrequency": "-1"
       },
       "tableOptions": {},
       "type": "details",
       "viewOptionsGroup": [
        {
         "tabItems": [
          {
           "key": "0",
           "name": "Table",
           "options": {},
           "type": "table"
          }
         ]
        }
       ]
      }
     },
     "sync_state": {
      "isSummary": false,
      "language": "python",
      "table": {
       "rows": [],
       "schema": [
        {
         "key": "0",
         "name": "ErrorInformation_errorLocation_positionStart_lineNumber",
         "type": "string"
        },
        {
         "key": "1",
         "name": "DatasetName",
         "type": "string"
        },
        {
         "key": "2",
         "name": "TableName",
         "type": "string"
        },
        {
         "key": "3",
         "name": "PartitionName",
         "type": "string"
        }
       ],
       "truncated": false
      },
      "wranglerEntryContext": {
       "candidateVariableNames": [
        "df_temp"
       ],
       "dataframeType": "pandas"
      }
     },
     "type": "Synapse.DataFrame"
    },
    "e0bd7747-4008-427c-8b44-9f46a2956470": {
     "persist_state": {
      "view": {
       "chartOptions": {
        "aggregationType": "sum",
        "binsNumber": 10,
        "categoryFieldKeys": [],
        "chartType": "bar",
        "isStacked": false,
        "seriesFieldKeys": [],
        "wordFrequency": "-1"
       },
       "tableOptions": {},
       "type": "details",
       "viewOptionsGroup": [
        {
         "tabItems": [
          {
           "key": "0",
           "name": "Table",
           "options": {},
           "type": "table"
          }
         ]
        }
       ]
      }
     },
     "sync_state": {
      "isSummary": false,
      "language": "python",
      "table": {
       "rows": [],
       "schema": [
        {
         "key": "0",
         "name": "ErrorInformation_errorLocation_positionStart_lineNumber",
         "type": "string"
        },
        {
         "key": "1",
         "name": "DatasetName",
         "type": "string"
        },
        {
         "key": "2",
         "name": "TableName",
         "type": "string"
        },
        {
         "key": "3",
         "name": "PartitionName",
         "type": "string"
        }
       ],
       "truncated": false
      },
      "wranglerEntryContext": {
       "candidateVariableNames": [
        "df_temp"
       ],
       "dataframeType": "pandas"
      }
     },
     "type": "Synapse.DataFrame"
    },
    "e0f2b029-11a6-4deb-95c4-80e760d8e28b": {
     "persist_state": {
      "view": {
       "chartOptions": {
        "aggregationType": "sum",
        "binsNumber": 10,
        "categoryFieldKeys": [],
        "chartType": "bar",
        "isStacked": false,
        "seriesFieldKeys": [],
        "wordFrequency": "-1"
       },
       "tableOptions": {},
       "type": "details",
       "viewOptionsGroup": [
        {
         "tabItems": [
          {
           "key": "0",
           "name": "Table",
           "options": {},
           "type": "table"
          }
         ]
        }
       ]
      }
     },
     "sync_state": {
      "isSummary": false,
      "language": "python",
      "table": {
       "rows": [],
       "schema": [
        {
         "key": "0",
         "name": "ErrorInformation_errorLocation_positionStart_lineNumber",
         "type": "string"
        },
        {
         "key": "1",
         "name": "DatasetName",
         "type": "string"
        },
        {
         "key": "2",
         "name": "TableName",
         "type": "string"
        },
        {
         "key": "3",
         "name": "PartitionName",
         "type": "string"
        }
       ],
       "truncated": false
      },
      "wranglerEntryContext": {
       "candidateVariableNames": [
        "df_temp"
       ],
       "dataframeType": "pandas"
      }
     },
     "type": "Synapse.DataFrame"
    },
    "e3d615cb-240c-4036-8532-d6ddc4b1425c": {
     "persist_state": {
      "view": {
       "chartOptions": {
        "aggregationType": "sum",
        "binsNumber": 10,
        "categoryFieldKeys": [],
        "chartType": "bar",
        "isStacked": false,
        "seriesFieldKeys": [],
        "wordFrequency": "-1"
       },
       "tableOptions": {},
       "type": "details",
       "viewOptionsGroup": [
        {
         "tabItems": [
          {
           "key": "0",
           "name": "Table",
           "options": {},
           "type": "table"
          }
         ]
        }
       ]
      }
     },
     "sync_state": {
      "isSummary": false,
      "language": "python",
      "table": {
       "rows": [],
       "schema": [
        {
         "key": "0",
         "name": "ErrorInformation_errorLocation_positionStart_lineNumber",
         "type": "string"
        },
        {
         "key": "1",
         "name": "DatasetName",
         "type": "string"
        },
        {
         "key": "2",
         "name": "TableName",
         "type": "string"
        },
        {
         "key": "3",
         "name": "PartitionName",
         "type": "string"
        }
       ],
       "truncated": false
      },
      "wranglerEntryContext": {
       "candidateVariableNames": [
        "df_temp"
       ],
       "dataframeType": "pandas"
      }
     },
     "type": "Synapse.DataFrame"
    },
    "e3e3a18f-bfc3-4292-a8ef-ac3b65170793": {
     "persist_state": {
      "view": {
       "chartOptions": {
        "aggregationType": "sum",
        "binsNumber": 10,
        "categoryFieldKeys": [],
        "chartType": "bar",
        "isStacked": false,
        "seriesFieldKeys": [],
        "wordFrequency": "-1"
       },
       "tableOptions": {},
       "type": "details",
       "viewOptionsGroup": [
        {
         "tabItems": [
          {
           "key": "0",
           "name": "Table",
           "options": {},
           "type": "table"
          }
         ]
        }
       ]
      }
     },
     "sync_state": {
      "isSummary": false,
      "language": "python",
      "table": {
       "rows": [],
       "schema": [
        {
         "key": "0",
         "name": "ErrorInformation_errorLocation_positionStart_lineNumber",
         "type": "string"
        },
        {
         "key": "1",
         "name": "DatasetName",
         "type": "string"
        },
        {
         "key": "2",
         "name": "TableName",
         "type": "string"
        },
        {
         "key": "3",
         "name": "PartitionName",
         "type": "string"
        }
       ],
       "truncated": false
      },
      "wranglerEntryContext": {
       "candidateVariableNames": [
        "df_temp"
       ],
       "dataframeType": "pandas"
      }
     },
     "type": "Synapse.DataFrame"
    },
    "e48c216f-e9a0-40d2-a2cd-970db5a42230": {
     "persist_state": {
      "view": {
       "chartOptions": {
        "aggregationType": "sum",
        "binsNumber": 10,
        "categoryFieldKeys": [],
        "chartType": "bar",
        "isStacked": false,
        "seriesFieldKeys": [],
        "wordFrequency": "-1"
       },
       "tableOptions": {},
       "type": "details",
       "viewOptionsGroup": [
        {
         "tabItems": [
          {
           "key": "0",
           "name": "Table",
           "options": {},
           "type": "table"
          }
         ]
        }
       ]
      }
     },
     "sync_state": {
      "isSummary": false,
      "language": "python",
      "table": {
       "rows": [],
       "schema": [
        {
         "key": "0",
         "name": "ErrorInformation_errorLocation_positionStart_lineNumber",
         "type": "string"
        },
        {
         "key": "1",
         "name": "DatasetName",
         "type": "string"
        },
        {
         "key": "2",
         "name": "TableName",
         "type": "string"
        },
        {
         "key": "3",
         "name": "PartitionName",
         "type": "string"
        }
       ],
       "truncated": false
      },
      "wranglerEntryContext": {
       "candidateVariableNames": [
        "df_temp"
       ],
       "dataframeType": "pandas"
      }
     },
     "type": "Synapse.DataFrame"
    },
    "e4eda8d0-abe2-4220-b3b6-1d35d91fd75a": {
     "persist_state": {
      "view": {
       "chartOptions": {
        "aggregationType": "sum",
        "binsNumber": 10,
        "categoryFieldKeys": [],
        "chartType": "bar",
        "isStacked": false,
        "seriesFieldKeys": [],
        "wordFrequency": "-1"
       },
       "tableOptions": {},
       "type": "details",
       "viewOptionsGroup": [
        {
         "tabItems": [
          {
           "key": "0",
           "name": "Table",
           "options": {},
           "type": "table"
          }
         ]
        }
       ]
      }
     },
     "sync_state": {
      "isSummary": false,
      "language": "python",
      "table": {
       "rows": [],
       "schema": [
        {
         "key": "0",
         "name": "ErrorInformation_errorLocation_positionStart_lineNumber",
         "type": "string"
        },
        {
         "key": "1",
         "name": "DatasetName",
         "type": "string"
        },
        {
         "key": "2",
         "name": "TableName",
         "type": "string"
        },
        {
         "key": "3",
         "name": "PartitionName",
         "type": "string"
        }
       ],
       "truncated": false
      },
      "wranglerEntryContext": {
       "candidateVariableNames": [
        "df_temp"
       ],
       "dataframeType": "pandas"
      }
     },
     "type": "Synapse.DataFrame"
    },
    "e55f6bee-ceab-471d-88f6-67318e30ef7d": {
     "persist_state": {
      "view": {
       "chartOptions": {
        "aggregationType": "sum",
        "binsNumber": 10,
        "categoryFieldKeys": [],
        "chartType": "bar",
        "isStacked": false,
        "seriesFieldKeys": [],
        "wordFrequency": "-1"
       },
       "tableOptions": {},
       "type": "details",
       "viewOptionsGroup": [
        {
         "tabItems": [
          {
           "key": "0",
           "name": "Table",
           "options": {},
           "type": "table"
          }
         ]
        }
       ]
      }
     },
     "sync_state": {
      "isSummary": false,
      "language": "python",
      "table": {
       "rows": [],
       "schema": [
        {
         "key": "0",
         "name": "ErrorInformation_errorLocation_positionStart_lineNumber",
         "type": "string"
        },
        {
         "key": "1",
         "name": "DatasetName",
         "type": "string"
        },
        {
         "key": "2",
         "name": "TableName",
         "type": "string"
        },
        {
         "key": "3",
         "name": "PartitionName",
         "type": "string"
        }
       ],
       "truncated": false
      },
      "wranglerEntryContext": {
       "candidateVariableNames": [
        "df_temp"
       ],
       "dataframeType": "pandas"
      }
     },
     "type": "Synapse.DataFrame"
    },
    "e5e1583e-f81c-4b3b-8791-5a73b37b706f": {
     "persist_state": {
      "view": {
       "chartOptions": {
        "aggregationType": "sum",
        "binsNumber": 10,
        "categoryFieldKeys": [],
        "chartType": "bar",
        "isStacked": false,
        "seriesFieldKeys": [],
        "wordFrequency": "-1"
       },
       "tableOptions": {},
       "type": "details",
       "viewOptionsGroup": [
        {
         "tabItems": [
          {
           "key": "0",
           "name": "Table",
           "options": {},
           "type": "table"
          }
         ]
        }
       ]
      }
     },
     "sync_state": {
      "isSummary": false,
      "language": "python",
      "table": {
       "rows": [],
       "schema": [
        {
         "key": "0",
         "name": "ErrorInformation_errorLocation_positionStart_lineNumber",
         "type": "string"
        },
        {
         "key": "1",
         "name": "DatasetName",
         "type": "string"
        },
        {
         "key": "2",
         "name": "TableName",
         "type": "string"
        },
        {
         "key": "3",
         "name": "PartitionName",
         "type": "string"
        }
       ],
       "truncated": false
      },
      "wranglerEntryContext": {
       "candidateVariableNames": [
        "df_temp"
       ],
       "dataframeType": "pandas"
      }
     },
     "type": "Synapse.DataFrame"
    },
    "e7296f38-de10-4e2c-8802-7fd5f7422d83": {
     "persist_state": {
      "view": {
       "chartOptions": {
        "aggregationType": "sum",
        "binsNumber": 10,
        "categoryFieldKeys": [],
        "chartType": "bar",
        "isStacked": false,
        "seriesFieldKeys": [],
        "wordFrequency": "-1"
       },
       "tableOptions": {},
       "type": "details",
       "viewOptionsGroup": [
        {
         "tabItems": [
          {
           "key": "0",
           "name": "Table",
           "options": {},
           "type": "table"
          }
         ]
        }
       ]
      }
     },
     "sync_state": {
      "isSummary": false,
      "language": "python",
      "table": {
       "rows": [],
       "schema": [
        {
         "key": "0",
         "name": "ErrorInformation_errorLocation_positionStart_lineNumber",
         "type": "string"
        },
        {
         "key": "1",
         "name": "DatasetName",
         "type": "string"
        },
        {
         "key": "2",
         "name": "TableName",
         "type": "string"
        },
        {
         "key": "3",
         "name": "PartitionName",
         "type": "string"
        }
       ],
       "truncated": false
      },
      "wranglerEntryContext": {
       "candidateVariableNames": [
        "df_temp"
       ],
       "dataframeType": "pandas"
      }
     },
     "type": "Synapse.DataFrame"
    },
    "e77cdf82-f678-4dfd-8778-f9c26fc4ee12": {
     "persist_state": {
      "view": {
       "chartOptions": {
        "aggregationType": "sum",
        "binsNumber": 10,
        "categoryFieldKeys": [],
        "chartType": "bar",
        "isStacked": false,
        "seriesFieldKeys": [],
        "wordFrequency": "-1"
       },
       "tableOptions": {},
       "type": "details",
       "viewOptionsGroup": [
        {
         "tabItems": [
          {
           "key": "0",
           "name": "Table",
           "options": {},
           "type": "table"
          }
         ]
        }
       ]
      }
     },
     "sync_state": {
      "isSummary": false,
      "language": "python",
      "table": {
       "rows": [],
       "schema": [
        {
         "key": "0",
         "name": "ErrorInformation_errorLocation_positionStart_lineNumber",
         "type": "string"
        },
        {
         "key": "1",
         "name": "DatasetName",
         "type": "string"
        },
        {
         "key": "2",
         "name": "TableName",
         "type": "string"
        },
        {
         "key": "3",
         "name": "PartitionName",
         "type": "string"
        }
       ],
       "truncated": false
      },
      "wranglerEntryContext": {
       "candidateVariableNames": [
        "df_temp"
       ],
       "dataframeType": "pandas"
      }
     },
     "type": "Synapse.DataFrame"
    },
    "e87d516e-9fda-4eaf-95ef-c9cd01f53a6d": {
     "persist_state": {
      "view": {
       "chartOptions": {
        "aggregationType": "sum",
        "binsNumber": 10,
        "categoryFieldKeys": [],
        "chartType": "bar",
        "isStacked": false,
        "seriesFieldKeys": [],
        "wordFrequency": "-1"
       },
       "tableOptions": {},
       "type": "details",
       "viewOptionsGroup": [
        {
         "tabItems": [
          {
           "key": "0",
           "name": "Table",
           "options": {},
           "type": "table"
          }
         ]
        }
       ]
      }
     },
     "sync_state": {
      "isSummary": false,
      "language": "python",
      "table": {
       "rows": [],
       "schema": [
        {
         "key": "0",
         "name": "ErrorInformation_errorLocation_positionStart_lineNumber",
         "type": "string"
        },
        {
         "key": "1",
         "name": "DatasetName",
         "type": "string"
        },
        {
         "key": "2",
         "name": "TableName",
         "type": "string"
        },
        {
         "key": "3",
         "name": "PartitionName",
         "type": "string"
        }
       ],
       "truncated": false
      },
      "wranglerEntryContext": {
       "candidateVariableNames": [
        "df_temp"
       ],
       "dataframeType": "pandas"
      }
     },
     "type": "Synapse.DataFrame"
    },
    "e90b5b45-80d5-49dd-9e87-e7deae111749": {
     "persist_state": {
      "view": {
       "chartOptions": {
        "aggregationType": "sum",
        "binsNumber": 10,
        "categoryFieldKeys": [],
        "chartType": "bar",
        "isStacked": false,
        "seriesFieldKeys": [],
        "wordFrequency": "-1"
       },
       "tableOptions": {},
       "type": "details",
       "viewOptionsGroup": [
        {
         "tabItems": [
          {
           "key": "0",
           "name": "Table",
           "options": {},
           "type": "table"
          }
         ]
        }
       ]
      }
     },
     "sync_state": {
      "isSummary": false,
      "language": "python",
      "table": {
       "rows": [],
       "schema": [
        {
         "key": "0",
         "name": "ErrorInformation_errorLocation_positionStart_lineNumber",
         "type": "string"
        },
        {
         "key": "1",
         "name": "DatasetName",
         "type": "string"
        },
        {
         "key": "2",
         "name": "TableName",
         "type": "string"
        },
        {
         "key": "3",
         "name": "PartitionName",
         "type": "string"
        }
       ],
       "truncated": false
      },
      "wranglerEntryContext": {
       "candidateVariableNames": [
        "df_temp"
       ],
       "dataframeType": "pandas"
      }
     },
     "type": "Synapse.DataFrame"
    },
    "e9382920-dfed-4bdd-881c-2e63e1c6a96d": {
     "persist_state": {
      "view": {
       "chartOptions": {
        "aggregationType": "sum",
        "binsNumber": 10,
        "categoryFieldKeys": [],
        "chartType": "bar",
        "isStacked": false,
        "seriesFieldKeys": [],
        "wordFrequency": "-1"
       },
       "tableOptions": {},
       "type": "details",
       "viewOptionsGroup": [
        {
         "tabItems": [
          {
           "key": "0",
           "name": "Table",
           "options": {},
           "type": "table"
          }
         ]
        }
       ]
      }
     },
     "sync_state": {
      "isSummary": false,
      "language": "python",
      "table": {
       "rows": [],
       "schema": [
        {
         "key": "0",
         "name": "ErrorInformation_errorLocation_positionStart_lineNumber",
         "type": "string"
        },
        {
         "key": "1",
         "name": "DatasetName",
         "type": "string"
        },
        {
         "key": "2",
         "name": "TableName",
         "type": "string"
        },
        {
         "key": "3",
         "name": "PartitionName",
         "type": "string"
        }
       ],
       "truncated": false
      },
      "wranglerEntryContext": {
       "candidateVariableNames": [
        "df_temp"
       ],
       "dataframeType": "pandas"
      }
     },
     "type": "Synapse.DataFrame"
    },
    "e9b2aba2-ee74-461b-9fb6-ead5df9f708c": {
     "persist_state": {
      "view": {
       "chartOptions": {
        "aggregationType": "sum",
        "binsNumber": 10,
        "categoryFieldKeys": [],
        "chartType": "bar",
        "isStacked": false,
        "seriesFieldKeys": [],
        "wordFrequency": "-1"
       },
       "tableOptions": {},
       "type": "details",
       "viewOptionsGroup": [
        {
         "tabItems": [
          {
           "key": "0",
           "name": "Table",
           "options": {},
           "type": "table"
          }
         ]
        }
       ]
      }
     },
     "sync_state": {
      "isSummary": false,
      "language": "python",
      "table": {
       "rows": [],
       "schema": [
        {
         "key": "0",
         "name": "ErrorInformation_errorLocation_positionStart_lineNumber",
         "type": "string"
        },
        {
         "key": "1",
         "name": "DatasetName",
         "type": "string"
        },
        {
         "key": "2",
         "name": "TableName",
         "type": "string"
        },
        {
         "key": "3",
         "name": "PartitionName",
         "type": "string"
        }
       ],
       "truncated": false
      },
      "wranglerEntryContext": {
       "candidateVariableNames": [
        "df_temp"
       ],
       "dataframeType": "pandas"
      }
     },
     "type": "Synapse.DataFrame"
    },
    "ea6bff6a-9103-40b9-80f4-ff3c70eba63a": {
     "persist_state": {
      "view": {
       "chartOptions": {
        "aggregationType": "sum",
        "binsNumber": 10,
        "categoryFieldKeys": [],
        "chartType": "bar",
        "isStacked": false,
        "seriesFieldKeys": [],
        "wordFrequency": "-1"
       },
       "tableOptions": {},
       "type": "details",
       "viewOptionsGroup": [
        {
         "tabItems": [
          {
           "key": "0",
           "name": "Table",
           "options": {},
           "type": "table"
          }
         ]
        }
       ]
      }
     },
     "sync_state": {
      "isSummary": false,
      "language": "python",
      "table": {
       "rows": [],
       "schema": [
        {
         "key": "0",
         "name": "ErrorInformation_errorLocation_positionStart_lineNumber",
         "type": "string"
        },
        {
         "key": "1",
         "name": "DatasetName",
         "type": "string"
        },
        {
         "key": "2",
         "name": "TableName",
         "type": "string"
        },
        {
         "key": "3",
         "name": "PartitionName",
         "type": "string"
        }
       ],
       "truncated": false
      },
      "wranglerEntryContext": {
       "candidateVariableNames": [
        "df_temp"
       ],
       "dataframeType": "pandas"
      }
     },
     "type": "Synapse.DataFrame"
    },
    "eb8f6215-ac1c-45fd-a7a8-aebb1db7a709": {
     "persist_state": {
      "view": {
       "chartOptions": {
        "aggregationType": "sum",
        "binsNumber": 10,
        "categoryFieldKeys": [],
        "chartType": "bar",
        "isStacked": false,
        "seriesFieldKeys": [],
        "wordFrequency": "-1"
       },
       "tableOptions": {},
       "type": "details",
       "viewOptionsGroup": [
        {
         "tabItems": [
          {
           "key": "0",
           "name": "Table",
           "options": {},
           "type": "table"
          }
         ]
        }
       ]
      }
     },
     "sync_state": {
      "isSummary": false,
      "language": "python",
      "table": {
       "rows": [],
       "schema": [
        {
         "key": "0",
         "name": "ErrorInformation_errorLocation_positionStart_lineNumber",
         "type": "string"
        },
        {
         "key": "1",
         "name": "DatasetName",
         "type": "string"
        },
        {
         "key": "2",
         "name": "TableName",
         "type": "string"
        },
        {
         "key": "3",
         "name": "PartitionName",
         "type": "string"
        }
       ],
       "truncated": false
      },
      "wranglerEntryContext": {
       "candidateVariableNames": [
        "df_temp"
       ],
       "dataframeType": "pandas"
      }
     },
     "type": "Synapse.DataFrame"
    },
    "ed9ac31e-a5d4-4c09-8432-0700b572fc42": {
     "persist_state": {
      "view": {
       "chartOptions": {
        "aggregationType": "sum",
        "binsNumber": 10,
        "categoryFieldKeys": [],
        "chartType": "bar",
        "isStacked": false,
        "seriesFieldKeys": [],
        "wordFrequency": "-1"
       },
       "tableOptions": {},
       "type": "details",
       "viewOptionsGroup": [
        {
         "tabItems": [
          {
           "key": "0",
           "name": "Table",
           "options": {},
           "type": "table"
          }
         ]
        }
       ]
      }
     },
     "sync_state": {
      "isSummary": false,
      "language": "python",
      "table": {
       "rows": [],
       "schema": [
        {
         "key": "0",
         "name": "ErrorInformation_errorLocation_positionStart_lineNumber",
         "type": "string"
        },
        {
         "key": "1",
         "name": "DatasetName",
         "type": "string"
        },
        {
         "key": "2",
         "name": "TableName",
         "type": "string"
        },
        {
         "key": "3",
         "name": "PartitionName",
         "type": "string"
        }
       ],
       "truncated": false
      },
      "wranglerEntryContext": {
       "candidateVariableNames": [
        "df_temp"
       ],
       "dataframeType": "pandas"
      }
     },
     "type": "Synapse.DataFrame"
    },
    "edb59e77-3863-48b4-b97c-f9c45ef8077f": {
     "persist_state": {
      "view": {
       "chartOptions": {
        "aggregationType": "sum",
        "binsNumber": 10,
        "categoryFieldKeys": [],
        "chartType": "bar",
        "isStacked": false,
        "seriesFieldKeys": [],
        "wordFrequency": "-1"
       },
       "tableOptions": {},
       "type": "details",
       "viewOptionsGroup": [
        {
         "tabItems": [
          {
           "key": "0",
           "name": "Table",
           "options": {},
           "type": "table"
          }
         ]
        }
       ]
      }
     },
     "sync_state": {
      "isSummary": false,
      "language": "python",
      "table": {
       "rows": [],
       "schema": [
        {
         "key": "0",
         "name": "ErrorInformation_errorLocation_positionStart_lineNumber",
         "type": "string"
        },
        {
         "key": "1",
         "name": "DatasetName",
         "type": "string"
        },
        {
         "key": "2",
         "name": "TableName",
         "type": "string"
        },
        {
         "key": "3",
         "name": "PartitionName",
         "type": "string"
        }
       ],
       "truncated": false
      },
      "wranglerEntryContext": {
       "candidateVariableNames": [
        "df_temp"
       ],
       "dataframeType": "pandas"
      }
     },
     "type": "Synapse.DataFrame"
    },
    "ee4b9c59-755c-499d-ac59-d5ce4b421bc2": {
     "persist_state": {
      "view": {
       "chartOptions": {
        "aggregationType": "sum",
        "binsNumber": 10,
        "categoryFieldKeys": [],
        "chartType": "bar",
        "isStacked": false,
        "seriesFieldKeys": [],
        "wordFrequency": "-1"
       },
       "tableOptions": {},
       "type": "details",
       "viewOptionsGroup": [
        {
         "tabItems": [
          {
           "key": "0",
           "name": "Table",
           "options": {},
           "type": "table"
          }
         ]
        }
       ]
      }
     },
     "sync_state": {
      "isSummary": false,
      "language": "python",
      "table": {
       "rows": [],
       "schema": [
        {
         "key": "0",
         "name": "ErrorInformation_errorLocation_positionStart_lineNumber",
         "type": "string"
        },
        {
         "key": "1",
         "name": "DatasetName",
         "type": "string"
        },
        {
         "key": "2",
         "name": "TableName",
         "type": "string"
        },
        {
         "key": "3",
         "name": "PartitionName",
         "type": "string"
        }
       ],
       "truncated": false
      },
      "wranglerEntryContext": {
       "candidateVariableNames": [
        "df_temp"
       ],
       "dataframeType": "pandas"
      }
     },
     "type": "Synapse.DataFrame"
    },
    "efa7966a-cd2d-415f-868f-3c8780e95569": {
     "persist_state": {
      "view": {
       "chartOptions": {
        "aggregationType": "sum",
        "binsNumber": 10,
        "categoryFieldKeys": [],
        "chartType": "bar",
        "isStacked": false,
        "seriesFieldKeys": [],
        "wordFrequency": "-1"
       },
       "tableOptions": {},
       "type": "details",
       "viewOptionsGroup": [
        {
         "tabItems": [
          {
           "key": "0",
           "name": "Table",
           "options": {},
           "type": "table"
          }
         ]
        }
       ]
      }
     },
     "sync_state": {
      "isSummary": false,
      "language": "python",
      "table": {
       "rows": [],
       "schema": [
        {
         "key": "0",
         "name": "ErrorInformation_errorLocation_positionStart_lineNumber",
         "type": "string"
        },
        {
         "key": "1",
         "name": "DatasetName",
         "type": "string"
        },
        {
         "key": "2",
         "name": "TableName",
         "type": "string"
        },
        {
         "key": "3",
         "name": "PartitionName",
         "type": "string"
        }
       ],
       "truncated": false
      },
      "wranglerEntryContext": {
       "candidateVariableNames": [
        "df_temp"
       ],
       "dataframeType": "pandas"
      }
     },
     "type": "Synapse.DataFrame"
    },
    "efe85a67-09db-4415-af4a-f4f632588b92": {
     "persist_state": {
      "view": {
       "chartOptions": {
        "aggregationType": "sum",
        "binsNumber": 10,
        "categoryFieldKeys": [],
        "chartType": "bar",
        "isStacked": false,
        "seriesFieldKeys": [],
        "wordFrequency": "-1"
       },
       "tableOptions": {},
       "type": "details",
       "viewOptionsGroup": [
        {
         "tabItems": [
          {
           "key": "0",
           "name": "Table",
           "options": {},
           "type": "table"
          }
         ]
        }
       ]
      }
     },
     "sync_state": {
      "isSummary": false,
      "language": "python",
      "table": {
       "rows": [],
       "schema": [
        {
         "key": "0",
         "name": "ErrorInformation_errorLocation_positionStart_lineNumber",
         "type": "string"
        },
        {
         "key": "1",
         "name": "DatasetName",
         "type": "string"
        },
        {
         "key": "2",
         "name": "TableName",
         "type": "string"
        },
        {
         "key": "3",
         "name": "PartitionName",
         "type": "string"
        }
       ],
       "truncated": false
      },
      "wranglerEntryContext": {
       "candidateVariableNames": [
        "df_temp"
       ],
       "dataframeType": "pandas"
      }
     },
     "type": "Synapse.DataFrame"
    },
    "f00dec84-8b86-4ba7-ade5-9d85f1e14b59": {
     "persist_state": {
      "view": {
       "chartOptions": {
        "aggregationType": "sum",
        "binsNumber": 10,
        "categoryFieldKeys": [],
        "chartType": "bar",
        "isStacked": false,
        "seriesFieldKeys": [],
        "wordFrequency": "-1"
       },
       "tableOptions": {},
       "type": "details",
       "viewOptionsGroup": [
        {
         "tabItems": [
          {
           "key": "0",
           "name": "Table",
           "options": {},
           "type": "table"
          }
         ]
        }
       ]
      }
     },
     "sync_state": {
      "isSummary": false,
      "language": "python",
      "table": {
       "rows": [],
       "schema": [
        {
         "key": "0",
         "name": "ErrorInformation_errorLocation_positionStart_lineNumber",
         "type": "string"
        },
        {
         "key": "1",
         "name": "DatasetName",
         "type": "string"
        },
        {
         "key": "2",
         "name": "TableName",
         "type": "string"
        },
        {
         "key": "3",
         "name": "PartitionName",
         "type": "string"
        }
       ],
       "truncated": false
      },
      "wranglerEntryContext": {
       "candidateVariableNames": [
        "df_temp"
       ],
       "dataframeType": "pandas"
      }
     },
     "type": "Synapse.DataFrame"
    },
    "f0272844-2370-4c93-a014-78d2836e154e": {
     "persist_state": {
      "view": {
       "chartOptions": {
        "aggregationType": "sum",
        "binsNumber": 10,
        "categoryFieldKeys": [],
        "chartType": "bar",
        "isStacked": false,
        "seriesFieldKeys": [],
        "wordFrequency": "-1"
       },
       "tableOptions": {},
       "type": "details",
       "viewOptionsGroup": [
        {
         "tabItems": [
          {
           "key": "0",
           "name": "Table",
           "options": {},
           "type": "table"
          }
         ]
        }
       ]
      }
     },
     "sync_state": {
      "isSummary": false,
      "language": "python",
      "table": {
       "rows": [],
       "schema": [
        {
         "key": "0",
         "name": "ErrorInformation_errorLocation_positionStart_lineNumber",
         "type": "string"
        },
        {
         "key": "1",
         "name": "DatasetName",
         "type": "string"
        },
        {
         "key": "2",
         "name": "TableName",
         "type": "string"
        },
        {
         "key": "3",
         "name": "PartitionName",
         "type": "string"
        }
       ],
       "truncated": false
      },
      "wranglerEntryContext": {
       "candidateVariableNames": [
        "df_temp"
       ],
       "dataframeType": "pandas"
      }
     },
     "type": "Synapse.DataFrame"
    },
    "f0b1b3ed-f230-41fb-a18f-16610c01835d": {
     "persist_state": {
      "view": {
       "chartOptions": {
        "aggregationType": "sum",
        "binsNumber": 10,
        "categoryFieldKeys": [],
        "chartType": "bar",
        "isStacked": false,
        "seriesFieldKeys": [],
        "wordFrequency": "-1"
       },
       "tableOptions": {},
       "type": "details",
       "viewOptionsGroup": [
        {
         "tabItems": [
          {
           "key": "0",
           "name": "Table",
           "options": {},
           "type": "table"
          }
         ]
        }
       ]
      }
     },
     "sync_state": {
      "isSummary": false,
      "language": "python",
      "table": {
       "rows": [],
       "schema": [
        {
         "key": "0",
         "name": "ErrorInformation_errorLocation_positionStart_lineNumber",
         "type": "string"
        },
        {
         "key": "1",
         "name": "DatasetName",
         "type": "string"
        },
        {
         "key": "2",
         "name": "TableName",
         "type": "string"
        },
        {
         "key": "3",
         "name": "PartitionName",
         "type": "string"
        }
       ],
       "truncated": false
      },
      "wranglerEntryContext": {
       "candidateVariableNames": [
        "df_temp"
       ],
       "dataframeType": "pandas"
      }
     },
     "type": "Synapse.DataFrame"
    },
    "f22b6892-cbbe-49a9-9cae-e3c47e3830c5": {
     "persist_state": {
      "view": {
       "chartOptions": {
        "aggregationType": "sum",
        "binsNumber": 10,
        "categoryFieldKeys": [],
        "chartType": "bar",
        "isStacked": false,
        "seriesFieldKeys": [],
        "wordFrequency": "-1"
       },
       "tableOptions": {},
       "type": "details",
       "viewOptionsGroup": [
        {
         "tabItems": [
          {
           "key": "0",
           "name": "Table",
           "options": {},
           "type": "table"
          }
         ]
        }
       ]
      }
     },
     "sync_state": {
      "isSummary": false,
      "language": "python",
      "table": {
       "rows": [],
       "schema": [
        {
         "key": "0",
         "name": "ErrorInformation_errorLocation_positionStart_lineNumber",
         "type": "string"
        },
        {
         "key": "1",
         "name": "DatasetName",
         "type": "string"
        },
        {
         "key": "2",
         "name": "TableName",
         "type": "string"
        },
        {
         "key": "3",
         "name": "PartitionName",
         "type": "string"
        }
       ],
       "truncated": false
      },
      "wranglerEntryContext": {
       "candidateVariableNames": [
        "df_temp"
       ],
       "dataframeType": "pandas"
      }
     },
     "type": "Synapse.DataFrame"
    },
    "f2774530-a88b-478b-9cef-bf6ea7ee92c8": {
     "persist_state": {
      "view": {
       "chartOptions": {
        "aggregationType": "sum",
        "binsNumber": 10,
        "categoryFieldKeys": [],
        "chartType": "bar",
        "isStacked": false,
        "seriesFieldKeys": [],
        "wordFrequency": "-1"
       },
       "tableOptions": {},
       "type": "details",
       "viewOptionsGroup": [
        {
         "tabItems": [
          {
           "key": "0",
           "name": "Table",
           "options": {},
           "type": "table"
          }
         ]
        }
       ]
      }
     },
     "sync_state": {
      "isSummary": false,
      "language": "python",
      "table": {
       "rows": [],
       "schema": [
        {
         "key": "0",
         "name": "ErrorInformation_errorLocation_positionStart_lineNumber",
         "type": "string"
        },
        {
         "key": "1",
         "name": "DatasetName",
         "type": "string"
        },
        {
         "key": "2",
         "name": "TableName",
         "type": "string"
        },
        {
         "key": "3",
         "name": "PartitionName",
         "type": "string"
        }
       ],
       "truncated": false
      },
      "wranglerEntryContext": {
       "candidateVariableNames": [
        "df_temp"
       ],
       "dataframeType": "pandas"
      }
     },
     "type": "Synapse.DataFrame"
    },
    "f378240b-45a1-4ca0-82b0-035ac5f9a3cb": {
     "persist_state": {
      "view": {
       "chartOptions": {
        "aggregationType": "sum",
        "binsNumber": 10,
        "categoryFieldKeys": [],
        "chartType": "bar",
        "isStacked": false,
        "seriesFieldKeys": [],
        "wordFrequency": "-1"
       },
       "tableOptions": {},
       "type": "details",
       "viewOptionsGroup": [
        {
         "tabItems": [
          {
           "key": "0",
           "name": "Table",
           "options": {},
           "type": "table"
          }
         ]
        }
       ]
      }
     },
     "sync_state": {
      "isSummary": false,
      "language": "python",
      "table": {
       "rows": [],
       "schema": [
        {
         "key": "0",
         "name": "ErrorInformation_errorLocation_positionStart_lineNumber",
         "type": "string"
        },
        {
         "key": "1",
         "name": "DatasetName",
         "type": "string"
        },
        {
         "key": "2",
         "name": "TableName",
         "type": "string"
        },
        {
         "key": "3",
         "name": "PartitionName",
         "type": "string"
        }
       ],
       "truncated": false
      },
      "wranglerEntryContext": {
       "candidateVariableNames": [
        "df_temp"
       ],
       "dataframeType": "pandas"
      }
     },
     "type": "Synapse.DataFrame"
    },
    "f674d7ec-957e-4a17-9a8f-2575686ba273": {
     "persist_state": {
      "view": {
       "chartOptions": {
        "aggregationType": "sum",
        "binsNumber": 10,
        "categoryFieldKeys": [],
        "chartType": "bar",
        "isStacked": false,
        "seriesFieldKeys": [],
        "wordFrequency": "-1"
       },
       "tableOptions": {},
       "type": "details",
       "viewOptionsGroup": [
        {
         "tabItems": [
          {
           "key": "0",
           "name": "Table",
           "options": {},
           "type": "table"
          }
         ]
        }
       ]
      }
     },
     "sync_state": {
      "isSummary": false,
      "language": "python",
      "table": {
       "rows": [],
       "schema": [
        {
         "key": "0",
         "name": "ErrorInformation_errorLocation_positionStart_lineNumber",
         "type": "string"
        },
        {
         "key": "1",
         "name": "DatasetName",
         "type": "string"
        },
        {
         "key": "2",
         "name": "TableName",
         "type": "string"
        },
        {
         "key": "3",
         "name": "PartitionName",
         "type": "string"
        }
       ],
       "truncated": false
      },
      "wranglerEntryContext": {
       "candidateVariableNames": [
        "df_temp"
       ],
       "dataframeType": "pandas"
      }
     },
     "type": "Synapse.DataFrame"
    },
    "f67f711c-c8fb-49b0-90a5-30a3337db232": {
     "persist_state": {
      "view": {
       "chartOptions": {
        "aggregationType": "sum",
        "binsNumber": 10,
        "categoryFieldKeys": [],
        "chartType": "bar",
        "isStacked": false,
        "seriesFieldKeys": [],
        "wordFrequency": "-1"
       },
       "tableOptions": {},
       "type": "details",
       "viewOptionsGroup": [
        {
         "tabItems": [
          {
           "key": "0",
           "name": "Table",
           "options": {},
           "type": "table"
          }
         ]
        }
       ]
      }
     },
     "sync_state": {
      "isSummary": false,
      "language": "python",
      "table": {
       "rows": [],
       "schema": [
        {
         "key": "0",
         "name": "ErrorInformation_errorLocation_positionStart_lineNumber",
         "type": "string"
        },
        {
         "key": "1",
         "name": "DatasetName",
         "type": "string"
        },
        {
         "key": "2",
         "name": "TableName",
         "type": "string"
        },
        {
         "key": "3",
         "name": "PartitionName",
         "type": "string"
        }
       ],
       "truncated": false
      },
      "wranglerEntryContext": {
       "candidateVariableNames": [
        "df_temp"
       ],
       "dataframeType": "pandas"
      }
     },
     "type": "Synapse.DataFrame"
    },
    "f68ddd95-ddc4-46d3-b5e0-2048d5f52baa": {
     "persist_state": {
      "view": {
       "chartOptions": {
        "aggregationType": "sum",
        "binsNumber": 10,
        "categoryFieldKeys": [],
        "chartType": "bar",
        "isStacked": false,
        "seriesFieldKeys": [],
        "wordFrequency": "-1"
       },
       "tableOptions": {},
       "type": "details",
       "viewOptionsGroup": [
        {
         "tabItems": [
          {
           "key": "0",
           "name": "Table",
           "options": {},
           "type": "table"
          }
         ]
        }
       ]
      }
     },
     "sync_state": {
      "isSummary": false,
      "language": "python",
      "table": {
       "rows": [],
       "schema": [
        {
         "key": "0",
         "name": "ErrorInformation_errorLocation_positionStart_lineNumber",
         "type": "string"
        },
        {
         "key": "1",
         "name": "DatasetName",
         "type": "string"
        },
        {
         "key": "2",
         "name": "TableName",
         "type": "string"
        },
        {
         "key": "3",
         "name": "PartitionName",
         "type": "string"
        }
       ],
       "truncated": false
      },
      "wranglerEntryContext": {
       "candidateVariableNames": [
        "df_temp"
       ],
       "dataframeType": "pandas"
      }
     },
     "type": "Synapse.DataFrame"
    },
    "f6f3494e-efe3-4139-be50-49340ab22df6": {
     "persist_state": {
      "view": {
       "chartOptions": {
        "aggregationType": "sum",
        "binsNumber": 10,
        "categoryFieldKeys": [],
        "chartType": "bar",
        "isStacked": false,
        "seriesFieldKeys": [],
        "wordFrequency": "-1"
       },
       "tableOptions": {},
       "type": "details",
       "viewOptionsGroup": [
        {
         "tabItems": [
          {
           "key": "0",
           "name": "Table",
           "options": {},
           "type": "table"
          }
         ]
        }
       ]
      }
     },
     "sync_state": {
      "isSummary": false,
      "language": "python",
      "table": {
       "rows": [],
       "schema": [
        {
         "key": "0",
         "name": "ErrorInformation_errorLocation_positionStart_lineNumber",
         "type": "string"
        },
        {
         "key": "1",
         "name": "DatasetName",
         "type": "string"
        },
        {
         "key": "2",
         "name": "TableName",
         "type": "string"
        },
        {
         "key": "3",
         "name": "PartitionName",
         "type": "string"
        }
       ],
       "truncated": false
      },
      "wranglerEntryContext": {
       "candidateVariableNames": [
        "df_temp"
       ],
       "dataframeType": "pandas"
      }
     },
     "type": "Synapse.DataFrame"
    },
    "f884d8be-bdde-4c22-bb4a-ad29f71dbacf": {
     "persist_state": {
      "view": {
       "chartOptions": {
        "aggregationType": "sum",
        "binsNumber": 10,
        "categoryFieldKeys": [],
        "chartType": "bar",
        "isStacked": false,
        "seriesFieldKeys": [],
        "wordFrequency": "-1"
       },
       "tableOptions": {},
       "type": "details",
       "viewOptionsGroup": [
        {
         "tabItems": [
          {
           "key": "0",
           "name": "Table",
           "options": {},
           "type": "table"
          }
         ]
        }
       ]
      }
     },
     "sync_state": {
      "isSummary": false,
      "language": "python",
      "table": {
       "rows": [],
       "schema": [
        {
         "key": "0",
         "name": "ErrorInformation_errorLocation_positionStart_lineNumber",
         "type": "string"
        },
        {
         "key": "1",
         "name": "DatasetName",
         "type": "string"
        },
        {
         "key": "2",
         "name": "TableName",
         "type": "string"
        },
        {
         "key": "3",
         "name": "PartitionName",
         "type": "string"
        }
       ],
       "truncated": false
      },
      "wranglerEntryContext": {
       "candidateVariableNames": [
        "df_temp"
       ],
       "dataframeType": "pandas"
      }
     },
     "type": "Synapse.DataFrame"
    },
    "f8d280ee-cae0-48da-b052-6c81a0ceca5c": {
     "persist_state": {
      "view": {
       "chartOptions": {
        "aggregationType": "sum",
        "binsNumber": 10,
        "categoryFieldKeys": [],
        "chartType": "bar",
        "isStacked": false,
        "seriesFieldKeys": [],
        "wordFrequency": "-1"
       },
       "tableOptions": {},
       "type": "details",
       "viewOptionsGroup": [
        {
         "tabItems": [
          {
           "key": "0",
           "name": "Table",
           "options": {},
           "type": "table"
          }
         ]
        }
       ]
      }
     },
     "sync_state": {
      "isSummary": false,
      "language": "python",
      "table": {
       "rows": [],
       "schema": [
        {
         "key": "0",
         "name": "ErrorInformation_errorLocation_positionStart_lineNumber",
         "type": "string"
        },
        {
         "key": "1",
         "name": "DatasetName",
         "type": "string"
        },
        {
         "key": "2",
         "name": "TableName",
         "type": "string"
        },
        {
         "key": "3",
         "name": "PartitionName",
         "type": "string"
        }
       ],
       "truncated": false
      },
      "wranglerEntryContext": {
       "candidateVariableNames": [
        "df_temp"
       ],
       "dataframeType": "pandas"
      }
     },
     "type": "Synapse.DataFrame"
    },
    "f8da6b64-a9df-4a64-8a94-a57a3873bc68": {
     "persist_state": {
      "view": {
       "chartOptions": {
        "aggregationType": "sum",
        "binsNumber": 10,
        "categoryFieldKeys": [],
        "chartType": "bar",
        "isStacked": false,
        "seriesFieldKeys": [],
        "wordFrequency": "-1"
       },
       "tableOptions": {},
       "type": "details",
       "viewOptionsGroup": [
        {
         "tabItems": [
          {
           "key": "0",
           "name": "Table",
           "options": {},
           "type": "table"
          }
         ]
        }
       ]
      }
     },
     "sync_state": {
      "isSummary": false,
      "language": "python",
      "table": {
       "rows": [],
       "schema": [
        {
         "key": "0",
         "name": "ErrorInformation_errorLocation_positionStart_lineNumber",
         "type": "string"
        },
        {
         "key": "1",
         "name": "DatasetName",
         "type": "string"
        },
        {
         "key": "2",
         "name": "TableName",
         "type": "string"
        },
        {
         "key": "3",
         "name": "PartitionName",
         "type": "string"
        }
       ],
       "truncated": false
      },
      "wranglerEntryContext": {
       "candidateVariableNames": [
        "df_temp"
       ],
       "dataframeType": "pandas"
      }
     },
     "type": "Synapse.DataFrame"
    },
    "fa788d20-c162-4824-b959-59931491909f": {
     "persist_state": {
      "view": {
       "chartOptions": {
        "aggregationType": "sum",
        "binsNumber": 10,
        "categoryFieldKeys": [],
        "chartType": "bar",
        "isStacked": false,
        "seriesFieldKeys": [],
        "wordFrequency": "-1"
       },
       "tableOptions": {},
       "type": "details",
       "viewOptionsGroup": [
        {
         "tabItems": [
          {
           "key": "0",
           "name": "Table",
           "options": {},
           "type": "table"
          }
         ]
        }
       ]
      }
     },
     "sync_state": {
      "isSummary": false,
      "language": "python",
      "table": {
       "rows": [],
       "schema": [
        {
         "key": "0",
         "name": "ErrorInformation_errorLocation_positionStart_lineNumber",
         "type": "string"
        },
        {
         "key": "1",
         "name": "DatasetName",
         "type": "string"
        },
        {
         "key": "2",
         "name": "TableName",
         "type": "string"
        },
        {
         "key": "3",
         "name": "PartitionName",
         "type": "string"
        }
       ],
       "truncated": false
      },
      "wranglerEntryContext": {
       "candidateVariableNames": [
        "df_temp"
       ],
       "dataframeType": "pandas"
      }
     },
     "type": "Synapse.DataFrame"
    },
    "facfd8fe-a396-4d24-9b37-e032875d5f42": {
     "persist_state": {
      "view": {
       "chartOptions": {
        "aggregationType": "sum",
        "binsNumber": 10,
        "categoryFieldKeys": [],
        "chartType": "bar",
        "isStacked": false,
        "seriesFieldKeys": [],
        "wordFrequency": "-1"
       },
       "tableOptions": {},
       "type": "details",
       "viewOptionsGroup": [
        {
         "tabItems": [
          {
           "key": "0",
           "name": "Table",
           "options": {},
           "type": "table"
          }
         ]
        }
       ]
      }
     },
     "sync_state": {
      "isSummary": false,
      "language": "python",
      "table": {
       "rows": [],
       "schema": [
        {
         "key": "0",
         "name": "ErrorInformation_errorLocation_positionStart_lineNumber",
         "type": "string"
        },
        {
         "key": "1",
         "name": "DatasetName",
         "type": "string"
        },
        {
         "key": "2",
         "name": "TableName",
         "type": "string"
        },
        {
         "key": "3",
         "name": "PartitionName",
         "type": "string"
        }
       ],
       "truncated": false
      },
      "wranglerEntryContext": {
       "candidateVariableNames": [
        "df_temp"
       ],
       "dataframeType": "pandas"
      }
     },
     "type": "Synapse.DataFrame"
    },
    "fb009f6a-d13c-47f6-a17f-2245ea97e1c5": {
     "persist_state": {
      "view": {
       "chartOptions": {
        "aggregationType": "sum",
        "binsNumber": 10,
        "categoryFieldKeys": [],
        "chartType": "bar",
        "isStacked": false,
        "seriesFieldKeys": [],
        "wordFrequency": "-1"
       },
       "tableOptions": {},
       "type": "details",
       "viewOptionsGroup": [
        {
         "tabItems": [
          {
           "key": "0",
           "name": "Table",
           "options": {},
           "type": "table"
          }
         ]
        }
       ]
      }
     },
     "sync_state": {
      "isSummary": false,
      "language": "python",
      "table": {
       "rows": [],
       "schema": [
        {
         "key": "0",
         "name": "ErrorInformation_errorLocation_positionStart_lineNumber",
         "type": "string"
        },
        {
         "key": "1",
         "name": "DatasetName",
         "type": "string"
        },
        {
         "key": "2",
         "name": "TableName",
         "type": "string"
        },
        {
         "key": "3",
         "name": "PartitionName",
         "type": "string"
        }
       ],
       "truncated": false
      },
      "wranglerEntryContext": {
       "candidateVariableNames": [
        "df_temp"
       ],
       "dataframeType": "pandas"
      }
     },
     "type": "Synapse.DataFrame"
    }
   },
   "version": "0.1"
  }
 },
 "nbformat": 4,
 "nbformat_minor": 5
}
